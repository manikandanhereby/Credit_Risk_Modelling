{
  "nbformat": 4,
  "nbformat_minor": 0,
  "metadata": {
    "colab": {
      "provenance": [],
      "mount_file_id": "1DN-SKYCOWpgyPoSI7aIuySWGdABWTCBu",
      "authorship_tag": "ABX9TyMgAUBIcO6RPXmJQ6XJJZHx",
      "include_colab_link": true
    },
    "kernelspec": {
      "name": "python3",
      "display_name": "Python 3"
    },
    "language_info": {
      "name": "python"
    }
  },
  "cells": [
    {
      "cell_type": "markdown",
      "metadata": {
        "id": "view-in-github",
        "colab_type": "text"
      },
      "source": [
        "<a href=\"https://colab.research.google.com/github/manikandanhereby/Credit_Risk_Modelling/blob/main/credit_risk_modelling_course_workout.ipynb\" target=\"_parent\"><img src=\"https://colab.research.google.com/assets/colab-badge.svg\" alt=\"Open In Colab\"/></a>"
      ]
    },
    {
      "cell_type": "code",
      "execution_count": 1,
      "metadata": {
        "colab": {
          "base_uri": "https://localhost:8080/"
        },
        "id": "xl51ag9DXZI4",
        "outputId": "83b5bdac-cfdf-4c9f-94a0-b155a8386aa9"
      },
      "outputs": [
        {
          "output_type": "stream",
          "name": "stdout",
          "text": [
            "--2023-04-28 04:24:49--  https://www.dropbox.com/s/zyj7gwk8j7al88t/loan_data_2007_2014.csv?dl=0\n",
            "Resolving www.dropbox.com (www.dropbox.com)... 162.125.5.18, 2620:100:601d:18::a27d:512\n",
            "Connecting to www.dropbox.com (www.dropbox.com)|162.125.5.18|:443... connected.\n",
            "HTTP request sent, awaiting response... 302 Found\n",
            "Location: /s/raw/zyj7gwk8j7al88t/loan_data_2007_2014.csv [following]\n",
            "--2023-04-28 04:24:49--  https://www.dropbox.com/s/raw/zyj7gwk8j7al88t/loan_data_2007_2014.csv\n",
            "Reusing existing connection to www.dropbox.com:443.\n",
            "HTTP request sent, awaiting response... 302 Found\n",
            "Location: https://uc753d45657da452fcf761ab586a.dl.dropboxusercontent.com/cd/0/inline/B7AxJtF2egpOjlZvQHlONfKzGSAixRaWxgBK2LknedTJ9jfoH8nK59uAnR35fDj6sNliQNi1gnRPjhpFfr8LOM3XV1ZPBO6vc7h1WoCLF2vtBgmO_h7I6qh4KrYJJxQ1EjTnxwfms19kMdIZrEwJNX8E2XCma_L63oIZQs5x5ZhHkg/file# [following]\n",
            "--2023-04-28 04:24:50--  https://uc753d45657da452fcf761ab586a.dl.dropboxusercontent.com/cd/0/inline/B7AxJtF2egpOjlZvQHlONfKzGSAixRaWxgBK2LknedTJ9jfoH8nK59uAnR35fDj6sNliQNi1gnRPjhpFfr8LOM3XV1ZPBO6vc7h1WoCLF2vtBgmO_h7I6qh4KrYJJxQ1EjTnxwfms19kMdIZrEwJNX8E2XCma_L63oIZQs5x5ZhHkg/file\n",
            "Resolving uc753d45657da452fcf761ab586a.dl.dropboxusercontent.com (uc753d45657da452fcf761ab586a.dl.dropboxusercontent.com)... 162.125.5.15, 2620:100:601d:15::a27d:50f\n",
            "Connecting to uc753d45657da452fcf761ab586a.dl.dropboxusercontent.com (uc753d45657da452fcf761ab586a.dl.dropboxusercontent.com)|162.125.5.15|:443... connected.\n",
            "HTTP request sent, awaiting response... 200 OK\n",
            "Length: 240079969 (229M) [text/plain]\n",
            "Saving to: ‘loan_data.csv’\n",
            "\n",
            "loan_data.csv       100%[===================>] 228.96M  96.6MB/s    in 2.4s    \n",
            "\n",
            "2023-04-28 04:24:52 (96.6 MB/s) - ‘loan_data.csv’ saved [240079969/240079969]\n",
            "\n"
          ]
        }
      ],
      "source": [
        "!wget -O loan_data.csv https://www.dropbox.com/s/zyj7gwk8j7al88t/loan_data_2007_2014.csv?dl=0"
      ]
    },
    {
      "cell_type": "code",
      "source": [
        "import numpy as np\n",
        "import pandas as pd\n",
        "import matplotlib.pyplot as plt"
      ],
      "metadata": {
        "id": "_tK3nY2FX6Tw"
      },
      "execution_count": 2,
      "outputs": []
    },
    {
      "cell_type": "code",
      "source": [
        "loan_data = pd.read_csv('/content/loan_data.csv')"
      ],
      "metadata": {
        "colab": {
          "base_uri": "https://localhost:8080/"
        },
        "id": "UUThPQTAYH_I",
        "outputId": "1b923759-4b2b-4db2-cc8c-3f2a66717816"
      },
      "execution_count": 3,
      "outputs": [
        {
          "output_type": "stream",
          "name": "stderr",
          "text": [
            "<ipython-input-3-e3a2826e2130>:1: DtypeWarning: Columns (20) have mixed types. Specify dtype option on import or set low_memory=False.\n",
            "  loan_data = pd.read_csv('/content/loan_data.csv')\n"
          ]
        }
      ]
    },
    {
      "cell_type": "code",
      "source": [
        "loan_data.head()"
      ],
      "metadata": {
        "colab": {
          "base_uri": "https://localhost:8080/",
          "height": 403
        },
        "id": "WiOyQOhcZJvX",
        "outputId": "275af80f-6e05-47d2-8386-0ddadbf45365"
      },
      "execution_count": 4,
      "outputs": [
        {
          "output_type": "execute_result",
          "data": {
            "text/plain": [
              "   Unnamed: 0       id  member_id  loan_amnt  funded_amnt  funded_amnt_inv  \\\n",
              "0           0  1077501    1296599       5000         5000           4975.0   \n",
              "1           1  1077430    1314167       2500         2500           2500.0   \n",
              "2           2  1077175    1313524       2400         2400           2400.0   \n",
              "3           3  1076863    1277178      10000        10000          10000.0   \n",
              "4           4  1075358    1311748       3000         3000           3000.0   \n",
              "\n",
              "         term  int_rate  installment grade  ... total_bal_il il_util  \\\n",
              "0   36 months     10.65       162.87     B  ...          NaN     NaN   \n",
              "1   60 months     15.27        59.83     C  ...          NaN     NaN   \n",
              "2   36 months     15.96        84.33     C  ...          NaN     NaN   \n",
              "3   36 months     13.49       339.31     C  ...          NaN     NaN   \n",
              "4   60 months     12.69        67.79     B  ...          NaN     NaN   \n",
              "\n",
              "  open_rv_12m open_rv_24m  max_bal_bc all_util total_rev_hi_lim inq_fi  \\\n",
              "0         NaN         NaN         NaN      NaN              NaN    NaN   \n",
              "1         NaN         NaN         NaN      NaN              NaN    NaN   \n",
              "2         NaN         NaN         NaN      NaN              NaN    NaN   \n",
              "3         NaN         NaN         NaN      NaN              NaN    NaN   \n",
              "4         NaN         NaN         NaN      NaN              NaN    NaN   \n",
              "\n",
              "  total_cu_tl inq_last_12m  \n",
              "0         NaN          NaN  \n",
              "1         NaN          NaN  \n",
              "2         NaN          NaN  \n",
              "3         NaN          NaN  \n",
              "4         NaN          NaN  \n",
              "\n",
              "[5 rows x 75 columns]"
            ],
            "text/html": [
              "\n",
              "  <div id=\"df-72177c5c-434e-47d3-87cc-daa415cbf2d9\">\n",
              "    <div class=\"colab-df-container\">\n",
              "      <div>\n",
              "<style scoped>\n",
              "    .dataframe tbody tr th:only-of-type {\n",
              "        vertical-align: middle;\n",
              "    }\n",
              "\n",
              "    .dataframe tbody tr th {\n",
              "        vertical-align: top;\n",
              "    }\n",
              "\n",
              "    .dataframe thead th {\n",
              "        text-align: right;\n",
              "    }\n",
              "</style>\n",
              "<table border=\"1\" class=\"dataframe\">\n",
              "  <thead>\n",
              "    <tr style=\"text-align: right;\">\n",
              "      <th></th>\n",
              "      <th>Unnamed: 0</th>\n",
              "      <th>id</th>\n",
              "      <th>member_id</th>\n",
              "      <th>loan_amnt</th>\n",
              "      <th>funded_amnt</th>\n",
              "      <th>funded_amnt_inv</th>\n",
              "      <th>term</th>\n",
              "      <th>int_rate</th>\n",
              "      <th>installment</th>\n",
              "      <th>grade</th>\n",
              "      <th>...</th>\n",
              "      <th>total_bal_il</th>\n",
              "      <th>il_util</th>\n",
              "      <th>open_rv_12m</th>\n",
              "      <th>open_rv_24m</th>\n",
              "      <th>max_bal_bc</th>\n",
              "      <th>all_util</th>\n",
              "      <th>total_rev_hi_lim</th>\n",
              "      <th>inq_fi</th>\n",
              "      <th>total_cu_tl</th>\n",
              "      <th>inq_last_12m</th>\n",
              "    </tr>\n",
              "  </thead>\n",
              "  <tbody>\n",
              "    <tr>\n",
              "      <th>0</th>\n",
              "      <td>0</td>\n",
              "      <td>1077501</td>\n",
              "      <td>1296599</td>\n",
              "      <td>5000</td>\n",
              "      <td>5000</td>\n",
              "      <td>4975.0</td>\n",
              "      <td>36 months</td>\n",
              "      <td>10.65</td>\n",
              "      <td>162.87</td>\n",
              "      <td>B</td>\n",
              "      <td>...</td>\n",
              "      <td>NaN</td>\n",
              "      <td>NaN</td>\n",
              "      <td>NaN</td>\n",
              "      <td>NaN</td>\n",
              "      <td>NaN</td>\n",
              "      <td>NaN</td>\n",
              "      <td>NaN</td>\n",
              "      <td>NaN</td>\n",
              "      <td>NaN</td>\n",
              "      <td>NaN</td>\n",
              "    </tr>\n",
              "    <tr>\n",
              "      <th>1</th>\n",
              "      <td>1</td>\n",
              "      <td>1077430</td>\n",
              "      <td>1314167</td>\n",
              "      <td>2500</td>\n",
              "      <td>2500</td>\n",
              "      <td>2500.0</td>\n",
              "      <td>60 months</td>\n",
              "      <td>15.27</td>\n",
              "      <td>59.83</td>\n",
              "      <td>C</td>\n",
              "      <td>...</td>\n",
              "      <td>NaN</td>\n",
              "      <td>NaN</td>\n",
              "      <td>NaN</td>\n",
              "      <td>NaN</td>\n",
              "      <td>NaN</td>\n",
              "      <td>NaN</td>\n",
              "      <td>NaN</td>\n",
              "      <td>NaN</td>\n",
              "      <td>NaN</td>\n",
              "      <td>NaN</td>\n",
              "    </tr>\n",
              "    <tr>\n",
              "      <th>2</th>\n",
              "      <td>2</td>\n",
              "      <td>1077175</td>\n",
              "      <td>1313524</td>\n",
              "      <td>2400</td>\n",
              "      <td>2400</td>\n",
              "      <td>2400.0</td>\n",
              "      <td>36 months</td>\n",
              "      <td>15.96</td>\n",
              "      <td>84.33</td>\n",
              "      <td>C</td>\n",
              "      <td>...</td>\n",
              "      <td>NaN</td>\n",
              "      <td>NaN</td>\n",
              "      <td>NaN</td>\n",
              "      <td>NaN</td>\n",
              "      <td>NaN</td>\n",
              "      <td>NaN</td>\n",
              "      <td>NaN</td>\n",
              "      <td>NaN</td>\n",
              "      <td>NaN</td>\n",
              "      <td>NaN</td>\n",
              "    </tr>\n",
              "    <tr>\n",
              "      <th>3</th>\n",
              "      <td>3</td>\n",
              "      <td>1076863</td>\n",
              "      <td>1277178</td>\n",
              "      <td>10000</td>\n",
              "      <td>10000</td>\n",
              "      <td>10000.0</td>\n",
              "      <td>36 months</td>\n",
              "      <td>13.49</td>\n",
              "      <td>339.31</td>\n",
              "      <td>C</td>\n",
              "      <td>...</td>\n",
              "      <td>NaN</td>\n",
              "      <td>NaN</td>\n",
              "      <td>NaN</td>\n",
              "      <td>NaN</td>\n",
              "      <td>NaN</td>\n",
              "      <td>NaN</td>\n",
              "      <td>NaN</td>\n",
              "      <td>NaN</td>\n",
              "      <td>NaN</td>\n",
              "      <td>NaN</td>\n",
              "    </tr>\n",
              "    <tr>\n",
              "      <th>4</th>\n",
              "      <td>4</td>\n",
              "      <td>1075358</td>\n",
              "      <td>1311748</td>\n",
              "      <td>3000</td>\n",
              "      <td>3000</td>\n",
              "      <td>3000.0</td>\n",
              "      <td>60 months</td>\n",
              "      <td>12.69</td>\n",
              "      <td>67.79</td>\n",
              "      <td>B</td>\n",
              "      <td>...</td>\n",
              "      <td>NaN</td>\n",
              "      <td>NaN</td>\n",
              "      <td>NaN</td>\n",
              "      <td>NaN</td>\n",
              "      <td>NaN</td>\n",
              "      <td>NaN</td>\n",
              "      <td>NaN</td>\n",
              "      <td>NaN</td>\n",
              "      <td>NaN</td>\n",
              "      <td>NaN</td>\n",
              "    </tr>\n",
              "  </tbody>\n",
              "</table>\n",
              "<p>5 rows × 75 columns</p>\n",
              "</div>\n",
              "      <button class=\"colab-df-convert\" onclick=\"convertToInteractive('df-72177c5c-434e-47d3-87cc-daa415cbf2d9')\"\n",
              "              title=\"Convert this dataframe to an interactive table.\"\n",
              "              style=\"display:none;\">\n",
              "        \n",
              "  <svg xmlns=\"http://www.w3.org/2000/svg\" height=\"24px\"viewBox=\"0 0 24 24\"\n",
              "       width=\"24px\">\n",
              "    <path d=\"M0 0h24v24H0V0z\" fill=\"none\"/>\n",
              "    <path d=\"M18.56 5.44l.94 2.06.94-2.06 2.06-.94-2.06-.94-.94-2.06-.94 2.06-2.06.94zm-11 1L8.5 8.5l.94-2.06 2.06-.94-2.06-.94L8.5 2.5l-.94 2.06-2.06.94zm10 10l.94 2.06.94-2.06 2.06-.94-2.06-.94-.94-2.06-.94 2.06-2.06.94z\"/><path d=\"M17.41 7.96l-1.37-1.37c-.4-.4-.92-.59-1.43-.59-.52 0-1.04.2-1.43.59L10.3 9.45l-7.72 7.72c-.78.78-.78 2.05 0 2.83L4 21.41c.39.39.9.59 1.41.59.51 0 1.02-.2 1.41-.59l7.78-7.78 2.81-2.81c.8-.78.8-2.07 0-2.86zM5.41 20L4 18.59l7.72-7.72 1.47 1.35L5.41 20z\"/>\n",
              "  </svg>\n",
              "      </button>\n",
              "      \n",
              "  <style>\n",
              "    .colab-df-container {\n",
              "      display:flex;\n",
              "      flex-wrap:wrap;\n",
              "      gap: 12px;\n",
              "    }\n",
              "\n",
              "    .colab-df-convert {\n",
              "      background-color: #E8F0FE;\n",
              "      border: none;\n",
              "      border-radius: 50%;\n",
              "      cursor: pointer;\n",
              "      display: none;\n",
              "      fill: #1967D2;\n",
              "      height: 32px;\n",
              "      padding: 0 0 0 0;\n",
              "      width: 32px;\n",
              "    }\n",
              "\n",
              "    .colab-df-convert:hover {\n",
              "      background-color: #E2EBFA;\n",
              "      box-shadow: 0px 1px 2px rgba(60, 64, 67, 0.3), 0px 1px 3px 1px rgba(60, 64, 67, 0.15);\n",
              "      fill: #174EA6;\n",
              "    }\n",
              "\n",
              "    [theme=dark] .colab-df-convert {\n",
              "      background-color: #3B4455;\n",
              "      fill: #D2E3FC;\n",
              "    }\n",
              "\n",
              "    [theme=dark] .colab-df-convert:hover {\n",
              "      background-color: #434B5C;\n",
              "      box-shadow: 0px 1px 3px 1px rgba(0, 0, 0, 0.15);\n",
              "      filter: drop-shadow(0px 1px 2px rgba(0, 0, 0, 0.3));\n",
              "      fill: #FFFFFF;\n",
              "    }\n",
              "  </style>\n",
              "\n",
              "      <script>\n",
              "        const buttonEl =\n",
              "          document.querySelector('#df-72177c5c-434e-47d3-87cc-daa415cbf2d9 button.colab-df-convert');\n",
              "        buttonEl.style.display =\n",
              "          google.colab.kernel.accessAllowed ? 'block' : 'none';\n",
              "\n",
              "        async function convertToInteractive(key) {\n",
              "          const element = document.querySelector('#df-72177c5c-434e-47d3-87cc-daa415cbf2d9');\n",
              "          const dataTable =\n",
              "            await google.colab.kernel.invokeFunction('convertToInteractive',\n",
              "                                                     [key], {});\n",
              "          if (!dataTable) return;\n",
              "\n",
              "          const docLinkHtml = 'Like what you see? Visit the ' +\n",
              "            '<a target=\"_blank\" href=https://colab.research.google.com/notebooks/data_table.ipynb>data table notebook</a>'\n",
              "            + ' to learn more about interactive tables.';\n",
              "          element.innerHTML = '';\n",
              "          dataTable['output_type'] = 'display_data';\n",
              "          await google.colab.output.renderOutput(dataTable, element);\n",
              "          const docLink = document.createElement('div');\n",
              "          docLink.innerHTML = docLinkHtml;\n",
              "          element.appendChild(docLink);\n",
              "        }\n",
              "      </script>\n",
              "    </div>\n",
              "  </div>\n",
              "  "
            ]
          },
          "metadata": {},
          "execution_count": 4
        }
      ]
    },
    {
      "cell_type": "code",
      "source": [
        "loan_data.columns"
      ],
      "metadata": {
        "colab": {
          "base_uri": "https://localhost:8080/"
        },
        "id": "Q2DnwPkVZRz2",
        "outputId": "b9422839-9492-48ff-e21f-1d26fb98d38f"
      },
      "execution_count": 5,
      "outputs": [
        {
          "output_type": "execute_result",
          "data": {
            "text/plain": [
              "Index(['Unnamed: 0', 'id', 'member_id', 'loan_amnt', 'funded_amnt',\n",
              "       'funded_amnt_inv', 'term', 'int_rate', 'installment', 'grade',\n",
              "       'sub_grade', 'emp_title', 'emp_length', 'home_ownership', 'annual_inc',\n",
              "       'verification_status', 'issue_d', 'loan_status', 'pymnt_plan', 'url',\n",
              "       'desc', 'purpose', 'title', 'zip_code', 'addr_state', 'dti',\n",
              "       'delinq_2yrs', 'earliest_cr_line', 'inq_last_6mths',\n",
              "       'mths_since_last_delinq', 'mths_since_last_record', 'open_acc',\n",
              "       'pub_rec', 'revol_bal', 'revol_util', 'total_acc',\n",
              "       'initial_list_status', 'out_prncp', 'out_prncp_inv', 'total_pymnt',\n",
              "       'total_pymnt_inv', 'total_rec_prncp', 'total_rec_int',\n",
              "       'total_rec_late_fee', 'recoveries', 'collection_recovery_fee',\n",
              "       'last_pymnt_d', 'last_pymnt_amnt', 'next_pymnt_d', 'last_credit_pull_d',\n",
              "       'collections_12_mths_ex_med', 'mths_since_last_major_derog',\n",
              "       'policy_code', 'application_type', 'annual_inc_joint', 'dti_joint',\n",
              "       'verification_status_joint', 'acc_now_delinq', 'tot_coll_amt',\n",
              "       'tot_cur_bal', 'open_acc_6m', 'open_il_6m', 'open_il_12m',\n",
              "       'open_il_24m', 'mths_since_rcnt_il', 'total_bal_il', 'il_util',\n",
              "       'open_rv_12m', 'open_rv_24m', 'max_bal_bc', 'all_util',\n",
              "       'total_rev_hi_lim', 'inq_fi', 'total_cu_tl', 'inq_last_12m'],\n",
              "      dtype='object')"
            ]
          },
          "metadata": {},
          "execution_count": 5
        }
      ]
    },
    {
      "cell_type": "code",
      "source": [
        "loan_data.info()"
      ],
      "metadata": {
        "colab": {
          "base_uri": "https://localhost:8080/"
        },
        "id": "yzNFBTRUZVTe",
        "outputId": "f31b5b66-cfca-4d41-c3d8-e343202bd275"
      },
      "execution_count": 6,
      "outputs": [
        {
          "output_type": "stream",
          "name": "stdout",
          "text": [
            "<class 'pandas.core.frame.DataFrame'>\n",
            "RangeIndex: 466285 entries, 0 to 466284\n",
            "Data columns (total 75 columns):\n",
            " #   Column                       Non-Null Count   Dtype  \n",
            "---  ------                       --------------   -----  \n",
            " 0   Unnamed: 0                   466285 non-null  int64  \n",
            " 1   id                           466285 non-null  int64  \n",
            " 2   member_id                    466285 non-null  int64  \n",
            " 3   loan_amnt                    466285 non-null  int64  \n",
            " 4   funded_amnt                  466285 non-null  int64  \n",
            " 5   funded_amnt_inv              466285 non-null  float64\n",
            " 6   term                         466285 non-null  object \n",
            " 7   int_rate                     466285 non-null  float64\n",
            " 8   installment                  466285 non-null  float64\n",
            " 9   grade                        466285 non-null  object \n",
            " 10  sub_grade                    466285 non-null  object \n",
            " 11  emp_title                    438697 non-null  object \n",
            " 12  emp_length                   445277 non-null  object \n",
            " 13  home_ownership               466285 non-null  object \n",
            " 14  annual_inc                   466281 non-null  float64\n",
            " 15  verification_status          466285 non-null  object \n",
            " 16  issue_d                      466285 non-null  object \n",
            " 17  loan_status                  466285 non-null  object \n",
            " 18  pymnt_plan                   466285 non-null  object \n",
            " 19  url                          466285 non-null  object \n",
            " 20  desc                         125983 non-null  object \n",
            " 21  purpose                      466285 non-null  object \n",
            " 22  title                        466265 non-null  object \n",
            " 23  zip_code                     466285 non-null  object \n",
            " 24  addr_state                   466285 non-null  object \n",
            " 25  dti                          466285 non-null  float64\n",
            " 26  delinq_2yrs                  466256 non-null  float64\n",
            " 27  earliest_cr_line             466256 non-null  object \n",
            " 28  inq_last_6mths               466256 non-null  float64\n",
            " 29  mths_since_last_delinq       215934 non-null  float64\n",
            " 30  mths_since_last_record       62638 non-null   float64\n",
            " 31  open_acc                     466256 non-null  float64\n",
            " 32  pub_rec                      466256 non-null  float64\n",
            " 33  revol_bal                    466285 non-null  int64  \n",
            " 34  revol_util                   465945 non-null  float64\n",
            " 35  total_acc                    466256 non-null  float64\n",
            " 36  initial_list_status          466285 non-null  object \n",
            " 37  out_prncp                    466285 non-null  float64\n",
            " 38  out_prncp_inv                466285 non-null  float64\n",
            " 39  total_pymnt                  466285 non-null  float64\n",
            " 40  total_pymnt_inv              466285 non-null  float64\n",
            " 41  total_rec_prncp              466285 non-null  float64\n",
            " 42  total_rec_int                466285 non-null  float64\n",
            " 43  total_rec_late_fee           466285 non-null  float64\n",
            " 44  recoveries                   466285 non-null  float64\n",
            " 45  collection_recovery_fee      466285 non-null  float64\n",
            " 46  last_pymnt_d                 465909 non-null  object \n",
            " 47  last_pymnt_amnt              466285 non-null  float64\n",
            " 48  next_pymnt_d                 239071 non-null  object \n",
            " 49  last_credit_pull_d           466243 non-null  object \n",
            " 50  collections_12_mths_ex_med   466140 non-null  float64\n",
            " 51  mths_since_last_major_derog  98974 non-null   float64\n",
            " 52  policy_code                  466285 non-null  int64  \n",
            " 53  application_type             466285 non-null  object \n",
            " 54  annual_inc_joint             0 non-null       float64\n",
            " 55  dti_joint                    0 non-null       float64\n",
            " 56  verification_status_joint    0 non-null       float64\n",
            " 57  acc_now_delinq               466256 non-null  float64\n",
            " 58  tot_coll_amt                 396009 non-null  float64\n",
            " 59  tot_cur_bal                  396009 non-null  float64\n",
            " 60  open_acc_6m                  0 non-null       float64\n",
            " 61  open_il_6m                   0 non-null       float64\n",
            " 62  open_il_12m                  0 non-null       float64\n",
            " 63  open_il_24m                  0 non-null       float64\n",
            " 64  mths_since_rcnt_il           0 non-null       float64\n",
            " 65  total_bal_il                 0 non-null       float64\n",
            " 66  il_util                      0 non-null       float64\n",
            " 67  open_rv_12m                  0 non-null       float64\n",
            " 68  open_rv_24m                  0 non-null       float64\n",
            " 69  max_bal_bc                   0 non-null       float64\n",
            " 70  all_util                     0 non-null       float64\n",
            " 71  total_rev_hi_lim             396009 non-null  float64\n",
            " 72  inq_fi                       0 non-null       float64\n",
            " 73  total_cu_tl                  0 non-null       float64\n",
            " 74  inq_last_12m                 0 non-null       float64\n",
            "dtypes: float64(46), int64(7), object(22)\n",
            "memory usage: 266.8+ MB\n"
          ]
        }
      ]
    },
    {
      "cell_type": "markdown",
      "source": [
        "Preprocessing Data"
      ],
      "metadata": {
        "id": "fQdiYm2EdvQ3"
      }
    },
    {
      "cell_type": "code",
      "source": [
        "loan_data['emp_length'].unique()"
      ],
      "metadata": {
        "colab": {
          "base_uri": "https://localhost:8080/"
        },
        "id": "ce_ZgtnRdVTl",
        "outputId": "db3e3541-f091-47e0-9b65-69d1f70f9824"
      },
      "execution_count": 7,
      "outputs": [
        {
          "output_type": "execute_result",
          "data": {
            "text/plain": [
              "array(['10+ years', '< 1 year', '1 year', '3 years', '8 years', '9 years',\n",
              "       '4 years', '5 years', '6 years', '2 years', '7 years', nan],\n",
              "      dtype=object)"
            ]
          },
          "metadata": {},
          "execution_count": 7
        }
      ]
    },
    {
      "cell_type": "code",
      "source": [
        "#using str.replace\n",
        "\n",
        "loan_data['emp_length_int'] = loan_data['emp_length'].str.replace('\\+ years', '')"
      ],
      "metadata": {
        "colab": {
          "base_uri": "https://localhost:8080/"
        },
        "id": "7QFQEAZRdlB_",
        "outputId": "1fe90db6-0705-46b4-ee8d-0b3cb83d958e"
      },
      "execution_count": 8,
      "outputs": [
        {
          "output_type": "stream",
          "name": "stderr",
          "text": [
            "<ipython-input-8-b2a8b3758ce2>:3: FutureWarning: The default value of regex will change from True to False in a future version.\n",
            "  loan_data['emp_length_int'] = loan_data['emp_length'].str.replace('\\+ years', '')\n"
          ]
        }
      ]
    },
    {
      "cell_type": "code",
      "source": [
        "loan_data['emp_length_int'].unique()"
      ],
      "metadata": {
        "colab": {
          "base_uri": "https://localhost:8080/"
        },
        "id": "VCX1nB5ulk6Q",
        "outputId": "7c1bd901-7b52-401b-e00a-6657e3b6f481"
      },
      "execution_count": 9,
      "outputs": [
        {
          "output_type": "execute_result",
          "data": {
            "text/plain": [
              "array(['10', '< 1 year', '1 year', '3 years', '8 years', '9 years',\n",
              "       '4 years', '5 years', '6 years', '2 years', '7 years', nan],\n",
              "      dtype=object)"
            ]
          },
          "metadata": {},
          "execution_count": 9
        }
      ]
    },
    {
      "cell_type": "code",
      "source": [
        "loan_data['emp_length_int'] = loan_data['emp_length_int'].str.replace('< 1 years', str(0))\n",
        "loan_data['emp_length_int'] = loan_data['emp_length_int'].str.replace('n/a', str(0))\n",
        "loan_data['emp_length_int'] = loan_data['emp_length_int'].str.replace(' years', str(0))\n",
        "loan_data['emp_length_int'] = loan_data['emp_length_int'].str.replace(' year', str(0))"
      ],
      "metadata": {
        "id": "izHMqxXklouJ"
      },
      "execution_count": 10,
      "outputs": []
    },
    {
      "cell_type": "code",
      "source": [
        "loan_data['emp_length_int'] = loan_data['emp_length_int'].str.replace('<', '')"
      ],
      "metadata": {
        "id": "rprmsLS2nHl7"
      },
      "execution_count": 11,
      "outputs": []
    },
    {
      "cell_type": "code",
      "source": [
        "loan_data['emp_length_int'] = loan_data['emp_length_int'].str.replace(' ', '')"
      ],
      "metadata": {
        "id": "m0_NySFInZXf"
      },
      "execution_count": 12,
      "outputs": []
    },
    {
      "cell_type": "code",
      "source": [
        "loan_data['emp_length_int'].unique()"
      ],
      "metadata": {
        "colab": {
          "base_uri": "https://localhost:8080/"
        },
        "id": "ZvHpOdyymFm5",
        "outputId": "c9885da9-b933-4b6d-f9e7-6ad49e2dee63"
      },
      "execution_count": 13,
      "outputs": [
        {
          "output_type": "execute_result",
          "data": {
            "text/plain": [
              "array(['10', '30', '80', '90', '40', '50', '60', '20', '70', nan],\n",
              "      dtype=object)"
            ]
          },
          "metadata": {},
          "execution_count": 13
        }
      ]
    },
    {
      "cell_type": "code",
      "source": [
        "type(loan_data['emp_length_int'][0])"
      ],
      "metadata": {
        "colab": {
          "base_uri": "https://localhost:8080/"
        },
        "id": "tDDMamgrmIIW",
        "outputId": "feafdee7-bc6e-45e6-f741-71507ef57543"
      },
      "execution_count": 14,
      "outputs": [
        {
          "output_type": "execute_result",
          "data": {
            "text/plain": [
              "str"
            ]
          },
          "metadata": {},
          "execution_count": 14
        }
      ]
    },
    {
      "cell_type": "code",
      "source": [
        "loan_data['emp_length_int'] = pd.to_numeric(loan_data['emp_length_int'])"
      ],
      "metadata": {
        "id": "VPdDoEjzmn9d"
      },
      "execution_count": 15,
      "outputs": []
    },
    {
      "cell_type": "code",
      "source": [
        "type(loan_data['emp_length_int'])"
      ],
      "metadata": {
        "id": "jR6GBqD-mvAd",
        "colab": {
          "base_uri": "https://localhost:8080/"
        },
        "outputId": "1d9f6567-21ff-4687-f2e3-3c599ea79f59"
      },
      "execution_count": 16,
      "outputs": [
        {
          "output_type": "execute_result",
          "data": {
            "text/plain": [
              "pandas.core.series.Series"
            ]
          },
          "metadata": {},
          "execution_count": 16
        }
      ]
    },
    {
      "cell_type": "code",
      "source": [
        "loan_data['earliest_cr_line']"
      ],
      "metadata": {
        "colab": {
          "base_uri": "https://localhost:8080/"
        },
        "id": "Rm5EZOjgvjGj",
        "outputId": "8ac8b838-6759-4e81-a424-995fa6f0d7c3"
      },
      "execution_count": 17,
      "outputs": [
        {
          "output_type": "execute_result",
          "data": {
            "text/plain": [
              "0         Jan-85\n",
              "1         Apr-99\n",
              "2         Nov-01\n",
              "3         Feb-96\n",
              "4         Jan-96\n",
              "           ...  \n",
              "466280    Apr-03\n",
              "466281    Jun-97\n",
              "466282    Dec-01\n",
              "466283    Feb-03\n",
              "466284    Feb-00\n",
              "Name: earliest_cr_line, Length: 466285, dtype: object"
            ]
          },
          "metadata": {},
          "execution_count": 17
        }
      ]
    },
    {
      "cell_type": "code",
      "source": [
        "loan_data['earliest_cr_line_date'] = pd.to_datetime(loan_data['earliest_cr_line'], format = '%b-%y')"
      ],
      "metadata": {
        "id": "32qK6_EcvsS4"
      },
      "execution_count": 18,
      "outputs": []
    },
    {
      "cell_type": "code",
      "source": [
        "type(loan_data['earliest_cr_line_date'][0])"
      ],
      "metadata": {
        "colab": {
          "base_uri": "https://localhost:8080/"
        },
        "id": "wKRoK40Ewikq",
        "outputId": "d880eff4-ed0a-44d7-f9c0-47c2c2af8262"
      },
      "execution_count": 19,
      "outputs": [
        {
          "output_type": "execute_result",
          "data": {
            "text/plain": [
              "pandas._libs.tslibs.timestamps.Timestamp"
            ]
          },
          "metadata": {},
          "execution_count": 19
        }
      ]
    },
    {
      "cell_type": "code",
      "source": [
        "pd.to_datetime('2017-12-01') - loan_data['earliest_cr_line_date']"
      ],
      "metadata": {
        "colab": {
          "base_uri": "https://localhost:8080/"
        },
        "id": "NFJ1-saSwn9r",
        "outputId": "a53f2530-7f0e-49b5-d23e-4393e526ad50"
      },
      "execution_count": 20,
      "outputs": [
        {
          "output_type": "execute_result",
          "data": {
            "text/plain": [
              "0        12022 days\n",
              "1         6819 days\n",
              "2         5874 days\n",
              "3         7974 days\n",
              "4         8005 days\n",
              "            ...    \n",
              "466280    5358 days\n",
              "466281    7488 days\n",
              "466282    5844 days\n",
              "466283    5417 days\n",
              "466284    6513 days\n",
              "Name: earliest_cr_line_date, Length: 466285, dtype: timedelta64[ns]"
            ]
          },
          "metadata": {},
          "execution_count": 20
        }
      ]
    },
    {
      "cell_type": "code",
      "source": [
        "loan_data['mths_since_earliest_cr_line'] = round(pd.to_numeric((pd.to_datetime('2017-12-01') - loan_data['earliest_cr_line_date'])/ np.timedelta64(1,'M')))"
      ],
      "metadata": {
        "id": "BsKwID2wxIf7"
      },
      "execution_count": 21,
      "outputs": []
    },
    {
      "cell_type": "code",
      "source": [
        "loan_data['mths_since_earliest_cr_line']"
      ],
      "metadata": {
        "colab": {
          "base_uri": "https://localhost:8080/"
        },
        "id": "pl80no5Oxedm",
        "outputId": "93297396-326a-4bba-8efe-a8e317147db4"
      },
      "execution_count": 22,
      "outputs": [
        {
          "output_type": "execute_result",
          "data": {
            "text/plain": [
              "0         395.0\n",
              "1         224.0\n",
              "2         193.0\n",
              "3         262.0\n",
              "4         263.0\n",
              "          ...  \n",
              "466280    176.0\n",
              "466281    246.0\n",
              "466282    192.0\n",
              "466283    178.0\n",
              "466284    214.0\n",
              "Name: mths_since_earliest_cr_line, Length: 466285, dtype: float64"
            ]
          },
          "metadata": {},
          "execution_count": 22
        }
      ]
    },
    {
      "cell_type": "code",
      "source": [
        "loan_data['mths_since_earliest_cr_line'].describe()"
      ],
      "metadata": {
        "colab": {
          "base_uri": "https://localhost:8080/"
        },
        "id": "FvSjaU0lxi2F",
        "outputId": "89f91a58-d692-4a85-f5ef-445324a485f0"
      },
      "execution_count": 23,
      "outputs": [
        {
          "output_type": "execute_result",
          "data": {
            "text/plain": [
              "count    466256.000000\n",
              "mean        239.482430\n",
              "std          93.974829\n",
              "min        -612.000000\n",
              "25%         183.000000\n",
              "50%         225.000000\n",
              "75%         285.000000\n",
              "max         587.000000\n",
              "Name: mths_since_earliest_cr_line, dtype: float64"
            ]
          },
          "metadata": {},
          "execution_count": 23
        }
      ]
    },
    {
      "cell_type": "code",
      "source": [
        "#Negative time distance not possible\n",
        "\n",
        "loan_data.loc[:,['earliest_cr_line', 'earliest_cr_line_date', 'mths_since_earliest_cr_line']][loan_data['mths_since_earliest_cr_line']<0]"
      ],
      "metadata": {
        "colab": {
          "base_uri": "https://localhost:8080/",
          "height": 423
        },
        "id": "KjhDZtOSyjV2",
        "outputId": "9c96fb72-2a97-460e-974a-4ecfe90ebb45"
      },
      "execution_count": 24,
      "outputs": [
        {
          "output_type": "execute_result",
          "data": {
            "text/plain": [
              "       earliest_cr_line earliest_cr_line_date  mths_since_earliest_cr_line\n",
              "1580             Sep-62            2062-09-01                       -537.0\n",
              "1770             Sep-68            2068-09-01                       -609.0\n",
              "2799             Sep-64            2064-09-01                       -561.0\n",
              "3282             Sep-67            2067-09-01                       -597.0\n",
              "3359             Feb-65            2065-02-01                       -566.0\n",
              "...                 ...                   ...                          ...\n",
              "464003           Jan-68            2068-01-01                       -601.0\n",
              "464260           Jul-66            2066-07-01                       -583.0\n",
              "465100           Oct-67            2067-10-01                       -598.0\n",
              "465500           Sep-67            2067-09-01                       -597.0\n",
              "465655           Jan-56            2056-01-01                       -457.0\n",
              "\n",
              "[1169 rows x 3 columns]"
            ],
            "text/html": [
              "\n",
              "  <div id=\"df-0569ea72-f248-4122-8590-7cca2fee3e4a\">\n",
              "    <div class=\"colab-df-container\">\n",
              "      <div>\n",
              "<style scoped>\n",
              "    .dataframe tbody tr th:only-of-type {\n",
              "        vertical-align: middle;\n",
              "    }\n",
              "\n",
              "    .dataframe tbody tr th {\n",
              "        vertical-align: top;\n",
              "    }\n",
              "\n",
              "    .dataframe thead th {\n",
              "        text-align: right;\n",
              "    }\n",
              "</style>\n",
              "<table border=\"1\" class=\"dataframe\">\n",
              "  <thead>\n",
              "    <tr style=\"text-align: right;\">\n",
              "      <th></th>\n",
              "      <th>earliest_cr_line</th>\n",
              "      <th>earliest_cr_line_date</th>\n",
              "      <th>mths_since_earliest_cr_line</th>\n",
              "    </tr>\n",
              "  </thead>\n",
              "  <tbody>\n",
              "    <tr>\n",
              "      <th>1580</th>\n",
              "      <td>Sep-62</td>\n",
              "      <td>2062-09-01</td>\n",
              "      <td>-537.0</td>\n",
              "    </tr>\n",
              "    <tr>\n",
              "      <th>1770</th>\n",
              "      <td>Sep-68</td>\n",
              "      <td>2068-09-01</td>\n",
              "      <td>-609.0</td>\n",
              "    </tr>\n",
              "    <tr>\n",
              "      <th>2799</th>\n",
              "      <td>Sep-64</td>\n",
              "      <td>2064-09-01</td>\n",
              "      <td>-561.0</td>\n",
              "    </tr>\n",
              "    <tr>\n",
              "      <th>3282</th>\n",
              "      <td>Sep-67</td>\n",
              "      <td>2067-09-01</td>\n",
              "      <td>-597.0</td>\n",
              "    </tr>\n",
              "    <tr>\n",
              "      <th>3359</th>\n",
              "      <td>Feb-65</td>\n",
              "      <td>2065-02-01</td>\n",
              "      <td>-566.0</td>\n",
              "    </tr>\n",
              "    <tr>\n",
              "      <th>...</th>\n",
              "      <td>...</td>\n",
              "      <td>...</td>\n",
              "      <td>...</td>\n",
              "    </tr>\n",
              "    <tr>\n",
              "      <th>464003</th>\n",
              "      <td>Jan-68</td>\n",
              "      <td>2068-01-01</td>\n",
              "      <td>-601.0</td>\n",
              "    </tr>\n",
              "    <tr>\n",
              "      <th>464260</th>\n",
              "      <td>Jul-66</td>\n",
              "      <td>2066-07-01</td>\n",
              "      <td>-583.0</td>\n",
              "    </tr>\n",
              "    <tr>\n",
              "      <th>465100</th>\n",
              "      <td>Oct-67</td>\n",
              "      <td>2067-10-01</td>\n",
              "      <td>-598.0</td>\n",
              "    </tr>\n",
              "    <tr>\n",
              "      <th>465500</th>\n",
              "      <td>Sep-67</td>\n",
              "      <td>2067-09-01</td>\n",
              "      <td>-597.0</td>\n",
              "    </tr>\n",
              "    <tr>\n",
              "      <th>465655</th>\n",
              "      <td>Jan-56</td>\n",
              "      <td>2056-01-01</td>\n",
              "      <td>-457.0</td>\n",
              "    </tr>\n",
              "  </tbody>\n",
              "</table>\n",
              "<p>1169 rows × 3 columns</p>\n",
              "</div>\n",
              "      <button class=\"colab-df-convert\" onclick=\"convertToInteractive('df-0569ea72-f248-4122-8590-7cca2fee3e4a')\"\n",
              "              title=\"Convert this dataframe to an interactive table.\"\n",
              "              style=\"display:none;\">\n",
              "        \n",
              "  <svg xmlns=\"http://www.w3.org/2000/svg\" height=\"24px\"viewBox=\"0 0 24 24\"\n",
              "       width=\"24px\">\n",
              "    <path d=\"M0 0h24v24H0V0z\" fill=\"none\"/>\n",
              "    <path d=\"M18.56 5.44l.94 2.06.94-2.06 2.06-.94-2.06-.94-.94-2.06-.94 2.06-2.06.94zm-11 1L8.5 8.5l.94-2.06 2.06-.94-2.06-.94L8.5 2.5l-.94 2.06-2.06.94zm10 10l.94 2.06.94-2.06 2.06-.94-2.06-.94-.94-2.06-.94 2.06-2.06.94z\"/><path d=\"M17.41 7.96l-1.37-1.37c-.4-.4-.92-.59-1.43-.59-.52 0-1.04.2-1.43.59L10.3 9.45l-7.72 7.72c-.78.78-.78 2.05 0 2.83L4 21.41c.39.39.9.59 1.41.59.51 0 1.02-.2 1.41-.59l7.78-7.78 2.81-2.81c.8-.78.8-2.07 0-2.86zM5.41 20L4 18.59l7.72-7.72 1.47 1.35L5.41 20z\"/>\n",
              "  </svg>\n",
              "      </button>\n",
              "      \n",
              "  <style>\n",
              "    .colab-df-container {\n",
              "      display:flex;\n",
              "      flex-wrap:wrap;\n",
              "      gap: 12px;\n",
              "    }\n",
              "\n",
              "    .colab-df-convert {\n",
              "      background-color: #E8F0FE;\n",
              "      border: none;\n",
              "      border-radius: 50%;\n",
              "      cursor: pointer;\n",
              "      display: none;\n",
              "      fill: #1967D2;\n",
              "      height: 32px;\n",
              "      padding: 0 0 0 0;\n",
              "      width: 32px;\n",
              "    }\n",
              "\n",
              "    .colab-df-convert:hover {\n",
              "      background-color: #E2EBFA;\n",
              "      box-shadow: 0px 1px 2px rgba(60, 64, 67, 0.3), 0px 1px 3px 1px rgba(60, 64, 67, 0.15);\n",
              "      fill: #174EA6;\n",
              "    }\n",
              "\n",
              "    [theme=dark] .colab-df-convert {\n",
              "      background-color: #3B4455;\n",
              "      fill: #D2E3FC;\n",
              "    }\n",
              "\n",
              "    [theme=dark] .colab-df-convert:hover {\n",
              "      background-color: #434B5C;\n",
              "      box-shadow: 0px 1px 3px 1px rgba(0, 0, 0, 0.15);\n",
              "      filter: drop-shadow(0px 1px 2px rgba(0, 0, 0, 0.3));\n",
              "      fill: #FFFFFF;\n",
              "    }\n",
              "  </style>\n",
              "\n",
              "      <script>\n",
              "        const buttonEl =\n",
              "          document.querySelector('#df-0569ea72-f248-4122-8590-7cca2fee3e4a button.colab-df-convert');\n",
              "        buttonEl.style.display =\n",
              "          google.colab.kernel.accessAllowed ? 'block' : 'none';\n",
              "\n",
              "        async function convertToInteractive(key) {\n",
              "          const element = document.querySelector('#df-0569ea72-f248-4122-8590-7cca2fee3e4a');\n",
              "          const dataTable =\n",
              "            await google.colab.kernel.invokeFunction('convertToInteractive',\n",
              "                                                     [key], {});\n",
              "          if (!dataTable) return;\n",
              "\n",
              "          const docLinkHtml = 'Like what you see? Visit the ' +\n",
              "            '<a target=\"_blank\" href=https://colab.research.google.com/notebooks/data_table.ipynb>data table notebook</a>'\n",
              "            + ' to learn more about interactive tables.';\n",
              "          element.innerHTML = '';\n",
              "          dataTable['output_type'] = 'display_data';\n",
              "          await google.colab.output.renderOutput(dataTable, element);\n",
              "          const docLink = document.createElement('div');\n",
              "          docLink.innerHTML = docLinkHtml;\n",
              "          element.appendChild(docLink);\n",
              "        }\n",
              "      </script>\n",
              "    </div>\n",
              "  </div>\n",
              "  "
            ]
          },
          "metadata": {},
          "execution_count": 24
        }
      ]
    },
    {
      "cell_type": "code",
      "source": [
        "loan_data.shape"
      ],
      "metadata": {
        "colab": {
          "base_uri": "https://localhost:8080/"
        },
        "id": "H8mptAb1z7gH",
        "outputId": "300bac70-c4a8-4169-9476-17ca63e0c9a5"
      },
      "execution_count": 25,
      "outputs": [
        {
          "output_type": "execute_result",
          "data": {
            "text/plain": [
              "(466285, 78)"
            ]
          },
          "metadata": {},
          "execution_count": 25
        }
      ]
    },
    {
      "cell_type": "code",
      "source": [
        "loan_data['mths_since_earliest_cr_line'].max()"
      ],
      "metadata": {
        "colab": {
          "base_uri": "https://localhost:8080/"
        },
        "id": "fcErArHe1Pax",
        "outputId": "4ec6a1e6-c633-47cc-8231-2651856168cf"
      },
      "execution_count": 26,
      "outputs": [
        {
          "output_type": "execute_result",
          "data": {
            "text/plain": [
              "587.0"
            ]
          },
          "metadata": {},
          "execution_count": 26
        }
      ]
    },
    {
      "cell_type": "code",
      "source": [
        "loan_data['mths_since_earliest_cr_line'][loan_data['mths_since_earliest_cr_line']<0] = loan_data['mths_since_earliest_cr_line'].max()"
      ],
      "metadata": {
        "colab": {
          "base_uri": "https://localhost:8080/"
        },
        "id": "aHC1lKiX0ZGy",
        "outputId": "adeff086-ea40-4505-a88e-a638218bae46"
      },
      "execution_count": 27,
      "outputs": [
        {
          "output_type": "stream",
          "name": "stderr",
          "text": [
            "<ipython-input-27-b39582b064cd>:1: SettingWithCopyWarning: \n",
            "A value is trying to be set on a copy of a slice from a DataFrame\n",
            "\n",
            "See the caveats in the documentation: https://pandas.pydata.org/pandas-docs/stable/user_guide/indexing.html#returning-a-view-versus-a-copy\n",
            "  loan_data['mths_since_earliest_cr_line'][loan_data['mths_since_earliest_cr_line']<0] = loan_data['mths_since_earliest_cr_line'].max()\n"
          ]
        }
      ]
    },
    {
      "cell_type": "code",
      "source": [
        "min(loan_data['mths_since_earliest_cr_line'])"
      ],
      "metadata": {
        "colab": {
          "base_uri": "https://localhost:8080/"
        },
        "id": "WahLcxsk0qa9",
        "outputId": "4162baa2-be43-4ab2-8805-fd9d4ff3abb5"
      },
      "execution_count": 28,
      "outputs": [
        {
          "output_type": "execute_result",
          "data": {
            "text/plain": [
              "73.0"
            ]
          },
          "metadata": {},
          "execution_count": 28
        }
      ]
    },
    {
      "cell_type": "markdown",
      "source": [
        "## Homework\n",
        "\n",
        "In this homework, your task is to preprocess the ‘term’ variable and the ‘issue_d’ variable, similarly to the ‘employment length’ variable and the ‘earliest credit line variable’ we preprocessed in the last lecture.\n",
        "\n",
        "1. From the variable ‘term’, which is of object (text string) data type, create a new variable, named ‘term_int’, which is numeric and contains the term of the loan in months.\n",
        "\n",
        "Tips: First remove the unnecessary text from each row; then, turn what remains into a numeric variable.\n",
        "\n",
        "2. From the variable ‘issue date’ (‘issue_d’), which is of object (text string) data type, create a new variable, named ‘mths_since_issue_d’ (‘months since issue date’).\n",
        "\n",
        "Tips: First turn the test strings into dates; then calculate the difference between December 1st 2017 and each of the issue dates, in months; finally, check if the values make sense."
      ],
      "metadata": {
        "id": "1a0Aj9ekYFTH"
      }
    },
    {
      "cell_type": "code",
      "source": [
        "loan_data.columns"
      ],
      "metadata": {
        "colab": {
          "base_uri": "https://localhost:8080/"
        },
        "id": "l-vf_vz71XUI",
        "outputId": "1a9668ec-50f8-4e03-a938-7983aca5a5bb"
      },
      "execution_count": 29,
      "outputs": [
        {
          "output_type": "execute_result",
          "data": {
            "text/plain": [
              "Index(['Unnamed: 0', 'id', 'member_id', 'loan_amnt', 'funded_amnt',\n",
              "       'funded_amnt_inv', 'term', 'int_rate', 'installment', 'grade',\n",
              "       'sub_grade', 'emp_title', 'emp_length', 'home_ownership', 'annual_inc',\n",
              "       'verification_status', 'issue_d', 'loan_status', 'pymnt_plan', 'url',\n",
              "       'desc', 'purpose', 'title', 'zip_code', 'addr_state', 'dti',\n",
              "       'delinq_2yrs', 'earliest_cr_line', 'inq_last_6mths',\n",
              "       'mths_since_last_delinq', 'mths_since_last_record', 'open_acc',\n",
              "       'pub_rec', 'revol_bal', 'revol_util', 'total_acc',\n",
              "       'initial_list_status', 'out_prncp', 'out_prncp_inv', 'total_pymnt',\n",
              "       'total_pymnt_inv', 'total_rec_prncp', 'total_rec_int',\n",
              "       'total_rec_late_fee', 'recoveries', 'collection_recovery_fee',\n",
              "       'last_pymnt_d', 'last_pymnt_amnt', 'next_pymnt_d', 'last_credit_pull_d',\n",
              "       'collections_12_mths_ex_med', 'mths_since_last_major_derog',\n",
              "       'policy_code', 'application_type', 'annual_inc_joint', 'dti_joint',\n",
              "       'verification_status_joint', 'acc_now_delinq', 'tot_coll_amt',\n",
              "       'tot_cur_bal', 'open_acc_6m', 'open_il_6m', 'open_il_12m',\n",
              "       'open_il_24m', 'mths_since_rcnt_il', 'total_bal_il', 'il_util',\n",
              "       'open_rv_12m', 'open_rv_24m', 'max_bal_bc', 'all_util',\n",
              "       'total_rev_hi_lim', 'inq_fi', 'total_cu_tl', 'inq_last_12m',\n",
              "       'emp_length_int', 'earliest_cr_line_date',\n",
              "       'mths_since_earliest_cr_line'],\n",
              "      dtype='object')"
            ]
          },
          "metadata": {},
          "execution_count": 29
        }
      ]
    },
    {
      "cell_type": "code",
      "source": [
        "loan_data['term'].unique()"
      ],
      "metadata": {
        "colab": {
          "base_uri": "https://localhost:8080/"
        },
        "id": "Cr7QfaIoYOXC",
        "outputId": "dc3b98c3-7ae4-46e3-ce8e-305da5abf07c"
      },
      "execution_count": 30,
      "outputs": [
        {
          "output_type": "execute_result",
          "data": {
            "text/plain": [
              "array([' 36 months', ' 60 months'], dtype=object)"
            ]
          },
          "metadata": {},
          "execution_count": 30
        }
      ]
    },
    {
      "cell_type": "code",
      "source": [
        "loan_data['term_int'] = loan_data['term'].str.replace(' months','')\n",
        "loan_data['term_int'] = loan_data['term_int'].str.replace(' ','')"
      ],
      "metadata": {
        "id": "Vlqqy2qpYX8A"
      },
      "execution_count": 31,
      "outputs": []
    },
    {
      "cell_type": "code",
      "source": [
        "loan_data['term_int'].unique()"
      ],
      "metadata": {
        "colab": {
          "base_uri": "https://localhost:8080/"
        },
        "id": "KUNKmK95Yxfs",
        "outputId": "ff682c14-7df0-4b20-950a-7bfb5bfd69c5"
      },
      "execution_count": 32,
      "outputs": [
        {
          "output_type": "execute_result",
          "data": {
            "text/plain": [
              "array(['36', '60'], dtype=object)"
            ]
          },
          "metadata": {},
          "execution_count": 32
        }
      ]
    },
    {
      "cell_type": "code",
      "source": [
        "type(loan_data['term_int'][0])"
      ],
      "metadata": {
        "colab": {
          "base_uri": "https://localhost:8080/"
        },
        "id": "Pet9DvdSY0ZW",
        "outputId": "baa0ea7a-ea83-40a5-fecd-c4c1c372aeb0"
      },
      "execution_count": 33,
      "outputs": [
        {
          "output_type": "execute_result",
          "data": {
            "text/plain": [
              "str"
            ]
          },
          "metadata": {},
          "execution_count": 33
        }
      ]
    },
    {
      "cell_type": "code",
      "source": [
        "loan_data['term_int'] = pd.to_numeric(loan_data['term_int'])"
      ],
      "metadata": {
        "id": "AHEjrHC6ZE6V"
      },
      "execution_count": 34,
      "outputs": []
    },
    {
      "cell_type": "code",
      "source": [
        "type(loan_data['term_int'][0])"
      ],
      "metadata": {
        "colab": {
          "base_uri": "https://localhost:8080/"
        },
        "id": "-c5ucmqoZLtG",
        "outputId": "19e14f9e-8c07-4c7d-9dd9-6d90e08a94b8"
      },
      "execution_count": 35,
      "outputs": [
        {
          "output_type": "execute_result",
          "data": {
            "text/plain": [
              "numpy.int64"
            ]
          },
          "metadata": {},
          "execution_count": 35
        }
      ]
    },
    {
      "cell_type": "code",
      "source": [
        "loan_data['issue_d'].unique()"
      ],
      "metadata": {
        "colab": {
          "base_uri": "https://localhost:8080/"
        },
        "id": "u4LT67pmZOCI",
        "outputId": "7b76fa10-8971-4001-f628-2faa0f6eb84b"
      },
      "execution_count": 36,
      "outputs": [
        {
          "output_type": "execute_result",
          "data": {
            "text/plain": [
              "array(['Dec-11', 'Nov-11', 'Oct-11', 'Sep-11', 'Aug-11', 'Jul-11',\n",
              "       'Jun-11', 'May-11', 'Apr-11', 'Mar-11', 'Feb-11', 'Jan-11',\n",
              "       'Dec-10', 'Nov-10', 'Oct-10', 'Sep-10', 'Aug-10', 'Jul-10',\n",
              "       'Jun-10', 'May-10', 'Apr-10', 'Mar-10', 'Feb-10', 'Jan-10',\n",
              "       'Dec-09', 'Nov-09', 'Oct-09', 'Sep-09', 'Aug-09', 'Jul-09',\n",
              "       'Jun-09', 'May-09', 'Apr-09', 'Mar-09', 'Feb-09', 'Jan-09',\n",
              "       'Dec-08', 'Nov-08', 'Oct-08', 'Sep-08', 'Aug-08', 'Jul-08',\n",
              "       'Jun-08', 'May-08', 'Apr-08', 'Mar-08', 'Feb-08', 'Jan-08',\n",
              "       'Dec-07', 'Nov-07', 'Oct-07', 'Sep-07', 'Aug-07', 'Jul-07',\n",
              "       'Jun-07', 'Dec-13', 'Nov-13', 'Oct-13', 'Sep-13', 'Aug-13',\n",
              "       'Jul-13', 'Jun-13', 'May-13', 'Apr-13', 'Mar-13', 'Feb-13',\n",
              "       'Jan-13', 'Dec-12', 'Nov-12', 'Oct-12', 'Sep-12', 'Aug-12',\n",
              "       'Jul-12', 'Jun-12', 'May-12', 'Apr-12', 'Mar-12', 'Feb-12',\n",
              "       'Jan-12', 'Dec-14', 'Nov-14', 'Oct-14', 'Sep-14', 'Aug-14',\n",
              "       'Jul-14', 'Jun-14', 'May-14', 'Apr-14', 'Mar-14', 'Feb-14',\n",
              "       'Jan-14'], dtype=object)"
            ]
          },
          "metadata": {},
          "execution_count": 36
        }
      ]
    },
    {
      "cell_type": "code",
      "source": [
        "loan_data['issue_d_date'] = pd.to_datetime(loan_data['issue_d'], format = '%b-%y')"
      ],
      "metadata": {
        "id": "NAQ_CDexZcku"
      },
      "execution_count": 37,
      "outputs": []
    },
    {
      "cell_type": "code",
      "source": [
        "type(loan_data['issue_d_date'][0])"
      ],
      "metadata": {
        "colab": {
          "base_uri": "https://localhost:8080/"
        },
        "id": "Mx0eN-ISZ2j3",
        "outputId": "d1ca5c7e-d765-4a74-e49b-82ee60d9b0a8"
      },
      "execution_count": 38,
      "outputs": [
        {
          "output_type": "execute_result",
          "data": {
            "text/plain": [
              "pandas._libs.tslibs.timestamps.Timestamp"
            ]
          },
          "metadata": {},
          "execution_count": 38
        }
      ]
    },
    {
      "cell_type": "code",
      "source": [
        "loan_data['mths_since_issue_d'] = round((pd.to_datetime('2017-12-01') - loan_data['issue_d_date'])/np.timedelta64(1,\"M\"))"
      ],
      "metadata": {
        "id": "s4CsCT13Z_Lh"
      },
      "execution_count": 39,
      "outputs": []
    },
    {
      "cell_type": "code",
      "source": [
        "type(loan_data['mths_since_issue_d'][0])"
      ],
      "metadata": {
        "colab": {
          "base_uri": "https://localhost:8080/"
        },
        "id": "UPmfgGZwaY5t",
        "outputId": "493bb017-e58c-4fcc-e9e9-e7c39664b131"
      },
      "execution_count": 40,
      "outputs": [
        {
          "output_type": "execute_result",
          "data": {
            "text/plain": [
              "numpy.float64"
            ]
          },
          "metadata": {},
          "execution_count": 40
        }
      ]
    },
    {
      "cell_type": "markdown",
      "source": [
        "## Preprocessing few discrete variables\n",
        "\n",
        "\n",
        "\n",
        "1.   grade\n",
        "2. sub grade\n",
        "Create dummy variables for the discrete\n",
        "1 for yes\n",
        "0 for no\n",
        "eg., biological sex: Female or Male\n",
        "M=1 and F=0\n",
        "\n",
        "\n"
      ],
      "metadata": {
        "id": "cjGjYJwLbTCG"
      }
    },
    {
      "cell_type": "code",
      "source": [
        "pd.get_dummies(loan_data['grade'])"
      ],
      "metadata": {
        "colab": {
          "base_uri": "https://localhost:8080/",
          "height": 423
        },
        "id": "9D1Y5sKqbEZK",
        "outputId": "86859bc0-d3af-4c9c-a024-9c5945d53acf"
      },
      "execution_count": 41,
      "outputs": [
        {
          "output_type": "execute_result",
          "data": {
            "text/plain": [
              "        A  B  C  D  E  F  G\n",
              "0       0  1  0  0  0  0  0\n",
              "1       0  0  1  0  0  0  0\n",
              "2       0  0  1  0  0  0  0\n",
              "3       0  0  1  0  0  0  0\n",
              "4       0  1  0  0  0  0  0\n",
              "...    .. .. .. .. .. .. ..\n",
              "466280  0  0  1  0  0  0  0\n",
              "466281  0  0  0  1  0  0  0\n",
              "466282  0  0  0  1  0  0  0\n",
              "466283  1  0  0  0  0  0  0\n",
              "466284  0  0  0  1  0  0  0\n",
              "\n",
              "[466285 rows x 7 columns]"
            ],
            "text/html": [
              "\n",
              "  <div id=\"df-4cb2f8cb-3413-4f83-a53d-fd244222bb75\">\n",
              "    <div class=\"colab-df-container\">\n",
              "      <div>\n",
              "<style scoped>\n",
              "    .dataframe tbody tr th:only-of-type {\n",
              "        vertical-align: middle;\n",
              "    }\n",
              "\n",
              "    .dataframe tbody tr th {\n",
              "        vertical-align: top;\n",
              "    }\n",
              "\n",
              "    .dataframe thead th {\n",
              "        text-align: right;\n",
              "    }\n",
              "</style>\n",
              "<table border=\"1\" class=\"dataframe\">\n",
              "  <thead>\n",
              "    <tr style=\"text-align: right;\">\n",
              "      <th></th>\n",
              "      <th>A</th>\n",
              "      <th>B</th>\n",
              "      <th>C</th>\n",
              "      <th>D</th>\n",
              "      <th>E</th>\n",
              "      <th>F</th>\n",
              "      <th>G</th>\n",
              "    </tr>\n",
              "  </thead>\n",
              "  <tbody>\n",
              "    <tr>\n",
              "      <th>0</th>\n",
              "      <td>0</td>\n",
              "      <td>1</td>\n",
              "      <td>0</td>\n",
              "      <td>0</td>\n",
              "      <td>0</td>\n",
              "      <td>0</td>\n",
              "      <td>0</td>\n",
              "    </tr>\n",
              "    <tr>\n",
              "      <th>1</th>\n",
              "      <td>0</td>\n",
              "      <td>0</td>\n",
              "      <td>1</td>\n",
              "      <td>0</td>\n",
              "      <td>0</td>\n",
              "      <td>0</td>\n",
              "      <td>0</td>\n",
              "    </tr>\n",
              "    <tr>\n",
              "      <th>2</th>\n",
              "      <td>0</td>\n",
              "      <td>0</td>\n",
              "      <td>1</td>\n",
              "      <td>0</td>\n",
              "      <td>0</td>\n",
              "      <td>0</td>\n",
              "      <td>0</td>\n",
              "    </tr>\n",
              "    <tr>\n",
              "      <th>3</th>\n",
              "      <td>0</td>\n",
              "      <td>0</td>\n",
              "      <td>1</td>\n",
              "      <td>0</td>\n",
              "      <td>0</td>\n",
              "      <td>0</td>\n",
              "      <td>0</td>\n",
              "    </tr>\n",
              "    <tr>\n",
              "      <th>4</th>\n",
              "      <td>0</td>\n",
              "      <td>1</td>\n",
              "      <td>0</td>\n",
              "      <td>0</td>\n",
              "      <td>0</td>\n",
              "      <td>0</td>\n",
              "      <td>0</td>\n",
              "    </tr>\n",
              "    <tr>\n",
              "      <th>...</th>\n",
              "      <td>...</td>\n",
              "      <td>...</td>\n",
              "      <td>...</td>\n",
              "      <td>...</td>\n",
              "      <td>...</td>\n",
              "      <td>...</td>\n",
              "      <td>...</td>\n",
              "    </tr>\n",
              "    <tr>\n",
              "      <th>466280</th>\n",
              "      <td>0</td>\n",
              "      <td>0</td>\n",
              "      <td>1</td>\n",
              "      <td>0</td>\n",
              "      <td>0</td>\n",
              "      <td>0</td>\n",
              "      <td>0</td>\n",
              "    </tr>\n",
              "    <tr>\n",
              "      <th>466281</th>\n",
              "      <td>0</td>\n",
              "      <td>0</td>\n",
              "      <td>0</td>\n",
              "      <td>1</td>\n",
              "      <td>0</td>\n",
              "      <td>0</td>\n",
              "      <td>0</td>\n",
              "    </tr>\n",
              "    <tr>\n",
              "      <th>466282</th>\n",
              "      <td>0</td>\n",
              "      <td>0</td>\n",
              "      <td>0</td>\n",
              "      <td>1</td>\n",
              "      <td>0</td>\n",
              "      <td>0</td>\n",
              "      <td>0</td>\n",
              "    </tr>\n",
              "    <tr>\n",
              "      <th>466283</th>\n",
              "      <td>1</td>\n",
              "      <td>0</td>\n",
              "      <td>0</td>\n",
              "      <td>0</td>\n",
              "      <td>0</td>\n",
              "      <td>0</td>\n",
              "      <td>0</td>\n",
              "    </tr>\n",
              "    <tr>\n",
              "      <th>466284</th>\n",
              "      <td>0</td>\n",
              "      <td>0</td>\n",
              "      <td>0</td>\n",
              "      <td>1</td>\n",
              "      <td>0</td>\n",
              "      <td>0</td>\n",
              "      <td>0</td>\n",
              "    </tr>\n",
              "  </tbody>\n",
              "</table>\n",
              "<p>466285 rows × 7 columns</p>\n",
              "</div>\n",
              "      <button class=\"colab-df-convert\" onclick=\"convertToInteractive('df-4cb2f8cb-3413-4f83-a53d-fd244222bb75')\"\n",
              "              title=\"Convert this dataframe to an interactive table.\"\n",
              "              style=\"display:none;\">\n",
              "        \n",
              "  <svg xmlns=\"http://www.w3.org/2000/svg\" height=\"24px\"viewBox=\"0 0 24 24\"\n",
              "       width=\"24px\">\n",
              "    <path d=\"M0 0h24v24H0V0z\" fill=\"none\"/>\n",
              "    <path d=\"M18.56 5.44l.94 2.06.94-2.06 2.06-.94-2.06-.94-.94-2.06-.94 2.06-2.06.94zm-11 1L8.5 8.5l.94-2.06 2.06-.94-2.06-.94L8.5 2.5l-.94 2.06-2.06.94zm10 10l.94 2.06.94-2.06 2.06-.94-2.06-.94-.94-2.06-.94 2.06-2.06.94z\"/><path d=\"M17.41 7.96l-1.37-1.37c-.4-.4-.92-.59-1.43-.59-.52 0-1.04.2-1.43.59L10.3 9.45l-7.72 7.72c-.78.78-.78 2.05 0 2.83L4 21.41c.39.39.9.59 1.41.59.51 0 1.02-.2 1.41-.59l7.78-7.78 2.81-2.81c.8-.78.8-2.07 0-2.86zM5.41 20L4 18.59l7.72-7.72 1.47 1.35L5.41 20z\"/>\n",
              "  </svg>\n",
              "      </button>\n",
              "      \n",
              "  <style>\n",
              "    .colab-df-container {\n",
              "      display:flex;\n",
              "      flex-wrap:wrap;\n",
              "      gap: 12px;\n",
              "    }\n",
              "\n",
              "    .colab-df-convert {\n",
              "      background-color: #E8F0FE;\n",
              "      border: none;\n",
              "      border-radius: 50%;\n",
              "      cursor: pointer;\n",
              "      display: none;\n",
              "      fill: #1967D2;\n",
              "      height: 32px;\n",
              "      padding: 0 0 0 0;\n",
              "      width: 32px;\n",
              "    }\n",
              "\n",
              "    .colab-df-convert:hover {\n",
              "      background-color: #E2EBFA;\n",
              "      box-shadow: 0px 1px 2px rgba(60, 64, 67, 0.3), 0px 1px 3px 1px rgba(60, 64, 67, 0.15);\n",
              "      fill: #174EA6;\n",
              "    }\n",
              "\n",
              "    [theme=dark] .colab-df-convert {\n",
              "      background-color: #3B4455;\n",
              "      fill: #D2E3FC;\n",
              "    }\n",
              "\n",
              "    [theme=dark] .colab-df-convert:hover {\n",
              "      background-color: #434B5C;\n",
              "      box-shadow: 0px 1px 3px 1px rgba(0, 0, 0, 0.15);\n",
              "      filter: drop-shadow(0px 1px 2px rgba(0, 0, 0, 0.3));\n",
              "      fill: #FFFFFF;\n",
              "    }\n",
              "  </style>\n",
              "\n",
              "      <script>\n",
              "        const buttonEl =\n",
              "          document.querySelector('#df-4cb2f8cb-3413-4f83-a53d-fd244222bb75 button.colab-df-convert');\n",
              "        buttonEl.style.display =\n",
              "          google.colab.kernel.accessAllowed ? 'block' : 'none';\n",
              "\n",
              "        async function convertToInteractive(key) {\n",
              "          const element = document.querySelector('#df-4cb2f8cb-3413-4f83-a53d-fd244222bb75');\n",
              "          const dataTable =\n",
              "            await google.colab.kernel.invokeFunction('convertToInteractive',\n",
              "                                                     [key], {});\n",
              "          if (!dataTable) return;\n",
              "\n",
              "          const docLinkHtml = 'Like what you see? Visit the ' +\n",
              "            '<a target=\"_blank\" href=https://colab.research.google.com/notebooks/data_table.ipynb>data table notebook</a>'\n",
              "            + ' to learn more about interactive tables.';\n",
              "          element.innerHTML = '';\n",
              "          dataTable['output_type'] = 'display_data';\n",
              "          await google.colab.output.renderOutput(dataTable, element);\n",
              "          const docLink = document.createElement('div');\n",
              "          docLink.innerHTML = docLinkHtml;\n",
              "          element.appendChild(docLink);\n",
              "        }\n",
              "      </script>\n",
              "    </div>\n",
              "  </div>\n",
              "  "
            ]
          },
          "metadata": {},
          "execution_count": 41
        }
      ]
    },
    {
      "cell_type": "code",
      "source": [
        "loan_data['grade'].unique()"
      ],
      "metadata": {
        "colab": {
          "base_uri": "https://localhost:8080/"
        },
        "id": "cMV0oaFAGiuG",
        "outputId": "1ac5662d-4cdb-48eb-a1f7-43574c5a2fce"
      },
      "execution_count": 42,
      "outputs": [
        {
          "output_type": "execute_result",
          "data": {
            "text/plain": [
              "array(['B', 'C', 'A', 'E', 'F', 'D', 'G'], dtype=object)"
            ]
          },
          "metadata": {},
          "execution_count": 42
        }
      ]
    },
    {
      "cell_type": "code",
      "source": [
        "pd.get_dummies(loan_data['grade'], prefix='grade', prefix_sep='-')"
      ],
      "metadata": {
        "colab": {
          "base_uri": "https://localhost:8080/",
          "height": 423
        },
        "id": "A25h-6_gHKLl",
        "outputId": "dd7d01e5-6112-46c2-b421-0ebd5fe85af2"
      },
      "execution_count": 43,
      "outputs": [
        {
          "output_type": "execute_result",
          "data": {
            "text/plain": [
              "        grade-A  grade-B  grade-C  grade-D  grade-E  grade-F  grade-G\n",
              "0             0        1        0        0        0        0        0\n",
              "1             0        0        1        0        0        0        0\n",
              "2             0        0        1        0        0        0        0\n",
              "3             0        0        1        0        0        0        0\n",
              "4             0        1        0        0        0        0        0\n",
              "...         ...      ...      ...      ...      ...      ...      ...\n",
              "466280        0        0        1        0        0        0        0\n",
              "466281        0        0        0        1        0        0        0\n",
              "466282        0        0        0        1        0        0        0\n",
              "466283        1        0        0        0        0        0        0\n",
              "466284        0        0        0        1        0        0        0\n",
              "\n",
              "[466285 rows x 7 columns]"
            ],
            "text/html": [
              "\n",
              "  <div id=\"df-9ecab83d-bc3b-4198-b5d1-b8d94b47611e\">\n",
              "    <div class=\"colab-df-container\">\n",
              "      <div>\n",
              "<style scoped>\n",
              "    .dataframe tbody tr th:only-of-type {\n",
              "        vertical-align: middle;\n",
              "    }\n",
              "\n",
              "    .dataframe tbody tr th {\n",
              "        vertical-align: top;\n",
              "    }\n",
              "\n",
              "    .dataframe thead th {\n",
              "        text-align: right;\n",
              "    }\n",
              "</style>\n",
              "<table border=\"1\" class=\"dataframe\">\n",
              "  <thead>\n",
              "    <tr style=\"text-align: right;\">\n",
              "      <th></th>\n",
              "      <th>grade-A</th>\n",
              "      <th>grade-B</th>\n",
              "      <th>grade-C</th>\n",
              "      <th>grade-D</th>\n",
              "      <th>grade-E</th>\n",
              "      <th>grade-F</th>\n",
              "      <th>grade-G</th>\n",
              "    </tr>\n",
              "  </thead>\n",
              "  <tbody>\n",
              "    <tr>\n",
              "      <th>0</th>\n",
              "      <td>0</td>\n",
              "      <td>1</td>\n",
              "      <td>0</td>\n",
              "      <td>0</td>\n",
              "      <td>0</td>\n",
              "      <td>0</td>\n",
              "      <td>0</td>\n",
              "    </tr>\n",
              "    <tr>\n",
              "      <th>1</th>\n",
              "      <td>0</td>\n",
              "      <td>0</td>\n",
              "      <td>1</td>\n",
              "      <td>0</td>\n",
              "      <td>0</td>\n",
              "      <td>0</td>\n",
              "      <td>0</td>\n",
              "    </tr>\n",
              "    <tr>\n",
              "      <th>2</th>\n",
              "      <td>0</td>\n",
              "      <td>0</td>\n",
              "      <td>1</td>\n",
              "      <td>0</td>\n",
              "      <td>0</td>\n",
              "      <td>0</td>\n",
              "      <td>0</td>\n",
              "    </tr>\n",
              "    <tr>\n",
              "      <th>3</th>\n",
              "      <td>0</td>\n",
              "      <td>0</td>\n",
              "      <td>1</td>\n",
              "      <td>0</td>\n",
              "      <td>0</td>\n",
              "      <td>0</td>\n",
              "      <td>0</td>\n",
              "    </tr>\n",
              "    <tr>\n",
              "      <th>4</th>\n",
              "      <td>0</td>\n",
              "      <td>1</td>\n",
              "      <td>0</td>\n",
              "      <td>0</td>\n",
              "      <td>0</td>\n",
              "      <td>0</td>\n",
              "      <td>0</td>\n",
              "    </tr>\n",
              "    <tr>\n",
              "      <th>...</th>\n",
              "      <td>...</td>\n",
              "      <td>...</td>\n",
              "      <td>...</td>\n",
              "      <td>...</td>\n",
              "      <td>...</td>\n",
              "      <td>...</td>\n",
              "      <td>...</td>\n",
              "    </tr>\n",
              "    <tr>\n",
              "      <th>466280</th>\n",
              "      <td>0</td>\n",
              "      <td>0</td>\n",
              "      <td>1</td>\n",
              "      <td>0</td>\n",
              "      <td>0</td>\n",
              "      <td>0</td>\n",
              "      <td>0</td>\n",
              "    </tr>\n",
              "    <tr>\n",
              "      <th>466281</th>\n",
              "      <td>0</td>\n",
              "      <td>0</td>\n",
              "      <td>0</td>\n",
              "      <td>1</td>\n",
              "      <td>0</td>\n",
              "      <td>0</td>\n",
              "      <td>0</td>\n",
              "    </tr>\n",
              "    <tr>\n",
              "      <th>466282</th>\n",
              "      <td>0</td>\n",
              "      <td>0</td>\n",
              "      <td>0</td>\n",
              "      <td>1</td>\n",
              "      <td>0</td>\n",
              "      <td>0</td>\n",
              "      <td>0</td>\n",
              "    </tr>\n",
              "    <tr>\n",
              "      <th>466283</th>\n",
              "      <td>1</td>\n",
              "      <td>0</td>\n",
              "      <td>0</td>\n",
              "      <td>0</td>\n",
              "      <td>0</td>\n",
              "      <td>0</td>\n",
              "      <td>0</td>\n",
              "    </tr>\n",
              "    <tr>\n",
              "      <th>466284</th>\n",
              "      <td>0</td>\n",
              "      <td>0</td>\n",
              "      <td>0</td>\n",
              "      <td>1</td>\n",
              "      <td>0</td>\n",
              "      <td>0</td>\n",
              "      <td>0</td>\n",
              "    </tr>\n",
              "  </tbody>\n",
              "</table>\n",
              "<p>466285 rows × 7 columns</p>\n",
              "</div>\n",
              "      <button class=\"colab-df-convert\" onclick=\"convertToInteractive('df-9ecab83d-bc3b-4198-b5d1-b8d94b47611e')\"\n",
              "              title=\"Convert this dataframe to an interactive table.\"\n",
              "              style=\"display:none;\">\n",
              "        \n",
              "  <svg xmlns=\"http://www.w3.org/2000/svg\" height=\"24px\"viewBox=\"0 0 24 24\"\n",
              "       width=\"24px\">\n",
              "    <path d=\"M0 0h24v24H0V0z\" fill=\"none\"/>\n",
              "    <path d=\"M18.56 5.44l.94 2.06.94-2.06 2.06-.94-2.06-.94-.94-2.06-.94 2.06-2.06.94zm-11 1L8.5 8.5l.94-2.06 2.06-.94-2.06-.94L8.5 2.5l-.94 2.06-2.06.94zm10 10l.94 2.06.94-2.06 2.06-.94-2.06-.94-.94-2.06-.94 2.06-2.06.94z\"/><path d=\"M17.41 7.96l-1.37-1.37c-.4-.4-.92-.59-1.43-.59-.52 0-1.04.2-1.43.59L10.3 9.45l-7.72 7.72c-.78.78-.78 2.05 0 2.83L4 21.41c.39.39.9.59 1.41.59.51 0 1.02-.2 1.41-.59l7.78-7.78 2.81-2.81c.8-.78.8-2.07 0-2.86zM5.41 20L4 18.59l7.72-7.72 1.47 1.35L5.41 20z\"/>\n",
              "  </svg>\n",
              "      </button>\n",
              "      \n",
              "  <style>\n",
              "    .colab-df-container {\n",
              "      display:flex;\n",
              "      flex-wrap:wrap;\n",
              "      gap: 12px;\n",
              "    }\n",
              "\n",
              "    .colab-df-convert {\n",
              "      background-color: #E8F0FE;\n",
              "      border: none;\n",
              "      border-radius: 50%;\n",
              "      cursor: pointer;\n",
              "      display: none;\n",
              "      fill: #1967D2;\n",
              "      height: 32px;\n",
              "      padding: 0 0 0 0;\n",
              "      width: 32px;\n",
              "    }\n",
              "\n",
              "    .colab-df-convert:hover {\n",
              "      background-color: #E2EBFA;\n",
              "      box-shadow: 0px 1px 2px rgba(60, 64, 67, 0.3), 0px 1px 3px 1px rgba(60, 64, 67, 0.15);\n",
              "      fill: #174EA6;\n",
              "    }\n",
              "\n",
              "    [theme=dark] .colab-df-convert {\n",
              "      background-color: #3B4455;\n",
              "      fill: #D2E3FC;\n",
              "    }\n",
              "\n",
              "    [theme=dark] .colab-df-convert:hover {\n",
              "      background-color: #434B5C;\n",
              "      box-shadow: 0px 1px 3px 1px rgba(0, 0, 0, 0.15);\n",
              "      filter: drop-shadow(0px 1px 2px rgba(0, 0, 0, 0.3));\n",
              "      fill: #FFFFFF;\n",
              "    }\n",
              "  </style>\n",
              "\n",
              "      <script>\n",
              "        const buttonEl =\n",
              "          document.querySelector('#df-9ecab83d-bc3b-4198-b5d1-b8d94b47611e button.colab-df-convert');\n",
              "        buttonEl.style.display =\n",
              "          google.colab.kernel.accessAllowed ? 'block' : 'none';\n",
              "\n",
              "        async function convertToInteractive(key) {\n",
              "          const element = document.querySelector('#df-9ecab83d-bc3b-4198-b5d1-b8d94b47611e');\n",
              "          const dataTable =\n",
              "            await google.colab.kernel.invokeFunction('convertToInteractive',\n",
              "                                                     [key], {});\n",
              "          if (!dataTable) return;\n",
              "\n",
              "          const docLinkHtml = 'Like what you see? Visit the ' +\n",
              "            '<a target=\"_blank\" href=https://colab.research.google.com/notebooks/data_table.ipynb>data table notebook</a>'\n",
              "            + ' to learn more about interactive tables.';\n",
              "          element.innerHTML = '';\n",
              "          dataTable['output_type'] = 'display_data';\n",
              "          await google.colab.output.renderOutput(dataTable, element);\n",
              "          const docLink = document.createElement('div');\n",
              "          docLink.innerHTML = docLinkHtml;\n",
              "          element.appendChild(docLink);\n",
              "        }\n",
              "      </script>\n",
              "    </div>\n",
              "  </div>\n",
              "  "
            ]
          },
          "metadata": {},
          "execution_count": 43
        }
      ]
    },
    {
      "cell_type": "code",
      "source": [
        "loan_data_dummies = [pd.get_dummies(loan_data['grade'], prefix=\"grade\", prefix_sep = '-'),\n",
        "                     pd.get_dummies(loan_data['sub_grade'], prefix=\"sub_grade\", prefix_sep = '-'),\n",
        "                     pd.get_dummies(loan_data['home_ownership'], prefix=\"home_ownership\", prefix_sep = '-'),\n",
        "                     pd.get_dummies(loan_data['verification_status'], prefix=\"verification_status\", prefix_sep = '-'),\n",
        "                     pd.get_dummies(loan_data['loan_status'], prefix=\"loan_status\", prefix_sep = '-'),\n",
        "                     pd.get_dummies(loan_data['purpose'], prefix=\"purpose\", prefix_sep = '-'),\n",
        "                     pd.get_dummies(loan_data['addr_state'], prefix=\"addr_state\", prefix_sep = '-'),\n",
        "                     pd.get_dummies(loan_data['initial_list_status'], prefix=\"initial_list_status\", prefix_sep = '-')]"
      ],
      "metadata": {
        "id": "9Nzp_fkQHchX"
      },
      "execution_count": 44,
      "outputs": []
    },
    {
      "cell_type": "code",
      "source": [
        "loan_data_dummies"
      ],
      "metadata": {
        "colab": {
          "base_uri": "https://localhost:8080/"
        },
        "id": "Xl5eBmRAIvfY",
        "outputId": "d3fbc8cf-43fd-42f2-e61f-d4cde560c0b5"
      },
      "execution_count": 45,
      "outputs": [
        {
          "output_type": "execute_result",
          "data": {
            "text/plain": [
              "[        grade-A  grade-B  grade-C  grade-D  grade-E  grade-F  grade-G\n",
              " 0             0        1        0        0        0        0        0\n",
              " 1             0        0        1        0        0        0        0\n",
              " 2             0        0        1        0        0        0        0\n",
              " 3             0        0        1        0        0        0        0\n",
              " 4             0        1        0        0        0        0        0\n",
              " ...         ...      ...      ...      ...      ...      ...      ...\n",
              " 466280        0        0        1        0        0        0        0\n",
              " 466281        0        0        0        1        0        0        0\n",
              " 466282        0        0        0        1        0        0        0\n",
              " 466283        1        0        0        0        0        0        0\n",
              " 466284        0        0        0        1        0        0        0\n",
              " \n",
              " [466285 rows x 7 columns],\n",
              "         sub_grade-A1  sub_grade-A2  sub_grade-A3  sub_grade-A4  sub_grade-A5  \\\n",
              " 0                  0             0             0             0             0   \n",
              " 1                  0             0             0             0             0   \n",
              " 2                  0             0             0             0             0   \n",
              " 3                  0             0             0             0             0   \n",
              " 4                  0             0             0             0             0   \n",
              " ...              ...           ...           ...           ...           ...   \n",
              " 466280             0             0             0             0             0   \n",
              " 466281             0             0             0             0             0   \n",
              " 466282             0             0             0             0             0   \n",
              " 466283             0             0             0             1             0   \n",
              " 466284             0             0             0             0             0   \n",
              " \n",
              "         sub_grade-B1  sub_grade-B2  sub_grade-B3  sub_grade-B4  sub_grade-B5  \\\n",
              " 0                  0             1             0             0             0   \n",
              " 1                  0             0             0             0             0   \n",
              " 2                  0             0             0             0             0   \n",
              " 3                  0             0             0             0             0   \n",
              " 4                  0             0             0             0             1   \n",
              " ...              ...           ...           ...           ...           ...   \n",
              " 466280             0             0             0             0             0   \n",
              " 466281             0             0             0             0             0   \n",
              " 466282             0             0             0             0             0   \n",
              " 466283             0             0             0             0             0   \n",
              " 466284             0             0             0             0             0   \n",
              " \n",
              "         ...  sub_grade-F1  sub_grade-F2  sub_grade-F3  sub_grade-F4  \\\n",
              " 0       ...             0             0             0             0   \n",
              " 1       ...             0             0             0             0   \n",
              " 2       ...             0             0             0             0   \n",
              " 3       ...             0             0             0             0   \n",
              " 4       ...             0             0             0             0   \n",
              " ...     ...           ...           ...           ...           ...   \n",
              " 466280  ...             0             0             0             0   \n",
              " 466281  ...             0             0             0             0   \n",
              " 466282  ...             0             0             0             0   \n",
              " 466283  ...             0             0             0             0   \n",
              " 466284  ...             0             0             0             0   \n",
              " \n",
              "         sub_grade-F5  sub_grade-G1  sub_grade-G2  sub_grade-G3  sub_grade-G4  \\\n",
              " 0                  0             0             0             0             0   \n",
              " 1                  0             0             0             0             0   \n",
              " 2                  0             0             0             0             0   \n",
              " 3                  0             0             0             0             0   \n",
              " 4                  0             0             0             0             0   \n",
              " ...              ...           ...           ...           ...           ...   \n",
              " 466280             0             0             0             0             0   \n",
              " 466281             0             0             0             0             0   \n",
              " 466282             0             0             0             0             0   \n",
              " 466283             0             0             0             0             0   \n",
              " 466284             0             0             0             0             0   \n",
              " \n",
              "         sub_grade-G5  \n",
              " 0                  0  \n",
              " 1                  0  \n",
              " 2                  0  \n",
              " 3                  0  \n",
              " 4                  0  \n",
              " ...              ...  \n",
              " 466280             0  \n",
              " 466281             0  \n",
              " 466282             0  \n",
              " 466283             0  \n",
              " 466284             0  \n",
              " \n",
              " [466285 rows x 35 columns],\n",
              "         home_ownership-ANY  home_ownership-MORTGAGE  home_ownership-NONE  \\\n",
              " 0                        0                        0                    0   \n",
              " 1                        0                        0                    0   \n",
              " 2                        0                        0                    0   \n",
              " 3                        0                        0                    0   \n",
              " 4                        0                        0                    0   \n",
              " ...                    ...                      ...                  ...   \n",
              " 466280                   0                        1                    0   \n",
              " 466281                   0                        1                    0   \n",
              " 466282                   0                        1                    0   \n",
              " 466283                   0                        0                    0   \n",
              " 466284                   0                        1                    0   \n",
              " \n",
              "         home_ownership-OTHER  home_ownership-OWN  home_ownership-RENT  \n",
              " 0                          0                   0                    1  \n",
              " 1                          0                   0                    1  \n",
              " 2                          0                   0                    1  \n",
              " 3                          0                   0                    1  \n",
              " 4                          0                   0                    1  \n",
              " ...                      ...                 ...                  ...  \n",
              " 466280                     0                   0                    0  \n",
              " 466281                     0                   0                    0  \n",
              " 466282                     0                   0                    0  \n",
              " 466283                     0                   1                    0  \n",
              " 466284                     0                   0                    0  \n",
              " \n",
              " [466285 rows x 6 columns],\n",
              "         verification_status-Not Verified  verification_status-Source Verified  \\\n",
              " 0                                      0                                    0   \n",
              " 1                                      0                                    1   \n",
              " 2                                      1                                    0   \n",
              " 3                                      0                                    1   \n",
              " 4                                      0                                    1   \n",
              " ...                                  ...                                  ...   \n",
              " 466280                                 0                                    1   \n",
              " 466281                                 0                                    0   \n",
              " 466282                                 0                                    0   \n",
              " 466283                                 0                                    0   \n",
              " 466284                                 0                                    0   \n",
              " \n",
              "         verification_status-Verified  \n",
              " 0                                  1  \n",
              " 1                                  0  \n",
              " 2                                  0  \n",
              " 3                                  0  \n",
              " 4                                  0  \n",
              " ...                              ...  \n",
              " 466280                             0  \n",
              " 466281                             1  \n",
              " 466282                             1  \n",
              " 466283                             1  \n",
              " 466284                             1  \n",
              " \n",
              " [466285 rows x 3 columns],\n",
              "         loan_status-Charged Off  loan_status-Current  loan_status-Default  \\\n",
              " 0                             0                    0                    0   \n",
              " 1                             1                    0                    0   \n",
              " 2                             0                    0                    0   \n",
              " 3                             0                    0                    0   \n",
              " 4                             0                    1                    0   \n",
              " ...                         ...                  ...                  ...   \n",
              " 466280                        0                    1                    0   \n",
              " 466281                        1                    0                    0   \n",
              " 466282                        0                    1                    0   \n",
              " 466283                        0                    0                    0   \n",
              " 466284                        0                    1                    0   \n",
              " \n",
              "         loan_status-Does not meet the credit policy. Status:Charged Off  \\\n",
              " 0                                                       0                 \n",
              " 1                                                       0                 \n",
              " 2                                                       0                 \n",
              " 3                                                       0                 \n",
              " 4                                                       0                 \n",
              " ...                                                   ...                 \n",
              " 466280                                                  0                 \n",
              " 466281                                                  0                 \n",
              " 466282                                                  0                 \n",
              " 466283                                                  0                 \n",
              " 466284                                                  0                 \n",
              " \n",
              "         loan_status-Does not meet the credit policy. Status:Fully Paid  \\\n",
              " 0                                                       0                \n",
              " 1                                                       0                \n",
              " 2                                                       0                \n",
              " 3                                                       0                \n",
              " 4                                                       0                \n",
              " ...                                                   ...                \n",
              " 466280                                                  0                \n",
              " 466281                                                  0                \n",
              " 466282                                                  0                \n",
              " 466283                                                  0                \n",
              " 466284                                                  0                \n",
              " \n",
              "         loan_status-Fully Paid  loan_status-In Grace Period  \\\n",
              " 0                            1                            0   \n",
              " 1                            0                            0   \n",
              " 2                            1                            0   \n",
              " 3                            1                            0   \n",
              " 4                            0                            0   \n",
              " ...                        ...                          ...   \n",
              " 466280                       0                            0   \n",
              " 466281                       0                            0   \n",
              " 466282                       0                            0   \n",
              " 466283                       1                            0   \n",
              " 466284                       0                            0   \n",
              " \n",
              "         loan_status-Late (16-30 days)  loan_status-Late (31-120 days)  \n",
              " 0                                   0                               0  \n",
              " 1                                   0                               0  \n",
              " 2                                   0                               0  \n",
              " 3                                   0                               0  \n",
              " 4                                   0                               0  \n",
              " ...                               ...                             ...  \n",
              " 466280                              0                               0  \n",
              " 466281                              0                               0  \n",
              " 466282                              0                               0  \n",
              " 466283                              0                               0  \n",
              " 466284                              0                               0  \n",
              " \n",
              " [466285 rows x 9 columns],\n",
              "         purpose-car  purpose-credit_card  purpose-debt_consolidation  \\\n",
              " 0                 0                    1                           0   \n",
              " 1                 1                    0                           0   \n",
              " 2                 0                    0                           0   \n",
              " 3                 0                    0                           0   \n",
              " 4                 0                    0                           0   \n",
              " ...             ...                  ...                         ...   \n",
              " 466280            0                    0                           1   \n",
              " 466281            0                    0                           1   \n",
              " 466282            0                    0                           1   \n",
              " 466283            0                    1                           0   \n",
              " 466284            0                    0                           0   \n",
              " \n",
              "         purpose-educational  purpose-home_improvement  purpose-house  \\\n",
              " 0                         0                         0              0   \n",
              " 1                         0                         0              0   \n",
              " 2                         0                         0              0   \n",
              " 3                         0                         0              0   \n",
              " 4                         0                         0              0   \n",
              " ...                     ...                       ...            ...   \n",
              " 466280                    0                         0              0   \n",
              " 466281                    0                         0              0   \n",
              " 466282                    0                         0              0   \n",
              " 466283                    0                         0              0   \n",
              " 466284                    0                         0              0   \n",
              " \n",
              "         purpose-major_purchase  purpose-medical  purpose-moving  \\\n",
              " 0                            0                0               0   \n",
              " 1                            0                0               0   \n",
              " 2                            0                0               0   \n",
              " 3                            0                0               0   \n",
              " 4                            0                0               0   \n",
              " ...                        ...              ...             ...   \n",
              " 466280                       0                0               0   \n",
              " 466281                       0                0               0   \n",
              " 466282                       0                0               0   \n",
              " 466283                       0                0               0   \n",
              " 466284                       0                0               0   \n",
              " \n",
              "         purpose-other  purpose-renewable_energy  purpose-small_business  \\\n",
              " 0                   0                         0                       0   \n",
              " 1                   0                         0                       0   \n",
              " 2                   0                         0                       1   \n",
              " 3                   1                         0                       0   \n",
              " 4                   1                         0                       0   \n",
              " ...               ...                       ...                     ...   \n",
              " 466280              0                         0                       0   \n",
              " 466281              0                         0                       0   \n",
              " 466282              0                         0                       0   \n",
              " 466283              0                         0                       0   \n",
              " 466284              1                         0                       0   \n",
              " \n",
              "         purpose-vacation  purpose-wedding  \n",
              " 0                      0                0  \n",
              " 1                      0                0  \n",
              " 2                      0                0  \n",
              " 3                      0                0  \n",
              " 4                      0                0  \n",
              " ...                  ...              ...  \n",
              " 466280                 0                0  \n",
              " 466281                 0                0  \n",
              " 466282                 0                0  \n",
              " 466283                 0                0  \n",
              " 466284                 0                0  \n",
              " \n",
              " [466285 rows x 14 columns],\n",
              "         addr_state-AK  addr_state-AL  addr_state-AR  addr_state-AZ  \\\n",
              " 0                   0              0              0              1   \n",
              " 1                   0              0              0              0   \n",
              " 2                   0              0              0              0   \n",
              " 3                   0              0              0              0   \n",
              " 4                   0              0              0              0   \n",
              " ...               ...            ...            ...            ...   \n",
              " 466280              0              0              0              0   \n",
              " 466281              0              0              0              0   \n",
              " 466282              0              0              0              0   \n",
              " 466283              0              0              0              0   \n",
              " 466284              0              0              0              0   \n",
              " \n",
              "         addr_state-CA  addr_state-CO  addr_state-CT  addr_state-DC  \\\n",
              " 0                   0              0              0              0   \n",
              " 1                   0              0              0              0   \n",
              " 2                   0              0              0              0   \n",
              " 3                   1              0              0              0   \n",
              " 4                   0              0              0              0   \n",
              " ...               ...            ...            ...            ...   \n",
              " 466280              0              0              0              0   \n",
              " 466281              0              0              0              0   \n",
              " 466282              0              0              0              0   \n",
              " 466283              1              0              0              0   \n",
              " 466284              1              0              0              0   \n",
              " \n",
              "         addr_state-DE  addr_state-FL  ...  addr_state-SD  addr_state-TN  \\\n",
              " 0                   0              0  ...              0              0   \n",
              " 1                   0              0  ...              0              0   \n",
              " 2                   0              0  ...              0              0   \n",
              " 3                   0              0  ...              0              0   \n",
              " 4                   0              0  ...              0              0   \n",
              " ...               ...            ...  ...            ...            ...   \n",
              " 466280              0              0  ...              0              0   \n",
              " 466281              0              0  ...              0              1   \n",
              " 466282              0              0  ...              0              0   \n",
              " 466283              0              0  ...              0              0   \n",
              " 466284              0              0  ...              0              0   \n",
              " \n",
              "         addr_state-TX  addr_state-UT  addr_state-VA  addr_state-VT  \\\n",
              " 0                   0              0              0              0   \n",
              " 1                   0              0              0              0   \n",
              " 2                   0              0              0              0   \n",
              " 3                   0              0              0              0   \n",
              " 4                   0              0              0              0   \n",
              " ...               ...            ...            ...            ...   \n",
              " 466280              1              0              0              0   \n",
              " 466281              0              0              0              0   \n",
              " 466282              0              0              0              0   \n",
              " 466283              0              0              0              0   \n",
              " 466284              0              0              0              0   \n",
              " \n",
              "         addr_state-WA  addr_state-WI  addr_state-WV  addr_state-WY  \n",
              " 0                   0              0              0              0  \n",
              " 1                   0              0              0              0  \n",
              " 2                   0              0              0              0  \n",
              " 3                   0              0              0              0  \n",
              " 4                   0              0              0              0  \n",
              " ...               ...            ...            ...            ...  \n",
              " 466280              0              0              0              0  \n",
              " 466281              0              0              0              0  \n",
              " 466282              0              0              0              0  \n",
              " 466283              0              0              0              0  \n",
              " 466284              0              0              0              0  \n",
              " \n",
              " [466285 rows x 50 columns],\n",
              "         initial_list_status-f  initial_list_status-w\n",
              " 0                           1                      0\n",
              " 1                           1                      0\n",
              " 2                           1                      0\n",
              " 3                           1                      0\n",
              " 4                           1                      0\n",
              " ...                       ...                    ...\n",
              " 466280                      0                      1\n",
              " 466281                      1                      0\n",
              " 466282                      1                      0\n",
              " 466283                      0                      1\n",
              " 466284                      1                      0\n",
              " \n",
              " [466285 rows x 2 columns]]"
            ]
          },
          "metadata": {},
          "execution_count": 45
        }
      ]
    },
    {
      "cell_type": "code",
      "source": [
        "loan_data_dummies = pd.concat(loan_data_dummies, axis=1)"
      ],
      "metadata": {
        "id": "i6SzQgENIzGM"
      },
      "execution_count": 46,
      "outputs": []
    },
    {
      "cell_type": "code",
      "source": [
        "loan_data_dummies"
      ],
      "metadata": {
        "colab": {
          "base_uri": "https://localhost:8080/",
          "height": 505
        },
        "id": "KvRDTI-wI_7y",
        "outputId": "a81016ab-2fae-47cc-d65f-48a0542bbd7d"
      },
      "execution_count": 47,
      "outputs": [
        {
          "output_type": "execute_result",
          "data": {
            "text/plain": [
              "        grade-A  grade-B  grade-C  grade-D  grade-E  grade-F  grade-G  \\\n",
              "0             0        1        0        0        0        0        0   \n",
              "1             0        0        1        0        0        0        0   \n",
              "2             0        0        1        0        0        0        0   \n",
              "3             0        0        1        0        0        0        0   \n",
              "4             0        1        0        0        0        0        0   \n",
              "...         ...      ...      ...      ...      ...      ...      ...   \n",
              "466280        0        0        1        0        0        0        0   \n",
              "466281        0        0        0        1        0        0        0   \n",
              "466282        0        0        0        1        0        0        0   \n",
              "466283        1        0        0        0        0        0        0   \n",
              "466284        0        0        0        1        0        0        0   \n",
              "\n",
              "        sub_grade-A1  sub_grade-A2  sub_grade-A3  ...  addr_state-TX  \\\n",
              "0                  0             0             0  ...              0   \n",
              "1                  0             0             0  ...              0   \n",
              "2                  0             0             0  ...              0   \n",
              "3                  0             0             0  ...              0   \n",
              "4                  0             0             0  ...              0   \n",
              "...              ...           ...           ...  ...            ...   \n",
              "466280             0             0             0  ...              1   \n",
              "466281             0             0             0  ...              0   \n",
              "466282             0             0             0  ...              0   \n",
              "466283             0             0             0  ...              0   \n",
              "466284             0             0             0  ...              0   \n",
              "\n",
              "        addr_state-UT  addr_state-VA  addr_state-VT  addr_state-WA  \\\n",
              "0                   0              0              0              0   \n",
              "1                   0              0              0              0   \n",
              "2                   0              0              0              0   \n",
              "3                   0              0              0              0   \n",
              "4                   0              0              0              0   \n",
              "...               ...            ...            ...            ...   \n",
              "466280              0              0              0              0   \n",
              "466281              0              0              0              0   \n",
              "466282              0              0              0              0   \n",
              "466283              0              0              0              0   \n",
              "466284              0              0              0              0   \n",
              "\n",
              "        addr_state-WI  addr_state-WV  addr_state-WY  initial_list_status-f  \\\n",
              "0                   0              0              0                      1   \n",
              "1                   0              0              0                      1   \n",
              "2                   0              0              0                      1   \n",
              "3                   0              0              0                      1   \n",
              "4                   0              0              0                      1   \n",
              "...               ...            ...            ...                    ...   \n",
              "466280              0              0              0                      0   \n",
              "466281              0              0              0                      1   \n",
              "466282              0              0              0                      1   \n",
              "466283              0              0              0                      0   \n",
              "466284              0              0              0                      1   \n",
              "\n",
              "        initial_list_status-w  \n",
              "0                           0  \n",
              "1                           0  \n",
              "2                           0  \n",
              "3                           0  \n",
              "4                           0  \n",
              "...                       ...  \n",
              "466280                      1  \n",
              "466281                      0  \n",
              "466282                      0  \n",
              "466283                      1  \n",
              "466284                      0  \n",
              "\n",
              "[466285 rows x 126 columns]"
            ],
            "text/html": [
              "\n",
              "  <div id=\"df-ad74e2d7-1895-4460-94e1-f27369e3bafc\">\n",
              "    <div class=\"colab-df-container\">\n",
              "      <div>\n",
              "<style scoped>\n",
              "    .dataframe tbody tr th:only-of-type {\n",
              "        vertical-align: middle;\n",
              "    }\n",
              "\n",
              "    .dataframe tbody tr th {\n",
              "        vertical-align: top;\n",
              "    }\n",
              "\n",
              "    .dataframe thead th {\n",
              "        text-align: right;\n",
              "    }\n",
              "</style>\n",
              "<table border=\"1\" class=\"dataframe\">\n",
              "  <thead>\n",
              "    <tr style=\"text-align: right;\">\n",
              "      <th></th>\n",
              "      <th>grade-A</th>\n",
              "      <th>grade-B</th>\n",
              "      <th>grade-C</th>\n",
              "      <th>grade-D</th>\n",
              "      <th>grade-E</th>\n",
              "      <th>grade-F</th>\n",
              "      <th>grade-G</th>\n",
              "      <th>sub_grade-A1</th>\n",
              "      <th>sub_grade-A2</th>\n",
              "      <th>sub_grade-A3</th>\n",
              "      <th>...</th>\n",
              "      <th>addr_state-TX</th>\n",
              "      <th>addr_state-UT</th>\n",
              "      <th>addr_state-VA</th>\n",
              "      <th>addr_state-VT</th>\n",
              "      <th>addr_state-WA</th>\n",
              "      <th>addr_state-WI</th>\n",
              "      <th>addr_state-WV</th>\n",
              "      <th>addr_state-WY</th>\n",
              "      <th>initial_list_status-f</th>\n",
              "      <th>initial_list_status-w</th>\n",
              "    </tr>\n",
              "  </thead>\n",
              "  <tbody>\n",
              "    <tr>\n",
              "      <th>0</th>\n",
              "      <td>0</td>\n",
              "      <td>1</td>\n",
              "      <td>0</td>\n",
              "      <td>0</td>\n",
              "      <td>0</td>\n",
              "      <td>0</td>\n",
              "      <td>0</td>\n",
              "      <td>0</td>\n",
              "      <td>0</td>\n",
              "      <td>0</td>\n",
              "      <td>...</td>\n",
              "      <td>0</td>\n",
              "      <td>0</td>\n",
              "      <td>0</td>\n",
              "      <td>0</td>\n",
              "      <td>0</td>\n",
              "      <td>0</td>\n",
              "      <td>0</td>\n",
              "      <td>0</td>\n",
              "      <td>1</td>\n",
              "      <td>0</td>\n",
              "    </tr>\n",
              "    <tr>\n",
              "      <th>1</th>\n",
              "      <td>0</td>\n",
              "      <td>0</td>\n",
              "      <td>1</td>\n",
              "      <td>0</td>\n",
              "      <td>0</td>\n",
              "      <td>0</td>\n",
              "      <td>0</td>\n",
              "      <td>0</td>\n",
              "      <td>0</td>\n",
              "      <td>0</td>\n",
              "      <td>...</td>\n",
              "      <td>0</td>\n",
              "      <td>0</td>\n",
              "      <td>0</td>\n",
              "      <td>0</td>\n",
              "      <td>0</td>\n",
              "      <td>0</td>\n",
              "      <td>0</td>\n",
              "      <td>0</td>\n",
              "      <td>1</td>\n",
              "      <td>0</td>\n",
              "    </tr>\n",
              "    <tr>\n",
              "      <th>2</th>\n",
              "      <td>0</td>\n",
              "      <td>0</td>\n",
              "      <td>1</td>\n",
              "      <td>0</td>\n",
              "      <td>0</td>\n",
              "      <td>0</td>\n",
              "      <td>0</td>\n",
              "      <td>0</td>\n",
              "      <td>0</td>\n",
              "      <td>0</td>\n",
              "      <td>...</td>\n",
              "      <td>0</td>\n",
              "      <td>0</td>\n",
              "      <td>0</td>\n",
              "      <td>0</td>\n",
              "      <td>0</td>\n",
              "      <td>0</td>\n",
              "      <td>0</td>\n",
              "      <td>0</td>\n",
              "      <td>1</td>\n",
              "      <td>0</td>\n",
              "    </tr>\n",
              "    <tr>\n",
              "      <th>3</th>\n",
              "      <td>0</td>\n",
              "      <td>0</td>\n",
              "      <td>1</td>\n",
              "      <td>0</td>\n",
              "      <td>0</td>\n",
              "      <td>0</td>\n",
              "      <td>0</td>\n",
              "      <td>0</td>\n",
              "      <td>0</td>\n",
              "      <td>0</td>\n",
              "      <td>...</td>\n",
              "      <td>0</td>\n",
              "      <td>0</td>\n",
              "      <td>0</td>\n",
              "      <td>0</td>\n",
              "      <td>0</td>\n",
              "      <td>0</td>\n",
              "      <td>0</td>\n",
              "      <td>0</td>\n",
              "      <td>1</td>\n",
              "      <td>0</td>\n",
              "    </tr>\n",
              "    <tr>\n",
              "      <th>4</th>\n",
              "      <td>0</td>\n",
              "      <td>1</td>\n",
              "      <td>0</td>\n",
              "      <td>0</td>\n",
              "      <td>0</td>\n",
              "      <td>0</td>\n",
              "      <td>0</td>\n",
              "      <td>0</td>\n",
              "      <td>0</td>\n",
              "      <td>0</td>\n",
              "      <td>...</td>\n",
              "      <td>0</td>\n",
              "      <td>0</td>\n",
              "      <td>0</td>\n",
              "      <td>0</td>\n",
              "      <td>0</td>\n",
              "      <td>0</td>\n",
              "      <td>0</td>\n",
              "      <td>0</td>\n",
              "      <td>1</td>\n",
              "      <td>0</td>\n",
              "    </tr>\n",
              "    <tr>\n",
              "      <th>...</th>\n",
              "      <td>...</td>\n",
              "      <td>...</td>\n",
              "      <td>...</td>\n",
              "      <td>...</td>\n",
              "      <td>...</td>\n",
              "      <td>...</td>\n",
              "      <td>...</td>\n",
              "      <td>...</td>\n",
              "      <td>...</td>\n",
              "      <td>...</td>\n",
              "      <td>...</td>\n",
              "      <td>...</td>\n",
              "      <td>...</td>\n",
              "      <td>...</td>\n",
              "      <td>...</td>\n",
              "      <td>...</td>\n",
              "      <td>...</td>\n",
              "      <td>...</td>\n",
              "      <td>...</td>\n",
              "      <td>...</td>\n",
              "      <td>...</td>\n",
              "    </tr>\n",
              "    <tr>\n",
              "      <th>466280</th>\n",
              "      <td>0</td>\n",
              "      <td>0</td>\n",
              "      <td>1</td>\n",
              "      <td>0</td>\n",
              "      <td>0</td>\n",
              "      <td>0</td>\n",
              "      <td>0</td>\n",
              "      <td>0</td>\n",
              "      <td>0</td>\n",
              "      <td>0</td>\n",
              "      <td>...</td>\n",
              "      <td>1</td>\n",
              "      <td>0</td>\n",
              "      <td>0</td>\n",
              "      <td>0</td>\n",
              "      <td>0</td>\n",
              "      <td>0</td>\n",
              "      <td>0</td>\n",
              "      <td>0</td>\n",
              "      <td>0</td>\n",
              "      <td>1</td>\n",
              "    </tr>\n",
              "    <tr>\n",
              "      <th>466281</th>\n",
              "      <td>0</td>\n",
              "      <td>0</td>\n",
              "      <td>0</td>\n",
              "      <td>1</td>\n",
              "      <td>0</td>\n",
              "      <td>0</td>\n",
              "      <td>0</td>\n",
              "      <td>0</td>\n",
              "      <td>0</td>\n",
              "      <td>0</td>\n",
              "      <td>...</td>\n",
              "      <td>0</td>\n",
              "      <td>0</td>\n",
              "      <td>0</td>\n",
              "      <td>0</td>\n",
              "      <td>0</td>\n",
              "      <td>0</td>\n",
              "      <td>0</td>\n",
              "      <td>0</td>\n",
              "      <td>1</td>\n",
              "      <td>0</td>\n",
              "    </tr>\n",
              "    <tr>\n",
              "      <th>466282</th>\n",
              "      <td>0</td>\n",
              "      <td>0</td>\n",
              "      <td>0</td>\n",
              "      <td>1</td>\n",
              "      <td>0</td>\n",
              "      <td>0</td>\n",
              "      <td>0</td>\n",
              "      <td>0</td>\n",
              "      <td>0</td>\n",
              "      <td>0</td>\n",
              "      <td>...</td>\n",
              "      <td>0</td>\n",
              "      <td>0</td>\n",
              "      <td>0</td>\n",
              "      <td>0</td>\n",
              "      <td>0</td>\n",
              "      <td>0</td>\n",
              "      <td>0</td>\n",
              "      <td>0</td>\n",
              "      <td>1</td>\n",
              "      <td>0</td>\n",
              "    </tr>\n",
              "    <tr>\n",
              "      <th>466283</th>\n",
              "      <td>1</td>\n",
              "      <td>0</td>\n",
              "      <td>0</td>\n",
              "      <td>0</td>\n",
              "      <td>0</td>\n",
              "      <td>0</td>\n",
              "      <td>0</td>\n",
              "      <td>0</td>\n",
              "      <td>0</td>\n",
              "      <td>0</td>\n",
              "      <td>...</td>\n",
              "      <td>0</td>\n",
              "      <td>0</td>\n",
              "      <td>0</td>\n",
              "      <td>0</td>\n",
              "      <td>0</td>\n",
              "      <td>0</td>\n",
              "      <td>0</td>\n",
              "      <td>0</td>\n",
              "      <td>0</td>\n",
              "      <td>1</td>\n",
              "    </tr>\n",
              "    <tr>\n",
              "      <th>466284</th>\n",
              "      <td>0</td>\n",
              "      <td>0</td>\n",
              "      <td>0</td>\n",
              "      <td>1</td>\n",
              "      <td>0</td>\n",
              "      <td>0</td>\n",
              "      <td>0</td>\n",
              "      <td>0</td>\n",
              "      <td>0</td>\n",
              "      <td>0</td>\n",
              "      <td>...</td>\n",
              "      <td>0</td>\n",
              "      <td>0</td>\n",
              "      <td>0</td>\n",
              "      <td>0</td>\n",
              "      <td>0</td>\n",
              "      <td>0</td>\n",
              "      <td>0</td>\n",
              "      <td>0</td>\n",
              "      <td>1</td>\n",
              "      <td>0</td>\n",
              "    </tr>\n",
              "  </tbody>\n",
              "</table>\n",
              "<p>466285 rows × 126 columns</p>\n",
              "</div>\n",
              "      <button class=\"colab-df-convert\" onclick=\"convertToInteractive('df-ad74e2d7-1895-4460-94e1-f27369e3bafc')\"\n",
              "              title=\"Convert this dataframe to an interactive table.\"\n",
              "              style=\"display:none;\">\n",
              "        \n",
              "  <svg xmlns=\"http://www.w3.org/2000/svg\" height=\"24px\"viewBox=\"0 0 24 24\"\n",
              "       width=\"24px\">\n",
              "    <path d=\"M0 0h24v24H0V0z\" fill=\"none\"/>\n",
              "    <path d=\"M18.56 5.44l.94 2.06.94-2.06 2.06-.94-2.06-.94-.94-2.06-.94 2.06-2.06.94zm-11 1L8.5 8.5l.94-2.06 2.06-.94-2.06-.94L8.5 2.5l-.94 2.06-2.06.94zm10 10l.94 2.06.94-2.06 2.06-.94-2.06-.94-.94-2.06-.94 2.06-2.06.94z\"/><path d=\"M17.41 7.96l-1.37-1.37c-.4-.4-.92-.59-1.43-.59-.52 0-1.04.2-1.43.59L10.3 9.45l-7.72 7.72c-.78.78-.78 2.05 0 2.83L4 21.41c.39.39.9.59 1.41.59.51 0 1.02-.2 1.41-.59l7.78-7.78 2.81-2.81c.8-.78.8-2.07 0-2.86zM5.41 20L4 18.59l7.72-7.72 1.47 1.35L5.41 20z\"/>\n",
              "  </svg>\n",
              "      </button>\n",
              "      \n",
              "  <style>\n",
              "    .colab-df-container {\n",
              "      display:flex;\n",
              "      flex-wrap:wrap;\n",
              "      gap: 12px;\n",
              "    }\n",
              "\n",
              "    .colab-df-convert {\n",
              "      background-color: #E8F0FE;\n",
              "      border: none;\n",
              "      border-radius: 50%;\n",
              "      cursor: pointer;\n",
              "      display: none;\n",
              "      fill: #1967D2;\n",
              "      height: 32px;\n",
              "      padding: 0 0 0 0;\n",
              "      width: 32px;\n",
              "    }\n",
              "\n",
              "    .colab-df-convert:hover {\n",
              "      background-color: #E2EBFA;\n",
              "      box-shadow: 0px 1px 2px rgba(60, 64, 67, 0.3), 0px 1px 3px 1px rgba(60, 64, 67, 0.15);\n",
              "      fill: #174EA6;\n",
              "    }\n",
              "\n",
              "    [theme=dark] .colab-df-convert {\n",
              "      background-color: #3B4455;\n",
              "      fill: #D2E3FC;\n",
              "    }\n",
              "\n",
              "    [theme=dark] .colab-df-convert:hover {\n",
              "      background-color: #434B5C;\n",
              "      box-shadow: 0px 1px 3px 1px rgba(0, 0, 0, 0.15);\n",
              "      filter: drop-shadow(0px 1px 2px rgba(0, 0, 0, 0.3));\n",
              "      fill: #FFFFFF;\n",
              "    }\n",
              "  </style>\n",
              "\n",
              "      <script>\n",
              "        const buttonEl =\n",
              "          document.querySelector('#df-ad74e2d7-1895-4460-94e1-f27369e3bafc button.colab-df-convert');\n",
              "        buttonEl.style.display =\n",
              "          google.colab.kernel.accessAllowed ? 'block' : 'none';\n",
              "\n",
              "        async function convertToInteractive(key) {\n",
              "          const element = document.querySelector('#df-ad74e2d7-1895-4460-94e1-f27369e3bafc');\n",
              "          const dataTable =\n",
              "            await google.colab.kernel.invokeFunction('convertToInteractive',\n",
              "                                                     [key], {});\n",
              "          if (!dataTable) return;\n",
              "\n",
              "          const docLinkHtml = 'Like what you see? Visit the ' +\n",
              "            '<a target=\"_blank\" href=https://colab.research.google.com/notebooks/data_table.ipynb>data table notebook</a>'\n",
              "            + ' to learn more about interactive tables.';\n",
              "          element.innerHTML = '';\n",
              "          dataTable['output_type'] = 'display_data';\n",
              "          await google.colab.output.renderOutput(dataTable, element);\n",
              "          const docLink = document.createElement('div');\n",
              "          docLink.innerHTML = docLinkHtml;\n",
              "          element.appendChild(docLink);\n",
              "        }\n",
              "      </script>\n",
              "    </div>\n",
              "  </div>\n",
              "  "
            ]
          },
          "metadata": {},
          "execution_count": 47
        }
      ]
    },
    {
      "cell_type": "code",
      "source": [
        "  type(loan_data_dummies)"
      ],
      "metadata": {
        "colab": {
          "base_uri": "https://localhost:8080/"
        },
        "id": "Q82XXaUhJBk3",
        "outputId": "58331460-e243-438c-c5f1-cd322536983f"
      },
      "execution_count": 48,
      "outputs": [
        {
          "output_type": "execute_result",
          "data": {
            "text/plain": [
              "pandas.core.frame.DataFrame"
            ]
          },
          "metadata": {},
          "execution_count": 48
        }
      ]
    },
    {
      "cell_type": "code",
      "source": [
        "loan_data = pd.concat([loan_data, loan_data_dummies], axis=1)"
      ],
      "metadata": {
        "id": "mQ3PktY6JK9d"
      },
      "execution_count": 49,
      "outputs": []
    },
    {
      "cell_type": "code",
      "source": [
        "loan_data.columns.values"
      ],
      "metadata": {
        "colab": {
          "base_uri": "https://localhost:8080/"
        },
        "id": "MNLNXwzeJWvo",
        "outputId": "7910e812-7c07-4c2a-e682-13026f8188d7"
      },
      "execution_count": 50,
      "outputs": [
        {
          "output_type": "execute_result",
          "data": {
            "text/plain": [
              "array(['Unnamed: 0', 'id', 'member_id', 'loan_amnt', 'funded_amnt',\n",
              "       'funded_amnt_inv', 'term', 'int_rate', 'installment', 'grade',\n",
              "       'sub_grade', 'emp_title', 'emp_length', 'home_ownership',\n",
              "       'annual_inc', 'verification_status', 'issue_d', 'loan_status',\n",
              "       'pymnt_plan', 'url', 'desc', 'purpose', 'title', 'zip_code',\n",
              "       'addr_state', 'dti', 'delinq_2yrs', 'earliest_cr_line',\n",
              "       'inq_last_6mths', 'mths_since_last_delinq',\n",
              "       'mths_since_last_record', 'open_acc', 'pub_rec', 'revol_bal',\n",
              "       'revol_util', 'total_acc', 'initial_list_status', 'out_prncp',\n",
              "       'out_prncp_inv', 'total_pymnt', 'total_pymnt_inv',\n",
              "       'total_rec_prncp', 'total_rec_int', 'total_rec_late_fee',\n",
              "       'recoveries', 'collection_recovery_fee', 'last_pymnt_d',\n",
              "       'last_pymnt_amnt', 'next_pymnt_d', 'last_credit_pull_d',\n",
              "       'collections_12_mths_ex_med', 'mths_since_last_major_derog',\n",
              "       'policy_code', 'application_type', 'annual_inc_joint', 'dti_joint',\n",
              "       'verification_status_joint', 'acc_now_delinq', 'tot_coll_amt',\n",
              "       'tot_cur_bal', 'open_acc_6m', 'open_il_6m', 'open_il_12m',\n",
              "       'open_il_24m', 'mths_since_rcnt_il', 'total_bal_il', 'il_util',\n",
              "       'open_rv_12m', 'open_rv_24m', 'max_bal_bc', 'all_util',\n",
              "       'total_rev_hi_lim', 'inq_fi', 'total_cu_tl', 'inq_last_12m',\n",
              "       'emp_length_int', 'earliest_cr_line_date',\n",
              "       'mths_since_earliest_cr_line', 'term_int', 'issue_d_date',\n",
              "       'mths_since_issue_d', 'grade-A', 'grade-B', 'grade-C', 'grade-D',\n",
              "       'grade-E', 'grade-F', 'grade-G', 'sub_grade-A1', 'sub_grade-A2',\n",
              "       'sub_grade-A3', 'sub_grade-A4', 'sub_grade-A5', 'sub_grade-B1',\n",
              "       'sub_grade-B2', 'sub_grade-B3', 'sub_grade-B4', 'sub_grade-B5',\n",
              "       'sub_grade-C1', 'sub_grade-C2', 'sub_grade-C3', 'sub_grade-C4',\n",
              "       'sub_grade-C5', 'sub_grade-D1', 'sub_grade-D2', 'sub_grade-D3',\n",
              "       'sub_grade-D4', 'sub_grade-D5', 'sub_grade-E1', 'sub_grade-E2',\n",
              "       'sub_grade-E3', 'sub_grade-E4', 'sub_grade-E5', 'sub_grade-F1',\n",
              "       'sub_grade-F2', 'sub_grade-F3', 'sub_grade-F4', 'sub_grade-F5',\n",
              "       'sub_grade-G1', 'sub_grade-G2', 'sub_grade-G3', 'sub_grade-G4',\n",
              "       'sub_grade-G5', 'home_ownership-ANY', 'home_ownership-MORTGAGE',\n",
              "       'home_ownership-NONE', 'home_ownership-OTHER',\n",
              "       'home_ownership-OWN', 'home_ownership-RENT',\n",
              "       'verification_status-Not Verified',\n",
              "       'verification_status-Source Verified',\n",
              "       'verification_status-Verified', 'loan_status-Charged Off',\n",
              "       'loan_status-Current', 'loan_status-Default',\n",
              "       'loan_status-Does not meet the credit policy. Status:Charged Off',\n",
              "       'loan_status-Does not meet the credit policy. Status:Fully Paid',\n",
              "       'loan_status-Fully Paid', 'loan_status-In Grace Period',\n",
              "       'loan_status-Late (16-30 days)', 'loan_status-Late (31-120 days)',\n",
              "       'purpose-car', 'purpose-credit_card', 'purpose-debt_consolidation',\n",
              "       'purpose-educational', 'purpose-home_improvement', 'purpose-house',\n",
              "       'purpose-major_purchase', 'purpose-medical', 'purpose-moving',\n",
              "       'purpose-other', 'purpose-renewable_energy',\n",
              "       'purpose-small_business', 'purpose-vacation', 'purpose-wedding',\n",
              "       'addr_state-AK', 'addr_state-AL', 'addr_state-AR', 'addr_state-AZ',\n",
              "       'addr_state-CA', 'addr_state-CO', 'addr_state-CT', 'addr_state-DC',\n",
              "       'addr_state-DE', 'addr_state-FL', 'addr_state-GA', 'addr_state-HI',\n",
              "       'addr_state-IA', 'addr_state-ID', 'addr_state-IL', 'addr_state-IN',\n",
              "       'addr_state-KS', 'addr_state-KY', 'addr_state-LA', 'addr_state-MA',\n",
              "       'addr_state-MD', 'addr_state-ME', 'addr_state-MI', 'addr_state-MN',\n",
              "       'addr_state-MO', 'addr_state-MS', 'addr_state-MT', 'addr_state-NC',\n",
              "       'addr_state-NE', 'addr_state-NH', 'addr_state-NJ', 'addr_state-NM',\n",
              "       'addr_state-NV', 'addr_state-NY', 'addr_state-OH', 'addr_state-OK',\n",
              "       'addr_state-OR', 'addr_state-PA', 'addr_state-RI', 'addr_state-SC',\n",
              "       'addr_state-SD', 'addr_state-TN', 'addr_state-TX', 'addr_state-UT',\n",
              "       'addr_state-VA', 'addr_state-VT', 'addr_state-WA', 'addr_state-WI',\n",
              "       'addr_state-WV', 'addr_state-WY', 'initial_list_status-f',\n",
              "       'initial_list_status-w'], dtype=object)"
            ]
          },
          "metadata": {},
          "execution_count": 50
        }
      ]
    },
    {
      "cell_type": "code",
      "source": [
        "loan_data.isna().sum()"
      ],
      "metadata": {
        "colab": {
          "base_uri": "https://localhost:8080/"
        },
        "id": "G4yg4gYHJcB3",
        "outputId": "d012a1ec-d37b-4706-e53a-e9f5eeba8c65"
      },
      "execution_count": 51,
      "outputs": [
        {
          "output_type": "execute_result",
          "data": {
            "text/plain": [
              "Unnamed: 0               0\n",
              "id                       0\n",
              "member_id                0\n",
              "loan_amnt                0\n",
              "funded_amnt              0\n",
              "                        ..\n",
              "addr_state-WI            0\n",
              "addr_state-WV            0\n",
              "addr_state-WY            0\n",
              "initial_list_status-f    0\n",
              "initial_list_status-w    0\n",
              "Length: 207, dtype: int64"
            ]
          },
          "metadata": {},
          "execution_count": 51
        }
      ]
    },
    {
      "cell_type": "code",
      "source": [
        "pd.options.display.max_rows=100"
      ],
      "metadata": {
        "id": "dAYSFQiHJ9Tj"
      },
      "execution_count": 52,
      "outputs": []
    },
    {
      "cell_type": "code",
      "source": [
        "loan_data['total_rev_hi_lim'].fillna(loan_data['funded_amnt'], inplace=True)"
      ],
      "metadata": {
        "id": "BD3mHCI7Lzo1"
      },
      "execution_count": 53,
      "outputs": []
    },
    {
      "cell_type": "code",
      "source": [
        "loan_data['total_rev_hi_lim'].isna().sum()"
      ],
      "metadata": {
        "colab": {
          "base_uri": "https://localhost:8080/"
        },
        "id": "r0o1TjMaMHSx",
        "outputId": "52b978d4-8648-4a30-f06d-d5ad6b054d07"
      },
      "execution_count": 54,
      "outputs": [
        {
          "output_type": "execute_result",
          "data": {
            "text/plain": [
              "0"
            ]
          },
          "metadata": {},
          "execution_count": 54
        }
      ]
    },
    {
      "cell_type": "markdown",
      "source": [
        "## Homework 2:\n",
        "\n",
        "In this homework, your task is to fill in the missing values for the remaining variables we are going to use in our models.\n",
        "\n",
        "Here are the instructions about what values to replace the missing values with for the remaining variables.\n",
        "\n",
        "1. For annual income (‘annual_inc’), replace the missing values with the mean of the non-missing values of the variable.\n",
        "\n",
        "2. For all of the following variables, replace the missing values with zeroes:\n",
        "\n",
        "‘mths_since_earliest_cr_line’\n",
        "\n",
        "‘acc_now_delinq’\n",
        "\n",
        "‘total_acc’\n",
        "\n",
        "‘pub_rec’\n",
        "\n",
        "‘open_acc’\n",
        "\n",
        "‘inq_last_6mths’\n",
        "\n",
        "‘delinq_2yrs’\n",
        "\n",
        "‘emp_length_int’"
      ],
      "metadata": {
        "id": "ggY8ff2EMswT"
      }
    },
    {
      "cell_type": "code",
      "source": [
        "loan_data['annual_inc'].isnull().sum()"
      ],
      "metadata": {
        "colab": {
          "base_uri": "https://localhost:8080/"
        },
        "id": "ejJx8jv_Msd8",
        "outputId": "e7113ed7-9002-4eeb-ffef-dccb10ac3ef2"
      },
      "execution_count": 55,
      "outputs": [
        {
          "output_type": "execute_result",
          "data": {
            "text/plain": [
              "4"
            ]
          },
          "metadata": {},
          "execution_count": 55
        }
      ]
    },
    {
      "cell_type": "code",
      "source": [
        "loan_data['annual_inc'].fillna(loan_data['annual_inc'].mean(), inplace=True)"
      ],
      "metadata": {
        "id": "K9omEhyQMcq1"
      },
      "execution_count": 56,
      "outputs": []
    },
    {
      "cell_type": "code",
      "source": [
        "loan_data['annual_inc'].isnull().sum()"
      ],
      "metadata": {
        "colab": {
          "base_uri": "https://localhost:8080/"
        },
        "id": "UFCPw4fKNFQO",
        "outputId": "c8976161-e3fe-436e-e1b3-2d260f2c66a6"
      },
      "execution_count": 57,
      "outputs": [
        {
          "output_type": "execute_result",
          "data": {
            "text/plain": [
              "0"
            ]
          },
          "metadata": {},
          "execution_count": 57
        }
      ]
    },
    {
      "cell_type": "code",
      "source": [
        "loan_data['mths_since_earliest_cr_line'].isna().sum()"
      ],
      "metadata": {
        "colab": {
          "base_uri": "https://localhost:8080/"
        },
        "id": "gnpUYCAXNGxE",
        "outputId": "f94da95c-4fb5-46f7-8b43-106efa44d51c"
      },
      "execution_count": 58,
      "outputs": [
        {
          "output_type": "execute_result",
          "data": {
            "text/plain": [
              "29"
            ]
          },
          "metadata": {},
          "execution_count": 58
        }
      ]
    },
    {
      "cell_type": "code",
      "source": [
        "loan_data['mths_since_earliest_cr_line'].mean()"
      ],
      "metadata": {
        "colab": {
          "base_uri": "https://localhost:8080/"
        },
        "id": "GQ0A7aNNNNMs",
        "outputId": "2ae78961-6bca-4b5b-a5b3-085a80a8e496"
      },
      "execution_count": 59,
      "outputs": [
        {
          "output_type": "execute_result",
          "data": {
            "text/plain": [
              "242.38537412923372"
            ]
          },
          "metadata": {},
          "execution_count": 59
        }
      ]
    },
    {
      "cell_type": "code",
      "source": [
        "loan_data['mths_since_earliest_cr_line'].fillna(0, inplace=True)"
      ],
      "metadata": {
        "id": "jbRFlcYfNSoX"
      },
      "execution_count": 60,
      "outputs": []
    },
    {
      "cell_type": "code",
      "source": [
        "loan_data['mths_since_earliest_cr_line'].isna().sum()"
      ],
      "metadata": {
        "colab": {
          "base_uri": "https://localhost:8080/"
        },
        "id": "XD7NdiflNZiS",
        "outputId": "80050361-bf51-4c84-9c71-14439225197c"
      },
      "execution_count": 61,
      "outputs": [
        {
          "output_type": "execute_result",
          "data": {
            "text/plain": [
              "0"
            ]
          },
          "metadata": {},
          "execution_count": 61
        }
      ]
    },
    {
      "cell_type": "code",
      "source": [
        "loan_data['acc_now_delinq'].fillna(0, inplace=True)\n",
        "loan_data['total_acc'].fillna(0, inplace=True)\n",
        "loan_data['pub_rec'].fillna(0, inplace=True)\n",
        "loan_data['open_acc'].fillna(0, inplace=True)\n",
        "loan_data['inq_last_6mths'].fillna(0, inplace=True)\n",
        "loan_data['delinq_2yrs'].fillna(0, inplace=True)\n",
        "loan_data['emp_length_int'].fillna(0, inplace=True)"
      ],
      "metadata": {
        "id": "-w0dOZMYNcAe"
      },
      "execution_count": 62,
      "outputs": []
    },
    {
      "cell_type": "code",
      "source": [
        "from IPython import display\n",
        "\n",
        "# Display the DataFrame\n",
        "display.display(loan_data)\n",
        "\n",
        "# Adjust the output height to 300px.\n",
        "display.Javascript(\"google.colab.output.setIframeHeight('300px');\")"
      ],
      "metadata": {
        "colab": {
          "base_uri": "https://localhost:8080/",
          "height": 300
        },
        "id": "z0hFlKNmOUsC",
        "outputId": "c6b744d9-6ac2-4e32-ebdb-e676759e1799"
      },
      "execution_count": 63,
      "outputs": [
        {
          "output_type": "display_data",
          "data": {
            "text/plain": [
              "        Unnamed: 0       id  member_id  loan_amnt  funded_amnt  \\\n",
              "0                0  1077501    1296599       5000         5000   \n",
              "1                1  1077430    1314167       2500         2500   \n",
              "2                2  1077175    1313524       2400         2400   \n",
              "3                3  1076863    1277178      10000        10000   \n",
              "4                4  1075358    1311748       3000         3000   \n",
              "...            ...      ...        ...        ...          ...   \n",
              "466280      466280  8598660    1440975      18400        18400   \n",
              "466281      466281  9684700   11536848      22000        22000   \n",
              "466282      466282  9584776   11436914      20700        20700   \n",
              "466283      466283  9604874   11457002       2000         2000   \n",
              "466284      466284  9199665   11061576      10000        10000   \n",
              "\n",
              "        funded_amnt_inv        term  int_rate  installment grade  ...  \\\n",
              "0                4975.0   36 months     10.65       162.87     B  ...   \n",
              "1                2500.0   60 months     15.27        59.83     C  ...   \n",
              "2                2400.0   36 months     15.96        84.33     C  ...   \n",
              "3               10000.0   36 months     13.49       339.31     C  ...   \n",
              "4                3000.0   60 months     12.69        67.79     B  ...   \n",
              "...                 ...         ...       ...          ...   ...  ...   \n",
              "466280          18400.0   60 months     14.47       432.64     C  ...   \n",
              "466281          22000.0   60 months     19.97       582.50     D  ...   \n",
              "466282          20700.0   60 months     16.99       514.34     D  ...   \n",
              "466283           2000.0   36 months      7.90        62.59     A  ...   \n",
              "466284           9975.0   36 months     19.20       367.58     D  ...   \n",
              "\n",
              "       addr_state-TX addr_state-UT addr_state-VA addr_state-VT  addr_state-WA  \\\n",
              "0                  0             0             0             0              0   \n",
              "1                  0             0             0             0              0   \n",
              "2                  0             0             0             0              0   \n",
              "3                  0             0             0             0              0   \n",
              "4                  0             0             0             0              0   \n",
              "...              ...           ...           ...           ...            ...   \n",
              "466280             1             0             0             0              0   \n",
              "466281             0             0             0             0              0   \n",
              "466282             0             0             0             0              0   \n",
              "466283             0             0             0             0              0   \n",
              "466284             0             0             0             0              0   \n",
              "\n",
              "       addr_state-WI addr_state-WV addr_state-WY initial_list_status-f  \\\n",
              "0                  0             0             0                     1   \n",
              "1                  0             0             0                     1   \n",
              "2                  0             0             0                     1   \n",
              "3                  0             0             0                     1   \n",
              "4                  0             0             0                     1   \n",
              "...              ...           ...           ...                   ...   \n",
              "466280             0             0             0                     0   \n",
              "466281             0             0             0                     1   \n",
              "466282             0             0             0                     1   \n",
              "466283             0             0             0                     0   \n",
              "466284             0             0             0                     1   \n",
              "\n",
              "       initial_list_status-w  \n",
              "0                          0  \n",
              "1                          0  \n",
              "2                          0  \n",
              "3                          0  \n",
              "4                          0  \n",
              "...                      ...  \n",
              "466280                     1  \n",
              "466281                     0  \n",
              "466282                     0  \n",
              "466283                     1  \n",
              "466284                     0  \n",
              "\n",
              "[466285 rows x 207 columns]"
            ],
            "text/html": [
              "\n",
              "  <div id=\"df-1d7ca73b-25fc-47c0-8ebc-431c30e9aa5c\">\n",
              "    <div class=\"colab-df-container\">\n",
              "      <div>\n",
              "<style scoped>\n",
              "    .dataframe tbody tr th:only-of-type {\n",
              "        vertical-align: middle;\n",
              "    }\n",
              "\n",
              "    .dataframe tbody tr th {\n",
              "        vertical-align: top;\n",
              "    }\n",
              "\n",
              "    .dataframe thead th {\n",
              "        text-align: right;\n",
              "    }\n",
              "</style>\n",
              "<table border=\"1\" class=\"dataframe\">\n",
              "  <thead>\n",
              "    <tr style=\"text-align: right;\">\n",
              "      <th></th>\n",
              "      <th>Unnamed: 0</th>\n",
              "      <th>id</th>\n",
              "      <th>member_id</th>\n",
              "      <th>loan_amnt</th>\n",
              "      <th>funded_amnt</th>\n",
              "      <th>funded_amnt_inv</th>\n",
              "      <th>term</th>\n",
              "      <th>int_rate</th>\n",
              "      <th>installment</th>\n",
              "      <th>grade</th>\n",
              "      <th>...</th>\n",
              "      <th>addr_state-TX</th>\n",
              "      <th>addr_state-UT</th>\n",
              "      <th>addr_state-VA</th>\n",
              "      <th>addr_state-VT</th>\n",
              "      <th>addr_state-WA</th>\n",
              "      <th>addr_state-WI</th>\n",
              "      <th>addr_state-WV</th>\n",
              "      <th>addr_state-WY</th>\n",
              "      <th>initial_list_status-f</th>\n",
              "      <th>initial_list_status-w</th>\n",
              "    </tr>\n",
              "  </thead>\n",
              "  <tbody>\n",
              "    <tr>\n",
              "      <th>0</th>\n",
              "      <td>0</td>\n",
              "      <td>1077501</td>\n",
              "      <td>1296599</td>\n",
              "      <td>5000</td>\n",
              "      <td>5000</td>\n",
              "      <td>4975.0</td>\n",
              "      <td>36 months</td>\n",
              "      <td>10.65</td>\n",
              "      <td>162.87</td>\n",
              "      <td>B</td>\n",
              "      <td>...</td>\n",
              "      <td>0</td>\n",
              "      <td>0</td>\n",
              "      <td>0</td>\n",
              "      <td>0</td>\n",
              "      <td>0</td>\n",
              "      <td>0</td>\n",
              "      <td>0</td>\n",
              "      <td>0</td>\n",
              "      <td>1</td>\n",
              "      <td>0</td>\n",
              "    </tr>\n",
              "    <tr>\n",
              "      <th>1</th>\n",
              "      <td>1</td>\n",
              "      <td>1077430</td>\n",
              "      <td>1314167</td>\n",
              "      <td>2500</td>\n",
              "      <td>2500</td>\n",
              "      <td>2500.0</td>\n",
              "      <td>60 months</td>\n",
              "      <td>15.27</td>\n",
              "      <td>59.83</td>\n",
              "      <td>C</td>\n",
              "      <td>...</td>\n",
              "      <td>0</td>\n",
              "      <td>0</td>\n",
              "      <td>0</td>\n",
              "      <td>0</td>\n",
              "      <td>0</td>\n",
              "      <td>0</td>\n",
              "      <td>0</td>\n",
              "      <td>0</td>\n",
              "      <td>1</td>\n",
              "      <td>0</td>\n",
              "    </tr>\n",
              "    <tr>\n",
              "      <th>2</th>\n",
              "      <td>2</td>\n",
              "      <td>1077175</td>\n",
              "      <td>1313524</td>\n",
              "      <td>2400</td>\n",
              "      <td>2400</td>\n",
              "      <td>2400.0</td>\n",
              "      <td>36 months</td>\n",
              "      <td>15.96</td>\n",
              "      <td>84.33</td>\n",
              "      <td>C</td>\n",
              "      <td>...</td>\n",
              "      <td>0</td>\n",
              "      <td>0</td>\n",
              "      <td>0</td>\n",
              "      <td>0</td>\n",
              "      <td>0</td>\n",
              "      <td>0</td>\n",
              "      <td>0</td>\n",
              "      <td>0</td>\n",
              "      <td>1</td>\n",
              "      <td>0</td>\n",
              "    </tr>\n",
              "    <tr>\n",
              "      <th>3</th>\n",
              "      <td>3</td>\n",
              "      <td>1076863</td>\n",
              "      <td>1277178</td>\n",
              "      <td>10000</td>\n",
              "      <td>10000</td>\n",
              "      <td>10000.0</td>\n",
              "      <td>36 months</td>\n",
              "      <td>13.49</td>\n",
              "      <td>339.31</td>\n",
              "      <td>C</td>\n",
              "      <td>...</td>\n",
              "      <td>0</td>\n",
              "      <td>0</td>\n",
              "      <td>0</td>\n",
              "      <td>0</td>\n",
              "      <td>0</td>\n",
              "      <td>0</td>\n",
              "      <td>0</td>\n",
              "      <td>0</td>\n",
              "      <td>1</td>\n",
              "      <td>0</td>\n",
              "    </tr>\n",
              "    <tr>\n",
              "      <th>4</th>\n",
              "      <td>4</td>\n",
              "      <td>1075358</td>\n",
              "      <td>1311748</td>\n",
              "      <td>3000</td>\n",
              "      <td>3000</td>\n",
              "      <td>3000.0</td>\n",
              "      <td>60 months</td>\n",
              "      <td>12.69</td>\n",
              "      <td>67.79</td>\n",
              "      <td>B</td>\n",
              "      <td>...</td>\n",
              "      <td>0</td>\n",
              "      <td>0</td>\n",
              "      <td>0</td>\n",
              "      <td>0</td>\n",
              "      <td>0</td>\n",
              "      <td>0</td>\n",
              "      <td>0</td>\n",
              "      <td>0</td>\n",
              "      <td>1</td>\n",
              "      <td>0</td>\n",
              "    </tr>\n",
              "    <tr>\n",
              "      <th>...</th>\n",
              "      <td>...</td>\n",
              "      <td>...</td>\n",
              "      <td>...</td>\n",
              "      <td>...</td>\n",
              "      <td>...</td>\n",
              "      <td>...</td>\n",
              "      <td>...</td>\n",
              "      <td>...</td>\n",
              "      <td>...</td>\n",
              "      <td>...</td>\n",
              "      <td>...</td>\n",
              "      <td>...</td>\n",
              "      <td>...</td>\n",
              "      <td>...</td>\n",
              "      <td>...</td>\n",
              "      <td>...</td>\n",
              "      <td>...</td>\n",
              "      <td>...</td>\n",
              "      <td>...</td>\n",
              "      <td>...</td>\n",
              "      <td>...</td>\n",
              "    </tr>\n",
              "    <tr>\n",
              "      <th>466280</th>\n",
              "      <td>466280</td>\n",
              "      <td>8598660</td>\n",
              "      <td>1440975</td>\n",
              "      <td>18400</td>\n",
              "      <td>18400</td>\n",
              "      <td>18400.0</td>\n",
              "      <td>60 months</td>\n",
              "      <td>14.47</td>\n",
              "      <td>432.64</td>\n",
              "      <td>C</td>\n",
              "      <td>...</td>\n",
              "      <td>1</td>\n",
              "      <td>0</td>\n",
              "      <td>0</td>\n",
              "      <td>0</td>\n",
              "      <td>0</td>\n",
              "      <td>0</td>\n",
              "      <td>0</td>\n",
              "      <td>0</td>\n",
              "      <td>0</td>\n",
              "      <td>1</td>\n",
              "    </tr>\n",
              "    <tr>\n",
              "      <th>466281</th>\n",
              "      <td>466281</td>\n",
              "      <td>9684700</td>\n",
              "      <td>11536848</td>\n",
              "      <td>22000</td>\n",
              "      <td>22000</td>\n",
              "      <td>22000.0</td>\n",
              "      <td>60 months</td>\n",
              "      <td>19.97</td>\n",
              "      <td>582.50</td>\n",
              "      <td>D</td>\n",
              "      <td>...</td>\n",
              "      <td>0</td>\n",
              "      <td>0</td>\n",
              "      <td>0</td>\n",
              "      <td>0</td>\n",
              "      <td>0</td>\n",
              "      <td>0</td>\n",
              "      <td>0</td>\n",
              "      <td>0</td>\n",
              "      <td>1</td>\n",
              "      <td>0</td>\n",
              "    </tr>\n",
              "    <tr>\n",
              "      <th>466282</th>\n",
              "      <td>466282</td>\n",
              "      <td>9584776</td>\n",
              "      <td>11436914</td>\n",
              "      <td>20700</td>\n",
              "      <td>20700</td>\n",
              "      <td>20700.0</td>\n",
              "      <td>60 months</td>\n",
              "      <td>16.99</td>\n",
              "      <td>514.34</td>\n",
              "      <td>D</td>\n",
              "      <td>...</td>\n",
              "      <td>0</td>\n",
              "      <td>0</td>\n",
              "      <td>0</td>\n",
              "      <td>0</td>\n",
              "      <td>0</td>\n",
              "      <td>0</td>\n",
              "      <td>0</td>\n",
              "      <td>0</td>\n",
              "      <td>1</td>\n",
              "      <td>0</td>\n",
              "    </tr>\n",
              "    <tr>\n",
              "      <th>466283</th>\n",
              "      <td>466283</td>\n",
              "      <td>9604874</td>\n",
              "      <td>11457002</td>\n",
              "      <td>2000</td>\n",
              "      <td>2000</td>\n",
              "      <td>2000.0</td>\n",
              "      <td>36 months</td>\n",
              "      <td>7.90</td>\n",
              "      <td>62.59</td>\n",
              "      <td>A</td>\n",
              "      <td>...</td>\n",
              "      <td>0</td>\n",
              "      <td>0</td>\n",
              "      <td>0</td>\n",
              "      <td>0</td>\n",
              "      <td>0</td>\n",
              "      <td>0</td>\n",
              "      <td>0</td>\n",
              "      <td>0</td>\n",
              "      <td>0</td>\n",
              "      <td>1</td>\n",
              "    </tr>\n",
              "    <tr>\n",
              "      <th>466284</th>\n",
              "      <td>466284</td>\n",
              "      <td>9199665</td>\n",
              "      <td>11061576</td>\n",
              "      <td>10000</td>\n",
              "      <td>10000</td>\n",
              "      <td>9975.0</td>\n",
              "      <td>36 months</td>\n",
              "      <td>19.20</td>\n",
              "      <td>367.58</td>\n",
              "      <td>D</td>\n",
              "      <td>...</td>\n",
              "      <td>0</td>\n",
              "      <td>0</td>\n",
              "      <td>0</td>\n",
              "      <td>0</td>\n",
              "      <td>0</td>\n",
              "      <td>0</td>\n",
              "      <td>0</td>\n",
              "      <td>0</td>\n",
              "      <td>1</td>\n",
              "      <td>0</td>\n",
              "    </tr>\n",
              "  </tbody>\n",
              "</table>\n",
              "<p>466285 rows × 207 columns</p>\n",
              "</div>\n",
              "      <button class=\"colab-df-convert\" onclick=\"convertToInteractive('df-1d7ca73b-25fc-47c0-8ebc-431c30e9aa5c')\"\n",
              "              title=\"Convert this dataframe to an interactive table.\"\n",
              "              style=\"display:none;\">\n",
              "        \n",
              "  <svg xmlns=\"http://www.w3.org/2000/svg\" height=\"24px\"viewBox=\"0 0 24 24\"\n",
              "       width=\"24px\">\n",
              "    <path d=\"M0 0h24v24H0V0z\" fill=\"none\"/>\n",
              "    <path d=\"M18.56 5.44l.94 2.06.94-2.06 2.06-.94-2.06-.94-.94-2.06-.94 2.06-2.06.94zm-11 1L8.5 8.5l.94-2.06 2.06-.94-2.06-.94L8.5 2.5l-.94 2.06-2.06.94zm10 10l.94 2.06.94-2.06 2.06-.94-2.06-.94-.94-2.06-.94 2.06-2.06.94z\"/><path d=\"M17.41 7.96l-1.37-1.37c-.4-.4-.92-.59-1.43-.59-.52 0-1.04.2-1.43.59L10.3 9.45l-7.72 7.72c-.78.78-.78 2.05 0 2.83L4 21.41c.39.39.9.59 1.41.59.51 0 1.02-.2 1.41-.59l7.78-7.78 2.81-2.81c.8-.78.8-2.07 0-2.86zM5.41 20L4 18.59l7.72-7.72 1.47 1.35L5.41 20z\"/>\n",
              "  </svg>\n",
              "      </button>\n",
              "      \n",
              "  <style>\n",
              "    .colab-df-container {\n",
              "      display:flex;\n",
              "      flex-wrap:wrap;\n",
              "      gap: 12px;\n",
              "    }\n",
              "\n",
              "    .colab-df-convert {\n",
              "      background-color: #E8F0FE;\n",
              "      border: none;\n",
              "      border-radius: 50%;\n",
              "      cursor: pointer;\n",
              "      display: none;\n",
              "      fill: #1967D2;\n",
              "      height: 32px;\n",
              "      padding: 0 0 0 0;\n",
              "      width: 32px;\n",
              "    }\n",
              "\n",
              "    .colab-df-convert:hover {\n",
              "      background-color: #E2EBFA;\n",
              "      box-shadow: 0px 1px 2px rgba(60, 64, 67, 0.3), 0px 1px 3px 1px rgba(60, 64, 67, 0.15);\n",
              "      fill: #174EA6;\n",
              "    }\n",
              "\n",
              "    [theme=dark] .colab-df-convert {\n",
              "      background-color: #3B4455;\n",
              "      fill: #D2E3FC;\n",
              "    }\n",
              "\n",
              "    [theme=dark] .colab-df-convert:hover {\n",
              "      background-color: #434B5C;\n",
              "      box-shadow: 0px 1px 3px 1px rgba(0, 0, 0, 0.15);\n",
              "      filter: drop-shadow(0px 1px 2px rgba(0, 0, 0, 0.3));\n",
              "      fill: #FFFFFF;\n",
              "    }\n",
              "  </style>\n",
              "\n",
              "      <script>\n",
              "        const buttonEl =\n",
              "          document.querySelector('#df-1d7ca73b-25fc-47c0-8ebc-431c30e9aa5c button.colab-df-convert');\n",
              "        buttonEl.style.display =\n",
              "          google.colab.kernel.accessAllowed ? 'block' : 'none';\n",
              "\n",
              "        async function convertToInteractive(key) {\n",
              "          const element = document.querySelector('#df-1d7ca73b-25fc-47c0-8ebc-431c30e9aa5c');\n",
              "          const dataTable =\n",
              "            await google.colab.kernel.invokeFunction('convertToInteractive',\n",
              "                                                     [key], {});\n",
              "          if (!dataTable) return;\n",
              "\n",
              "          const docLinkHtml = 'Like what you see? Visit the ' +\n",
              "            '<a target=\"_blank\" href=https://colab.research.google.com/notebooks/data_table.ipynb>data table notebook</a>'\n",
              "            + ' to learn more about interactive tables.';\n",
              "          element.innerHTML = '';\n",
              "          dataTable['output_type'] = 'display_data';\n",
              "          await google.colab.output.renderOutput(dataTable, element);\n",
              "          const docLink = document.createElement('div');\n",
              "          docLink.innerHTML = docLinkHtml;\n",
              "          element.appendChild(docLink);\n",
              "        }\n",
              "      </script>\n",
              "    </div>\n",
              "  </div>\n",
              "  "
            ]
          },
          "metadata": {}
        },
        {
          "output_type": "execute_result",
          "data": {
            "text/plain": [
              "<IPython.core.display.Javascript object>"
            ],
            "application/javascript": [
              "google.colab.output.setIframeHeight('300px');"
            ]
          },
          "metadata": {},
          "execution_count": 63
        }
      ]
    },
    {
      "cell_type": "code",
      "source": [
        "loan_data.isna().sum()"
      ],
      "metadata": {
        "colab": {
          "base_uri": "https://localhost:8080/"
        },
        "id": "2t7cYBAFN0IN",
        "outputId": "2f8669db-1b60-4f3f-b2cf-07e613e99f10"
      },
      "execution_count": 64,
      "outputs": [
        {
          "output_type": "execute_result",
          "data": {
            "text/plain": [
              "Unnamed: 0               0\n",
              "id                       0\n",
              "member_id                0\n",
              "loan_amnt                0\n",
              "funded_amnt              0\n",
              "                        ..\n",
              "addr_state-WI            0\n",
              "addr_state-WV            0\n",
              "addr_state-WY            0\n",
              "initial_list_status-f    0\n",
              "initial_list_status-w    0\n",
              "Length: 207, dtype: int64"
            ]
          },
          "metadata": {},
          "execution_count": 64
        }
      ]
    },
    {
      "cell_type": "code",
      "source": [
        "loan_data['loan_status'].unique()"
      ],
      "metadata": {
        "colab": {
          "base_uri": "https://localhost:8080/"
        },
        "id": "Ceux5s8pN3wb",
        "outputId": "94f09361-4fb7-408f-a06d-fc0766d9e617"
      },
      "execution_count": 65,
      "outputs": [
        {
          "output_type": "execute_result",
          "data": {
            "text/plain": [
              "array(['Fully Paid', 'Charged Off', 'Current', 'Default',\n",
              "       'Late (31-120 days)', 'In Grace Period', 'Late (16-30 days)',\n",
              "       'Does not meet the credit policy. Status:Fully Paid',\n",
              "       'Does not meet the credit policy. Status:Charged Off'],\n",
              "      dtype=object)"
            ]
          },
          "metadata": {},
          "execution_count": 65
        }
      ]
    },
    {
      "cell_type": "code",
      "source": [
        "loan_data['loan_status'].value_counts()"
      ],
      "metadata": {
        "id": "TyttzdsqhMsL",
        "outputId": "2c708b08-7657-4346-ba3c-131194147605",
        "colab": {
          "base_uri": "https://localhost:8080/"
        }
      },
      "execution_count": 66,
      "outputs": [
        {
          "output_type": "execute_result",
          "data": {
            "text/plain": [
              "Current                                                224226\n",
              "Fully Paid                                             184739\n",
              "Charged Off                                             42475\n",
              "Late (31-120 days)                                       6900\n",
              "In Grace Period                                          3146\n",
              "Does not meet the credit policy. Status:Fully Paid       1988\n",
              "Late (16-30 days)                                        1218\n",
              "Default                                                   832\n",
              "Does not meet the credit policy. Status:Charged Off       761\n",
              "Name: loan_status, dtype: int64"
            ]
          },
          "metadata": {},
          "execution_count": 66
        }
      ]
    },
    {
      "cell_type": "code",
      "source": [
        "loan_data['loan_status'].value_counts() / loan_data['loan_status'].count()"
      ],
      "metadata": {
        "id": "3-KLW4ZJhhlq",
        "outputId": "2170b870-607d-4a41-9587-63411bea4cd3",
        "colab": {
          "base_uri": "https://localhost:8080/"
        }
      },
      "execution_count": 67,
      "outputs": [
        {
          "output_type": "execute_result",
          "data": {
            "text/plain": [
              "Current                                                0.480878\n",
              "Fully Paid                                             0.396193\n",
              "Charged Off                                            0.091092\n",
              "Late (31-120 days)                                     0.014798\n",
              "In Grace Period                                        0.006747\n",
              "Does not meet the credit policy. Status:Fully Paid     0.004263\n",
              "Late (16-30 days)                                      0.002612\n",
              "Default                                                0.001784\n",
              "Does not meet the credit policy. Status:Charged Off    0.001632\n",
              "Name: loan_status, dtype: float64"
            ]
          },
          "metadata": {},
          "execution_count": 67
        }
      ]
    },
    {
      "cell_type": "code",
      "source": [
        "loan_data['good_bad'] = np.where(loan_data['loan_status'].isin(['Charged Off','Default','Late (31-120 days)','Does not meet the credit policy. Status:Charged Off']),0,1)"
      ],
      "metadata": {
        "id": "GwkOA0bjobbv"
      },
      "execution_count": 68,
      "outputs": []
    },
    {
      "cell_type": "code",
      "source": [
        "loan_data['good_bad'].unique()"
      ],
      "metadata": {
        "id": "stxuZV3upYtq",
        "outputId": "570b70eb-6b1f-40b3-8602-393897e19ada",
        "colab": {
          "base_uri": "https://localhost:8080/"
        }
      },
      "execution_count": 69,
      "outputs": [
        {
          "output_type": "execute_result",
          "data": {
            "text/plain": [
              "array([1, 0])"
            ]
          },
          "metadata": {},
          "execution_count": 69
        }
      ]
    },
    {
      "cell_type": "markdown",
      "source": [
        "# Splitting the data into Train and Test"
      ],
      "metadata": {
        "id": "POTDy2k_HDzA"
      }
    },
    {
      "cell_type": "code",
      "source": [
        "from sklearn.model_selection import train_test_split"
      ],
      "metadata": {
        "id": "jBGwn6lpHDaw"
      },
      "execution_count": 70,
      "outputs": []
    },
    {
      "cell_type": "code",
      "source": [
        "loan_data.columns"
      ],
      "metadata": {
        "id": "S9JJ-xFAIDTC",
        "outputId": "2d849f32-a61c-4653-9cee-6b9fdf0550b6",
        "colab": {
          "base_uri": "https://localhost:8080/"
        }
      },
      "execution_count": 73,
      "outputs": [
        {
          "output_type": "execute_result",
          "data": {
            "text/plain": [
              "Index(['Unnamed: 0', 'id', 'member_id', 'loan_amnt', 'funded_amnt',\n",
              "       'funded_amnt_inv', 'term', 'int_rate', 'installment', 'grade',\n",
              "       ...\n",
              "       'addr_state-UT', 'addr_state-VA', 'addr_state-VT', 'addr_state-WA',\n",
              "       'addr_state-WI', 'addr_state-WV', 'addr_state-WY',\n",
              "       'initial_list_status-f', 'initial_list_status-w', 'good_bad'],\n",
              "      dtype='object', length=208)"
            ]
          },
          "metadata": {},
          "execution_count": 73
        }
      ]
    },
    {
      "cell_type": "code",
      "source": [
        "X = loan_data.drop('good_bad', axis=1)"
      ],
      "metadata": {
        "id": "t3mFMkYfHTnN"
      },
      "execution_count": 74,
      "outputs": []
    },
    {
      "cell_type": "code",
      "source": [
        "y = loan_data['good_bad']"
      ],
      "metadata": {
        "id": "JsuET2WpIKBY"
      },
      "execution_count": 75,
      "outputs": []
    },
    {
      "cell_type": "code",
      "source": [
        "X_train, X_test, y_train, y_test = train_test_split(X,y, test_size=0.2, random_state=42)"
      ],
      "metadata": {
        "id": "mg9LblGYpvWx"
      },
      "execution_count": 81,
      "outputs": []
    },
    {
      "cell_type": "code",
      "source": [
        "X_train.shape"
      ],
      "metadata": {
        "id": "gWhw2Y5_IQFM",
        "outputId": "e5290e61-d23a-40c8-b3b7-08c329a76be2",
        "colab": {
          "base_uri": "https://localhost:8080/"
        }
      },
      "execution_count": 82,
      "outputs": [
        {
          "output_type": "execute_result",
          "data": {
            "text/plain": [
              "(373028, 207)"
            ]
          },
          "metadata": {},
          "execution_count": 82
        }
      ]
    },
    {
      "cell_type": "code",
      "source": [
        "y_train.shape"
      ],
      "metadata": {
        "id": "FpjDKsnQISqN",
        "outputId": "accbb0bc-2139-4916-dfad-e704ef4d8027",
        "colab": {
          "base_uri": "https://localhost:8080/"
        }
      },
      "execution_count": 83,
      "outputs": [
        {
          "output_type": "execute_result",
          "data": {
            "text/plain": [
              "(373028,)"
            ]
          },
          "metadata": {},
          "execution_count": 83
        }
      ]
    },
    {
      "cell_type": "code",
      "source": [
        "X_test.shape"
      ],
      "metadata": {
        "id": "SskIhyymIUii",
        "outputId": "89533504-ea73-4406-db11-82b81eb94fac",
        "colab": {
          "base_uri": "https://localhost:8080/"
        }
      },
      "execution_count": 84,
      "outputs": [
        {
          "output_type": "execute_result",
          "data": {
            "text/plain": [
              "(93257, 207)"
            ]
          },
          "metadata": {},
          "execution_count": 84
        }
      ]
    },
    {
      "cell_type": "code",
      "source": [
        "y_test.shape"
      ],
      "metadata": {
        "id": "V8Z0sBfKIW-j",
        "outputId": "15007e8f-fd7f-49c8-a747-13c624919f76",
        "colab": {
          "base_uri": "https://localhost:8080/"
        }
      },
      "execution_count": 85,
      "outputs": [
        {
          "output_type": "execute_result",
          "data": {
            "text/plain": [
              "(93257,)"
            ]
          },
          "metadata": {},
          "execution_count": 85
        }
      ]
    },
    {
      "cell_type": "code",
      "source": [
        "loan_data.shape"
      ],
      "metadata": {
        "id": "G9aYST-1IYQA",
        "outputId": "bb7f51ea-603a-439d-a8bf-52ceef5c1d1c",
        "colab": {
          "base_uri": "https://localhost:8080/"
        }
      },
      "execution_count": 86,
      "outputs": [
        {
          "output_type": "execute_result",
          "data": {
            "text/plain": [
              "(466285, 208)"
            ]
          },
          "metadata": {},
          "execution_count": 86
        }
      ]
    },
    {
      "cell_type": "markdown",
      "source": [
        "#Data Preparation"
      ],
      "metadata": {
        "id": "DEIfEwlcJPJk"
      }
    },
    {
      "cell_type": "code",
      "source": [
        "df_inputs_prepr = X_train\n",
        "df_targets_prepr = y_train"
      ],
      "metadata": {
        "id": "ByYqKiITIfcE"
      },
      "execution_count": 89,
      "outputs": []
    },
    {
      "cell_type": "code",
      "source": [
        "df_inputs_prepr['grade'].unique()"
      ],
      "metadata": {
        "id": "aRN6vjlsIko8",
        "outputId": "950b4a19-d89e-4f0b-d21f-d791a65a99d8",
        "colab": {
          "base_uri": "https://localhost:8080/"
        }
      },
      "execution_count": 90,
      "outputs": [
        {
          "output_type": "execute_result",
          "data": {
            "text/plain": [
              "array(['A', 'C', 'D', 'B', 'E', 'F', 'G'], dtype=object)"
            ]
          },
          "metadata": {},
          "execution_count": 90
        }
      ]
    },
    {
      "cell_type": "code",
      "source": [
        "df1 = pd.concat([df_inputs_prepr['grade'], df_targets_prepr], axis=1)"
      ],
      "metadata": {
        "id": "MnIBuMmhJjBm"
      },
      "execution_count": 91,
      "outputs": []
    },
    {
      "cell_type": "code",
      "source": [
        "df1.head()"
      ],
      "metadata": {
        "id": "XCmSVte_Jw3M",
        "outputId": "bc13636e-0498-44ba-d0a7-f72e0b78eca4",
        "colab": {
          "base_uri": "https://localhost:8080/",
          "height": 206
        }
      },
      "execution_count": 92,
      "outputs": [
        {
          "output_type": "execute_result",
          "data": {
            "text/plain": [
              "       grade  good_bad\n",
              "427211     A         1\n",
              "206088     C         1\n",
              "136020     A         1\n",
              "412305     D         0\n",
              "36159      C         0"
            ],
            "text/html": [
              "\n",
              "  <div id=\"df-0b1b62d5-1fbc-480e-9be3-a2849bf9d40e\">\n",
              "    <div class=\"colab-df-container\">\n",
              "      <div>\n",
              "<style scoped>\n",
              "    .dataframe tbody tr th:only-of-type {\n",
              "        vertical-align: middle;\n",
              "    }\n",
              "\n",
              "    .dataframe tbody tr th {\n",
              "        vertical-align: top;\n",
              "    }\n",
              "\n",
              "    .dataframe thead th {\n",
              "        text-align: right;\n",
              "    }\n",
              "</style>\n",
              "<table border=\"1\" class=\"dataframe\">\n",
              "  <thead>\n",
              "    <tr style=\"text-align: right;\">\n",
              "      <th></th>\n",
              "      <th>grade</th>\n",
              "      <th>good_bad</th>\n",
              "    </tr>\n",
              "  </thead>\n",
              "  <tbody>\n",
              "    <tr>\n",
              "      <th>427211</th>\n",
              "      <td>A</td>\n",
              "      <td>1</td>\n",
              "    </tr>\n",
              "    <tr>\n",
              "      <th>206088</th>\n",
              "      <td>C</td>\n",
              "      <td>1</td>\n",
              "    </tr>\n",
              "    <tr>\n",
              "      <th>136020</th>\n",
              "      <td>A</td>\n",
              "      <td>1</td>\n",
              "    </tr>\n",
              "    <tr>\n",
              "      <th>412305</th>\n",
              "      <td>D</td>\n",
              "      <td>0</td>\n",
              "    </tr>\n",
              "    <tr>\n",
              "      <th>36159</th>\n",
              "      <td>C</td>\n",
              "      <td>0</td>\n",
              "    </tr>\n",
              "  </tbody>\n",
              "</table>\n",
              "</div>\n",
              "      <button class=\"colab-df-convert\" onclick=\"convertToInteractive('df-0b1b62d5-1fbc-480e-9be3-a2849bf9d40e')\"\n",
              "              title=\"Convert this dataframe to an interactive table.\"\n",
              "              style=\"display:none;\">\n",
              "        \n",
              "  <svg xmlns=\"http://www.w3.org/2000/svg\" height=\"24px\"viewBox=\"0 0 24 24\"\n",
              "       width=\"24px\">\n",
              "    <path d=\"M0 0h24v24H0V0z\" fill=\"none\"/>\n",
              "    <path d=\"M18.56 5.44l.94 2.06.94-2.06 2.06-.94-2.06-.94-.94-2.06-.94 2.06-2.06.94zm-11 1L8.5 8.5l.94-2.06 2.06-.94-2.06-.94L8.5 2.5l-.94 2.06-2.06.94zm10 10l.94 2.06.94-2.06 2.06-.94-2.06-.94-.94-2.06-.94 2.06-2.06.94z\"/><path d=\"M17.41 7.96l-1.37-1.37c-.4-.4-.92-.59-1.43-.59-.52 0-1.04.2-1.43.59L10.3 9.45l-7.72 7.72c-.78.78-.78 2.05 0 2.83L4 21.41c.39.39.9.59 1.41.59.51 0 1.02-.2 1.41-.59l7.78-7.78 2.81-2.81c.8-.78.8-2.07 0-2.86zM5.41 20L4 18.59l7.72-7.72 1.47 1.35L5.41 20z\"/>\n",
              "  </svg>\n",
              "      </button>\n",
              "      \n",
              "  <style>\n",
              "    .colab-df-container {\n",
              "      display:flex;\n",
              "      flex-wrap:wrap;\n",
              "      gap: 12px;\n",
              "    }\n",
              "\n",
              "    .colab-df-convert {\n",
              "      background-color: #E8F0FE;\n",
              "      border: none;\n",
              "      border-radius: 50%;\n",
              "      cursor: pointer;\n",
              "      display: none;\n",
              "      fill: #1967D2;\n",
              "      height: 32px;\n",
              "      padding: 0 0 0 0;\n",
              "      width: 32px;\n",
              "    }\n",
              "\n",
              "    .colab-df-convert:hover {\n",
              "      background-color: #E2EBFA;\n",
              "      box-shadow: 0px 1px 2px rgba(60, 64, 67, 0.3), 0px 1px 3px 1px rgba(60, 64, 67, 0.15);\n",
              "      fill: #174EA6;\n",
              "    }\n",
              "\n",
              "    [theme=dark] .colab-df-convert {\n",
              "      background-color: #3B4455;\n",
              "      fill: #D2E3FC;\n",
              "    }\n",
              "\n",
              "    [theme=dark] .colab-df-convert:hover {\n",
              "      background-color: #434B5C;\n",
              "      box-shadow: 0px 1px 3px 1px rgba(0, 0, 0, 0.15);\n",
              "      filter: drop-shadow(0px 1px 2px rgba(0, 0, 0, 0.3));\n",
              "      fill: #FFFFFF;\n",
              "    }\n",
              "  </style>\n",
              "\n",
              "      <script>\n",
              "        const buttonEl =\n",
              "          document.querySelector('#df-0b1b62d5-1fbc-480e-9be3-a2849bf9d40e button.colab-df-convert');\n",
              "        buttonEl.style.display =\n",
              "          google.colab.kernel.accessAllowed ? 'block' : 'none';\n",
              "\n",
              "        async function convertToInteractive(key) {\n",
              "          const element = document.querySelector('#df-0b1b62d5-1fbc-480e-9be3-a2849bf9d40e');\n",
              "          const dataTable =\n",
              "            await google.colab.kernel.invokeFunction('convertToInteractive',\n",
              "                                                     [key], {});\n",
              "          if (!dataTable) return;\n",
              "\n",
              "          const docLinkHtml = 'Like what you see? Visit the ' +\n",
              "            '<a target=\"_blank\" href=https://colab.research.google.com/notebooks/data_table.ipynb>data table notebook</a>'\n",
              "            + ' to learn more about interactive tables.';\n",
              "          element.innerHTML = '';\n",
              "          dataTable['output_type'] = 'display_data';\n",
              "          await google.colab.output.renderOutput(dataTable, element);\n",
              "          const docLink = document.createElement('div');\n",
              "          docLink.innerHTML = docLinkHtml;\n",
              "          element.appendChild(docLink);\n",
              "        }\n",
              "      </script>\n",
              "    </div>\n",
              "  </div>\n",
              "  "
            ]
          },
          "metadata": {},
          "execution_count": 92
        }
      ]
    },
    {
      "cell_type": "markdown",
      "source": [
        "intention: We have to find out how many attributes of good_bad feature in grade A, B and so on...\n",
        "For this we use groupby() function\n",
        "groupby grades upon good_bad columns with count of the later ones"
      ],
      "metadata": {
        "id": "Jt-tcbXUKvrI"
      }
    },
    {
      "cell_type": "code",
      "source": [
        "df1.groupby(df1.columns.values[0], as_index=False)[df1.columns.values[1]].count() #as_index=False, otherwise, grade will be considered as index by default"
      ],
      "metadata": {
        "id": "eVZ6nQxpJyFC",
        "outputId": "e5fee578-c1de-4def-9302-881d54eb9c88",
        "colab": {
          "base_uri": "https://localhost:8080/",
          "height": 269
        }
      },
      "execution_count": 95,
      "outputs": [
        {
          "output_type": "execute_result",
          "data": {
            "text/plain": [
              "  grade  good_bad\n",
              "0     A     59759\n",
              "1     B    109730\n",
              "2     C    100245\n",
              "3     D     61498\n",
              "4     E     28612\n",
              "5     F     10530\n",
              "6     G      2654"
            ],
            "text/html": [
              "\n",
              "  <div id=\"df-899d0b9f-5241-4b9f-9e9f-fb06397267b4\">\n",
              "    <div class=\"colab-df-container\">\n",
              "      <div>\n",
              "<style scoped>\n",
              "    .dataframe tbody tr th:only-of-type {\n",
              "        vertical-align: middle;\n",
              "    }\n",
              "\n",
              "    .dataframe tbody tr th {\n",
              "        vertical-align: top;\n",
              "    }\n",
              "\n",
              "    .dataframe thead th {\n",
              "        text-align: right;\n",
              "    }\n",
              "</style>\n",
              "<table border=\"1\" class=\"dataframe\">\n",
              "  <thead>\n",
              "    <tr style=\"text-align: right;\">\n",
              "      <th></th>\n",
              "      <th>grade</th>\n",
              "      <th>good_bad</th>\n",
              "    </tr>\n",
              "  </thead>\n",
              "  <tbody>\n",
              "    <tr>\n",
              "      <th>0</th>\n",
              "      <td>A</td>\n",
              "      <td>59759</td>\n",
              "    </tr>\n",
              "    <tr>\n",
              "      <th>1</th>\n",
              "      <td>B</td>\n",
              "      <td>109730</td>\n",
              "    </tr>\n",
              "    <tr>\n",
              "      <th>2</th>\n",
              "      <td>C</td>\n",
              "      <td>100245</td>\n",
              "    </tr>\n",
              "    <tr>\n",
              "      <th>3</th>\n",
              "      <td>D</td>\n",
              "      <td>61498</td>\n",
              "    </tr>\n",
              "    <tr>\n",
              "      <th>4</th>\n",
              "      <td>E</td>\n",
              "      <td>28612</td>\n",
              "    </tr>\n",
              "    <tr>\n",
              "      <th>5</th>\n",
              "      <td>F</td>\n",
              "      <td>10530</td>\n",
              "    </tr>\n",
              "    <tr>\n",
              "      <th>6</th>\n",
              "      <td>G</td>\n",
              "      <td>2654</td>\n",
              "    </tr>\n",
              "  </tbody>\n",
              "</table>\n",
              "</div>\n",
              "      <button class=\"colab-df-convert\" onclick=\"convertToInteractive('df-899d0b9f-5241-4b9f-9e9f-fb06397267b4')\"\n",
              "              title=\"Convert this dataframe to an interactive table.\"\n",
              "              style=\"display:none;\">\n",
              "        \n",
              "  <svg xmlns=\"http://www.w3.org/2000/svg\" height=\"24px\"viewBox=\"0 0 24 24\"\n",
              "       width=\"24px\">\n",
              "    <path d=\"M0 0h24v24H0V0z\" fill=\"none\"/>\n",
              "    <path d=\"M18.56 5.44l.94 2.06.94-2.06 2.06-.94-2.06-.94-.94-2.06-.94 2.06-2.06.94zm-11 1L8.5 8.5l.94-2.06 2.06-.94-2.06-.94L8.5 2.5l-.94 2.06-2.06.94zm10 10l.94 2.06.94-2.06 2.06-.94-2.06-.94-.94-2.06-.94 2.06-2.06.94z\"/><path d=\"M17.41 7.96l-1.37-1.37c-.4-.4-.92-.59-1.43-.59-.52 0-1.04.2-1.43.59L10.3 9.45l-7.72 7.72c-.78.78-.78 2.05 0 2.83L4 21.41c.39.39.9.59 1.41.59.51 0 1.02-.2 1.41-.59l7.78-7.78 2.81-2.81c.8-.78.8-2.07 0-2.86zM5.41 20L4 18.59l7.72-7.72 1.47 1.35L5.41 20z\"/>\n",
              "  </svg>\n",
              "      </button>\n",
              "      \n",
              "  <style>\n",
              "    .colab-df-container {\n",
              "      display:flex;\n",
              "      flex-wrap:wrap;\n",
              "      gap: 12px;\n",
              "    }\n",
              "\n",
              "    .colab-df-convert {\n",
              "      background-color: #E8F0FE;\n",
              "      border: none;\n",
              "      border-radius: 50%;\n",
              "      cursor: pointer;\n",
              "      display: none;\n",
              "      fill: #1967D2;\n",
              "      height: 32px;\n",
              "      padding: 0 0 0 0;\n",
              "      width: 32px;\n",
              "    }\n",
              "\n",
              "    .colab-df-convert:hover {\n",
              "      background-color: #E2EBFA;\n",
              "      box-shadow: 0px 1px 2px rgba(60, 64, 67, 0.3), 0px 1px 3px 1px rgba(60, 64, 67, 0.15);\n",
              "      fill: #174EA6;\n",
              "    }\n",
              "\n",
              "    [theme=dark] .colab-df-convert {\n",
              "      background-color: #3B4455;\n",
              "      fill: #D2E3FC;\n",
              "    }\n",
              "\n",
              "    [theme=dark] .colab-df-convert:hover {\n",
              "      background-color: #434B5C;\n",
              "      box-shadow: 0px 1px 3px 1px rgba(0, 0, 0, 0.15);\n",
              "      filter: drop-shadow(0px 1px 2px rgba(0, 0, 0, 0.3));\n",
              "      fill: #FFFFFF;\n",
              "    }\n",
              "  </style>\n",
              "\n",
              "      <script>\n",
              "        const buttonEl =\n",
              "          document.querySelector('#df-899d0b9f-5241-4b9f-9e9f-fb06397267b4 button.colab-df-convert');\n",
              "        buttonEl.style.display =\n",
              "          google.colab.kernel.accessAllowed ? 'block' : 'none';\n",
              "\n",
              "        async function convertToInteractive(key) {\n",
              "          const element = document.querySelector('#df-899d0b9f-5241-4b9f-9e9f-fb06397267b4');\n",
              "          const dataTable =\n",
              "            await google.colab.kernel.invokeFunction('convertToInteractive',\n",
              "                                                     [key], {});\n",
              "          if (!dataTable) return;\n",
              "\n",
              "          const docLinkHtml = 'Like what you see? Visit the ' +\n",
              "            '<a target=\"_blank\" href=https://colab.research.google.com/notebooks/data_table.ipynb>data table notebook</a>'\n",
              "            + ' to learn more about interactive tables.';\n",
              "          element.innerHTML = '';\n",
              "          dataTable['output_type'] = 'display_data';\n",
              "          await google.colab.output.renderOutput(dataTable, element);\n",
              "          const docLink = document.createElement('div');\n",
              "          docLink.innerHTML = docLinkHtml;\n",
              "          element.appendChild(docLink);\n",
              "        }\n",
              "      </script>\n",
              "    </div>\n",
              "  </div>\n",
              "  "
            ]
          },
          "metadata": {},
          "execution_count": 95
        }
      ]
    },
    {
      "cell_type": "code",
      "source": [],
      "metadata": {
        "id": "ebb4GlynKmWP"
      },
      "execution_count": null,
      "outputs": []
    }
  ]
}