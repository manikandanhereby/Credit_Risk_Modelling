{
  "nbformat": 4,
  "nbformat_minor": 0,
  "metadata": {
    "colab": {
      "provenance": [],
      "mount_file_id": "1DN-SKYCOWpgyPoSI7aIuySWGdABWTCBu",
      "authorship_tag": "ABX9TyP9gxNqQihwdr8lQu6wdArt",
      "include_colab_link": true
    },
    "kernelspec": {
      "name": "python3",
      "display_name": "Python 3"
    },
    "language_info": {
      "name": "python"
    }
  },
  "cells": [
    {
      "cell_type": "markdown",
      "metadata": {
        "id": "view-in-github",
        "colab_type": "text"
      },
      "source": [
        "<a href=\"https://colab.research.google.com/github/manikandanhereby/Credit_Risk_Modelling/blob/main/credit_risk_modelling_course_workout.ipynb\" target=\"_parent\"><img src=\"https://colab.research.google.com/assets/colab-badge.svg\" alt=\"Open In Colab\"/></a>"
      ]
    },
    {
      "cell_type": "code",
      "execution_count": 1,
      "metadata": {
        "colab": {
          "base_uri": "https://localhost:8080/"
        },
        "id": "xl51ag9DXZI4",
        "outputId": "d8b2eec7-740b-49bf-aca4-22dcbdece885"
      },
      "outputs": [
        {
          "output_type": "stream",
          "name": "stdout",
          "text": [
            "--2023-05-11 05:18:38--  https://www.dropbox.com/s/zyj7gwk8j7al88t/loan_data_2007_2014.csv?dl=0\n",
            "Resolving www.dropbox.com (www.dropbox.com)... 162.125.1.18, 2620:100:6031:18::a27d:5112\n",
            "Connecting to www.dropbox.com (www.dropbox.com)|162.125.1.18|:443... connected.\n",
            "HTTP request sent, awaiting response... 302 Found\n",
            "Location: /s/raw/zyj7gwk8j7al88t/loan_data_2007_2014.csv [following]\n",
            "--2023-05-11 05:18:39--  https://www.dropbox.com/s/raw/zyj7gwk8j7al88t/loan_data_2007_2014.csv\n",
            "Reusing existing connection to www.dropbox.com:443.\n",
            "HTTP request sent, awaiting response... 302 Found\n",
            "Location: https://uca4ef7269b89ec984f3f8e4579d.dl.dropboxusercontent.com/cd/0/inline/B71OQmCXHsW7iMSPJ5rKUYmGLm6VSrJ7bwy1rdRKBa65sSnMvpNbFssgY9A6B8q-JkNPSm81X-yZRDhJD2hH2DkqJtiaP-wmZ4JRMfEA0YR6K6bjykDJsH6fErpn3WYJZ61Wr2mNI5CV1_Aa0dM6kXt9g_EZm7E6SUxx9lrOnnLV5A/file# [following]\n",
            "--2023-05-11 05:18:39--  https://uca4ef7269b89ec984f3f8e4579d.dl.dropboxusercontent.com/cd/0/inline/B71OQmCXHsW7iMSPJ5rKUYmGLm6VSrJ7bwy1rdRKBa65sSnMvpNbFssgY9A6B8q-JkNPSm81X-yZRDhJD2hH2DkqJtiaP-wmZ4JRMfEA0YR6K6bjykDJsH6fErpn3WYJZ61Wr2mNI5CV1_Aa0dM6kXt9g_EZm7E6SUxx9lrOnnLV5A/file\n",
            "Resolving uca4ef7269b89ec984f3f8e4579d.dl.dropboxusercontent.com (uca4ef7269b89ec984f3f8e4579d.dl.dropboxusercontent.com)... 162.125.80.15, 2620:100:6035:15::a27d:550f\n",
            "Connecting to uca4ef7269b89ec984f3f8e4579d.dl.dropboxusercontent.com (uca4ef7269b89ec984f3f8e4579d.dl.dropboxusercontent.com)|162.125.80.15|:443... connected.\n",
            "HTTP request sent, awaiting response... 200 OK\n",
            "Length: 240079969 (229M) [text/plain]\n",
            "Saving to: ‘loan_data.csv’\n",
            "\n",
            "loan_data.csv       100%[===================>] 228.96M  30.5MB/s    in 8.0s    \n",
            "\n",
            "2023-05-11 05:18:49 (28.5 MB/s) - ‘loan_data.csv’ saved [240079969/240079969]\n",
            "\n"
          ]
        }
      ],
      "source": [
        "!wget -O loan_data.csv https://www.dropbox.com/s/zyj7gwk8j7al88t/loan_data_2007_2014.csv?dl=0"
      ]
    },
    {
      "cell_type": "code",
      "source": [
        "import numpy as np\n",
        "import pandas as pd\n",
        "import matplotlib.pyplot as plt"
      ],
      "metadata": {
        "id": "_tK3nY2FX6Tw"
      },
      "execution_count": 2,
      "outputs": []
    },
    {
      "cell_type": "code",
      "source": [
        "loan_data = pd.read_csv('/content/loan_data.csv')"
      ],
      "metadata": {
        "colab": {
          "base_uri": "https://localhost:8080/"
        },
        "id": "UUThPQTAYH_I",
        "outputId": "5d6d5d7f-a205-4155-d335-093df90cacc2"
      },
      "execution_count": 3,
      "outputs": [
        {
          "output_type": "stream",
          "name": "stderr",
          "text": [
            "<ipython-input-3-e3a2826e2130>:1: DtypeWarning: Columns (20) have mixed types. Specify dtype option on import or set low_memory=False.\n",
            "  loan_data = pd.read_csv('/content/loan_data.csv')\n"
          ]
        }
      ]
    },
    {
      "cell_type": "code",
      "source": [
        "loan_data.head()"
      ],
      "metadata": {
        "colab": {
          "base_uri": "https://localhost:8080/",
          "height": 403
        },
        "id": "WiOyQOhcZJvX",
        "outputId": "7e714c9c-6fa3-4ec2-f7c1-9212297f5c24"
      },
      "execution_count": 4,
      "outputs": [
        {
          "output_type": "execute_result",
          "data": {
            "text/plain": [
              "   Unnamed: 0       id  member_id  loan_amnt  funded_amnt  funded_amnt_inv  \\\n",
              "0           0  1077501    1296599       5000         5000           4975.0   \n",
              "1           1  1077430    1314167       2500         2500           2500.0   \n",
              "2           2  1077175    1313524       2400         2400           2400.0   \n",
              "3           3  1076863    1277178      10000        10000          10000.0   \n",
              "4           4  1075358    1311748       3000         3000           3000.0   \n",
              "\n",
              "         term  int_rate  installment grade  ... total_bal_il il_util  \\\n",
              "0   36 months     10.65       162.87     B  ...          NaN     NaN   \n",
              "1   60 months     15.27        59.83     C  ...          NaN     NaN   \n",
              "2   36 months     15.96        84.33     C  ...          NaN     NaN   \n",
              "3   36 months     13.49       339.31     C  ...          NaN     NaN   \n",
              "4   60 months     12.69        67.79     B  ...          NaN     NaN   \n",
              "\n",
              "  open_rv_12m open_rv_24m  max_bal_bc all_util total_rev_hi_lim inq_fi  \\\n",
              "0         NaN         NaN         NaN      NaN              NaN    NaN   \n",
              "1         NaN         NaN         NaN      NaN              NaN    NaN   \n",
              "2         NaN         NaN         NaN      NaN              NaN    NaN   \n",
              "3         NaN         NaN         NaN      NaN              NaN    NaN   \n",
              "4         NaN         NaN         NaN      NaN              NaN    NaN   \n",
              "\n",
              "  total_cu_tl inq_last_12m  \n",
              "0         NaN          NaN  \n",
              "1         NaN          NaN  \n",
              "2         NaN          NaN  \n",
              "3         NaN          NaN  \n",
              "4         NaN          NaN  \n",
              "\n",
              "[5 rows x 75 columns]"
            ],
            "text/html": [
              "\n",
              "  <div id=\"df-1903b1cf-69cb-4f43-aee4-938b5d7ec706\">\n",
              "    <div class=\"colab-df-container\">\n",
              "      <div>\n",
              "<style scoped>\n",
              "    .dataframe tbody tr th:only-of-type {\n",
              "        vertical-align: middle;\n",
              "    }\n",
              "\n",
              "    .dataframe tbody tr th {\n",
              "        vertical-align: top;\n",
              "    }\n",
              "\n",
              "    .dataframe thead th {\n",
              "        text-align: right;\n",
              "    }\n",
              "</style>\n",
              "<table border=\"1\" class=\"dataframe\">\n",
              "  <thead>\n",
              "    <tr style=\"text-align: right;\">\n",
              "      <th></th>\n",
              "      <th>Unnamed: 0</th>\n",
              "      <th>id</th>\n",
              "      <th>member_id</th>\n",
              "      <th>loan_amnt</th>\n",
              "      <th>funded_amnt</th>\n",
              "      <th>funded_amnt_inv</th>\n",
              "      <th>term</th>\n",
              "      <th>int_rate</th>\n",
              "      <th>installment</th>\n",
              "      <th>grade</th>\n",
              "      <th>...</th>\n",
              "      <th>total_bal_il</th>\n",
              "      <th>il_util</th>\n",
              "      <th>open_rv_12m</th>\n",
              "      <th>open_rv_24m</th>\n",
              "      <th>max_bal_bc</th>\n",
              "      <th>all_util</th>\n",
              "      <th>total_rev_hi_lim</th>\n",
              "      <th>inq_fi</th>\n",
              "      <th>total_cu_tl</th>\n",
              "      <th>inq_last_12m</th>\n",
              "    </tr>\n",
              "  </thead>\n",
              "  <tbody>\n",
              "    <tr>\n",
              "      <th>0</th>\n",
              "      <td>0</td>\n",
              "      <td>1077501</td>\n",
              "      <td>1296599</td>\n",
              "      <td>5000</td>\n",
              "      <td>5000</td>\n",
              "      <td>4975.0</td>\n",
              "      <td>36 months</td>\n",
              "      <td>10.65</td>\n",
              "      <td>162.87</td>\n",
              "      <td>B</td>\n",
              "      <td>...</td>\n",
              "      <td>NaN</td>\n",
              "      <td>NaN</td>\n",
              "      <td>NaN</td>\n",
              "      <td>NaN</td>\n",
              "      <td>NaN</td>\n",
              "      <td>NaN</td>\n",
              "      <td>NaN</td>\n",
              "      <td>NaN</td>\n",
              "      <td>NaN</td>\n",
              "      <td>NaN</td>\n",
              "    </tr>\n",
              "    <tr>\n",
              "      <th>1</th>\n",
              "      <td>1</td>\n",
              "      <td>1077430</td>\n",
              "      <td>1314167</td>\n",
              "      <td>2500</td>\n",
              "      <td>2500</td>\n",
              "      <td>2500.0</td>\n",
              "      <td>60 months</td>\n",
              "      <td>15.27</td>\n",
              "      <td>59.83</td>\n",
              "      <td>C</td>\n",
              "      <td>...</td>\n",
              "      <td>NaN</td>\n",
              "      <td>NaN</td>\n",
              "      <td>NaN</td>\n",
              "      <td>NaN</td>\n",
              "      <td>NaN</td>\n",
              "      <td>NaN</td>\n",
              "      <td>NaN</td>\n",
              "      <td>NaN</td>\n",
              "      <td>NaN</td>\n",
              "      <td>NaN</td>\n",
              "    </tr>\n",
              "    <tr>\n",
              "      <th>2</th>\n",
              "      <td>2</td>\n",
              "      <td>1077175</td>\n",
              "      <td>1313524</td>\n",
              "      <td>2400</td>\n",
              "      <td>2400</td>\n",
              "      <td>2400.0</td>\n",
              "      <td>36 months</td>\n",
              "      <td>15.96</td>\n",
              "      <td>84.33</td>\n",
              "      <td>C</td>\n",
              "      <td>...</td>\n",
              "      <td>NaN</td>\n",
              "      <td>NaN</td>\n",
              "      <td>NaN</td>\n",
              "      <td>NaN</td>\n",
              "      <td>NaN</td>\n",
              "      <td>NaN</td>\n",
              "      <td>NaN</td>\n",
              "      <td>NaN</td>\n",
              "      <td>NaN</td>\n",
              "      <td>NaN</td>\n",
              "    </tr>\n",
              "    <tr>\n",
              "      <th>3</th>\n",
              "      <td>3</td>\n",
              "      <td>1076863</td>\n",
              "      <td>1277178</td>\n",
              "      <td>10000</td>\n",
              "      <td>10000</td>\n",
              "      <td>10000.0</td>\n",
              "      <td>36 months</td>\n",
              "      <td>13.49</td>\n",
              "      <td>339.31</td>\n",
              "      <td>C</td>\n",
              "      <td>...</td>\n",
              "      <td>NaN</td>\n",
              "      <td>NaN</td>\n",
              "      <td>NaN</td>\n",
              "      <td>NaN</td>\n",
              "      <td>NaN</td>\n",
              "      <td>NaN</td>\n",
              "      <td>NaN</td>\n",
              "      <td>NaN</td>\n",
              "      <td>NaN</td>\n",
              "      <td>NaN</td>\n",
              "    </tr>\n",
              "    <tr>\n",
              "      <th>4</th>\n",
              "      <td>4</td>\n",
              "      <td>1075358</td>\n",
              "      <td>1311748</td>\n",
              "      <td>3000</td>\n",
              "      <td>3000</td>\n",
              "      <td>3000.0</td>\n",
              "      <td>60 months</td>\n",
              "      <td>12.69</td>\n",
              "      <td>67.79</td>\n",
              "      <td>B</td>\n",
              "      <td>...</td>\n",
              "      <td>NaN</td>\n",
              "      <td>NaN</td>\n",
              "      <td>NaN</td>\n",
              "      <td>NaN</td>\n",
              "      <td>NaN</td>\n",
              "      <td>NaN</td>\n",
              "      <td>NaN</td>\n",
              "      <td>NaN</td>\n",
              "      <td>NaN</td>\n",
              "      <td>NaN</td>\n",
              "    </tr>\n",
              "  </tbody>\n",
              "</table>\n",
              "<p>5 rows × 75 columns</p>\n",
              "</div>\n",
              "      <button class=\"colab-df-convert\" onclick=\"convertToInteractive('df-1903b1cf-69cb-4f43-aee4-938b5d7ec706')\"\n",
              "              title=\"Convert this dataframe to an interactive table.\"\n",
              "              style=\"display:none;\">\n",
              "        \n",
              "  <svg xmlns=\"http://www.w3.org/2000/svg\" height=\"24px\"viewBox=\"0 0 24 24\"\n",
              "       width=\"24px\">\n",
              "    <path d=\"M0 0h24v24H0V0z\" fill=\"none\"/>\n",
              "    <path d=\"M18.56 5.44l.94 2.06.94-2.06 2.06-.94-2.06-.94-.94-2.06-.94 2.06-2.06.94zm-11 1L8.5 8.5l.94-2.06 2.06-.94-2.06-.94L8.5 2.5l-.94 2.06-2.06.94zm10 10l.94 2.06.94-2.06 2.06-.94-2.06-.94-.94-2.06-.94 2.06-2.06.94z\"/><path d=\"M17.41 7.96l-1.37-1.37c-.4-.4-.92-.59-1.43-.59-.52 0-1.04.2-1.43.59L10.3 9.45l-7.72 7.72c-.78.78-.78 2.05 0 2.83L4 21.41c.39.39.9.59 1.41.59.51 0 1.02-.2 1.41-.59l7.78-7.78 2.81-2.81c.8-.78.8-2.07 0-2.86zM5.41 20L4 18.59l7.72-7.72 1.47 1.35L5.41 20z\"/>\n",
              "  </svg>\n",
              "      </button>\n",
              "      \n",
              "  <style>\n",
              "    .colab-df-container {\n",
              "      display:flex;\n",
              "      flex-wrap:wrap;\n",
              "      gap: 12px;\n",
              "    }\n",
              "\n",
              "    .colab-df-convert {\n",
              "      background-color: #E8F0FE;\n",
              "      border: none;\n",
              "      border-radius: 50%;\n",
              "      cursor: pointer;\n",
              "      display: none;\n",
              "      fill: #1967D2;\n",
              "      height: 32px;\n",
              "      padding: 0 0 0 0;\n",
              "      width: 32px;\n",
              "    }\n",
              "\n",
              "    .colab-df-convert:hover {\n",
              "      background-color: #E2EBFA;\n",
              "      box-shadow: 0px 1px 2px rgba(60, 64, 67, 0.3), 0px 1px 3px 1px rgba(60, 64, 67, 0.15);\n",
              "      fill: #174EA6;\n",
              "    }\n",
              "\n",
              "    [theme=dark] .colab-df-convert {\n",
              "      background-color: #3B4455;\n",
              "      fill: #D2E3FC;\n",
              "    }\n",
              "\n",
              "    [theme=dark] .colab-df-convert:hover {\n",
              "      background-color: #434B5C;\n",
              "      box-shadow: 0px 1px 3px 1px rgba(0, 0, 0, 0.15);\n",
              "      filter: drop-shadow(0px 1px 2px rgba(0, 0, 0, 0.3));\n",
              "      fill: #FFFFFF;\n",
              "    }\n",
              "  </style>\n",
              "\n",
              "      <script>\n",
              "        const buttonEl =\n",
              "          document.querySelector('#df-1903b1cf-69cb-4f43-aee4-938b5d7ec706 button.colab-df-convert');\n",
              "        buttonEl.style.display =\n",
              "          google.colab.kernel.accessAllowed ? 'block' : 'none';\n",
              "\n",
              "        async function convertToInteractive(key) {\n",
              "          const element = document.querySelector('#df-1903b1cf-69cb-4f43-aee4-938b5d7ec706');\n",
              "          const dataTable =\n",
              "            await google.colab.kernel.invokeFunction('convertToInteractive',\n",
              "                                                     [key], {});\n",
              "          if (!dataTable) return;\n",
              "\n",
              "          const docLinkHtml = 'Like what you see? Visit the ' +\n",
              "            '<a target=\"_blank\" href=https://colab.research.google.com/notebooks/data_table.ipynb>data table notebook</a>'\n",
              "            + ' to learn more about interactive tables.';\n",
              "          element.innerHTML = '';\n",
              "          dataTable['output_type'] = 'display_data';\n",
              "          await google.colab.output.renderOutput(dataTable, element);\n",
              "          const docLink = document.createElement('div');\n",
              "          docLink.innerHTML = docLinkHtml;\n",
              "          element.appendChild(docLink);\n",
              "        }\n",
              "      </script>\n",
              "    </div>\n",
              "  </div>\n",
              "  "
            ]
          },
          "metadata": {},
          "execution_count": 4
        }
      ]
    },
    {
      "cell_type": "code",
      "source": [
        "loan_data.columns"
      ],
      "metadata": {
        "colab": {
          "base_uri": "https://localhost:8080/"
        },
        "id": "Q2DnwPkVZRz2",
        "outputId": "b55c7d76-80a3-48a6-8d15-e5a219870f4b"
      },
      "execution_count": 5,
      "outputs": [
        {
          "output_type": "execute_result",
          "data": {
            "text/plain": [
              "Index(['Unnamed: 0', 'id', 'member_id', 'loan_amnt', 'funded_amnt',\n",
              "       'funded_amnt_inv', 'term', 'int_rate', 'installment', 'grade',\n",
              "       'sub_grade', 'emp_title', 'emp_length', 'home_ownership', 'annual_inc',\n",
              "       'verification_status', 'issue_d', 'loan_status', 'pymnt_plan', 'url',\n",
              "       'desc', 'purpose', 'title', 'zip_code', 'addr_state', 'dti',\n",
              "       'delinq_2yrs', 'earliest_cr_line', 'inq_last_6mths',\n",
              "       'mths_since_last_delinq', 'mths_since_last_record', 'open_acc',\n",
              "       'pub_rec', 'revol_bal', 'revol_util', 'total_acc',\n",
              "       'initial_list_status', 'out_prncp', 'out_prncp_inv', 'total_pymnt',\n",
              "       'total_pymnt_inv', 'total_rec_prncp', 'total_rec_int',\n",
              "       'total_rec_late_fee', 'recoveries', 'collection_recovery_fee',\n",
              "       'last_pymnt_d', 'last_pymnt_amnt', 'next_pymnt_d', 'last_credit_pull_d',\n",
              "       'collections_12_mths_ex_med', 'mths_since_last_major_derog',\n",
              "       'policy_code', 'application_type', 'annual_inc_joint', 'dti_joint',\n",
              "       'verification_status_joint', 'acc_now_delinq', 'tot_coll_amt',\n",
              "       'tot_cur_bal', 'open_acc_6m', 'open_il_6m', 'open_il_12m',\n",
              "       'open_il_24m', 'mths_since_rcnt_il', 'total_bal_il', 'il_util',\n",
              "       'open_rv_12m', 'open_rv_24m', 'max_bal_bc', 'all_util',\n",
              "       'total_rev_hi_lim', 'inq_fi', 'total_cu_tl', 'inq_last_12m'],\n",
              "      dtype='object')"
            ]
          },
          "metadata": {},
          "execution_count": 5
        }
      ]
    },
    {
      "cell_type": "code",
      "source": [
        "loan_data.info()"
      ],
      "metadata": {
        "colab": {
          "base_uri": "https://localhost:8080/"
        },
        "id": "yzNFBTRUZVTe",
        "outputId": "6c54b961-e58c-4e04-ec58-dceb59d3da26"
      },
      "execution_count": 6,
      "outputs": [
        {
          "output_type": "stream",
          "name": "stdout",
          "text": [
            "<class 'pandas.core.frame.DataFrame'>\n",
            "RangeIndex: 466285 entries, 0 to 466284\n",
            "Data columns (total 75 columns):\n",
            " #   Column                       Non-Null Count   Dtype  \n",
            "---  ------                       --------------   -----  \n",
            " 0   Unnamed: 0                   466285 non-null  int64  \n",
            " 1   id                           466285 non-null  int64  \n",
            " 2   member_id                    466285 non-null  int64  \n",
            " 3   loan_amnt                    466285 non-null  int64  \n",
            " 4   funded_amnt                  466285 non-null  int64  \n",
            " 5   funded_amnt_inv              466285 non-null  float64\n",
            " 6   term                         466285 non-null  object \n",
            " 7   int_rate                     466285 non-null  float64\n",
            " 8   installment                  466285 non-null  float64\n",
            " 9   grade                        466285 non-null  object \n",
            " 10  sub_grade                    466285 non-null  object \n",
            " 11  emp_title                    438697 non-null  object \n",
            " 12  emp_length                   445277 non-null  object \n",
            " 13  home_ownership               466285 non-null  object \n",
            " 14  annual_inc                   466281 non-null  float64\n",
            " 15  verification_status          466285 non-null  object \n",
            " 16  issue_d                      466285 non-null  object \n",
            " 17  loan_status                  466285 non-null  object \n",
            " 18  pymnt_plan                   466285 non-null  object \n",
            " 19  url                          466285 non-null  object \n",
            " 20  desc                         125983 non-null  object \n",
            " 21  purpose                      466285 non-null  object \n",
            " 22  title                        466265 non-null  object \n",
            " 23  zip_code                     466285 non-null  object \n",
            " 24  addr_state                   466285 non-null  object \n",
            " 25  dti                          466285 non-null  float64\n",
            " 26  delinq_2yrs                  466256 non-null  float64\n",
            " 27  earliest_cr_line             466256 non-null  object \n",
            " 28  inq_last_6mths               466256 non-null  float64\n",
            " 29  mths_since_last_delinq       215934 non-null  float64\n",
            " 30  mths_since_last_record       62638 non-null   float64\n",
            " 31  open_acc                     466256 non-null  float64\n",
            " 32  pub_rec                      466256 non-null  float64\n",
            " 33  revol_bal                    466285 non-null  int64  \n",
            " 34  revol_util                   465945 non-null  float64\n",
            " 35  total_acc                    466256 non-null  float64\n",
            " 36  initial_list_status          466285 non-null  object \n",
            " 37  out_prncp                    466285 non-null  float64\n",
            " 38  out_prncp_inv                466285 non-null  float64\n",
            " 39  total_pymnt                  466285 non-null  float64\n",
            " 40  total_pymnt_inv              466285 non-null  float64\n",
            " 41  total_rec_prncp              466285 non-null  float64\n",
            " 42  total_rec_int                466285 non-null  float64\n",
            " 43  total_rec_late_fee           466285 non-null  float64\n",
            " 44  recoveries                   466285 non-null  float64\n",
            " 45  collection_recovery_fee      466285 non-null  float64\n",
            " 46  last_pymnt_d                 465909 non-null  object \n",
            " 47  last_pymnt_amnt              466285 non-null  float64\n",
            " 48  next_pymnt_d                 239071 non-null  object \n",
            " 49  last_credit_pull_d           466243 non-null  object \n",
            " 50  collections_12_mths_ex_med   466140 non-null  float64\n",
            " 51  mths_since_last_major_derog  98974 non-null   float64\n",
            " 52  policy_code                  466285 non-null  int64  \n",
            " 53  application_type             466285 non-null  object \n",
            " 54  annual_inc_joint             0 non-null       float64\n",
            " 55  dti_joint                    0 non-null       float64\n",
            " 56  verification_status_joint    0 non-null       float64\n",
            " 57  acc_now_delinq               466256 non-null  float64\n",
            " 58  tot_coll_amt                 396009 non-null  float64\n",
            " 59  tot_cur_bal                  396009 non-null  float64\n",
            " 60  open_acc_6m                  0 non-null       float64\n",
            " 61  open_il_6m                   0 non-null       float64\n",
            " 62  open_il_12m                  0 non-null       float64\n",
            " 63  open_il_24m                  0 non-null       float64\n",
            " 64  mths_since_rcnt_il           0 non-null       float64\n",
            " 65  total_bal_il                 0 non-null       float64\n",
            " 66  il_util                      0 non-null       float64\n",
            " 67  open_rv_12m                  0 non-null       float64\n",
            " 68  open_rv_24m                  0 non-null       float64\n",
            " 69  max_bal_bc                   0 non-null       float64\n",
            " 70  all_util                     0 non-null       float64\n",
            " 71  total_rev_hi_lim             396009 non-null  float64\n",
            " 72  inq_fi                       0 non-null       float64\n",
            " 73  total_cu_tl                  0 non-null       float64\n",
            " 74  inq_last_12m                 0 non-null       float64\n",
            "dtypes: float64(46), int64(7), object(22)\n",
            "memory usage: 266.8+ MB\n"
          ]
        }
      ]
    },
    {
      "cell_type": "markdown",
      "source": [
        "Preprocessing Data"
      ],
      "metadata": {
        "id": "fQdiYm2EdvQ3"
      }
    },
    {
      "cell_type": "code",
      "source": [
        "loan_data['emp_length'].unique()"
      ],
      "metadata": {
        "colab": {
          "base_uri": "https://localhost:8080/"
        },
        "id": "ce_ZgtnRdVTl",
        "outputId": "eb7d0fea-d025-42f5-c808-654ab019739b"
      },
      "execution_count": 7,
      "outputs": [
        {
          "output_type": "execute_result",
          "data": {
            "text/plain": [
              "array(['10+ years', '< 1 year', '1 year', '3 years', '8 years', '9 years',\n",
              "       '4 years', '5 years', '6 years', '2 years', '7 years', nan],\n",
              "      dtype=object)"
            ]
          },
          "metadata": {},
          "execution_count": 7
        }
      ]
    },
    {
      "cell_type": "code",
      "source": [
        "#using str.replace\n",
        "\n",
        "loan_data['emp_length_int'] = loan_data['emp_length'].str.replace('\\+ years', '')"
      ],
      "metadata": {
        "colab": {
          "base_uri": "https://localhost:8080/"
        },
        "id": "7QFQEAZRdlB_",
        "outputId": "52b3bb92-d2f5-41ef-9761-fc70c0ee1674"
      },
      "execution_count": 8,
      "outputs": [
        {
          "output_type": "stream",
          "name": "stderr",
          "text": [
            "<ipython-input-8-b2a8b3758ce2>:3: FutureWarning: The default value of regex will change from True to False in a future version.\n",
            "  loan_data['emp_length_int'] = loan_data['emp_length'].str.replace('\\+ years', '')\n"
          ]
        }
      ]
    },
    {
      "cell_type": "code",
      "source": [
        "loan_data['emp_length_int'].unique()"
      ],
      "metadata": {
        "colab": {
          "base_uri": "https://localhost:8080/"
        },
        "id": "VCX1nB5ulk6Q",
        "outputId": "fdd39f97-edea-435e-ca0e-e3e6e326bedb"
      },
      "execution_count": 9,
      "outputs": [
        {
          "output_type": "execute_result",
          "data": {
            "text/plain": [
              "array(['10', '< 1 year', '1 year', '3 years', '8 years', '9 years',\n",
              "       '4 years', '5 years', '6 years', '2 years', '7 years', nan],\n",
              "      dtype=object)"
            ]
          },
          "metadata": {},
          "execution_count": 9
        }
      ]
    },
    {
      "cell_type": "code",
      "source": [
        "loan_data['emp_length_int'] = loan_data['emp_length_int'].str.replace('< 1 years', str(0))\n",
        "loan_data['emp_length_int'] = loan_data['emp_length_int'].str.replace('n/a', str(0))\n",
        "loan_data['emp_length_int'] = loan_data['emp_length_int'].str.replace(' years', str(0))\n",
        "loan_data['emp_length_int'] = loan_data['emp_length_int'].str.replace(' year', str(0))"
      ],
      "metadata": {
        "id": "izHMqxXklouJ"
      },
      "execution_count": 10,
      "outputs": []
    },
    {
      "cell_type": "code",
      "source": [
        "loan_data['emp_length_int'] = loan_data['emp_length_int'].str.replace('<', '')"
      ],
      "metadata": {
        "id": "rprmsLS2nHl7"
      },
      "execution_count": 11,
      "outputs": []
    },
    {
      "cell_type": "code",
      "source": [
        "loan_data['emp_length_int'] = loan_data['emp_length_int'].str.replace(' ', '')"
      ],
      "metadata": {
        "id": "m0_NySFInZXf"
      },
      "execution_count": 12,
      "outputs": []
    },
    {
      "cell_type": "code",
      "source": [
        "loan_data['emp_length_int'].unique()"
      ],
      "metadata": {
        "colab": {
          "base_uri": "https://localhost:8080/"
        },
        "id": "ZvHpOdyymFm5",
        "outputId": "a9e71243-6f92-4517-a3f6-6d0713586e23"
      },
      "execution_count": 13,
      "outputs": [
        {
          "output_type": "execute_result",
          "data": {
            "text/plain": [
              "array(['10', '30', '80', '90', '40', '50', '60', '20', '70', nan],\n",
              "      dtype=object)"
            ]
          },
          "metadata": {},
          "execution_count": 13
        }
      ]
    },
    {
      "cell_type": "code",
      "source": [
        "type(loan_data['emp_length_int'][0])"
      ],
      "metadata": {
        "colab": {
          "base_uri": "https://localhost:8080/"
        },
        "id": "tDDMamgrmIIW",
        "outputId": "86850cb6-8ac4-4439-dd35-bb4d14eb481d"
      },
      "execution_count": 14,
      "outputs": [
        {
          "output_type": "execute_result",
          "data": {
            "text/plain": [
              "str"
            ]
          },
          "metadata": {},
          "execution_count": 14
        }
      ]
    },
    {
      "cell_type": "code",
      "source": [
        "loan_data['emp_length_int'] = pd.to_numeric(loan_data['emp_length_int'])"
      ],
      "metadata": {
        "id": "VPdDoEjzmn9d"
      },
      "execution_count": 15,
      "outputs": []
    },
    {
      "cell_type": "code",
      "source": [
        "type(loan_data['emp_length_int'])"
      ],
      "metadata": {
        "id": "jR6GBqD-mvAd",
        "colab": {
          "base_uri": "https://localhost:8080/"
        },
        "outputId": "ff48bde0-9e57-41b5-d034-b35ce342c08a"
      },
      "execution_count": 16,
      "outputs": [
        {
          "output_type": "execute_result",
          "data": {
            "text/plain": [
              "pandas.core.series.Series"
            ]
          },
          "metadata": {},
          "execution_count": 16
        }
      ]
    },
    {
      "cell_type": "code",
      "source": [
        "loan_data['earliest_cr_line']"
      ],
      "metadata": {
        "colab": {
          "base_uri": "https://localhost:8080/"
        },
        "id": "Rm5EZOjgvjGj",
        "outputId": "ef147619-596d-49e7-be02-49b3a7806c98"
      },
      "execution_count": 17,
      "outputs": [
        {
          "output_type": "execute_result",
          "data": {
            "text/plain": [
              "0         Jan-85\n",
              "1         Apr-99\n",
              "2         Nov-01\n",
              "3         Feb-96\n",
              "4         Jan-96\n",
              "           ...  \n",
              "466280    Apr-03\n",
              "466281    Jun-97\n",
              "466282    Dec-01\n",
              "466283    Feb-03\n",
              "466284    Feb-00\n",
              "Name: earliest_cr_line, Length: 466285, dtype: object"
            ]
          },
          "metadata": {},
          "execution_count": 17
        }
      ]
    },
    {
      "cell_type": "code",
      "source": [
        "loan_data['earliest_cr_line_date'] = pd.to_datetime(loan_data['earliest_cr_line'], format = '%b-%y')"
      ],
      "metadata": {
        "id": "32qK6_EcvsS4"
      },
      "execution_count": 18,
      "outputs": []
    },
    {
      "cell_type": "code",
      "source": [
        "type(loan_data['earliest_cr_line_date'][0])"
      ],
      "metadata": {
        "colab": {
          "base_uri": "https://localhost:8080/"
        },
        "id": "wKRoK40Ewikq",
        "outputId": "bb43fa25-a14a-420c-ac37-76b8d811061f"
      },
      "execution_count": 19,
      "outputs": [
        {
          "output_type": "execute_result",
          "data": {
            "text/plain": [
              "pandas._libs.tslibs.timestamps.Timestamp"
            ]
          },
          "metadata": {},
          "execution_count": 19
        }
      ]
    },
    {
      "cell_type": "code",
      "source": [
        "pd.to_datetime('2017-12-01') - loan_data['earliest_cr_line_date']"
      ],
      "metadata": {
        "colab": {
          "base_uri": "https://localhost:8080/"
        },
        "id": "NFJ1-saSwn9r",
        "outputId": "8eebce72-3b03-4f46-a665-10eb663a37ee"
      },
      "execution_count": 20,
      "outputs": [
        {
          "output_type": "execute_result",
          "data": {
            "text/plain": [
              "0        12022 days\n",
              "1         6819 days\n",
              "2         5874 days\n",
              "3         7974 days\n",
              "4         8005 days\n",
              "            ...    \n",
              "466280    5358 days\n",
              "466281    7488 days\n",
              "466282    5844 days\n",
              "466283    5417 days\n",
              "466284    6513 days\n",
              "Name: earliest_cr_line_date, Length: 466285, dtype: timedelta64[ns]"
            ]
          },
          "metadata": {},
          "execution_count": 20
        }
      ]
    },
    {
      "cell_type": "code",
      "source": [
        "loan_data['mths_since_earliest_cr_line'] = round(pd.to_numeric((pd.to_datetime('2017-12-01') - loan_data['earliest_cr_line_date'])/ np.timedelta64(1,'M')))"
      ],
      "metadata": {
        "id": "BsKwID2wxIf7"
      },
      "execution_count": 21,
      "outputs": []
    },
    {
      "cell_type": "code",
      "source": [
        "loan_data['mths_since_earliest_cr_line']"
      ],
      "metadata": {
        "colab": {
          "base_uri": "https://localhost:8080/"
        },
        "id": "pl80no5Oxedm",
        "outputId": "4bc5379d-3969-4ce8-e67e-d30f98125bb1"
      },
      "execution_count": 22,
      "outputs": [
        {
          "output_type": "execute_result",
          "data": {
            "text/plain": [
              "0         395.0\n",
              "1         224.0\n",
              "2         193.0\n",
              "3         262.0\n",
              "4         263.0\n",
              "          ...  \n",
              "466280    176.0\n",
              "466281    246.0\n",
              "466282    192.0\n",
              "466283    178.0\n",
              "466284    214.0\n",
              "Name: mths_since_earliest_cr_line, Length: 466285, dtype: float64"
            ]
          },
          "metadata": {},
          "execution_count": 22
        }
      ]
    },
    {
      "cell_type": "code",
      "source": [
        "loan_data['mths_since_earliest_cr_line'].describe()"
      ],
      "metadata": {
        "colab": {
          "base_uri": "https://localhost:8080/"
        },
        "id": "FvSjaU0lxi2F",
        "outputId": "dbce17e4-868c-4215-ac30-61253f3eb168"
      },
      "execution_count": 23,
      "outputs": [
        {
          "output_type": "execute_result",
          "data": {
            "text/plain": [
              "count    466256.000000\n",
              "mean        239.482430\n",
              "std          93.974829\n",
              "min        -612.000000\n",
              "25%         183.000000\n",
              "50%         225.000000\n",
              "75%         285.000000\n",
              "max         587.000000\n",
              "Name: mths_since_earliest_cr_line, dtype: float64"
            ]
          },
          "metadata": {},
          "execution_count": 23
        }
      ]
    },
    {
      "cell_type": "code",
      "source": [
        "#Negative time distance not possible\n",
        "\n",
        "loan_data.loc[:,['earliest_cr_line', 'earliest_cr_line_date', 'mths_since_earliest_cr_line']][loan_data['mths_since_earliest_cr_line']<0]"
      ],
      "metadata": {
        "colab": {
          "base_uri": "https://localhost:8080/",
          "height": 423
        },
        "id": "KjhDZtOSyjV2",
        "outputId": "12f57dc8-bc29-4589-df86-ea71bd994524"
      },
      "execution_count": 24,
      "outputs": [
        {
          "output_type": "execute_result",
          "data": {
            "text/plain": [
              "       earliest_cr_line earliest_cr_line_date  mths_since_earliest_cr_line\n",
              "1580             Sep-62            2062-09-01                       -537.0\n",
              "1770             Sep-68            2068-09-01                       -609.0\n",
              "2799             Sep-64            2064-09-01                       -561.0\n",
              "3282             Sep-67            2067-09-01                       -597.0\n",
              "3359             Feb-65            2065-02-01                       -566.0\n",
              "...                 ...                   ...                          ...\n",
              "464003           Jan-68            2068-01-01                       -601.0\n",
              "464260           Jul-66            2066-07-01                       -583.0\n",
              "465100           Oct-67            2067-10-01                       -598.0\n",
              "465500           Sep-67            2067-09-01                       -597.0\n",
              "465655           Jan-56            2056-01-01                       -457.0\n",
              "\n",
              "[1169 rows x 3 columns]"
            ],
            "text/html": [
              "\n",
              "  <div id=\"df-1a51ed0c-b143-49dd-bd8e-322b64d702ab\">\n",
              "    <div class=\"colab-df-container\">\n",
              "      <div>\n",
              "<style scoped>\n",
              "    .dataframe tbody tr th:only-of-type {\n",
              "        vertical-align: middle;\n",
              "    }\n",
              "\n",
              "    .dataframe tbody tr th {\n",
              "        vertical-align: top;\n",
              "    }\n",
              "\n",
              "    .dataframe thead th {\n",
              "        text-align: right;\n",
              "    }\n",
              "</style>\n",
              "<table border=\"1\" class=\"dataframe\">\n",
              "  <thead>\n",
              "    <tr style=\"text-align: right;\">\n",
              "      <th></th>\n",
              "      <th>earliest_cr_line</th>\n",
              "      <th>earliest_cr_line_date</th>\n",
              "      <th>mths_since_earliest_cr_line</th>\n",
              "    </tr>\n",
              "  </thead>\n",
              "  <tbody>\n",
              "    <tr>\n",
              "      <th>1580</th>\n",
              "      <td>Sep-62</td>\n",
              "      <td>2062-09-01</td>\n",
              "      <td>-537.0</td>\n",
              "    </tr>\n",
              "    <tr>\n",
              "      <th>1770</th>\n",
              "      <td>Sep-68</td>\n",
              "      <td>2068-09-01</td>\n",
              "      <td>-609.0</td>\n",
              "    </tr>\n",
              "    <tr>\n",
              "      <th>2799</th>\n",
              "      <td>Sep-64</td>\n",
              "      <td>2064-09-01</td>\n",
              "      <td>-561.0</td>\n",
              "    </tr>\n",
              "    <tr>\n",
              "      <th>3282</th>\n",
              "      <td>Sep-67</td>\n",
              "      <td>2067-09-01</td>\n",
              "      <td>-597.0</td>\n",
              "    </tr>\n",
              "    <tr>\n",
              "      <th>3359</th>\n",
              "      <td>Feb-65</td>\n",
              "      <td>2065-02-01</td>\n",
              "      <td>-566.0</td>\n",
              "    </tr>\n",
              "    <tr>\n",
              "      <th>...</th>\n",
              "      <td>...</td>\n",
              "      <td>...</td>\n",
              "      <td>...</td>\n",
              "    </tr>\n",
              "    <tr>\n",
              "      <th>464003</th>\n",
              "      <td>Jan-68</td>\n",
              "      <td>2068-01-01</td>\n",
              "      <td>-601.0</td>\n",
              "    </tr>\n",
              "    <tr>\n",
              "      <th>464260</th>\n",
              "      <td>Jul-66</td>\n",
              "      <td>2066-07-01</td>\n",
              "      <td>-583.0</td>\n",
              "    </tr>\n",
              "    <tr>\n",
              "      <th>465100</th>\n",
              "      <td>Oct-67</td>\n",
              "      <td>2067-10-01</td>\n",
              "      <td>-598.0</td>\n",
              "    </tr>\n",
              "    <tr>\n",
              "      <th>465500</th>\n",
              "      <td>Sep-67</td>\n",
              "      <td>2067-09-01</td>\n",
              "      <td>-597.0</td>\n",
              "    </tr>\n",
              "    <tr>\n",
              "      <th>465655</th>\n",
              "      <td>Jan-56</td>\n",
              "      <td>2056-01-01</td>\n",
              "      <td>-457.0</td>\n",
              "    </tr>\n",
              "  </tbody>\n",
              "</table>\n",
              "<p>1169 rows × 3 columns</p>\n",
              "</div>\n",
              "      <button class=\"colab-df-convert\" onclick=\"convertToInteractive('df-1a51ed0c-b143-49dd-bd8e-322b64d702ab')\"\n",
              "              title=\"Convert this dataframe to an interactive table.\"\n",
              "              style=\"display:none;\">\n",
              "        \n",
              "  <svg xmlns=\"http://www.w3.org/2000/svg\" height=\"24px\"viewBox=\"0 0 24 24\"\n",
              "       width=\"24px\">\n",
              "    <path d=\"M0 0h24v24H0V0z\" fill=\"none\"/>\n",
              "    <path d=\"M18.56 5.44l.94 2.06.94-2.06 2.06-.94-2.06-.94-.94-2.06-.94 2.06-2.06.94zm-11 1L8.5 8.5l.94-2.06 2.06-.94-2.06-.94L8.5 2.5l-.94 2.06-2.06.94zm10 10l.94 2.06.94-2.06 2.06-.94-2.06-.94-.94-2.06-.94 2.06-2.06.94z\"/><path d=\"M17.41 7.96l-1.37-1.37c-.4-.4-.92-.59-1.43-.59-.52 0-1.04.2-1.43.59L10.3 9.45l-7.72 7.72c-.78.78-.78 2.05 0 2.83L4 21.41c.39.39.9.59 1.41.59.51 0 1.02-.2 1.41-.59l7.78-7.78 2.81-2.81c.8-.78.8-2.07 0-2.86zM5.41 20L4 18.59l7.72-7.72 1.47 1.35L5.41 20z\"/>\n",
              "  </svg>\n",
              "      </button>\n",
              "      \n",
              "  <style>\n",
              "    .colab-df-container {\n",
              "      display:flex;\n",
              "      flex-wrap:wrap;\n",
              "      gap: 12px;\n",
              "    }\n",
              "\n",
              "    .colab-df-convert {\n",
              "      background-color: #E8F0FE;\n",
              "      border: none;\n",
              "      border-radius: 50%;\n",
              "      cursor: pointer;\n",
              "      display: none;\n",
              "      fill: #1967D2;\n",
              "      height: 32px;\n",
              "      padding: 0 0 0 0;\n",
              "      width: 32px;\n",
              "    }\n",
              "\n",
              "    .colab-df-convert:hover {\n",
              "      background-color: #E2EBFA;\n",
              "      box-shadow: 0px 1px 2px rgba(60, 64, 67, 0.3), 0px 1px 3px 1px rgba(60, 64, 67, 0.15);\n",
              "      fill: #174EA6;\n",
              "    }\n",
              "\n",
              "    [theme=dark] .colab-df-convert {\n",
              "      background-color: #3B4455;\n",
              "      fill: #D2E3FC;\n",
              "    }\n",
              "\n",
              "    [theme=dark] .colab-df-convert:hover {\n",
              "      background-color: #434B5C;\n",
              "      box-shadow: 0px 1px 3px 1px rgba(0, 0, 0, 0.15);\n",
              "      filter: drop-shadow(0px 1px 2px rgba(0, 0, 0, 0.3));\n",
              "      fill: #FFFFFF;\n",
              "    }\n",
              "  </style>\n",
              "\n",
              "      <script>\n",
              "        const buttonEl =\n",
              "          document.querySelector('#df-1a51ed0c-b143-49dd-bd8e-322b64d702ab button.colab-df-convert');\n",
              "        buttonEl.style.display =\n",
              "          google.colab.kernel.accessAllowed ? 'block' : 'none';\n",
              "\n",
              "        async function convertToInteractive(key) {\n",
              "          const element = document.querySelector('#df-1a51ed0c-b143-49dd-bd8e-322b64d702ab');\n",
              "          const dataTable =\n",
              "            await google.colab.kernel.invokeFunction('convertToInteractive',\n",
              "                                                     [key], {});\n",
              "          if (!dataTable) return;\n",
              "\n",
              "          const docLinkHtml = 'Like what you see? Visit the ' +\n",
              "            '<a target=\"_blank\" href=https://colab.research.google.com/notebooks/data_table.ipynb>data table notebook</a>'\n",
              "            + ' to learn more about interactive tables.';\n",
              "          element.innerHTML = '';\n",
              "          dataTable['output_type'] = 'display_data';\n",
              "          await google.colab.output.renderOutput(dataTable, element);\n",
              "          const docLink = document.createElement('div');\n",
              "          docLink.innerHTML = docLinkHtml;\n",
              "          element.appendChild(docLink);\n",
              "        }\n",
              "      </script>\n",
              "    </div>\n",
              "  </div>\n",
              "  "
            ]
          },
          "metadata": {},
          "execution_count": 24
        }
      ]
    },
    {
      "cell_type": "code",
      "source": [
        "loan_data.shape"
      ],
      "metadata": {
        "colab": {
          "base_uri": "https://localhost:8080/"
        },
        "id": "H8mptAb1z7gH",
        "outputId": "ab03f1f4-4bc6-4592-c8ee-8060eaa64d64"
      },
      "execution_count": 25,
      "outputs": [
        {
          "output_type": "execute_result",
          "data": {
            "text/plain": [
              "(466285, 78)"
            ]
          },
          "metadata": {},
          "execution_count": 25
        }
      ]
    },
    {
      "cell_type": "code",
      "source": [
        "loan_data['mths_since_earliest_cr_line'].max()"
      ],
      "metadata": {
        "colab": {
          "base_uri": "https://localhost:8080/"
        },
        "id": "fcErArHe1Pax",
        "outputId": "6724c249-44ce-4423-e0b7-adcbea6dd0e8"
      },
      "execution_count": 26,
      "outputs": [
        {
          "output_type": "execute_result",
          "data": {
            "text/plain": [
              "587.0"
            ]
          },
          "metadata": {},
          "execution_count": 26
        }
      ]
    },
    {
      "cell_type": "code",
      "source": [
        "loan_data['mths_since_earliest_cr_line'][loan_data['mths_since_earliest_cr_line']<0] = loan_data['mths_since_earliest_cr_line'].max()"
      ],
      "metadata": {
        "colab": {
          "base_uri": "https://localhost:8080/"
        },
        "id": "aHC1lKiX0ZGy",
        "outputId": "e815f40b-53ef-44ba-ae5a-597a6dc05cc2"
      },
      "execution_count": 27,
      "outputs": [
        {
          "output_type": "stream",
          "name": "stderr",
          "text": [
            "<ipython-input-27-b39582b064cd>:1: SettingWithCopyWarning: \n",
            "A value is trying to be set on a copy of a slice from a DataFrame\n",
            "\n",
            "See the caveats in the documentation: https://pandas.pydata.org/pandas-docs/stable/user_guide/indexing.html#returning-a-view-versus-a-copy\n",
            "  loan_data['mths_since_earliest_cr_line'][loan_data['mths_since_earliest_cr_line']<0] = loan_data['mths_since_earliest_cr_line'].max()\n"
          ]
        }
      ]
    },
    {
      "cell_type": "code",
      "source": [
        "min(loan_data['mths_since_earliest_cr_line'])"
      ],
      "metadata": {
        "colab": {
          "base_uri": "https://localhost:8080/"
        },
        "id": "WahLcxsk0qa9",
        "outputId": "eae72b6c-d9c0-438f-bf42-e127ef7b91c6"
      },
      "execution_count": 28,
      "outputs": [
        {
          "output_type": "execute_result",
          "data": {
            "text/plain": [
              "73.0"
            ]
          },
          "metadata": {},
          "execution_count": 28
        }
      ]
    },
    {
      "cell_type": "markdown",
      "source": [
        "## Homework\n",
        "\n",
        "In this homework, your task is to preprocess the ‘term’ variable and the ‘issue_d’ variable, similarly to the ‘employment length’ variable and the ‘earliest credit line variable’ we preprocessed in the last lecture.\n",
        "\n",
        "1. From the variable ‘term’, which is of object (text string) data type, create a new variable, named ‘term_int’, which is numeric and contains the term of the loan in months.\n",
        "\n",
        "Tips: First remove the unnecessary text from each row; then, turn what remains into a numeric variable.\n",
        "\n",
        "2. From the variable ‘issue date’ (‘issue_d’), which is of object (text string) data type, create a new variable, named ‘mths_since_issue_d’ (‘months since issue date’).\n",
        "\n",
        "Tips: First turn the test strings into dates; then calculate the difference between December 1st 2017 and each of the issue dates, in months; finally, check if the values make sense."
      ],
      "metadata": {
        "id": "1a0Aj9ekYFTH"
      }
    },
    {
      "cell_type": "code",
      "source": [
        "loan_data.columns"
      ],
      "metadata": {
        "colab": {
          "base_uri": "https://localhost:8080/"
        },
        "id": "l-vf_vz71XUI",
        "outputId": "e086c6af-677e-4575-e513-c81dbefc3596"
      },
      "execution_count": 29,
      "outputs": [
        {
          "output_type": "execute_result",
          "data": {
            "text/plain": [
              "Index(['Unnamed: 0', 'id', 'member_id', 'loan_amnt', 'funded_amnt',\n",
              "       'funded_amnt_inv', 'term', 'int_rate', 'installment', 'grade',\n",
              "       'sub_grade', 'emp_title', 'emp_length', 'home_ownership', 'annual_inc',\n",
              "       'verification_status', 'issue_d', 'loan_status', 'pymnt_plan', 'url',\n",
              "       'desc', 'purpose', 'title', 'zip_code', 'addr_state', 'dti',\n",
              "       'delinq_2yrs', 'earliest_cr_line', 'inq_last_6mths',\n",
              "       'mths_since_last_delinq', 'mths_since_last_record', 'open_acc',\n",
              "       'pub_rec', 'revol_bal', 'revol_util', 'total_acc',\n",
              "       'initial_list_status', 'out_prncp', 'out_prncp_inv', 'total_pymnt',\n",
              "       'total_pymnt_inv', 'total_rec_prncp', 'total_rec_int',\n",
              "       'total_rec_late_fee', 'recoveries', 'collection_recovery_fee',\n",
              "       'last_pymnt_d', 'last_pymnt_amnt', 'next_pymnt_d', 'last_credit_pull_d',\n",
              "       'collections_12_mths_ex_med', 'mths_since_last_major_derog',\n",
              "       'policy_code', 'application_type', 'annual_inc_joint', 'dti_joint',\n",
              "       'verification_status_joint', 'acc_now_delinq', 'tot_coll_amt',\n",
              "       'tot_cur_bal', 'open_acc_6m', 'open_il_6m', 'open_il_12m',\n",
              "       'open_il_24m', 'mths_since_rcnt_il', 'total_bal_il', 'il_util',\n",
              "       'open_rv_12m', 'open_rv_24m', 'max_bal_bc', 'all_util',\n",
              "       'total_rev_hi_lim', 'inq_fi', 'total_cu_tl', 'inq_last_12m',\n",
              "       'emp_length_int', 'earliest_cr_line_date',\n",
              "       'mths_since_earliest_cr_line'],\n",
              "      dtype='object')"
            ]
          },
          "metadata": {},
          "execution_count": 29
        }
      ]
    },
    {
      "cell_type": "code",
      "source": [
        "loan_data['term'].unique()"
      ],
      "metadata": {
        "colab": {
          "base_uri": "https://localhost:8080/"
        },
        "id": "Cr7QfaIoYOXC",
        "outputId": "0592e107-06f7-4204-ed7f-c6456f81a799"
      },
      "execution_count": 30,
      "outputs": [
        {
          "output_type": "execute_result",
          "data": {
            "text/plain": [
              "array([' 36 months', ' 60 months'], dtype=object)"
            ]
          },
          "metadata": {},
          "execution_count": 30
        }
      ]
    },
    {
      "cell_type": "code",
      "source": [
        "loan_data['term_int'] = loan_data['term'].str.replace(' months','')\n",
        "loan_data['term_int'] = loan_data['term_int'].str.replace(' ','')"
      ],
      "metadata": {
        "id": "Vlqqy2qpYX8A"
      },
      "execution_count": 31,
      "outputs": []
    },
    {
      "cell_type": "code",
      "source": [
        "loan_data['term_int'].unique()"
      ],
      "metadata": {
        "colab": {
          "base_uri": "https://localhost:8080/"
        },
        "id": "KUNKmK95Yxfs",
        "outputId": "85d58f3c-725c-4f29-adbb-e0b9e2633750"
      },
      "execution_count": 32,
      "outputs": [
        {
          "output_type": "execute_result",
          "data": {
            "text/plain": [
              "array(['36', '60'], dtype=object)"
            ]
          },
          "metadata": {},
          "execution_count": 32
        }
      ]
    },
    {
      "cell_type": "code",
      "source": [
        "type(loan_data['term_int'][0])"
      ],
      "metadata": {
        "colab": {
          "base_uri": "https://localhost:8080/"
        },
        "id": "Pet9DvdSY0ZW",
        "outputId": "7b705701-931e-4aee-ad35-ec505627cc52"
      },
      "execution_count": 33,
      "outputs": [
        {
          "output_type": "execute_result",
          "data": {
            "text/plain": [
              "str"
            ]
          },
          "metadata": {},
          "execution_count": 33
        }
      ]
    },
    {
      "cell_type": "code",
      "source": [
        "loan_data['term_int'] = pd.to_numeric(loan_data['term_int'])"
      ],
      "metadata": {
        "id": "AHEjrHC6ZE6V"
      },
      "execution_count": 34,
      "outputs": []
    },
    {
      "cell_type": "code",
      "source": [
        "type(loan_data['term_int'][0])"
      ],
      "metadata": {
        "colab": {
          "base_uri": "https://localhost:8080/"
        },
        "id": "-c5ucmqoZLtG",
        "outputId": "2005d592-c3ab-4fc0-bcfd-a2860949aaed"
      },
      "execution_count": 35,
      "outputs": [
        {
          "output_type": "execute_result",
          "data": {
            "text/plain": [
              "numpy.int64"
            ]
          },
          "metadata": {},
          "execution_count": 35
        }
      ]
    },
    {
      "cell_type": "code",
      "source": [
        "loan_data['issue_d'].unique()"
      ],
      "metadata": {
        "colab": {
          "base_uri": "https://localhost:8080/"
        },
        "id": "u4LT67pmZOCI",
        "outputId": "fe2b1f5a-17be-435f-8541-d3df654b9462"
      },
      "execution_count": 36,
      "outputs": [
        {
          "output_type": "execute_result",
          "data": {
            "text/plain": [
              "array(['Dec-11', 'Nov-11', 'Oct-11', 'Sep-11', 'Aug-11', 'Jul-11',\n",
              "       'Jun-11', 'May-11', 'Apr-11', 'Mar-11', 'Feb-11', 'Jan-11',\n",
              "       'Dec-10', 'Nov-10', 'Oct-10', 'Sep-10', 'Aug-10', 'Jul-10',\n",
              "       'Jun-10', 'May-10', 'Apr-10', 'Mar-10', 'Feb-10', 'Jan-10',\n",
              "       'Dec-09', 'Nov-09', 'Oct-09', 'Sep-09', 'Aug-09', 'Jul-09',\n",
              "       'Jun-09', 'May-09', 'Apr-09', 'Mar-09', 'Feb-09', 'Jan-09',\n",
              "       'Dec-08', 'Nov-08', 'Oct-08', 'Sep-08', 'Aug-08', 'Jul-08',\n",
              "       'Jun-08', 'May-08', 'Apr-08', 'Mar-08', 'Feb-08', 'Jan-08',\n",
              "       'Dec-07', 'Nov-07', 'Oct-07', 'Sep-07', 'Aug-07', 'Jul-07',\n",
              "       'Jun-07', 'Dec-13', 'Nov-13', 'Oct-13', 'Sep-13', 'Aug-13',\n",
              "       'Jul-13', 'Jun-13', 'May-13', 'Apr-13', 'Mar-13', 'Feb-13',\n",
              "       'Jan-13', 'Dec-12', 'Nov-12', 'Oct-12', 'Sep-12', 'Aug-12',\n",
              "       'Jul-12', 'Jun-12', 'May-12', 'Apr-12', 'Mar-12', 'Feb-12',\n",
              "       'Jan-12', 'Dec-14', 'Nov-14', 'Oct-14', 'Sep-14', 'Aug-14',\n",
              "       'Jul-14', 'Jun-14', 'May-14', 'Apr-14', 'Mar-14', 'Feb-14',\n",
              "       'Jan-14'], dtype=object)"
            ]
          },
          "metadata": {},
          "execution_count": 36
        }
      ]
    },
    {
      "cell_type": "code",
      "source": [
        "loan_data['issue_d_date'] = pd.to_datetime(loan_data['issue_d'], format = '%b-%y')"
      ],
      "metadata": {
        "id": "NAQ_CDexZcku"
      },
      "execution_count": 37,
      "outputs": []
    },
    {
      "cell_type": "code",
      "source": [
        "type(loan_data['issue_d_date'][0])"
      ],
      "metadata": {
        "colab": {
          "base_uri": "https://localhost:8080/"
        },
        "id": "Mx0eN-ISZ2j3",
        "outputId": "5ef17e58-9cd0-474e-e19e-71da848cc605"
      },
      "execution_count": 38,
      "outputs": [
        {
          "output_type": "execute_result",
          "data": {
            "text/plain": [
              "pandas._libs.tslibs.timestamps.Timestamp"
            ]
          },
          "metadata": {},
          "execution_count": 38
        }
      ]
    },
    {
      "cell_type": "code",
      "source": [
        "loan_data['mths_since_issue_d'] = round((pd.to_datetime('2017-12-01') - loan_data['issue_d_date'])/np.timedelta64(1,\"M\"))"
      ],
      "metadata": {
        "id": "s4CsCT13Z_Lh"
      },
      "execution_count": 39,
      "outputs": []
    },
    {
      "cell_type": "code",
      "source": [
        "type(loan_data['mths_since_issue_d'][0])"
      ],
      "metadata": {
        "colab": {
          "base_uri": "https://localhost:8080/"
        },
        "id": "UPmfgGZwaY5t",
        "outputId": "3f0da1e5-a0c4-4ac7-8a6a-0da88aed3ab1"
      },
      "execution_count": 40,
      "outputs": [
        {
          "output_type": "execute_result",
          "data": {
            "text/plain": [
              "numpy.float64"
            ]
          },
          "metadata": {},
          "execution_count": 40
        }
      ]
    },
    {
      "cell_type": "markdown",
      "source": [
        "## Preprocessing few discrete variables\n",
        "\n",
        "\n",
        "\n",
        "1.   grade\n",
        "2. sub grade\n",
        "Create dummy variables for the discrete\n",
        "1 for yes\n",
        "0 for no\n",
        "eg., biological sex: Female or Male\n",
        "M=1 and F=0\n",
        "\n",
        "\n"
      ],
      "metadata": {
        "id": "cjGjYJwLbTCG"
      }
    },
    {
      "cell_type": "code",
      "source": [
        "pd.get_dummies(loan_data['grade'])"
      ],
      "metadata": {
        "colab": {
          "base_uri": "https://localhost:8080/",
          "height": 423
        },
        "id": "9D1Y5sKqbEZK",
        "outputId": "e313f2d6-5970-4349-8cf0-637be26f0083"
      },
      "execution_count": 41,
      "outputs": [
        {
          "output_type": "execute_result",
          "data": {
            "text/plain": [
              "        A  B  C  D  E  F  G\n",
              "0       0  1  0  0  0  0  0\n",
              "1       0  0  1  0  0  0  0\n",
              "2       0  0  1  0  0  0  0\n",
              "3       0  0  1  0  0  0  0\n",
              "4       0  1  0  0  0  0  0\n",
              "...    .. .. .. .. .. .. ..\n",
              "466280  0  0  1  0  0  0  0\n",
              "466281  0  0  0  1  0  0  0\n",
              "466282  0  0  0  1  0  0  0\n",
              "466283  1  0  0  0  0  0  0\n",
              "466284  0  0  0  1  0  0  0\n",
              "\n",
              "[466285 rows x 7 columns]"
            ],
            "text/html": [
              "\n",
              "  <div id=\"df-9a620fcb-0182-44c3-9f2b-0f5352341329\">\n",
              "    <div class=\"colab-df-container\">\n",
              "      <div>\n",
              "<style scoped>\n",
              "    .dataframe tbody tr th:only-of-type {\n",
              "        vertical-align: middle;\n",
              "    }\n",
              "\n",
              "    .dataframe tbody tr th {\n",
              "        vertical-align: top;\n",
              "    }\n",
              "\n",
              "    .dataframe thead th {\n",
              "        text-align: right;\n",
              "    }\n",
              "</style>\n",
              "<table border=\"1\" class=\"dataframe\">\n",
              "  <thead>\n",
              "    <tr style=\"text-align: right;\">\n",
              "      <th></th>\n",
              "      <th>A</th>\n",
              "      <th>B</th>\n",
              "      <th>C</th>\n",
              "      <th>D</th>\n",
              "      <th>E</th>\n",
              "      <th>F</th>\n",
              "      <th>G</th>\n",
              "    </tr>\n",
              "  </thead>\n",
              "  <tbody>\n",
              "    <tr>\n",
              "      <th>0</th>\n",
              "      <td>0</td>\n",
              "      <td>1</td>\n",
              "      <td>0</td>\n",
              "      <td>0</td>\n",
              "      <td>0</td>\n",
              "      <td>0</td>\n",
              "      <td>0</td>\n",
              "    </tr>\n",
              "    <tr>\n",
              "      <th>1</th>\n",
              "      <td>0</td>\n",
              "      <td>0</td>\n",
              "      <td>1</td>\n",
              "      <td>0</td>\n",
              "      <td>0</td>\n",
              "      <td>0</td>\n",
              "      <td>0</td>\n",
              "    </tr>\n",
              "    <tr>\n",
              "      <th>2</th>\n",
              "      <td>0</td>\n",
              "      <td>0</td>\n",
              "      <td>1</td>\n",
              "      <td>0</td>\n",
              "      <td>0</td>\n",
              "      <td>0</td>\n",
              "      <td>0</td>\n",
              "    </tr>\n",
              "    <tr>\n",
              "      <th>3</th>\n",
              "      <td>0</td>\n",
              "      <td>0</td>\n",
              "      <td>1</td>\n",
              "      <td>0</td>\n",
              "      <td>0</td>\n",
              "      <td>0</td>\n",
              "      <td>0</td>\n",
              "    </tr>\n",
              "    <tr>\n",
              "      <th>4</th>\n",
              "      <td>0</td>\n",
              "      <td>1</td>\n",
              "      <td>0</td>\n",
              "      <td>0</td>\n",
              "      <td>0</td>\n",
              "      <td>0</td>\n",
              "      <td>0</td>\n",
              "    </tr>\n",
              "    <tr>\n",
              "      <th>...</th>\n",
              "      <td>...</td>\n",
              "      <td>...</td>\n",
              "      <td>...</td>\n",
              "      <td>...</td>\n",
              "      <td>...</td>\n",
              "      <td>...</td>\n",
              "      <td>...</td>\n",
              "    </tr>\n",
              "    <tr>\n",
              "      <th>466280</th>\n",
              "      <td>0</td>\n",
              "      <td>0</td>\n",
              "      <td>1</td>\n",
              "      <td>0</td>\n",
              "      <td>0</td>\n",
              "      <td>0</td>\n",
              "      <td>0</td>\n",
              "    </tr>\n",
              "    <tr>\n",
              "      <th>466281</th>\n",
              "      <td>0</td>\n",
              "      <td>0</td>\n",
              "      <td>0</td>\n",
              "      <td>1</td>\n",
              "      <td>0</td>\n",
              "      <td>0</td>\n",
              "      <td>0</td>\n",
              "    </tr>\n",
              "    <tr>\n",
              "      <th>466282</th>\n",
              "      <td>0</td>\n",
              "      <td>0</td>\n",
              "      <td>0</td>\n",
              "      <td>1</td>\n",
              "      <td>0</td>\n",
              "      <td>0</td>\n",
              "      <td>0</td>\n",
              "    </tr>\n",
              "    <tr>\n",
              "      <th>466283</th>\n",
              "      <td>1</td>\n",
              "      <td>0</td>\n",
              "      <td>0</td>\n",
              "      <td>0</td>\n",
              "      <td>0</td>\n",
              "      <td>0</td>\n",
              "      <td>0</td>\n",
              "    </tr>\n",
              "    <tr>\n",
              "      <th>466284</th>\n",
              "      <td>0</td>\n",
              "      <td>0</td>\n",
              "      <td>0</td>\n",
              "      <td>1</td>\n",
              "      <td>0</td>\n",
              "      <td>0</td>\n",
              "      <td>0</td>\n",
              "    </tr>\n",
              "  </tbody>\n",
              "</table>\n",
              "<p>466285 rows × 7 columns</p>\n",
              "</div>\n",
              "      <button class=\"colab-df-convert\" onclick=\"convertToInteractive('df-9a620fcb-0182-44c3-9f2b-0f5352341329')\"\n",
              "              title=\"Convert this dataframe to an interactive table.\"\n",
              "              style=\"display:none;\">\n",
              "        \n",
              "  <svg xmlns=\"http://www.w3.org/2000/svg\" height=\"24px\"viewBox=\"0 0 24 24\"\n",
              "       width=\"24px\">\n",
              "    <path d=\"M0 0h24v24H0V0z\" fill=\"none\"/>\n",
              "    <path d=\"M18.56 5.44l.94 2.06.94-2.06 2.06-.94-2.06-.94-.94-2.06-.94 2.06-2.06.94zm-11 1L8.5 8.5l.94-2.06 2.06-.94-2.06-.94L8.5 2.5l-.94 2.06-2.06.94zm10 10l.94 2.06.94-2.06 2.06-.94-2.06-.94-.94-2.06-.94 2.06-2.06.94z\"/><path d=\"M17.41 7.96l-1.37-1.37c-.4-.4-.92-.59-1.43-.59-.52 0-1.04.2-1.43.59L10.3 9.45l-7.72 7.72c-.78.78-.78 2.05 0 2.83L4 21.41c.39.39.9.59 1.41.59.51 0 1.02-.2 1.41-.59l7.78-7.78 2.81-2.81c.8-.78.8-2.07 0-2.86zM5.41 20L4 18.59l7.72-7.72 1.47 1.35L5.41 20z\"/>\n",
              "  </svg>\n",
              "      </button>\n",
              "      \n",
              "  <style>\n",
              "    .colab-df-container {\n",
              "      display:flex;\n",
              "      flex-wrap:wrap;\n",
              "      gap: 12px;\n",
              "    }\n",
              "\n",
              "    .colab-df-convert {\n",
              "      background-color: #E8F0FE;\n",
              "      border: none;\n",
              "      border-radius: 50%;\n",
              "      cursor: pointer;\n",
              "      display: none;\n",
              "      fill: #1967D2;\n",
              "      height: 32px;\n",
              "      padding: 0 0 0 0;\n",
              "      width: 32px;\n",
              "    }\n",
              "\n",
              "    .colab-df-convert:hover {\n",
              "      background-color: #E2EBFA;\n",
              "      box-shadow: 0px 1px 2px rgba(60, 64, 67, 0.3), 0px 1px 3px 1px rgba(60, 64, 67, 0.15);\n",
              "      fill: #174EA6;\n",
              "    }\n",
              "\n",
              "    [theme=dark] .colab-df-convert {\n",
              "      background-color: #3B4455;\n",
              "      fill: #D2E3FC;\n",
              "    }\n",
              "\n",
              "    [theme=dark] .colab-df-convert:hover {\n",
              "      background-color: #434B5C;\n",
              "      box-shadow: 0px 1px 3px 1px rgba(0, 0, 0, 0.15);\n",
              "      filter: drop-shadow(0px 1px 2px rgba(0, 0, 0, 0.3));\n",
              "      fill: #FFFFFF;\n",
              "    }\n",
              "  </style>\n",
              "\n",
              "      <script>\n",
              "        const buttonEl =\n",
              "          document.querySelector('#df-9a620fcb-0182-44c3-9f2b-0f5352341329 button.colab-df-convert');\n",
              "        buttonEl.style.display =\n",
              "          google.colab.kernel.accessAllowed ? 'block' : 'none';\n",
              "\n",
              "        async function convertToInteractive(key) {\n",
              "          const element = document.querySelector('#df-9a620fcb-0182-44c3-9f2b-0f5352341329');\n",
              "          const dataTable =\n",
              "            await google.colab.kernel.invokeFunction('convertToInteractive',\n",
              "                                                     [key], {});\n",
              "          if (!dataTable) return;\n",
              "\n",
              "          const docLinkHtml = 'Like what you see? Visit the ' +\n",
              "            '<a target=\"_blank\" href=https://colab.research.google.com/notebooks/data_table.ipynb>data table notebook</a>'\n",
              "            + ' to learn more about interactive tables.';\n",
              "          element.innerHTML = '';\n",
              "          dataTable['output_type'] = 'display_data';\n",
              "          await google.colab.output.renderOutput(dataTable, element);\n",
              "          const docLink = document.createElement('div');\n",
              "          docLink.innerHTML = docLinkHtml;\n",
              "          element.appendChild(docLink);\n",
              "        }\n",
              "      </script>\n",
              "    </div>\n",
              "  </div>\n",
              "  "
            ]
          },
          "metadata": {},
          "execution_count": 41
        }
      ]
    },
    {
      "cell_type": "code",
      "source": [
        "loan_data['grade'].unique()"
      ],
      "metadata": {
        "colab": {
          "base_uri": "https://localhost:8080/"
        },
        "id": "cMV0oaFAGiuG",
        "outputId": "53749822-8fcb-4535-b1c4-5fd1b9df3302"
      },
      "execution_count": 42,
      "outputs": [
        {
          "output_type": "execute_result",
          "data": {
            "text/plain": [
              "array(['B', 'C', 'A', 'E', 'F', 'D', 'G'], dtype=object)"
            ]
          },
          "metadata": {},
          "execution_count": 42
        }
      ]
    },
    {
      "cell_type": "code",
      "source": [
        "pd.get_dummies(loan_data['grade'], prefix='grade', prefix_sep='-')"
      ],
      "metadata": {
        "colab": {
          "base_uri": "https://localhost:8080/",
          "height": 423
        },
        "id": "A25h-6_gHKLl",
        "outputId": "97706c86-1994-4026-e64c-beb822fde021"
      },
      "execution_count": 43,
      "outputs": [
        {
          "output_type": "execute_result",
          "data": {
            "text/plain": [
              "        grade-A  grade-B  grade-C  grade-D  grade-E  grade-F  grade-G\n",
              "0             0        1        0        0        0        0        0\n",
              "1             0        0        1        0        0        0        0\n",
              "2             0        0        1        0        0        0        0\n",
              "3             0        0        1        0        0        0        0\n",
              "4             0        1        0        0        0        0        0\n",
              "...         ...      ...      ...      ...      ...      ...      ...\n",
              "466280        0        0        1        0        0        0        0\n",
              "466281        0        0        0        1        0        0        0\n",
              "466282        0        0        0        1        0        0        0\n",
              "466283        1        0        0        0        0        0        0\n",
              "466284        0        0        0        1        0        0        0\n",
              "\n",
              "[466285 rows x 7 columns]"
            ],
            "text/html": [
              "\n",
              "  <div id=\"df-1ba5b250-c929-42cd-91ff-7f4c574a5cf8\">\n",
              "    <div class=\"colab-df-container\">\n",
              "      <div>\n",
              "<style scoped>\n",
              "    .dataframe tbody tr th:only-of-type {\n",
              "        vertical-align: middle;\n",
              "    }\n",
              "\n",
              "    .dataframe tbody tr th {\n",
              "        vertical-align: top;\n",
              "    }\n",
              "\n",
              "    .dataframe thead th {\n",
              "        text-align: right;\n",
              "    }\n",
              "</style>\n",
              "<table border=\"1\" class=\"dataframe\">\n",
              "  <thead>\n",
              "    <tr style=\"text-align: right;\">\n",
              "      <th></th>\n",
              "      <th>grade-A</th>\n",
              "      <th>grade-B</th>\n",
              "      <th>grade-C</th>\n",
              "      <th>grade-D</th>\n",
              "      <th>grade-E</th>\n",
              "      <th>grade-F</th>\n",
              "      <th>grade-G</th>\n",
              "    </tr>\n",
              "  </thead>\n",
              "  <tbody>\n",
              "    <tr>\n",
              "      <th>0</th>\n",
              "      <td>0</td>\n",
              "      <td>1</td>\n",
              "      <td>0</td>\n",
              "      <td>0</td>\n",
              "      <td>0</td>\n",
              "      <td>0</td>\n",
              "      <td>0</td>\n",
              "    </tr>\n",
              "    <tr>\n",
              "      <th>1</th>\n",
              "      <td>0</td>\n",
              "      <td>0</td>\n",
              "      <td>1</td>\n",
              "      <td>0</td>\n",
              "      <td>0</td>\n",
              "      <td>0</td>\n",
              "      <td>0</td>\n",
              "    </tr>\n",
              "    <tr>\n",
              "      <th>2</th>\n",
              "      <td>0</td>\n",
              "      <td>0</td>\n",
              "      <td>1</td>\n",
              "      <td>0</td>\n",
              "      <td>0</td>\n",
              "      <td>0</td>\n",
              "      <td>0</td>\n",
              "    </tr>\n",
              "    <tr>\n",
              "      <th>3</th>\n",
              "      <td>0</td>\n",
              "      <td>0</td>\n",
              "      <td>1</td>\n",
              "      <td>0</td>\n",
              "      <td>0</td>\n",
              "      <td>0</td>\n",
              "      <td>0</td>\n",
              "    </tr>\n",
              "    <tr>\n",
              "      <th>4</th>\n",
              "      <td>0</td>\n",
              "      <td>1</td>\n",
              "      <td>0</td>\n",
              "      <td>0</td>\n",
              "      <td>0</td>\n",
              "      <td>0</td>\n",
              "      <td>0</td>\n",
              "    </tr>\n",
              "    <tr>\n",
              "      <th>...</th>\n",
              "      <td>...</td>\n",
              "      <td>...</td>\n",
              "      <td>...</td>\n",
              "      <td>...</td>\n",
              "      <td>...</td>\n",
              "      <td>...</td>\n",
              "      <td>...</td>\n",
              "    </tr>\n",
              "    <tr>\n",
              "      <th>466280</th>\n",
              "      <td>0</td>\n",
              "      <td>0</td>\n",
              "      <td>1</td>\n",
              "      <td>0</td>\n",
              "      <td>0</td>\n",
              "      <td>0</td>\n",
              "      <td>0</td>\n",
              "    </tr>\n",
              "    <tr>\n",
              "      <th>466281</th>\n",
              "      <td>0</td>\n",
              "      <td>0</td>\n",
              "      <td>0</td>\n",
              "      <td>1</td>\n",
              "      <td>0</td>\n",
              "      <td>0</td>\n",
              "      <td>0</td>\n",
              "    </tr>\n",
              "    <tr>\n",
              "      <th>466282</th>\n",
              "      <td>0</td>\n",
              "      <td>0</td>\n",
              "      <td>0</td>\n",
              "      <td>1</td>\n",
              "      <td>0</td>\n",
              "      <td>0</td>\n",
              "      <td>0</td>\n",
              "    </tr>\n",
              "    <tr>\n",
              "      <th>466283</th>\n",
              "      <td>1</td>\n",
              "      <td>0</td>\n",
              "      <td>0</td>\n",
              "      <td>0</td>\n",
              "      <td>0</td>\n",
              "      <td>0</td>\n",
              "      <td>0</td>\n",
              "    </tr>\n",
              "    <tr>\n",
              "      <th>466284</th>\n",
              "      <td>0</td>\n",
              "      <td>0</td>\n",
              "      <td>0</td>\n",
              "      <td>1</td>\n",
              "      <td>0</td>\n",
              "      <td>0</td>\n",
              "      <td>0</td>\n",
              "    </tr>\n",
              "  </tbody>\n",
              "</table>\n",
              "<p>466285 rows × 7 columns</p>\n",
              "</div>\n",
              "      <button class=\"colab-df-convert\" onclick=\"convertToInteractive('df-1ba5b250-c929-42cd-91ff-7f4c574a5cf8')\"\n",
              "              title=\"Convert this dataframe to an interactive table.\"\n",
              "              style=\"display:none;\">\n",
              "        \n",
              "  <svg xmlns=\"http://www.w3.org/2000/svg\" height=\"24px\"viewBox=\"0 0 24 24\"\n",
              "       width=\"24px\">\n",
              "    <path d=\"M0 0h24v24H0V0z\" fill=\"none\"/>\n",
              "    <path d=\"M18.56 5.44l.94 2.06.94-2.06 2.06-.94-2.06-.94-.94-2.06-.94 2.06-2.06.94zm-11 1L8.5 8.5l.94-2.06 2.06-.94-2.06-.94L8.5 2.5l-.94 2.06-2.06.94zm10 10l.94 2.06.94-2.06 2.06-.94-2.06-.94-.94-2.06-.94 2.06-2.06.94z\"/><path d=\"M17.41 7.96l-1.37-1.37c-.4-.4-.92-.59-1.43-.59-.52 0-1.04.2-1.43.59L10.3 9.45l-7.72 7.72c-.78.78-.78 2.05 0 2.83L4 21.41c.39.39.9.59 1.41.59.51 0 1.02-.2 1.41-.59l7.78-7.78 2.81-2.81c.8-.78.8-2.07 0-2.86zM5.41 20L4 18.59l7.72-7.72 1.47 1.35L5.41 20z\"/>\n",
              "  </svg>\n",
              "      </button>\n",
              "      \n",
              "  <style>\n",
              "    .colab-df-container {\n",
              "      display:flex;\n",
              "      flex-wrap:wrap;\n",
              "      gap: 12px;\n",
              "    }\n",
              "\n",
              "    .colab-df-convert {\n",
              "      background-color: #E8F0FE;\n",
              "      border: none;\n",
              "      border-radius: 50%;\n",
              "      cursor: pointer;\n",
              "      display: none;\n",
              "      fill: #1967D2;\n",
              "      height: 32px;\n",
              "      padding: 0 0 0 0;\n",
              "      width: 32px;\n",
              "    }\n",
              "\n",
              "    .colab-df-convert:hover {\n",
              "      background-color: #E2EBFA;\n",
              "      box-shadow: 0px 1px 2px rgba(60, 64, 67, 0.3), 0px 1px 3px 1px rgba(60, 64, 67, 0.15);\n",
              "      fill: #174EA6;\n",
              "    }\n",
              "\n",
              "    [theme=dark] .colab-df-convert {\n",
              "      background-color: #3B4455;\n",
              "      fill: #D2E3FC;\n",
              "    }\n",
              "\n",
              "    [theme=dark] .colab-df-convert:hover {\n",
              "      background-color: #434B5C;\n",
              "      box-shadow: 0px 1px 3px 1px rgba(0, 0, 0, 0.15);\n",
              "      filter: drop-shadow(0px 1px 2px rgba(0, 0, 0, 0.3));\n",
              "      fill: #FFFFFF;\n",
              "    }\n",
              "  </style>\n",
              "\n",
              "      <script>\n",
              "        const buttonEl =\n",
              "          document.querySelector('#df-1ba5b250-c929-42cd-91ff-7f4c574a5cf8 button.colab-df-convert');\n",
              "        buttonEl.style.display =\n",
              "          google.colab.kernel.accessAllowed ? 'block' : 'none';\n",
              "\n",
              "        async function convertToInteractive(key) {\n",
              "          const element = document.querySelector('#df-1ba5b250-c929-42cd-91ff-7f4c574a5cf8');\n",
              "          const dataTable =\n",
              "            await google.colab.kernel.invokeFunction('convertToInteractive',\n",
              "                                                     [key], {});\n",
              "          if (!dataTable) return;\n",
              "\n",
              "          const docLinkHtml = 'Like what you see? Visit the ' +\n",
              "            '<a target=\"_blank\" href=https://colab.research.google.com/notebooks/data_table.ipynb>data table notebook</a>'\n",
              "            + ' to learn more about interactive tables.';\n",
              "          element.innerHTML = '';\n",
              "          dataTable['output_type'] = 'display_data';\n",
              "          await google.colab.output.renderOutput(dataTable, element);\n",
              "          const docLink = document.createElement('div');\n",
              "          docLink.innerHTML = docLinkHtml;\n",
              "          element.appendChild(docLink);\n",
              "        }\n",
              "      </script>\n",
              "    </div>\n",
              "  </div>\n",
              "  "
            ]
          },
          "metadata": {},
          "execution_count": 43
        }
      ]
    },
    {
      "cell_type": "code",
      "source": [
        "loan_data_dummies = [pd.get_dummies(loan_data['grade'], prefix=\"grade\", prefix_sep = '-'),\n",
        "                     pd.get_dummies(loan_data['sub_grade'], prefix=\"sub_grade\", prefix_sep = '-'),\n",
        "                     pd.get_dummies(loan_data['home_ownership'], prefix=\"home_ownership\", prefix_sep = '-'),\n",
        "                     pd.get_dummies(loan_data['verification_status'], prefix=\"verification_status\", prefix_sep = '-'),\n",
        "                     pd.get_dummies(loan_data['loan_status'], prefix=\"loan_status\", prefix_sep = '-'),\n",
        "                     pd.get_dummies(loan_data['purpose'], prefix=\"purpose\", prefix_sep = '-'),\n",
        "                     pd.get_dummies(loan_data['addr_state'], prefix=\"addr_state\", prefix_sep = '-'),\n",
        "                     pd.get_dummies(loan_data['initial_list_status'], prefix=\"initial_list_status\", prefix_sep = '-')]"
      ],
      "metadata": {
        "id": "9Nzp_fkQHchX"
      },
      "execution_count": 44,
      "outputs": []
    },
    {
      "cell_type": "code",
      "source": [
        "loan_data_dummies"
      ],
      "metadata": {
        "colab": {
          "base_uri": "https://localhost:8080/"
        },
        "id": "Xl5eBmRAIvfY",
        "outputId": "c972a30d-0048-45c1-cc82-a4ec6500b5de"
      },
      "execution_count": 45,
      "outputs": [
        {
          "output_type": "execute_result",
          "data": {
            "text/plain": [
              "[        grade-A  grade-B  grade-C  grade-D  grade-E  grade-F  grade-G\n",
              " 0             0        1        0        0        0        0        0\n",
              " 1             0        0        1        0        0        0        0\n",
              " 2             0        0        1        0        0        0        0\n",
              " 3             0        0        1        0        0        0        0\n",
              " 4             0        1        0        0        0        0        0\n",
              " ...         ...      ...      ...      ...      ...      ...      ...\n",
              " 466280        0        0        1        0        0        0        0\n",
              " 466281        0        0        0        1        0        0        0\n",
              " 466282        0        0        0        1        0        0        0\n",
              " 466283        1        0        0        0        0        0        0\n",
              " 466284        0        0        0        1        0        0        0\n",
              " \n",
              " [466285 rows x 7 columns],\n",
              "         sub_grade-A1  sub_grade-A2  sub_grade-A3  sub_grade-A4  sub_grade-A5  \\\n",
              " 0                  0             0             0             0             0   \n",
              " 1                  0             0             0             0             0   \n",
              " 2                  0             0             0             0             0   \n",
              " 3                  0             0             0             0             0   \n",
              " 4                  0             0             0             0             0   \n",
              " ...              ...           ...           ...           ...           ...   \n",
              " 466280             0             0             0             0             0   \n",
              " 466281             0             0             0             0             0   \n",
              " 466282             0             0             0             0             0   \n",
              " 466283             0             0             0             1             0   \n",
              " 466284             0             0             0             0             0   \n",
              " \n",
              "         sub_grade-B1  sub_grade-B2  sub_grade-B3  sub_grade-B4  sub_grade-B5  \\\n",
              " 0                  0             1             0             0             0   \n",
              " 1                  0             0             0             0             0   \n",
              " 2                  0             0             0             0             0   \n",
              " 3                  0             0             0             0             0   \n",
              " 4                  0             0             0             0             1   \n",
              " ...              ...           ...           ...           ...           ...   \n",
              " 466280             0             0             0             0             0   \n",
              " 466281             0             0             0             0             0   \n",
              " 466282             0             0             0             0             0   \n",
              " 466283             0             0             0             0             0   \n",
              " 466284             0             0             0             0             0   \n",
              " \n",
              "         ...  sub_grade-F1  sub_grade-F2  sub_grade-F3  sub_grade-F4  \\\n",
              " 0       ...             0             0             0             0   \n",
              " 1       ...             0             0             0             0   \n",
              " 2       ...             0             0             0             0   \n",
              " 3       ...             0             0             0             0   \n",
              " 4       ...             0             0             0             0   \n",
              " ...     ...           ...           ...           ...           ...   \n",
              " 466280  ...             0             0             0             0   \n",
              " 466281  ...             0             0             0             0   \n",
              " 466282  ...             0             0             0             0   \n",
              " 466283  ...             0             0             0             0   \n",
              " 466284  ...             0             0             0             0   \n",
              " \n",
              "         sub_grade-F5  sub_grade-G1  sub_grade-G2  sub_grade-G3  sub_grade-G4  \\\n",
              " 0                  0             0             0             0             0   \n",
              " 1                  0             0             0             0             0   \n",
              " 2                  0             0             0             0             0   \n",
              " 3                  0             0             0             0             0   \n",
              " 4                  0             0             0             0             0   \n",
              " ...              ...           ...           ...           ...           ...   \n",
              " 466280             0             0             0             0             0   \n",
              " 466281             0             0             0             0             0   \n",
              " 466282             0             0             0             0             0   \n",
              " 466283             0             0             0             0             0   \n",
              " 466284             0             0             0             0             0   \n",
              " \n",
              "         sub_grade-G5  \n",
              " 0                  0  \n",
              " 1                  0  \n",
              " 2                  0  \n",
              " 3                  0  \n",
              " 4                  0  \n",
              " ...              ...  \n",
              " 466280             0  \n",
              " 466281             0  \n",
              " 466282             0  \n",
              " 466283             0  \n",
              " 466284             0  \n",
              " \n",
              " [466285 rows x 35 columns],\n",
              "         home_ownership-ANY  home_ownership-MORTGAGE  home_ownership-NONE  \\\n",
              " 0                        0                        0                    0   \n",
              " 1                        0                        0                    0   \n",
              " 2                        0                        0                    0   \n",
              " 3                        0                        0                    0   \n",
              " 4                        0                        0                    0   \n",
              " ...                    ...                      ...                  ...   \n",
              " 466280                   0                        1                    0   \n",
              " 466281                   0                        1                    0   \n",
              " 466282                   0                        1                    0   \n",
              " 466283                   0                        0                    0   \n",
              " 466284                   0                        1                    0   \n",
              " \n",
              "         home_ownership-OTHER  home_ownership-OWN  home_ownership-RENT  \n",
              " 0                          0                   0                    1  \n",
              " 1                          0                   0                    1  \n",
              " 2                          0                   0                    1  \n",
              " 3                          0                   0                    1  \n",
              " 4                          0                   0                    1  \n",
              " ...                      ...                 ...                  ...  \n",
              " 466280                     0                   0                    0  \n",
              " 466281                     0                   0                    0  \n",
              " 466282                     0                   0                    0  \n",
              " 466283                     0                   1                    0  \n",
              " 466284                     0                   0                    0  \n",
              " \n",
              " [466285 rows x 6 columns],\n",
              "         verification_status-Not Verified  verification_status-Source Verified  \\\n",
              " 0                                      0                                    0   \n",
              " 1                                      0                                    1   \n",
              " 2                                      1                                    0   \n",
              " 3                                      0                                    1   \n",
              " 4                                      0                                    1   \n",
              " ...                                  ...                                  ...   \n",
              " 466280                                 0                                    1   \n",
              " 466281                                 0                                    0   \n",
              " 466282                                 0                                    0   \n",
              " 466283                                 0                                    0   \n",
              " 466284                                 0                                    0   \n",
              " \n",
              "         verification_status-Verified  \n",
              " 0                                  1  \n",
              " 1                                  0  \n",
              " 2                                  0  \n",
              " 3                                  0  \n",
              " 4                                  0  \n",
              " ...                              ...  \n",
              " 466280                             0  \n",
              " 466281                             1  \n",
              " 466282                             1  \n",
              " 466283                             1  \n",
              " 466284                             1  \n",
              " \n",
              " [466285 rows x 3 columns],\n",
              "         loan_status-Charged Off  loan_status-Current  loan_status-Default  \\\n",
              " 0                             0                    0                    0   \n",
              " 1                             1                    0                    0   \n",
              " 2                             0                    0                    0   \n",
              " 3                             0                    0                    0   \n",
              " 4                             0                    1                    0   \n",
              " ...                         ...                  ...                  ...   \n",
              " 466280                        0                    1                    0   \n",
              " 466281                        1                    0                    0   \n",
              " 466282                        0                    1                    0   \n",
              " 466283                        0                    0                    0   \n",
              " 466284                        0                    1                    0   \n",
              " \n",
              "         loan_status-Does not meet the credit policy. Status:Charged Off  \\\n",
              " 0                                                       0                 \n",
              " 1                                                       0                 \n",
              " 2                                                       0                 \n",
              " 3                                                       0                 \n",
              " 4                                                       0                 \n",
              " ...                                                   ...                 \n",
              " 466280                                                  0                 \n",
              " 466281                                                  0                 \n",
              " 466282                                                  0                 \n",
              " 466283                                                  0                 \n",
              " 466284                                                  0                 \n",
              " \n",
              "         loan_status-Does not meet the credit policy. Status:Fully Paid  \\\n",
              " 0                                                       0                \n",
              " 1                                                       0                \n",
              " 2                                                       0                \n",
              " 3                                                       0                \n",
              " 4                                                       0                \n",
              " ...                                                   ...                \n",
              " 466280                                                  0                \n",
              " 466281                                                  0                \n",
              " 466282                                                  0                \n",
              " 466283                                                  0                \n",
              " 466284                                                  0                \n",
              " \n",
              "         loan_status-Fully Paid  loan_status-In Grace Period  \\\n",
              " 0                            1                            0   \n",
              " 1                            0                            0   \n",
              " 2                            1                            0   \n",
              " 3                            1                            0   \n",
              " 4                            0                            0   \n",
              " ...                        ...                          ...   \n",
              " 466280                       0                            0   \n",
              " 466281                       0                            0   \n",
              " 466282                       0                            0   \n",
              " 466283                       1                            0   \n",
              " 466284                       0                            0   \n",
              " \n",
              "         loan_status-Late (16-30 days)  loan_status-Late (31-120 days)  \n",
              " 0                                   0                               0  \n",
              " 1                                   0                               0  \n",
              " 2                                   0                               0  \n",
              " 3                                   0                               0  \n",
              " 4                                   0                               0  \n",
              " ...                               ...                             ...  \n",
              " 466280                              0                               0  \n",
              " 466281                              0                               0  \n",
              " 466282                              0                               0  \n",
              " 466283                              0                               0  \n",
              " 466284                              0                               0  \n",
              " \n",
              " [466285 rows x 9 columns],\n",
              "         purpose-car  purpose-credit_card  purpose-debt_consolidation  \\\n",
              " 0                 0                    1                           0   \n",
              " 1                 1                    0                           0   \n",
              " 2                 0                    0                           0   \n",
              " 3                 0                    0                           0   \n",
              " 4                 0                    0                           0   \n",
              " ...             ...                  ...                         ...   \n",
              " 466280            0                    0                           1   \n",
              " 466281            0                    0                           1   \n",
              " 466282            0                    0                           1   \n",
              " 466283            0                    1                           0   \n",
              " 466284            0                    0                           0   \n",
              " \n",
              "         purpose-educational  purpose-home_improvement  purpose-house  \\\n",
              " 0                         0                         0              0   \n",
              " 1                         0                         0              0   \n",
              " 2                         0                         0              0   \n",
              " 3                         0                         0              0   \n",
              " 4                         0                         0              0   \n",
              " ...                     ...                       ...            ...   \n",
              " 466280                    0                         0              0   \n",
              " 466281                    0                         0              0   \n",
              " 466282                    0                         0              0   \n",
              " 466283                    0                         0              0   \n",
              " 466284                    0                         0              0   \n",
              " \n",
              "         purpose-major_purchase  purpose-medical  purpose-moving  \\\n",
              " 0                            0                0               0   \n",
              " 1                            0                0               0   \n",
              " 2                            0                0               0   \n",
              " 3                            0                0               0   \n",
              " 4                            0                0               0   \n",
              " ...                        ...              ...             ...   \n",
              " 466280                       0                0               0   \n",
              " 466281                       0                0               0   \n",
              " 466282                       0                0               0   \n",
              " 466283                       0                0               0   \n",
              " 466284                       0                0               0   \n",
              " \n",
              "         purpose-other  purpose-renewable_energy  purpose-small_business  \\\n",
              " 0                   0                         0                       0   \n",
              " 1                   0                         0                       0   \n",
              " 2                   0                         0                       1   \n",
              " 3                   1                         0                       0   \n",
              " 4                   1                         0                       0   \n",
              " ...               ...                       ...                     ...   \n",
              " 466280              0                         0                       0   \n",
              " 466281              0                         0                       0   \n",
              " 466282              0                         0                       0   \n",
              " 466283              0                         0                       0   \n",
              " 466284              1                         0                       0   \n",
              " \n",
              "         purpose-vacation  purpose-wedding  \n",
              " 0                      0                0  \n",
              " 1                      0                0  \n",
              " 2                      0                0  \n",
              " 3                      0                0  \n",
              " 4                      0                0  \n",
              " ...                  ...              ...  \n",
              " 466280                 0                0  \n",
              " 466281                 0                0  \n",
              " 466282                 0                0  \n",
              " 466283                 0                0  \n",
              " 466284                 0                0  \n",
              " \n",
              " [466285 rows x 14 columns],\n",
              "         addr_state-AK  addr_state-AL  addr_state-AR  addr_state-AZ  \\\n",
              " 0                   0              0              0              1   \n",
              " 1                   0              0              0              0   \n",
              " 2                   0              0              0              0   \n",
              " 3                   0              0              0              0   \n",
              " 4                   0              0              0              0   \n",
              " ...               ...            ...            ...            ...   \n",
              " 466280              0              0              0              0   \n",
              " 466281              0              0              0              0   \n",
              " 466282              0              0              0              0   \n",
              " 466283              0              0              0              0   \n",
              " 466284              0              0              0              0   \n",
              " \n",
              "         addr_state-CA  addr_state-CO  addr_state-CT  addr_state-DC  \\\n",
              " 0                   0              0              0              0   \n",
              " 1                   0              0              0              0   \n",
              " 2                   0              0              0              0   \n",
              " 3                   1              0              0              0   \n",
              " 4                   0              0              0              0   \n",
              " ...               ...            ...            ...            ...   \n",
              " 466280              0              0              0              0   \n",
              " 466281              0              0              0              0   \n",
              " 466282              0              0              0              0   \n",
              " 466283              1              0              0              0   \n",
              " 466284              1              0              0              0   \n",
              " \n",
              "         addr_state-DE  addr_state-FL  ...  addr_state-SD  addr_state-TN  \\\n",
              " 0                   0              0  ...              0              0   \n",
              " 1                   0              0  ...              0              0   \n",
              " 2                   0              0  ...              0              0   \n",
              " 3                   0              0  ...              0              0   \n",
              " 4                   0              0  ...              0              0   \n",
              " ...               ...            ...  ...            ...            ...   \n",
              " 466280              0              0  ...              0              0   \n",
              " 466281              0              0  ...              0              1   \n",
              " 466282              0              0  ...              0              0   \n",
              " 466283              0              0  ...              0              0   \n",
              " 466284              0              0  ...              0              0   \n",
              " \n",
              "         addr_state-TX  addr_state-UT  addr_state-VA  addr_state-VT  \\\n",
              " 0                   0              0              0              0   \n",
              " 1                   0              0              0              0   \n",
              " 2                   0              0              0              0   \n",
              " 3                   0              0              0              0   \n",
              " 4                   0              0              0              0   \n",
              " ...               ...            ...            ...            ...   \n",
              " 466280              1              0              0              0   \n",
              " 466281              0              0              0              0   \n",
              " 466282              0              0              0              0   \n",
              " 466283              0              0              0              0   \n",
              " 466284              0              0              0              0   \n",
              " \n",
              "         addr_state-WA  addr_state-WI  addr_state-WV  addr_state-WY  \n",
              " 0                   0              0              0              0  \n",
              " 1                   0              0              0              0  \n",
              " 2                   0              0              0              0  \n",
              " 3                   0              0              0              0  \n",
              " 4                   0              0              0              0  \n",
              " ...               ...            ...            ...            ...  \n",
              " 466280              0              0              0              0  \n",
              " 466281              0              0              0              0  \n",
              " 466282              0              0              0              0  \n",
              " 466283              0              0              0              0  \n",
              " 466284              0              0              0              0  \n",
              " \n",
              " [466285 rows x 50 columns],\n",
              "         initial_list_status-f  initial_list_status-w\n",
              " 0                           1                      0\n",
              " 1                           1                      0\n",
              " 2                           1                      0\n",
              " 3                           1                      0\n",
              " 4                           1                      0\n",
              " ...                       ...                    ...\n",
              " 466280                      0                      1\n",
              " 466281                      1                      0\n",
              " 466282                      1                      0\n",
              " 466283                      0                      1\n",
              " 466284                      1                      0\n",
              " \n",
              " [466285 rows x 2 columns]]"
            ]
          },
          "metadata": {},
          "execution_count": 45
        }
      ]
    },
    {
      "cell_type": "code",
      "source": [
        "loan_data_dummies = pd.concat(loan_data_dummies, axis=1)"
      ],
      "metadata": {
        "id": "i6SzQgENIzGM"
      },
      "execution_count": 46,
      "outputs": []
    },
    {
      "cell_type": "code",
      "source": [
        "loan_data_dummies"
      ],
      "metadata": {
        "colab": {
          "base_uri": "https://localhost:8080/",
          "height": 505
        },
        "id": "KvRDTI-wI_7y",
        "outputId": "7c73866f-d82b-40ae-c984-9789935c33a6"
      },
      "execution_count": 47,
      "outputs": [
        {
          "output_type": "execute_result",
          "data": {
            "text/plain": [
              "        grade-A  grade-B  grade-C  grade-D  grade-E  grade-F  grade-G  \\\n",
              "0             0        1        0        0        0        0        0   \n",
              "1             0        0        1        0        0        0        0   \n",
              "2             0        0        1        0        0        0        0   \n",
              "3             0        0        1        0        0        0        0   \n",
              "4             0        1        0        0        0        0        0   \n",
              "...         ...      ...      ...      ...      ...      ...      ...   \n",
              "466280        0        0        1        0        0        0        0   \n",
              "466281        0        0        0        1        0        0        0   \n",
              "466282        0        0        0        1        0        0        0   \n",
              "466283        1        0        0        0        0        0        0   \n",
              "466284        0        0        0        1        0        0        0   \n",
              "\n",
              "        sub_grade-A1  sub_grade-A2  sub_grade-A3  ...  addr_state-TX  \\\n",
              "0                  0             0             0  ...              0   \n",
              "1                  0             0             0  ...              0   \n",
              "2                  0             0             0  ...              0   \n",
              "3                  0             0             0  ...              0   \n",
              "4                  0             0             0  ...              0   \n",
              "...              ...           ...           ...  ...            ...   \n",
              "466280             0             0             0  ...              1   \n",
              "466281             0             0             0  ...              0   \n",
              "466282             0             0             0  ...              0   \n",
              "466283             0             0             0  ...              0   \n",
              "466284             0             0             0  ...              0   \n",
              "\n",
              "        addr_state-UT  addr_state-VA  addr_state-VT  addr_state-WA  \\\n",
              "0                   0              0              0              0   \n",
              "1                   0              0              0              0   \n",
              "2                   0              0              0              0   \n",
              "3                   0              0              0              0   \n",
              "4                   0              0              0              0   \n",
              "...               ...            ...            ...            ...   \n",
              "466280              0              0              0              0   \n",
              "466281              0              0              0              0   \n",
              "466282              0              0              0              0   \n",
              "466283              0              0              0              0   \n",
              "466284              0              0              0              0   \n",
              "\n",
              "        addr_state-WI  addr_state-WV  addr_state-WY  initial_list_status-f  \\\n",
              "0                   0              0              0                      1   \n",
              "1                   0              0              0                      1   \n",
              "2                   0              0              0                      1   \n",
              "3                   0              0              0                      1   \n",
              "4                   0              0              0                      1   \n",
              "...               ...            ...            ...                    ...   \n",
              "466280              0              0              0                      0   \n",
              "466281              0              0              0                      1   \n",
              "466282              0              0              0                      1   \n",
              "466283              0              0              0                      0   \n",
              "466284              0              0              0                      1   \n",
              "\n",
              "        initial_list_status-w  \n",
              "0                           0  \n",
              "1                           0  \n",
              "2                           0  \n",
              "3                           0  \n",
              "4                           0  \n",
              "...                       ...  \n",
              "466280                      1  \n",
              "466281                      0  \n",
              "466282                      0  \n",
              "466283                      1  \n",
              "466284                      0  \n",
              "\n",
              "[466285 rows x 126 columns]"
            ],
            "text/html": [
              "\n",
              "  <div id=\"df-3f8784a9-33ed-4a1c-a1f9-71611972af53\">\n",
              "    <div class=\"colab-df-container\">\n",
              "      <div>\n",
              "<style scoped>\n",
              "    .dataframe tbody tr th:only-of-type {\n",
              "        vertical-align: middle;\n",
              "    }\n",
              "\n",
              "    .dataframe tbody tr th {\n",
              "        vertical-align: top;\n",
              "    }\n",
              "\n",
              "    .dataframe thead th {\n",
              "        text-align: right;\n",
              "    }\n",
              "</style>\n",
              "<table border=\"1\" class=\"dataframe\">\n",
              "  <thead>\n",
              "    <tr style=\"text-align: right;\">\n",
              "      <th></th>\n",
              "      <th>grade-A</th>\n",
              "      <th>grade-B</th>\n",
              "      <th>grade-C</th>\n",
              "      <th>grade-D</th>\n",
              "      <th>grade-E</th>\n",
              "      <th>grade-F</th>\n",
              "      <th>grade-G</th>\n",
              "      <th>sub_grade-A1</th>\n",
              "      <th>sub_grade-A2</th>\n",
              "      <th>sub_grade-A3</th>\n",
              "      <th>...</th>\n",
              "      <th>addr_state-TX</th>\n",
              "      <th>addr_state-UT</th>\n",
              "      <th>addr_state-VA</th>\n",
              "      <th>addr_state-VT</th>\n",
              "      <th>addr_state-WA</th>\n",
              "      <th>addr_state-WI</th>\n",
              "      <th>addr_state-WV</th>\n",
              "      <th>addr_state-WY</th>\n",
              "      <th>initial_list_status-f</th>\n",
              "      <th>initial_list_status-w</th>\n",
              "    </tr>\n",
              "  </thead>\n",
              "  <tbody>\n",
              "    <tr>\n",
              "      <th>0</th>\n",
              "      <td>0</td>\n",
              "      <td>1</td>\n",
              "      <td>0</td>\n",
              "      <td>0</td>\n",
              "      <td>0</td>\n",
              "      <td>0</td>\n",
              "      <td>0</td>\n",
              "      <td>0</td>\n",
              "      <td>0</td>\n",
              "      <td>0</td>\n",
              "      <td>...</td>\n",
              "      <td>0</td>\n",
              "      <td>0</td>\n",
              "      <td>0</td>\n",
              "      <td>0</td>\n",
              "      <td>0</td>\n",
              "      <td>0</td>\n",
              "      <td>0</td>\n",
              "      <td>0</td>\n",
              "      <td>1</td>\n",
              "      <td>0</td>\n",
              "    </tr>\n",
              "    <tr>\n",
              "      <th>1</th>\n",
              "      <td>0</td>\n",
              "      <td>0</td>\n",
              "      <td>1</td>\n",
              "      <td>0</td>\n",
              "      <td>0</td>\n",
              "      <td>0</td>\n",
              "      <td>0</td>\n",
              "      <td>0</td>\n",
              "      <td>0</td>\n",
              "      <td>0</td>\n",
              "      <td>...</td>\n",
              "      <td>0</td>\n",
              "      <td>0</td>\n",
              "      <td>0</td>\n",
              "      <td>0</td>\n",
              "      <td>0</td>\n",
              "      <td>0</td>\n",
              "      <td>0</td>\n",
              "      <td>0</td>\n",
              "      <td>1</td>\n",
              "      <td>0</td>\n",
              "    </tr>\n",
              "    <tr>\n",
              "      <th>2</th>\n",
              "      <td>0</td>\n",
              "      <td>0</td>\n",
              "      <td>1</td>\n",
              "      <td>0</td>\n",
              "      <td>0</td>\n",
              "      <td>0</td>\n",
              "      <td>0</td>\n",
              "      <td>0</td>\n",
              "      <td>0</td>\n",
              "      <td>0</td>\n",
              "      <td>...</td>\n",
              "      <td>0</td>\n",
              "      <td>0</td>\n",
              "      <td>0</td>\n",
              "      <td>0</td>\n",
              "      <td>0</td>\n",
              "      <td>0</td>\n",
              "      <td>0</td>\n",
              "      <td>0</td>\n",
              "      <td>1</td>\n",
              "      <td>0</td>\n",
              "    </tr>\n",
              "    <tr>\n",
              "      <th>3</th>\n",
              "      <td>0</td>\n",
              "      <td>0</td>\n",
              "      <td>1</td>\n",
              "      <td>0</td>\n",
              "      <td>0</td>\n",
              "      <td>0</td>\n",
              "      <td>0</td>\n",
              "      <td>0</td>\n",
              "      <td>0</td>\n",
              "      <td>0</td>\n",
              "      <td>...</td>\n",
              "      <td>0</td>\n",
              "      <td>0</td>\n",
              "      <td>0</td>\n",
              "      <td>0</td>\n",
              "      <td>0</td>\n",
              "      <td>0</td>\n",
              "      <td>0</td>\n",
              "      <td>0</td>\n",
              "      <td>1</td>\n",
              "      <td>0</td>\n",
              "    </tr>\n",
              "    <tr>\n",
              "      <th>4</th>\n",
              "      <td>0</td>\n",
              "      <td>1</td>\n",
              "      <td>0</td>\n",
              "      <td>0</td>\n",
              "      <td>0</td>\n",
              "      <td>0</td>\n",
              "      <td>0</td>\n",
              "      <td>0</td>\n",
              "      <td>0</td>\n",
              "      <td>0</td>\n",
              "      <td>...</td>\n",
              "      <td>0</td>\n",
              "      <td>0</td>\n",
              "      <td>0</td>\n",
              "      <td>0</td>\n",
              "      <td>0</td>\n",
              "      <td>0</td>\n",
              "      <td>0</td>\n",
              "      <td>0</td>\n",
              "      <td>1</td>\n",
              "      <td>0</td>\n",
              "    </tr>\n",
              "    <tr>\n",
              "      <th>...</th>\n",
              "      <td>...</td>\n",
              "      <td>...</td>\n",
              "      <td>...</td>\n",
              "      <td>...</td>\n",
              "      <td>...</td>\n",
              "      <td>...</td>\n",
              "      <td>...</td>\n",
              "      <td>...</td>\n",
              "      <td>...</td>\n",
              "      <td>...</td>\n",
              "      <td>...</td>\n",
              "      <td>...</td>\n",
              "      <td>...</td>\n",
              "      <td>...</td>\n",
              "      <td>...</td>\n",
              "      <td>...</td>\n",
              "      <td>...</td>\n",
              "      <td>...</td>\n",
              "      <td>...</td>\n",
              "      <td>...</td>\n",
              "      <td>...</td>\n",
              "    </tr>\n",
              "    <tr>\n",
              "      <th>466280</th>\n",
              "      <td>0</td>\n",
              "      <td>0</td>\n",
              "      <td>1</td>\n",
              "      <td>0</td>\n",
              "      <td>0</td>\n",
              "      <td>0</td>\n",
              "      <td>0</td>\n",
              "      <td>0</td>\n",
              "      <td>0</td>\n",
              "      <td>0</td>\n",
              "      <td>...</td>\n",
              "      <td>1</td>\n",
              "      <td>0</td>\n",
              "      <td>0</td>\n",
              "      <td>0</td>\n",
              "      <td>0</td>\n",
              "      <td>0</td>\n",
              "      <td>0</td>\n",
              "      <td>0</td>\n",
              "      <td>0</td>\n",
              "      <td>1</td>\n",
              "    </tr>\n",
              "    <tr>\n",
              "      <th>466281</th>\n",
              "      <td>0</td>\n",
              "      <td>0</td>\n",
              "      <td>0</td>\n",
              "      <td>1</td>\n",
              "      <td>0</td>\n",
              "      <td>0</td>\n",
              "      <td>0</td>\n",
              "      <td>0</td>\n",
              "      <td>0</td>\n",
              "      <td>0</td>\n",
              "      <td>...</td>\n",
              "      <td>0</td>\n",
              "      <td>0</td>\n",
              "      <td>0</td>\n",
              "      <td>0</td>\n",
              "      <td>0</td>\n",
              "      <td>0</td>\n",
              "      <td>0</td>\n",
              "      <td>0</td>\n",
              "      <td>1</td>\n",
              "      <td>0</td>\n",
              "    </tr>\n",
              "    <tr>\n",
              "      <th>466282</th>\n",
              "      <td>0</td>\n",
              "      <td>0</td>\n",
              "      <td>0</td>\n",
              "      <td>1</td>\n",
              "      <td>0</td>\n",
              "      <td>0</td>\n",
              "      <td>0</td>\n",
              "      <td>0</td>\n",
              "      <td>0</td>\n",
              "      <td>0</td>\n",
              "      <td>...</td>\n",
              "      <td>0</td>\n",
              "      <td>0</td>\n",
              "      <td>0</td>\n",
              "      <td>0</td>\n",
              "      <td>0</td>\n",
              "      <td>0</td>\n",
              "      <td>0</td>\n",
              "      <td>0</td>\n",
              "      <td>1</td>\n",
              "      <td>0</td>\n",
              "    </tr>\n",
              "    <tr>\n",
              "      <th>466283</th>\n",
              "      <td>1</td>\n",
              "      <td>0</td>\n",
              "      <td>0</td>\n",
              "      <td>0</td>\n",
              "      <td>0</td>\n",
              "      <td>0</td>\n",
              "      <td>0</td>\n",
              "      <td>0</td>\n",
              "      <td>0</td>\n",
              "      <td>0</td>\n",
              "      <td>...</td>\n",
              "      <td>0</td>\n",
              "      <td>0</td>\n",
              "      <td>0</td>\n",
              "      <td>0</td>\n",
              "      <td>0</td>\n",
              "      <td>0</td>\n",
              "      <td>0</td>\n",
              "      <td>0</td>\n",
              "      <td>0</td>\n",
              "      <td>1</td>\n",
              "    </tr>\n",
              "    <tr>\n",
              "      <th>466284</th>\n",
              "      <td>0</td>\n",
              "      <td>0</td>\n",
              "      <td>0</td>\n",
              "      <td>1</td>\n",
              "      <td>0</td>\n",
              "      <td>0</td>\n",
              "      <td>0</td>\n",
              "      <td>0</td>\n",
              "      <td>0</td>\n",
              "      <td>0</td>\n",
              "      <td>...</td>\n",
              "      <td>0</td>\n",
              "      <td>0</td>\n",
              "      <td>0</td>\n",
              "      <td>0</td>\n",
              "      <td>0</td>\n",
              "      <td>0</td>\n",
              "      <td>0</td>\n",
              "      <td>0</td>\n",
              "      <td>1</td>\n",
              "      <td>0</td>\n",
              "    </tr>\n",
              "  </tbody>\n",
              "</table>\n",
              "<p>466285 rows × 126 columns</p>\n",
              "</div>\n",
              "      <button class=\"colab-df-convert\" onclick=\"convertToInteractive('df-3f8784a9-33ed-4a1c-a1f9-71611972af53')\"\n",
              "              title=\"Convert this dataframe to an interactive table.\"\n",
              "              style=\"display:none;\">\n",
              "        \n",
              "  <svg xmlns=\"http://www.w3.org/2000/svg\" height=\"24px\"viewBox=\"0 0 24 24\"\n",
              "       width=\"24px\">\n",
              "    <path d=\"M0 0h24v24H0V0z\" fill=\"none\"/>\n",
              "    <path d=\"M18.56 5.44l.94 2.06.94-2.06 2.06-.94-2.06-.94-.94-2.06-.94 2.06-2.06.94zm-11 1L8.5 8.5l.94-2.06 2.06-.94-2.06-.94L8.5 2.5l-.94 2.06-2.06.94zm10 10l.94 2.06.94-2.06 2.06-.94-2.06-.94-.94-2.06-.94 2.06-2.06.94z\"/><path d=\"M17.41 7.96l-1.37-1.37c-.4-.4-.92-.59-1.43-.59-.52 0-1.04.2-1.43.59L10.3 9.45l-7.72 7.72c-.78.78-.78 2.05 0 2.83L4 21.41c.39.39.9.59 1.41.59.51 0 1.02-.2 1.41-.59l7.78-7.78 2.81-2.81c.8-.78.8-2.07 0-2.86zM5.41 20L4 18.59l7.72-7.72 1.47 1.35L5.41 20z\"/>\n",
              "  </svg>\n",
              "      </button>\n",
              "      \n",
              "  <style>\n",
              "    .colab-df-container {\n",
              "      display:flex;\n",
              "      flex-wrap:wrap;\n",
              "      gap: 12px;\n",
              "    }\n",
              "\n",
              "    .colab-df-convert {\n",
              "      background-color: #E8F0FE;\n",
              "      border: none;\n",
              "      border-radius: 50%;\n",
              "      cursor: pointer;\n",
              "      display: none;\n",
              "      fill: #1967D2;\n",
              "      height: 32px;\n",
              "      padding: 0 0 0 0;\n",
              "      width: 32px;\n",
              "    }\n",
              "\n",
              "    .colab-df-convert:hover {\n",
              "      background-color: #E2EBFA;\n",
              "      box-shadow: 0px 1px 2px rgba(60, 64, 67, 0.3), 0px 1px 3px 1px rgba(60, 64, 67, 0.15);\n",
              "      fill: #174EA6;\n",
              "    }\n",
              "\n",
              "    [theme=dark] .colab-df-convert {\n",
              "      background-color: #3B4455;\n",
              "      fill: #D2E3FC;\n",
              "    }\n",
              "\n",
              "    [theme=dark] .colab-df-convert:hover {\n",
              "      background-color: #434B5C;\n",
              "      box-shadow: 0px 1px 3px 1px rgba(0, 0, 0, 0.15);\n",
              "      filter: drop-shadow(0px 1px 2px rgba(0, 0, 0, 0.3));\n",
              "      fill: #FFFFFF;\n",
              "    }\n",
              "  </style>\n",
              "\n",
              "      <script>\n",
              "        const buttonEl =\n",
              "          document.querySelector('#df-3f8784a9-33ed-4a1c-a1f9-71611972af53 button.colab-df-convert');\n",
              "        buttonEl.style.display =\n",
              "          google.colab.kernel.accessAllowed ? 'block' : 'none';\n",
              "\n",
              "        async function convertToInteractive(key) {\n",
              "          const element = document.querySelector('#df-3f8784a9-33ed-4a1c-a1f9-71611972af53');\n",
              "          const dataTable =\n",
              "            await google.colab.kernel.invokeFunction('convertToInteractive',\n",
              "                                                     [key], {});\n",
              "          if (!dataTable) return;\n",
              "\n",
              "          const docLinkHtml = 'Like what you see? Visit the ' +\n",
              "            '<a target=\"_blank\" href=https://colab.research.google.com/notebooks/data_table.ipynb>data table notebook</a>'\n",
              "            + ' to learn more about interactive tables.';\n",
              "          element.innerHTML = '';\n",
              "          dataTable['output_type'] = 'display_data';\n",
              "          await google.colab.output.renderOutput(dataTable, element);\n",
              "          const docLink = document.createElement('div');\n",
              "          docLink.innerHTML = docLinkHtml;\n",
              "          element.appendChild(docLink);\n",
              "        }\n",
              "      </script>\n",
              "    </div>\n",
              "  </div>\n",
              "  "
            ]
          },
          "metadata": {},
          "execution_count": 47
        }
      ]
    },
    {
      "cell_type": "code",
      "source": [
        "  type(loan_data_dummies)"
      ],
      "metadata": {
        "colab": {
          "base_uri": "https://localhost:8080/"
        },
        "id": "Q82XXaUhJBk3",
        "outputId": "adaf064e-f91b-416a-84e1-e08b716dbe04"
      },
      "execution_count": 48,
      "outputs": [
        {
          "output_type": "execute_result",
          "data": {
            "text/plain": [
              "pandas.core.frame.DataFrame"
            ]
          },
          "metadata": {},
          "execution_count": 48
        }
      ]
    },
    {
      "cell_type": "code",
      "source": [
        "loan_data = pd.concat([loan_data, loan_data_dummies], axis=1)"
      ],
      "metadata": {
        "id": "mQ3PktY6JK9d"
      },
      "execution_count": 49,
      "outputs": []
    },
    {
      "cell_type": "code",
      "source": [
        "loan_data.columns.values"
      ],
      "metadata": {
        "colab": {
          "base_uri": "https://localhost:8080/"
        },
        "id": "MNLNXwzeJWvo",
        "outputId": "2d37c1b8-ec6d-4e63-d677-8dae6a0cb28e"
      },
      "execution_count": 50,
      "outputs": [
        {
          "output_type": "execute_result",
          "data": {
            "text/plain": [
              "array(['Unnamed: 0', 'id', 'member_id', 'loan_amnt', 'funded_amnt',\n",
              "       'funded_amnt_inv', 'term', 'int_rate', 'installment', 'grade',\n",
              "       'sub_grade', 'emp_title', 'emp_length', 'home_ownership',\n",
              "       'annual_inc', 'verification_status', 'issue_d', 'loan_status',\n",
              "       'pymnt_plan', 'url', 'desc', 'purpose', 'title', 'zip_code',\n",
              "       'addr_state', 'dti', 'delinq_2yrs', 'earliest_cr_line',\n",
              "       'inq_last_6mths', 'mths_since_last_delinq',\n",
              "       'mths_since_last_record', 'open_acc', 'pub_rec', 'revol_bal',\n",
              "       'revol_util', 'total_acc', 'initial_list_status', 'out_prncp',\n",
              "       'out_prncp_inv', 'total_pymnt', 'total_pymnt_inv',\n",
              "       'total_rec_prncp', 'total_rec_int', 'total_rec_late_fee',\n",
              "       'recoveries', 'collection_recovery_fee', 'last_pymnt_d',\n",
              "       'last_pymnt_amnt', 'next_pymnt_d', 'last_credit_pull_d',\n",
              "       'collections_12_mths_ex_med', 'mths_since_last_major_derog',\n",
              "       'policy_code', 'application_type', 'annual_inc_joint', 'dti_joint',\n",
              "       'verification_status_joint', 'acc_now_delinq', 'tot_coll_amt',\n",
              "       'tot_cur_bal', 'open_acc_6m', 'open_il_6m', 'open_il_12m',\n",
              "       'open_il_24m', 'mths_since_rcnt_il', 'total_bal_il', 'il_util',\n",
              "       'open_rv_12m', 'open_rv_24m', 'max_bal_bc', 'all_util',\n",
              "       'total_rev_hi_lim', 'inq_fi', 'total_cu_tl', 'inq_last_12m',\n",
              "       'emp_length_int', 'earliest_cr_line_date',\n",
              "       'mths_since_earliest_cr_line', 'term_int', 'issue_d_date',\n",
              "       'mths_since_issue_d', 'grade-A', 'grade-B', 'grade-C', 'grade-D',\n",
              "       'grade-E', 'grade-F', 'grade-G', 'sub_grade-A1', 'sub_grade-A2',\n",
              "       'sub_grade-A3', 'sub_grade-A4', 'sub_grade-A5', 'sub_grade-B1',\n",
              "       'sub_grade-B2', 'sub_grade-B3', 'sub_grade-B4', 'sub_grade-B5',\n",
              "       'sub_grade-C1', 'sub_grade-C2', 'sub_grade-C3', 'sub_grade-C4',\n",
              "       'sub_grade-C5', 'sub_grade-D1', 'sub_grade-D2', 'sub_grade-D3',\n",
              "       'sub_grade-D4', 'sub_grade-D5', 'sub_grade-E1', 'sub_grade-E2',\n",
              "       'sub_grade-E3', 'sub_grade-E4', 'sub_grade-E5', 'sub_grade-F1',\n",
              "       'sub_grade-F2', 'sub_grade-F3', 'sub_grade-F4', 'sub_grade-F5',\n",
              "       'sub_grade-G1', 'sub_grade-G2', 'sub_grade-G3', 'sub_grade-G4',\n",
              "       'sub_grade-G5', 'home_ownership-ANY', 'home_ownership-MORTGAGE',\n",
              "       'home_ownership-NONE', 'home_ownership-OTHER',\n",
              "       'home_ownership-OWN', 'home_ownership-RENT',\n",
              "       'verification_status-Not Verified',\n",
              "       'verification_status-Source Verified',\n",
              "       'verification_status-Verified', 'loan_status-Charged Off',\n",
              "       'loan_status-Current', 'loan_status-Default',\n",
              "       'loan_status-Does not meet the credit policy. Status:Charged Off',\n",
              "       'loan_status-Does not meet the credit policy. Status:Fully Paid',\n",
              "       'loan_status-Fully Paid', 'loan_status-In Grace Period',\n",
              "       'loan_status-Late (16-30 days)', 'loan_status-Late (31-120 days)',\n",
              "       'purpose-car', 'purpose-credit_card', 'purpose-debt_consolidation',\n",
              "       'purpose-educational', 'purpose-home_improvement', 'purpose-house',\n",
              "       'purpose-major_purchase', 'purpose-medical', 'purpose-moving',\n",
              "       'purpose-other', 'purpose-renewable_energy',\n",
              "       'purpose-small_business', 'purpose-vacation', 'purpose-wedding',\n",
              "       'addr_state-AK', 'addr_state-AL', 'addr_state-AR', 'addr_state-AZ',\n",
              "       'addr_state-CA', 'addr_state-CO', 'addr_state-CT', 'addr_state-DC',\n",
              "       'addr_state-DE', 'addr_state-FL', 'addr_state-GA', 'addr_state-HI',\n",
              "       'addr_state-IA', 'addr_state-ID', 'addr_state-IL', 'addr_state-IN',\n",
              "       'addr_state-KS', 'addr_state-KY', 'addr_state-LA', 'addr_state-MA',\n",
              "       'addr_state-MD', 'addr_state-ME', 'addr_state-MI', 'addr_state-MN',\n",
              "       'addr_state-MO', 'addr_state-MS', 'addr_state-MT', 'addr_state-NC',\n",
              "       'addr_state-NE', 'addr_state-NH', 'addr_state-NJ', 'addr_state-NM',\n",
              "       'addr_state-NV', 'addr_state-NY', 'addr_state-OH', 'addr_state-OK',\n",
              "       'addr_state-OR', 'addr_state-PA', 'addr_state-RI', 'addr_state-SC',\n",
              "       'addr_state-SD', 'addr_state-TN', 'addr_state-TX', 'addr_state-UT',\n",
              "       'addr_state-VA', 'addr_state-VT', 'addr_state-WA', 'addr_state-WI',\n",
              "       'addr_state-WV', 'addr_state-WY', 'initial_list_status-f',\n",
              "       'initial_list_status-w'], dtype=object)"
            ]
          },
          "metadata": {},
          "execution_count": 50
        }
      ]
    },
    {
      "cell_type": "code",
      "source": [
        "loan_data.isna().sum()"
      ],
      "metadata": {
        "colab": {
          "base_uri": "https://localhost:8080/"
        },
        "id": "G4yg4gYHJcB3",
        "outputId": "a069da46-57bd-4a77-c016-c1efdb5e2460"
      },
      "execution_count": 51,
      "outputs": [
        {
          "output_type": "execute_result",
          "data": {
            "text/plain": [
              "Unnamed: 0               0\n",
              "id                       0\n",
              "member_id                0\n",
              "loan_amnt                0\n",
              "funded_amnt              0\n",
              "                        ..\n",
              "addr_state-WI            0\n",
              "addr_state-WV            0\n",
              "addr_state-WY            0\n",
              "initial_list_status-f    0\n",
              "initial_list_status-w    0\n",
              "Length: 207, dtype: int64"
            ]
          },
          "metadata": {},
          "execution_count": 51
        }
      ]
    },
    {
      "cell_type": "code",
      "source": [
        "pd.options.display.max_rows=100"
      ],
      "metadata": {
        "id": "dAYSFQiHJ9Tj"
      },
      "execution_count": 52,
      "outputs": []
    },
    {
      "cell_type": "code",
      "source": [
        "loan_data['total_rev_hi_lim'].fillna(loan_data['funded_amnt'], inplace=True)"
      ],
      "metadata": {
        "id": "BD3mHCI7Lzo1"
      },
      "execution_count": 53,
      "outputs": []
    },
    {
      "cell_type": "code",
      "source": [
        "loan_data['total_rev_hi_lim'].isna().sum()"
      ],
      "metadata": {
        "colab": {
          "base_uri": "https://localhost:8080/"
        },
        "id": "r0o1TjMaMHSx",
        "outputId": "190636cc-3b5c-43c4-8a2f-38317a6c0db5"
      },
      "execution_count": 54,
      "outputs": [
        {
          "output_type": "execute_result",
          "data": {
            "text/plain": [
              "0"
            ]
          },
          "metadata": {},
          "execution_count": 54
        }
      ]
    },
    {
      "cell_type": "markdown",
      "source": [
        "## Homework 2:\n",
        "\n",
        "In this homework, your task is to fill in the missing values for the remaining variables we are going to use in our models.\n",
        "\n",
        "Here are the instructions about what values to replace the missing values with for the remaining variables.\n",
        "\n",
        "1. For annual income (‘annual_inc’), replace the missing values with the mean of the non-missing values of the variable.\n",
        "\n",
        "2. For all of the following variables, replace the missing values with zeroes:\n",
        "\n",
        "‘mths_since_earliest_cr_line’\n",
        "\n",
        "‘acc_now_delinq’\n",
        "\n",
        "‘total_acc’\n",
        "\n",
        "‘pub_rec’\n",
        "\n",
        "‘open_acc’\n",
        "\n",
        "‘inq_last_6mths’\n",
        "\n",
        "‘delinq_2yrs’\n",
        "\n",
        "‘emp_length_int’"
      ],
      "metadata": {
        "id": "ggY8ff2EMswT"
      }
    },
    {
      "cell_type": "code",
      "source": [
        "loan_data['annual_inc'].isnull().sum()"
      ],
      "metadata": {
        "colab": {
          "base_uri": "https://localhost:8080/"
        },
        "id": "ejJx8jv_Msd8",
        "outputId": "03c5da60-05d0-4b61-cc22-b5c6a5a8274c"
      },
      "execution_count": 55,
      "outputs": [
        {
          "output_type": "execute_result",
          "data": {
            "text/plain": [
              "4"
            ]
          },
          "metadata": {},
          "execution_count": 55
        }
      ]
    },
    {
      "cell_type": "code",
      "source": [
        "loan_data['annual_inc'].fillna(loan_data['annual_inc'].mean(), inplace=True)"
      ],
      "metadata": {
        "id": "K9omEhyQMcq1"
      },
      "execution_count": 56,
      "outputs": []
    },
    {
      "cell_type": "code",
      "source": [
        "loan_data['annual_inc'].isnull().sum()"
      ],
      "metadata": {
        "colab": {
          "base_uri": "https://localhost:8080/"
        },
        "id": "UFCPw4fKNFQO",
        "outputId": "35941dc4-383b-4819-f875-a13e7cb3ca61"
      },
      "execution_count": 57,
      "outputs": [
        {
          "output_type": "execute_result",
          "data": {
            "text/plain": [
              "0"
            ]
          },
          "metadata": {},
          "execution_count": 57
        }
      ]
    },
    {
      "cell_type": "code",
      "source": [
        "loan_data['mths_since_earliest_cr_line'].isna().sum()"
      ],
      "metadata": {
        "colab": {
          "base_uri": "https://localhost:8080/"
        },
        "id": "gnpUYCAXNGxE",
        "outputId": "7c84f80f-b3e5-4c15-9e7b-157e25e3e097"
      },
      "execution_count": 58,
      "outputs": [
        {
          "output_type": "execute_result",
          "data": {
            "text/plain": [
              "29"
            ]
          },
          "metadata": {},
          "execution_count": 58
        }
      ]
    },
    {
      "cell_type": "code",
      "source": [
        "loan_data['mths_since_earliest_cr_line'].mean()"
      ],
      "metadata": {
        "colab": {
          "base_uri": "https://localhost:8080/"
        },
        "id": "GQ0A7aNNNNMs",
        "outputId": "d54866b7-ea94-42ab-f2c9-7aeb8a73699a"
      },
      "execution_count": 59,
      "outputs": [
        {
          "output_type": "execute_result",
          "data": {
            "text/plain": [
              "242.38537412923372"
            ]
          },
          "metadata": {},
          "execution_count": 59
        }
      ]
    },
    {
      "cell_type": "code",
      "source": [
        "loan_data['mths_since_earliest_cr_line'].fillna(0, inplace=True)"
      ],
      "metadata": {
        "id": "jbRFlcYfNSoX"
      },
      "execution_count": 60,
      "outputs": []
    },
    {
      "cell_type": "code",
      "source": [
        "loan_data['mths_since_earliest_cr_line'].isna().sum()"
      ],
      "metadata": {
        "colab": {
          "base_uri": "https://localhost:8080/"
        },
        "id": "XD7NdiflNZiS",
        "outputId": "84d78818-4652-4967-c633-59f18f1adac5"
      },
      "execution_count": 61,
      "outputs": [
        {
          "output_type": "execute_result",
          "data": {
            "text/plain": [
              "0"
            ]
          },
          "metadata": {},
          "execution_count": 61
        }
      ]
    },
    {
      "cell_type": "code",
      "source": [
        "loan_data['acc_now_delinq'].fillna(0, inplace=True)\n",
        "loan_data['total_acc'].fillna(0, inplace=True)\n",
        "loan_data['pub_rec'].fillna(0, inplace=True)\n",
        "loan_data['open_acc'].fillna(0, inplace=True)\n",
        "loan_data['inq_last_6mths'].fillna(0, inplace=True)\n",
        "loan_data['delinq_2yrs'].fillna(0, inplace=True)\n",
        "loan_data['emp_length_int'].fillna(0, inplace=True)"
      ],
      "metadata": {
        "id": "-w0dOZMYNcAe"
      },
      "execution_count": 62,
      "outputs": []
    },
    {
      "cell_type": "code",
      "source": [
        "from IPython import display\n",
        "\n",
        "# Display the DataFrame\n",
        "display.display(loan_data)\n",
        "\n",
        "# Adjust the output height to 300px.\n",
        "display.Javascript(\"google.colab.output.setIframeHeight('300px');\")"
      ],
      "metadata": {
        "colab": {
          "base_uri": "https://localhost:8080/",
          "height": 300
        },
        "id": "z0hFlKNmOUsC",
        "outputId": "cfa09543-6ab2-4b61-a33a-62b936c1d749"
      },
      "execution_count": 63,
      "outputs": [
        {
          "output_type": "display_data",
          "data": {
            "text/plain": [
              "        Unnamed: 0       id  member_id  loan_amnt  funded_amnt  \\\n",
              "0                0  1077501    1296599       5000         5000   \n",
              "1                1  1077430    1314167       2500         2500   \n",
              "2                2  1077175    1313524       2400         2400   \n",
              "3                3  1076863    1277178      10000        10000   \n",
              "4                4  1075358    1311748       3000         3000   \n",
              "...            ...      ...        ...        ...          ...   \n",
              "466280      466280  8598660    1440975      18400        18400   \n",
              "466281      466281  9684700   11536848      22000        22000   \n",
              "466282      466282  9584776   11436914      20700        20700   \n",
              "466283      466283  9604874   11457002       2000         2000   \n",
              "466284      466284  9199665   11061576      10000        10000   \n",
              "\n",
              "        funded_amnt_inv        term  int_rate  installment grade  ...  \\\n",
              "0                4975.0   36 months     10.65       162.87     B  ...   \n",
              "1                2500.0   60 months     15.27        59.83     C  ...   \n",
              "2                2400.0   36 months     15.96        84.33     C  ...   \n",
              "3               10000.0   36 months     13.49       339.31     C  ...   \n",
              "4                3000.0   60 months     12.69        67.79     B  ...   \n",
              "...                 ...         ...       ...          ...   ...  ...   \n",
              "466280          18400.0   60 months     14.47       432.64     C  ...   \n",
              "466281          22000.0   60 months     19.97       582.50     D  ...   \n",
              "466282          20700.0   60 months     16.99       514.34     D  ...   \n",
              "466283           2000.0   36 months      7.90        62.59     A  ...   \n",
              "466284           9975.0   36 months     19.20       367.58     D  ...   \n",
              "\n",
              "       addr_state-TX addr_state-UT addr_state-VA addr_state-VT  addr_state-WA  \\\n",
              "0                  0             0             0             0              0   \n",
              "1                  0             0             0             0              0   \n",
              "2                  0             0             0             0              0   \n",
              "3                  0             0             0             0              0   \n",
              "4                  0             0             0             0              0   \n",
              "...              ...           ...           ...           ...            ...   \n",
              "466280             1             0             0             0              0   \n",
              "466281             0             0             0             0              0   \n",
              "466282             0             0             0             0              0   \n",
              "466283             0             0             0             0              0   \n",
              "466284             0             0             0             0              0   \n",
              "\n",
              "       addr_state-WI addr_state-WV addr_state-WY initial_list_status-f  \\\n",
              "0                  0             0             0                     1   \n",
              "1                  0             0             0                     1   \n",
              "2                  0             0             0                     1   \n",
              "3                  0             0             0                     1   \n",
              "4                  0             0             0                     1   \n",
              "...              ...           ...           ...                   ...   \n",
              "466280             0             0             0                     0   \n",
              "466281             0             0             0                     1   \n",
              "466282             0             0             0                     1   \n",
              "466283             0             0             0                     0   \n",
              "466284             0             0             0                     1   \n",
              "\n",
              "       initial_list_status-w  \n",
              "0                          0  \n",
              "1                          0  \n",
              "2                          0  \n",
              "3                          0  \n",
              "4                          0  \n",
              "...                      ...  \n",
              "466280                     1  \n",
              "466281                     0  \n",
              "466282                     0  \n",
              "466283                     1  \n",
              "466284                     0  \n",
              "\n",
              "[466285 rows x 207 columns]"
            ],
            "text/html": [
              "\n",
              "  <div id=\"df-afb96ff0-bdfe-41a9-b4fb-4546592dbcb2\">\n",
              "    <div class=\"colab-df-container\">\n",
              "      <div>\n",
              "<style scoped>\n",
              "    .dataframe tbody tr th:only-of-type {\n",
              "        vertical-align: middle;\n",
              "    }\n",
              "\n",
              "    .dataframe tbody tr th {\n",
              "        vertical-align: top;\n",
              "    }\n",
              "\n",
              "    .dataframe thead th {\n",
              "        text-align: right;\n",
              "    }\n",
              "</style>\n",
              "<table border=\"1\" class=\"dataframe\">\n",
              "  <thead>\n",
              "    <tr style=\"text-align: right;\">\n",
              "      <th></th>\n",
              "      <th>Unnamed: 0</th>\n",
              "      <th>id</th>\n",
              "      <th>member_id</th>\n",
              "      <th>loan_amnt</th>\n",
              "      <th>funded_amnt</th>\n",
              "      <th>funded_amnt_inv</th>\n",
              "      <th>term</th>\n",
              "      <th>int_rate</th>\n",
              "      <th>installment</th>\n",
              "      <th>grade</th>\n",
              "      <th>...</th>\n",
              "      <th>addr_state-TX</th>\n",
              "      <th>addr_state-UT</th>\n",
              "      <th>addr_state-VA</th>\n",
              "      <th>addr_state-VT</th>\n",
              "      <th>addr_state-WA</th>\n",
              "      <th>addr_state-WI</th>\n",
              "      <th>addr_state-WV</th>\n",
              "      <th>addr_state-WY</th>\n",
              "      <th>initial_list_status-f</th>\n",
              "      <th>initial_list_status-w</th>\n",
              "    </tr>\n",
              "  </thead>\n",
              "  <tbody>\n",
              "    <tr>\n",
              "      <th>0</th>\n",
              "      <td>0</td>\n",
              "      <td>1077501</td>\n",
              "      <td>1296599</td>\n",
              "      <td>5000</td>\n",
              "      <td>5000</td>\n",
              "      <td>4975.0</td>\n",
              "      <td>36 months</td>\n",
              "      <td>10.65</td>\n",
              "      <td>162.87</td>\n",
              "      <td>B</td>\n",
              "      <td>...</td>\n",
              "      <td>0</td>\n",
              "      <td>0</td>\n",
              "      <td>0</td>\n",
              "      <td>0</td>\n",
              "      <td>0</td>\n",
              "      <td>0</td>\n",
              "      <td>0</td>\n",
              "      <td>0</td>\n",
              "      <td>1</td>\n",
              "      <td>0</td>\n",
              "    </tr>\n",
              "    <tr>\n",
              "      <th>1</th>\n",
              "      <td>1</td>\n",
              "      <td>1077430</td>\n",
              "      <td>1314167</td>\n",
              "      <td>2500</td>\n",
              "      <td>2500</td>\n",
              "      <td>2500.0</td>\n",
              "      <td>60 months</td>\n",
              "      <td>15.27</td>\n",
              "      <td>59.83</td>\n",
              "      <td>C</td>\n",
              "      <td>...</td>\n",
              "      <td>0</td>\n",
              "      <td>0</td>\n",
              "      <td>0</td>\n",
              "      <td>0</td>\n",
              "      <td>0</td>\n",
              "      <td>0</td>\n",
              "      <td>0</td>\n",
              "      <td>0</td>\n",
              "      <td>1</td>\n",
              "      <td>0</td>\n",
              "    </tr>\n",
              "    <tr>\n",
              "      <th>2</th>\n",
              "      <td>2</td>\n",
              "      <td>1077175</td>\n",
              "      <td>1313524</td>\n",
              "      <td>2400</td>\n",
              "      <td>2400</td>\n",
              "      <td>2400.0</td>\n",
              "      <td>36 months</td>\n",
              "      <td>15.96</td>\n",
              "      <td>84.33</td>\n",
              "      <td>C</td>\n",
              "      <td>...</td>\n",
              "      <td>0</td>\n",
              "      <td>0</td>\n",
              "      <td>0</td>\n",
              "      <td>0</td>\n",
              "      <td>0</td>\n",
              "      <td>0</td>\n",
              "      <td>0</td>\n",
              "      <td>0</td>\n",
              "      <td>1</td>\n",
              "      <td>0</td>\n",
              "    </tr>\n",
              "    <tr>\n",
              "      <th>3</th>\n",
              "      <td>3</td>\n",
              "      <td>1076863</td>\n",
              "      <td>1277178</td>\n",
              "      <td>10000</td>\n",
              "      <td>10000</td>\n",
              "      <td>10000.0</td>\n",
              "      <td>36 months</td>\n",
              "      <td>13.49</td>\n",
              "      <td>339.31</td>\n",
              "      <td>C</td>\n",
              "      <td>...</td>\n",
              "      <td>0</td>\n",
              "      <td>0</td>\n",
              "      <td>0</td>\n",
              "      <td>0</td>\n",
              "      <td>0</td>\n",
              "      <td>0</td>\n",
              "      <td>0</td>\n",
              "      <td>0</td>\n",
              "      <td>1</td>\n",
              "      <td>0</td>\n",
              "    </tr>\n",
              "    <tr>\n",
              "      <th>4</th>\n",
              "      <td>4</td>\n",
              "      <td>1075358</td>\n",
              "      <td>1311748</td>\n",
              "      <td>3000</td>\n",
              "      <td>3000</td>\n",
              "      <td>3000.0</td>\n",
              "      <td>60 months</td>\n",
              "      <td>12.69</td>\n",
              "      <td>67.79</td>\n",
              "      <td>B</td>\n",
              "      <td>...</td>\n",
              "      <td>0</td>\n",
              "      <td>0</td>\n",
              "      <td>0</td>\n",
              "      <td>0</td>\n",
              "      <td>0</td>\n",
              "      <td>0</td>\n",
              "      <td>0</td>\n",
              "      <td>0</td>\n",
              "      <td>1</td>\n",
              "      <td>0</td>\n",
              "    </tr>\n",
              "    <tr>\n",
              "      <th>...</th>\n",
              "      <td>...</td>\n",
              "      <td>...</td>\n",
              "      <td>...</td>\n",
              "      <td>...</td>\n",
              "      <td>...</td>\n",
              "      <td>...</td>\n",
              "      <td>...</td>\n",
              "      <td>...</td>\n",
              "      <td>...</td>\n",
              "      <td>...</td>\n",
              "      <td>...</td>\n",
              "      <td>...</td>\n",
              "      <td>...</td>\n",
              "      <td>...</td>\n",
              "      <td>...</td>\n",
              "      <td>...</td>\n",
              "      <td>...</td>\n",
              "      <td>...</td>\n",
              "      <td>...</td>\n",
              "      <td>...</td>\n",
              "      <td>...</td>\n",
              "    </tr>\n",
              "    <tr>\n",
              "      <th>466280</th>\n",
              "      <td>466280</td>\n",
              "      <td>8598660</td>\n",
              "      <td>1440975</td>\n",
              "      <td>18400</td>\n",
              "      <td>18400</td>\n",
              "      <td>18400.0</td>\n",
              "      <td>60 months</td>\n",
              "      <td>14.47</td>\n",
              "      <td>432.64</td>\n",
              "      <td>C</td>\n",
              "      <td>...</td>\n",
              "      <td>1</td>\n",
              "      <td>0</td>\n",
              "      <td>0</td>\n",
              "      <td>0</td>\n",
              "      <td>0</td>\n",
              "      <td>0</td>\n",
              "      <td>0</td>\n",
              "      <td>0</td>\n",
              "      <td>0</td>\n",
              "      <td>1</td>\n",
              "    </tr>\n",
              "    <tr>\n",
              "      <th>466281</th>\n",
              "      <td>466281</td>\n",
              "      <td>9684700</td>\n",
              "      <td>11536848</td>\n",
              "      <td>22000</td>\n",
              "      <td>22000</td>\n",
              "      <td>22000.0</td>\n",
              "      <td>60 months</td>\n",
              "      <td>19.97</td>\n",
              "      <td>582.50</td>\n",
              "      <td>D</td>\n",
              "      <td>...</td>\n",
              "      <td>0</td>\n",
              "      <td>0</td>\n",
              "      <td>0</td>\n",
              "      <td>0</td>\n",
              "      <td>0</td>\n",
              "      <td>0</td>\n",
              "      <td>0</td>\n",
              "      <td>0</td>\n",
              "      <td>1</td>\n",
              "      <td>0</td>\n",
              "    </tr>\n",
              "    <tr>\n",
              "      <th>466282</th>\n",
              "      <td>466282</td>\n",
              "      <td>9584776</td>\n",
              "      <td>11436914</td>\n",
              "      <td>20700</td>\n",
              "      <td>20700</td>\n",
              "      <td>20700.0</td>\n",
              "      <td>60 months</td>\n",
              "      <td>16.99</td>\n",
              "      <td>514.34</td>\n",
              "      <td>D</td>\n",
              "      <td>...</td>\n",
              "      <td>0</td>\n",
              "      <td>0</td>\n",
              "      <td>0</td>\n",
              "      <td>0</td>\n",
              "      <td>0</td>\n",
              "      <td>0</td>\n",
              "      <td>0</td>\n",
              "      <td>0</td>\n",
              "      <td>1</td>\n",
              "      <td>0</td>\n",
              "    </tr>\n",
              "    <tr>\n",
              "      <th>466283</th>\n",
              "      <td>466283</td>\n",
              "      <td>9604874</td>\n",
              "      <td>11457002</td>\n",
              "      <td>2000</td>\n",
              "      <td>2000</td>\n",
              "      <td>2000.0</td>\n",
              "      <td>36 months</td>\n",
              "      <td>7.90</td>\n",
              "      <td>62.59</td>\n",
              "      <td>A</td>\n",
              "      <td>...</td>\n",
              "      <td>0</td>\n",
              "      <td>0</td>\n",
              "      <td>0</td>\n",
              "      <td>0</td>\n",
              "      <td>0</td>\n",
              "      <td>0</td>\n",
              "      <td>0</td>\n",
              "      <td>0</td>\n",
              "      <td>0</td>\n",
              "      <td>1</td>\n",
              "    </tr>\n",
              "    <tr>\n",
              "      <th>466284</th>\n",
              "      <td>466284</td>\n",
              "      <td>9199665</td>\n",
              "      <td>11061576</td>\n",
              "      <td>10000</td>\n",
              "      <td>10000</td>\n",
              "      <td>9975.0</td>\n",
              "      <td>36 months</td>\n",
              "      <td>19.20</td>\n",
              "      <td>367.58</td>\n",
              "      <td>D</td>\n",
              "      <td>...</td>\n",
              "      <td>0</td>\n",
              "      <td>0</td>\n",
              "      <td>0</td>\n",
              "      <td>0</td>\n",
              "      <td>0</td>\n",
              "      <td>0</td>\n",
              "      <td>0</td>\n",
              "      <td>0</td>\n",
              "      <td>1</td>\n",
              "      <td>0</td>\n",
              "    </tr>\n",
              "  </tbody>\n",
              "</table>\n",
              "<p>466285 rows × 207 columns</p>\n",
              "</div>\n",
              "      <button class=\"colab-df-convert\" onclick=\"convertToInteractive('df-afb96ff0-bdfe-41a9-b4fb-4546592dbcb2')\"\n",
              "              title=\"Convert this dataframe to an interactive table.\"\n",
              "              style=\"display:none;\">\n",
              "        \n",
              "  <svg xmlns=\"http://www.w3.org/2000/svg\" height=\"24px\"viewBox=\"0 0 24 24\"\n",
              "       width=\"24px\">\n",
              "    <path d=\"M0 0h24v24H0V0z\" fill=\"none\"/>\n",
              "    <path d=\"M18.56 5.44l.94 2.06.94-2.06 2.06-.94-2.06-.94-.94-2.06-.94 2.06-2.06.94zm-11 1L8.5 8.5l.94-2.06 2.06-.94-2.06-.94L8.5 2.5l-.94 2.06-2.06.94zm10 10l.94 2.06.94-2.06 2.06-.94-2.06-.94-.94-2.06-.94 2.06-2.06.94z\"/><path d=\"M17.41 7.96l-1.37-1.37c-.4-.4-.92-.59-1.43-.59-.52 0-1.04.2-1.43.59L10.3 9.45l-7.72 7.72c-.78.78-.78 2.05 0 2.83L4 21.41c.39.39.9.59 1.41.59.51 0 1.02-.2 1.41-.59l7.78-7.78 2.81-2.81c.8-.78.8-2.07 0-2.86zM5.41 20L4 18.59l7.72-7.72 1.47 1.35L5.41 20z\"/>\n",
              "  </svg>\n",
              "      </button>\n",
              "      \n",
              "  <style>\n",
              "    .colab-df-container {\n",
              "      display:flex;\n",
              "      flex-wrap:wrap;\n",
              "      gap: 12px;\n",
              "    }\n",
              "\n",
              "    .colab-df-convert {\n",
              "      background-color: #E8F0FE;\n",
              "      border: none;\n",
              "      border-radius: 50%;\n",
              "      cursor: pointer;\n",
              "      display: none;\n",
              "      fill: #1967D2;\n",
              "      height: 32px;\n",
              "      padding: 0 0 0 0;\n",
              "      width: 32px;\n",
              "    }\n",
              "\n",
              "    .colab-df-convert:hover {\n",
              "      background-color: #E2EBFA;\n",
              "      box-shadow: 0px 1px 2px rgba(60, 64, 67, 0.3), 0px 1px 3px 1px rgba(60, 64, 67, 0.15);\n",
              "      fill: #174EA6;\n",
              "    }\n",
              "\n",
              "    [theme=dark] .colab-df-convert {\n",
              "      background-color: #3B4455;\n",
              "      fill: #D2E3FC;\n",
              "    }\n",
              "\n",
              "    [theme=dark] .colab-df-convert:hover {\n",
              "      background-color: #434B5C;\n",
              "      box-shadow: 0px 1px 3px 1px rgba(0, 0, 0, 0.15);\n",
              "      filter: drop-shadow(0px 1px 2px rgba(0, 0, 0, 0.3));\n",
              "      fill: #FFFFFF;\n",
              "    }\n",
              "  </style>\n",
              "\n",
              "      <script>\n",
              "        const buttonEl =\n",
              "          document.querySelector('#df-afb96ff0-bdfe-41a9-b4fb-4546592dbcb2 button.colab-df-convert');\n",
              "        buttonEl.style.display =\n",
              "          google.colab.kernel.accessAllowed ? 'block' : 'none';\n",
              "\n",
              "        async function convertToInteractive(key) {\n",
              "          const element = document.querySelector('#df-afb96ff0-bdfe-41a9-b4fb-4546592dbcb2');\n",
              "          const dataTable =\n",
              "            await google.colab.kernel.invokeFunction('convertToInteractive',\n",
              "                                                     [key], {});\n",
              "          if (!dataTable) return;\n",
              "\n",
              "          const docLinkHtml = 'Like what you see? Visit the ' +\n",
              "            '<a target=\"_blank\" href=https://colab.research.google.com/notebooks/data_table.ipynb>data table notebook</a>'\n",
              "            + ' to learn more about interactive tables.';\n",
              "          element.innerHTML = '';\n",
              "          dataTable['output_type'] = 'display_data';\n",
              "          await google.colab.output.renderOutput(dataTable, element);\n",
              "          const docLink = document.createElement('div');\n",
              "          docLink.innerHTML = docLinkHtml;\n",
              "          element.appendChild(docLink);\n",
              "        }\n",
              "      </script>\n",
              "    </div>\n",
              "  </div>\n",
              "  "
            ]
          },
          "metadata": {}
        },
        {
          "output_type": "execute_result",
          "data": {
            "text/plain": [
              "<IPython.core.display.Javascript object>"
            ],
            "application/javascript": [
              "google.colab.output.setIframeHeight('300px');"
            ]
          },
          "metadata": {},
          "execution_count": 63
        }
      ]
    },
    {
      "cell_type": "code",
      "source": [
        "loan_data.isna().sum()"
      ],
      "metadata": {
        "colab": {
          "base_uri": "https://localhost:8080/"
        },
        "id": "2t7cYBAFN0IN",
        "outputId": "aff4a451-48d1-4fb7-acad-f2016e6805f1"
      },
      "execution_count": 64,
      "outputs": [
        {
          "output_type": "execute_result",
          "data": {
            "text/plain": [
              "Unnamed: 0               0\n",
              "id                       0\n",
              "member_id                0\n",
              "loan_amnt                0\n",
              "funded_amnt              0\n",
              "                        ..\n",
              "addr_state-WI            0\n",
              "addr_state-WV            0\n",
              "addr_state-WY            0\n",
              "initial_list_status-f    0\n",
              "initial_list_status-w    0\n",
              "Length: 207, dtype: int64"
            ]
          },
          "metadata": {},
          "execution_count": 64
        }
      ]
    },
    {
      "cell_type": "code",
      "source": [
        "loan_data['loan_status'].unique()"
      ],
      "metadata": {
        "colab": {
          "base_uri": "https://localhost:8080/"
        },
        "id": "Ceux5s8pN3wb",
        "outputId": "767a01dc-f34a-466f-9376-924d65742a5e"
      },
      "execution_count": 65,
      "outputs": [
        {
          "output_type": "execute_result",
          "data": {
            "text/plain": [
              "array(['Fully Paid', 'Charged Off', 'Current', 'Default',\n",
              "       'Late (31-120 days)', 'In Grace Period', 'Late (16-30 days)',\n",
              "       'Does not meet the credit policy. Status:Fully Paid',\n",
              "       'Does not meet the credit policy. Status:Charged Off'],\n",
              "      dtype=object)"
            ]
          },
          "metadata": {},
          "execution_count": 65
        }
      ]
    },
    {
      "cell_type": "code",
      "source": [
        "loan_data['loan_status'].value_counts()"
      ],
      "metadata": {
        "id": "TyttzdsqhMsL",
        "outputId": "3da9bbf5-1ab6-43fe-cb85-f0c4945e7f15",
        "colab": {
          "base_uri": "https://localhost:8080/"
        }
      },
      "execution_count": 66,
      "outputs": [
        {
          "output_type": "execute_result",
          "data": {
            "text/plain": [
              "Current                                                224226\n",
              "Fully Paid                                             184739\n",
              "Charged Off                                             42475\n",
              "Late (31-120 days)                                       6900\n",
              "In Grace Period                                          3146\n",
              "Does not meet the credit policy. Status:Fully Paid       1988\n",
              "Late (16-30 days)                                        1218\n",
              "Default                                                   832\n",
              "Does not meet the credit policy. Status:Charged Off       761\n",
              "Name: loan_status, dtype: int64"
            ]
          },
          "metadata": {},
          "execution_count": 66
        }
      ]
    },
    {
      "cell_type": "code",
      "source": [
        "loan_data['loan_status'].value_counts() / loan_data['loan_status'].count()"
      ],
      "metadata": {
        "id": "3-KLW4ZJhhlq",
        "outputId": "d719e797-724d-4d63-bad9-727c85ca903c",
        "colab": {
          "base_uri": "https://localhost:8080/"
        }
      },
      "execution_count": 67,
      "outputs": [
        {
          "output_type": "execute_result",
          "data": {
            "text/plain": [
              "Current                                                0.480878\n",
              "Fully Paid                                             0.396193\n",
              "Charged Off                                            0.091092\n",
              "Late (31-120 days)                                     0.014798\n",
              "In Grace Period                                        0.006747\n",
              "Does not meet the credit policy. Status:Fully Paid     0.004263\n",
              "Late (16-30 days)                                      0.002612\n",
              "Default                                                0.001784\n",
              "Does not meet the credit policy. Status:Charged Off    0.001632\n",
              "Name: loan_status, dtype: float64"
            ]
          },
          "metadata": {},
          "execution_count": 67
        }
      ]
    },
    {
      "cell_type": "code",
      "source": [
        "loan_data['good_bad'] = np.where(loan_data['loan_status'].isin(['Charged Off','Default','Late (31-120 days)','Does not meet the credit policy. Status:Charged Off']),0,1)"
      ],
      "metadata": {
        "id": "GwkOA0bjobbv"
      },
      "execution_count": 68,
      "outputs": []
    },
    {
      "cell_type": "code",
      "source": [
        "loan_data['good_bad'].unique()"
      ],
      "metadata": {
        "id": "stxuZV3upYtq",
        "outputId": "d9dc5db4-3842-4f2c-d3fa-fbe602bed4a0",
        "colab": {
          "base_uri": "https://localhost:8080/"
        }
      },
      "execution_count": 69,
      "outputs": [
        {
          "output_type": "execute_result",
          "data": {
            "text/plain": [
              "array([1, 0])"
            ]
          },
          "metadata": {},
          "execution_count": 69
        }
      ]
    },
    {
      "cell_type": "markdown",
      "source": [
        "# Splitting the data into Train and Test"
      ],
      "metadata": {
        "id": "POTDy2k_HDzA"
      }
    },
    {
      "cell_type": "code",
      "source": [
        "from sklearn.model_selection import train_test_split"
      ],
      "metadata": {
        "id": "jBGwn6lpHDaw"
      },
      "execution_count": 70,
      "outputs": []
    },
    {
      "cell_type": "code",
      "source": [
        "loan_data.columns"
      ],
      "metadata": {
        "colab": {
          "base_uri": "https://localhost:8080/"
        },
        "id": "S9JJ-xFAIDTC",
        "outputId": "872fbcec-eb39-4e57-cd08-f7151860f844"
      },
      "execution_count": 71,
      "outputs": [
        {
          "output_type": "execute_result",
          "data": {
            "text/plain": [
              "Index(['Unnamed: 0', 'id', 'member_id', 'loan_amnt', 'funded_amnt',\n",
              "       'funded_amnt_inv', 'term', 'int_rate', 'installment', 'grade',\n",
              "       ...\n",
              "       'addr_state-UT', 'addr_state-VA', 'addr_state-VT', 'addr_state-WA',\n",
              "       'addr_state-WI', 'addr_state-WV', 'addr_state-WY',\n",
              "       'initial_list_status-f', 'initial_list_status-w', 'good_bad'],\n",
              "      dtype='object', length=208)"
            ]
          },
          "metadata": {},
          "execution_count": 71
        }
      ]
    },
    {
      "cell_type": "code",
      "source": [
        "X = loan_data.drop('good_bad', axis=1)"
      ],
      "metadata": {
        "id": "t3mFMkYfHTnN"
      },
      "execution_count": 72,
      "outputs": []
    },
    {
      "cell_type": "code",
      "source": [
        "y = loan_data['good_bad']"
      ],
      "metadata": {
        "id": "JsuET2WpIKBY"
      },
      "execution_count": 73,
      "outputs": []
    },
    {
      "cell_type": "code",
      "source": [
        "X_train, X_test, y_train, y_test = train_test_split(X,y, test_size=0.2, random_state=42)"
      ],
      "metadata": {
        "id": "mg9LblGYpvWx"
      },
      "execution_count": 74,
      "outputs": []
    },
    {
      "cell_type": "code",
      "source": [
        "X_train.shape"
      ],
      "metadata": {
        "colab": {
          "base_uri": "https://localhost:8080/"
        },
        "id": "gWhw2Y5_IQFM",
        "outputId": "4e2e1dd4-1f11-4a48-cacd-d7a7f0f4563f"
      },
      "execution_count": 75,
      "outputs": [
        {
          "output_type": "execute_result",
          "data": {
            "text/plain": [
              "(373028, 207)"
            ]
          },
          "metadata": {},
          "execution_count": 75
        }
      ]
    },
    {
      "cell_type": "code",
      "source": [
        "y_train.shape"
      ],
      "metadata": {
        "colab": {
          "base_uri": "https://localhost:8080/"
        },
        "id": "FpjDKsnQISqN",
        "outputId": "f9ed0320-38a4-408c-92e6-49ccc2f4a551"
      },
      "execution_count": 76,
      "outputs": [
        {
          "output_type": "execute_result",
          "data": {
            "text/plain": [
              "(373028,)"
            ]
          },
          "metadata": {},
          "execution_count": 76
        }
      ]
    },
    {
      "cell_type": "code",
      "source": [
        "X_test.shape"
      ],
      "metadata": {
        "colab": {
          "base_uri": "https://localhost:8080/"
        },
        "id": "SskIhyymIUii",
        "outputId": "314fdb15-3621-4c0b-cc2a-6cae069d6367"
      },
      "execution_count": 77,
      "outputs": [
        {
          "output_type": "execute_result",
          "data": {
            "text/plain": [
              "(93257, 207)"
            ]
          },
          "metadata": {},
          "execution_count": 77
        }
      ]
    },
    {
      "cell_type": "code",
      "source": [
        "y_test.shape"
      ],
      "metadata": {
        "colab": {
          "base_uri": "https://localhost:8080/"
        },
        "id": "V8Z0sBfKIW-j",
        "outputId": "a5195d9b-0071-4439-f648-3cbd8e2e357f"
      },
      "execution_count": 78,
      "outputs": [
        {
          "output_type": "execute_result",
          "data": {
            "text/plain": [
              "(93257,)"
            ]
          },
          "metadata": {},
          "execution_count": 78
        }
      ]
    },
    {
      "cell_type": "code",
      "source": [
        "loan_data.shape"
      ],
      "metadata": {
        "colab": {
          "base_uri": "https://localhost:8080/"
        },
        "id": "G9aYST-1IYQA",
        "outputId": "a2cd0bec-cac8-4cfe-aac2-b670a0a11991"
      },
      "execution_count": 79,
      "outputs": [
        {
          "output_type": "execute_result",
          "data": {
            "text/plain": [
              "(466285, 208)"
            ]
          },
          "metadata": {},
          "execution_count": 79
        }
      ]
    },
    {
      "cell_type": "markdown",
      "source": [
        "#Data Preparation"
      ],
      "metadata": {
        "id": "DEIfEwlcJPJk"
      }
    },
    {
      "cell_type": "code",
      "source": [
        "df_inputs_prepr = X_train\n",
        "df_targets_prepr = y_train"
      ],
      "metadata": {
        "id": "ByYqKiITIfcE"
      },
      "execution_count": 80,
      "outputs": []
    },
    {
      "cell_type": "code",
      "source": [
        "df_inputs_prepr['grade'].unique()"
      ],
      "metadata": {
        "colab": {
          "base_uri": "https://localhost:8080/"
        },
        "id": "aRN6vjlsIko8",
        "outputId": "3efd4445-e5da-4d10-c005-9c1241176a0f"
      },
      "execution_count": 81,
      "outputs": [
        {
          "output_type": "execute_result",
          "data": {
            "text/plain": [
              "array(['A', 'C', 'D', 'B', 'E', 'F', 'G'], dtype=object)"
            ]
          },
          "metadata": {},
          "execution_count": 81
        }
      ]
    },
    {
      "cell_type": "code",
      "source": [
        "df1 = pd.concat([df_inputs_prepr['grade'], df_targets_prepr], axis=1)"
      ],
      "metadata": {
        "id": "MnIBuMmhJjBm"
      },
      "execution_count": 82,
      "outputs": []
    },
    {
      "cell_type": "code",
      "source": [
        "df1.head()"
      ],
      "metadata": {
        "colab": {
          "base_uri": "https://localhost:8080/",
          "height": 206
        },
        "id": "XCmSVte_Jw3M",
        "outputId": "895905c0-6843-4b37-feda-7e42658587c1"
      },
      "execution_count": 83,
      "outputs": [
        {
          "output_type": "execute_result",
          "data": {
            "text/plain": [
              "       grade  good_bad\n",
              "427211     A         1\n",
              "206088     C         1\n",
              "136020     A         1\n",
              "412305     D         0\n",
              "36159      C         0"
            ],
            "text/html": [
              "\n",
              "  <div id=\"df-da1a1293-d29f-4c5e-aa74-4e2dba6abba3\">\n",
              "    <div class=\"colab-df-container\">\n",
              "      <div>\n",
              "<style scoped>\n",
              "    .dataframe tbody tr th:only-of-type {\n",
              "        vertical-align: middle;\n",
              "    }\n",
              "\n",
              "    .dataframe tbody tr th {\n",
              "        vertical-align: top;\n",
              "    }\n",
              "\n",
              "    .dataframe thead th {\n",
              "        text-align: right;\n",
              "    }\n",
              "</style>\n",
              "<table border=\"1\" class=\"dataframe\">\n",
              "  <thead>\n",
              "    <tr style=\"text-align: right;\">\n",
              "      <th></th>\n",
              "      <th>grade</th>\n",
              "      <th>good_bad</th>\n",
              "    </tr>\n",
              "  </thead>\n",
              "  <tbody>\n",
              "    <tr>\n",
              "      <th>427211</th>\n",
              "      <td>A</td>\n",
              "      <td>1</td>\n",
              "    </tr>\n",
              "    <tr>\n",
              "      <th>206088</th>\n",
              "      <td>C</td>\n",
              "      <td>1</td>\n",
              "    </tr>\n",
              "    <tr>\n",
              "      <th>136020</th>\n",
              "      <td>A</td>\n",
              "      <td>1</td>\n",
              "    </tr>\n",
              "    <tr>\n",
              "      <th>412305</th>\n",
              "      <td>D</td>\n",
              "      <td>0</td>\n",
              "    </tr>\n",
              "    <tr>\n",
              "      <th>36159</th>\n",
              "      <td>C</td>\n",
              "      <td>0</td>\n",
              "    </tr>\n",
              "  </tbody>\n",
              "</table>\n",
              "</div>\n",
              "      <button class=\"colab-df-convert\" onclick=\"convertToInteractive('df-da1a1293-d29f-4c5e-aa74-4e2dba6abba3')\"\n",
              "              title=\"Convert this dataframe to an interactive table.\"\n",
              "              style=\"display:none;\">\n",
              "        \n",
              "  <svg xmlns=\"http://www.w3.org/2000/svg\" height=\"24px\"viewBox=\"0 0 24 24\"\n",
              "       width=\"24px\">\n",
              "    <path d=\"M0 0h24v24H0V0z\" fill=\"none\"/>\n",
              "    <path d=\"M18.56 5.44l.94 2.06.94-2.06 2.06-.94-2.06-.94-.94-2.06-.94 2.06-2.06.94zm-11 1L8.5 8.5l.94-2.06 2.06-.94-2.06-.94L8.5 2.5l-.94 2.06-2.06.94zm10 10l.94 2.06.94-2.06 2.06-.94-2.06-.94-.94-2.06-.94 2.06-2.06.94z\"/><path d=\"M17.41 7.96l-1.37-1.37c-.4-.4-.92-.59-1.43-.59-.52 0-1.04.2-1.43.59L10.3 9.45l-7.72 7.72c-.78.78-.78 2.05 0 2.83L4 21.41c.39.39.9.59 1.41.59.51 0 1.02-.2 1.41-.59l7.78-7.78 2.81-2.81c.8-.78.8-2.07 0-2.86zM5.41 20L4 18.59l7.72-7.72 1.47 1.35L5.41 20z\"/>\n",
              "  </svg>\n",
              "      </button>\n",
              "      \n",
              "  <style>\n",
              "    .colab-df-container {\n",
              "      display:flex;\n",
              "      flex-wrap:wrap;\n",
              "      gap: 12px;\n",
              "    }\n",
              "\n",
              "    .colab-df-convert {\n",
              "      background-color: #E8F0FE;\n",
              "      border: none;\n",
              "      border-radius: 50%;\n",
              "      cursor: pointer;\n",
              "      display: none;\n",
              "      fill: #1967D2;\n",
              "      height: 32px;\n",
              "      padding: 0 0 0 0;\n",
              "      width: 32px;\n",
              "    }\n",
              "\n",
              "    .colab-df-convert:hover {\n",
              "      background-color: #E2EBFA;\n",
              "      box-shadow: 0px 1px 2px rgba(60, 64, 67, 0.3), 0px 1px 3px 1px rgba(60, 64, 67, 0.15);\n",
              "      fill: #174EA6;\n",
              "    }\n",
              "\n",
              "    [theme=dark] .colab-df-convert {\n",
              "      background-color: #3B4455;\n",
              "      fill: #D2E3FC;\n",
              "    }\n",
              "\n",
              "    [theme=dark] .colab-df-convert:hover {\n",
              "      background-color: #434B5C;\n",
              "      box-shadow: 0px 1px 3px 1px rgba(0, 0, 0, 0.15);\n",
              "      filter: drop-shadow(0px 1px 2px rgba(0, 0, 0, 0.3));\n",
              "      fill: #FFFFFF;\n",
              "    }\n",
              "  </style>\n",
              "\n",
              "      <script>\n",
              "        const buttonEl =\n",
              "          document.querySelector('#df-da1a1293-d29f-4c5e-aa74-4e2dba6abba3 button.colab-df-convert');\n",
              "        buttonEl.style.display =\n",
              "          google.colab.kernel.accessAllowed ? 'block' : 'none';\n",
              "\n",
              "        async function convertToInteractive(key) {\n",
              "          const element = document.querySelector('#df-da1a1293-d29f-4c5e-aa74-4e2dba6abba3');\n",
              "          const dataTable =\n",
              "            await google.colab.kernel.invokeFunction('convertToInteractive',\n",
              "                                                     [key], {});\n",
              "          if (!dataTable) return;\n",
              "\n",
              "          const docLinkHtml = 'Like what you see? Visit the ' +\n",
              "            '<a target=\"_blank\" href=https://colab.research.google.com/notebooks/data_table.ipynb>data table notebook</a>'\n",
              "            + ' to learn more about interactive tables.';\n",
              "          element.innerHTML = '';\n",
              "          dataTable['output_type'] = 'display_data';\n",
              "          await google.colab.output.renderOutput(dataTable, element);\n",
              "          const docLink = document.createElement('div');\n",
              "          docLink.innerHTML = docLinkHtml;\n",
              "          element.appendChild(docLink);\n",
              "        }\n",
              "      </script>\n",
              "    </div>\n",
              "  </div>\n",
              "  "
            ]
          },
          "metadata": {},
          "execution_count": 83
        }
      ]
    },
    {
      "cell_type": "markdown",
      "source": [
        "intention: We have to find out how many attributes of good_bad feature in grade A, B and so on...\n",
        "For this we use groupby() function\n",
        "groupby grades upon good_bad columns with count of the later ones"
      ],
      "metadata": {
        "id": "Jt-tcbXUKvrI"
      }
    },
    {
      "cell_type": "code",
      "source": [
        "t1 = df1.groupby(df1.columns.values[0], as_index=False)[df1.columns.values[1]].count() #as_index=False, otherwise, grade will be considered as index by default"
      ],
      "metadata": {
        "id": "eVZ6nQxpJyFC"
      },
      "execution_count": 84,
      "outputs": []
    },
    {
      "cell_type": "markdown",
      "source": [
        "proportion of good borrowers calculation?\n"
      ],
      "metadata": {
        "id": "vDgeeEuYMLR0"
      }
    },
    {
      "cell_type": "code",
      "source": [
        "t2 = df1.groupby(df1.columns.values[0], as_index=False)[df1.columns.values[1]].mean()"
      ],
      "metadata": {
        "id": "ebb4GlynKmWP"
      },
      "execution_count": 85,
      "outputs": []
    },
    {
      "cell_type": "code",
      "source": [
        "#merging both the dataframes\n",
        "\n",
        "df1 = pd.concat([t1,t2], axis=1)"
      ],
      "metadata": {
        "id": "BmNTa9tQMutY"
      },
      "execution_count": 86,
      "outputs": []
    },
    {
      "cell_type": "code",
      "source": [
        "df1"
      ],
      "metadata": {
        "id": "wWlBJpcqNAyu",
        "outputId": "9b3f1eef-bef5-4e35-a811-5c551367b75f",
        "colab": {
          "base_uri": "https://localhost:8080/",
          "height": 268
        }
      },
      "execution_count": 87,
      "outputs": [
        {
          "output_type": "execute_result",
          "data": {
            "text/plain": [
              "  grade  good_bad grade  good_bad\n",
              "0     A     59759     A  0.961044\n",
              "1     B    109730     B  0.921015\n",
              "2     C    100245     C  0.885770\n",
              "3     D     61498     D  0.846304\n",
              "4     E     28612     E  0.805257\n",
              "5     F     10530     F  0.754416\n",
              "6     G      2654     G  0.727958"
            ],
            "text/html": [
              "\n",
              "  <div id=\"df-cbd35fa9-2f82-462c-8f3a-95e4c0f2629f\">\n",
              "    <div class=\"colab-df-container\">\n",
              "      <div>\n",
              "<style scoped>\n",
              "    .dataframe tbody tr th:only-of-type {\n",
              "        vertical-align: middle;\n",
              "    }\n",
              "\n",
              "    .dataframe tbody tr th {\n",
              "        vertical-align: top;\n",
              "    }\n",
              "\n",
              "    .dataframe thead th {\n",
              "        text-align: right;\n",
              "    }\n",
              "</style>\n",
              "<table border=\"1\" class=\"dataframe\">\n",
              "  <thead>\n",
              "    <tr style=\"text-align: right;\">\n",
              "      <th></th>\n",
              "      <th>grade</th>\n",
              "      <th>good_bad</th>\n",
              "      <th>grade</th>\n",
              "      <th>good_bad</th>\n",
              "    </tr>\n",
              "  </thead>\n",
              "  <tbody>\n",
              "    <tr>\n",
              "      <th>0</th>\n",
              "      <td>A</td>\n",
              "      <td>59759</td>\n",
              "      <td>A</td>\n",
              "      <td>0.961044</td>\n",
              "    </tr>\n",
              "    <tr>\n",
              "      <th>1</th>\n",
              "      <td>B</td>\n",
              "      <td>109730</td>\n",
              "      <td>B</td>\n",
              "      <td>0.921015</td>\n",
              "    </tr>\n",
              "    <tr>\n",
              "      <th>2</th>\n",
              "      <td>C</td>\n",
              "      <td>100245</td>\n",
              "      <td>C</td>\n",
              "      <td>0.885770</td>\n",
              "    </tr>\n",
              "    <tr>\n",
              "      <th>3</th>\n",
              "      <td>D</td>\n",
              "      <td>61498</td>\n",
              "      <td>D</td>\n",
              "      <td>0.846304</td>\n",
              "    </tr>\n",
              "    <tr>\n",
              "      <th>4</th>\n",
              "      <td>E</td>\n",
              "      <td>28612</td>\n",
              "      <td>E</td>\n",
              "      <td>0.805257</td>\n",
              "    </tr>\n",
              "    <tr>\n",
              "      <th>5</th>\n",
              "      <td>F</td>\n",
              "      <td>10530</td>\n",
              "      <td>F</td>\n",
              "      <td>0.754416</td>\n",
              "    </tr>\n",
              "    <tr>\n",
              "      <th>6</th>\n",
              "      <td>G</td>\n",
              "      <td>2654</td>\n",
              "      <td>G</td>\n",
              "      <td>0.727958</td>\n",
              "    </tr>\n",
              "  </tbody>\n",
              "</table>\n",
              "</div>\n",
              "      <button class=\"colab-df-convert\" onclick=\"convertToInteractive('df-cbd35fa9-2f82-462c-8f3a-95e4c0f2629f')\"\n",
              "              title=\"Convert this dataframe to an interactive table.\"\n",
              "              style=\"display:none;\">\n",
              "        \n",
              "  <svg xmlns=\"http://www.w3.org/2000/svg\" height=\"24px\"viewBox=\"0 0 24 24\"\n",
              "       width=\"24px\">\n",
              "    <path d=\"M0 0h24v24H0V0z\" fill=\"none\"/>\n",
              "    <path d=\"M18.56 5.44l.94 2.06.94-2.06 2.06-.94-2.06-.94-.94-2.06-.94 2.06-2.06.94zm-11 1L8.5 8.5l.94-2.06 2.06-.94-2.06-.94L8.5 2.5l-.94 2.06-2.06.94zm10 10l.94 2.06.94-2.06 2.06-.94-2.06-.94-.94-2.06-.94 2.06-2.06.94z\"/><path d=\"M17.41 7.96l-1.37-1.37c-.4-.4-.92-.59-1.43-.59-.52 0-1.04.2-1.43.59L10.3 9.45l-7.72 7.72c-.78.78-.78 2.05 0 2.83L4 21.41c.39.39.9.59 1.41.59.51 0 1.02-.2 1.41-.59l7.78-7.78 2.81-2.81c.8-.78.8-2.07 0-2.86zM5.41 20L4 18.59l7.72-7.72 1.47 1.35L5.41 20z\"/>\n",
              "  </svg>\n",
              "      </button>\n",
              "      \n",
              "  <style>\n",
              "    .colab-df-container {\n",
              "      display:flex;\n",
              "      flex-wrap:wrap;\n",
              "      gap: 12px;\n",
              "    }\n",
              "\n",
              "    .colab-df-convert {\n",
              "      background-color: #E8F0FE;\n",
              "      border: none;\n",
              "      border-radius: 50%;\n",
              "      cursor: pointer;\n",
              "      display: none;\n",
              "      fill: #1967D2;\n",
              "      height: 32px;\n",
              "      padding: 0 0 0 0;\n",
              "      width: 32px;\n",
              "    }\n",
              "\n",
              "    .colab-df-convert:hover {\n",
              "      background-color: #E2EBFA;\n",
              "      box-shadow: 0px 1px 2px rgba(60, 64, 67, 0.3), 0px 1px 3px 1px rgba(60, 64, 67, 0.15);\n",
              "      fill: #174EA6;\n",
              "    }\n",
              "\n",
              "    [theme=dark] .colab-df-convert {\n",
              "      background-color: #3B4455;\n",
              "      fill: #D2E3FC;\n",
              "    }\n",
              "\n",
              "    [theme=dark] .colab-df-convert:hover {\n",
              "      background-color: #434B5C;\n",
              "      box-shadow: 0px 1px 3px 1px rgba(0, 0, 0, 0.15);\n",
              "      filter: drop-shadow(0px 1px 2px rgba(0, 0, 0, 0.3));\n",
              "      fill: #FFFFFF;\n",
              "    }\n",
              "  </style>\n",
              "\n",
              "      <script>\n",
              "        const buttonEl =\n",
              "          document.querySelector('#df-cbd35fa9-2f82-462c-8f3a-95e4c0f2629f button.colab-df-convert');\n",
              "        buttonEl.style.display =\n",
              "          google.colab.kernel.accessAllowed ? 'block' : 'none';\n",
              "\n",
              "        async function convertToInteractive(key) {\n",
              "          const element = document.querySelector('#df-cbd35fa9-2f82-462c-8f3a-95e4c0f2629f');\n",
              "          const dataTable =\n",
              "            await google.colab.kernel.invokeFunction('convertToInteractive',\n",
              "                                                     [key], {});\n",
              "          if (!dataTable) return;\n",
              "\n",
              "          const docLinkHtml = 'Like what you see? Visit the ' +\n",
              "            '<a target=\"_blank\" href=https://colab.research.google.com/notebooks/data_table.ipynb>data table notebook</a>'\n",
              "            + ' to learn more about interactive tables.';\n",
              "          element.innerHTML = '';\n",
              "          dataTable['output_type'] = 'display_data';\n",
              "          await google.colab.output.renderOutput(dataTable, element);\n",
              "          const docLink = document.createElement('div');\n",
              "          docLink.innerHTML = docLinkHtml;\n",
              "          element.appendChild(docLink);\n",
              "        }\n",
              "      </script>\n",
              "    </div>\n",
              "  </div>\n",
              "  "
            ]
          },
          "metadata": {},
          "execution_count": 87
        }
      ]
    },
    {
      "cell_type": "code",
      "source": [
        "df1 = df1.iloc[:,[0,1,3]]"
      ],
      "metadata": {
        "id": "xztC_KD7Nop7"
      },
      "execution_count": 88,
      "outputs": []
    },
    {
      "cell_type": "code",
      "source": [
        "df1"
      ],
      "metadata": {
        "id": "0sa_GvYtNwDE",
        "outputId": "615d764f-d230-42fc-a8de-c0a5961f6b14",
        "colab": {
          "base_uri": "https://localhost:8080/",
          "height": 268
        }
      },
      "execution_count": 89,
      "outputs": [
        {
          "output_type": "execute_result",
          "data": {
            "text/plain": [
              "  grade  good_bad  good_bad\n",
              "0     A     59759  0.961044\n",
              "1     B    109730  0.921015\n",
              "2     C    100245  0.885770\n",
              "3     D     61498  0.846304\n",
              "4     E     28612  0.805257\n",
              "5     F     10530  0.754416\n",
              "6     G      2654  0.727958"
            ],
            "text/html": [
              "\n",
              "  <div id=\"df-bfdb166f-3508-4845-8d20-1581f3c96bef\">\n",
              "    <div class=\"colab-df-container\">\n",
              "      <div>\n",
              "<style scoped>\n",
              "    .dataframe tbody tr th:only-of-type {\n",
              "        vertical-align: middle;\n",
              "    }\n",
              "\n",
              "    .dataframe tbody tr th {\n",
              "        vertical-align: top;\n",
              "    }\n",
              "\n",
              "    .dataframe thead th {\n",
              "        text-align: right;\n",
              "    }\n",
              "</style>\n",
              "<table border=\"1\" class=\"dataframe\">\n",
              "  <thead>\n",
              "    <tr style=\"text-align: right;\">\n",
              "      <th></th>\n",
              "      <th>grade</th>\n",
              "      <th>good_bad</th>\n",
              "      <th>good_bad</th>\n",
              "    </tr>\n",
              "  </thead>\n",
              "  <tbody>\n",
              "    <tr>\n",
              "      <th>0</th>\n",
              "      <td>A</td>\n",
              "      <td>59759</td>\n",
              "      <td>0.961044</td>\n",
              "    </tr>\n",
              "    <tr>\n",
              "      <th>1</th>\n",
              "      <td>B</td>\n",
              "      <td>109730</td>\n",
              "      <td>0.921015</td>\n",
              "    </tr>\n",
              "    <tr>\n",
              "      <th>2</th>\n",
              "      <td>C</td>\n",
              "      <td>100245</td>\n",
              "      <td>0.885770</td>\n",
              "    </tr>\n",
              "    <tr>\n",
              "      <th>3</th>\n",
              "      <td>D</td>\n",
              "      <td>61498</td>\n",
              "      <td>0.846304</td>\n",
              "    </tr>\n",
              "    <tr>\n",
              "      <th>4</th>\n",
              "      <td>E</td>\n",
              "      <td>28612</td>\n",
              "      <td>0.805257</td>\n",
              "    </tr>\n",
              "    <tr>\n",
              "      <th>5</th>\n",
              "      <td>F</td>\n",
              "      <td>10530</td>\n",
              "      <td>0.754416</td>\n",
              "    </tr>\n",
              "    <tr>\n",
              "      <th>6</th>\n",
              "      <td>G</td>\n",
              "      <td>2654</td>\n",
              "      <td>0.727958</td>\n",
              "    </tr>\n",
              "  </tbody>\n",
              "</table>\n",
              "</div>\n",
              "      <button class=\"colab-df-convert\" onclick=\"convertToInteractive('df-bfdb166f-3508-4845-8d20-1581f3c96bef')\"\n",
              "              title=\"Convert this dataframe to an interactive table.\"\n",
              "              style=\"display:none;\">\n",
              "        \n",
              "  <svg xmlns=\"http://www.w3.org/2000/svg\" height=\"24px\"viewBox=\"0 0 24 24\"\n",
              "       width=\"24px\">\n",
              "    <path d=\"M0 0h24v24H0V0z\" fill=\"none\"/>\n",
              "    <path d=\"M18.56 5.44l.94 2.06.94-2.06 2.06-.94-2.06-.94-.94-2.06-.94 2.06-2.06.94zm-11 1L8.5 8.5l.94-2.06 2.06-.94-2.06-.94L8.5 2.5l-.94 2.06-2.06.94zm10 10l.94 2.06.94-2.06 2.06-.94-2.06-.94-.94-2.06-.94 2.06-2.06.94z\"/><path d=\"M17.41 7.96l-1.37-1.37c-.4-.4-.92-.59-1.43-.59-.52 0-1.04.2-1.43.59L10.3 9.45l-7.72 7.72c-.78.78-.78 2.05 0 2.83L4 21.41c.39.39.9.59 1.41.59.51 0 1.02-.2 1.41-.59l7.78-7.78 2.81-2.81c.8-.78.8-2.07 0-2.86zM5.41 20L4 18.59l7.72-7.72 1.47 1.35L5.41 20z\"/>\n",
              "  </svg>\n",
              "      </button>\n",
              "      \n",
              "  <style>\n",
              "    .colab-df-container {\n",
              "      display:flex;\n",
              "      flex-wrap:wrap;\n",
              "      gap: 12px;\n",
              "    }\n",
              "\n",
              "    .colab-df-convert {\n",
              "      background-color: #E8F0FE;\n",
              "      border: none;\n",
              "      border-radius: 50%;\n",
              "      cursor: pointer;\n",
              "      display: none;\n",
              "      fill: #1967D2;\n",
              "      height: 32px;\n",
              "      padding: 0 0 0 0;\n",
              "      width: 32px;\n",
              "    }\n",
              "\n",
              "    .colab-df-convert:hover {\n",
              "      background-color: #E2EBFA;\n",
              "      box-shadow: 0px 1px 2px rgba(60, 64, 67, 0.3), 0px 1px 3px 1px rgba(60, 64, 67, 0.15);\n",
              "      fill: #174EA6;\n",
              "    }\n",
              "\n",
              "    [theme=dark] .colab-df-convert {\n",
              "      background-color: #3B4455;\n",
              "      fill: #D2E3FC;\n",
              "    }\n",
              "\n",
              "    [theme=dark] .colab-df-convert:hover {\n",
              "      background-color: #434B5C;\n",
              "      box-shadow: 0px 1px 3px 1px rgba(0, 0, 0, 0.15);\n",
              "      filter: drop-shadow(0px 1px 2px rgba(0, 0, 0, 0.3));\n",
              "      fill: #FFFFFF;\n",
              "    }\n",
              "  </style>\n",
              "\n",
              "      <script>\n",
              "        const buttonEl =\n",
              "          document.querySelector('#df-bfdb166f-3508-4845-8d20-1581f3c96bef button.colab-df-convert');\n",
              "        buttonEl.style.display =\n",
              "          google.colab.kernel.accessAllowed ? 'block' : 'none';\n",
              "\n",
              "        async function convertToInteractive(key) {\n",
              "          const element = document.querySelector('#df-bfdb166f-3508-4845-8d20-1581f3c96bef');\n",
              "          const dataTable =\n",
              "            await google.colab.kernel.invokeFunction('convertToInteractive',\n",
              "                                                     [key], {});\n",
              "          if (!dataTable) return;\n",
              "\n",
              "          const docLinkHtml = 'Like what you see? Visit the ' +\n",
              "            '<a target=\"_blank\" href=https://colab.research.google.com/notebooks/data_table.ipynb>data table notebook</a>'\n",
              "            + ' to learn more about interactive tables.';\n",
              "          element.innerHTML = '';\n",
              "          dataTable['output_type'] = 'display_data';\n",
              "          await google.colab.output.renderOutput(dataTable, element);\n",
              "          const docLink = document.createElement('div');\n",
              "          docLink.innerHTML = docLinkHtml;\n",
              "          element.appendChild(docLink);\n",
              "        }\n",
              "      </script>\n",
              "    </div>\n",
              "  </div>\n",
              "  "
            ]
          },
          "metadata": {},
          "execution_count": 89
        }
      ]
    },
    {
      "cell_type": "code",
      "source": [
        "df1.columns = [df1.columns.values[0], 'n_obs', 'props_good']"
      ],
      "metadata": {
        "id": "aEyuDUClOCQB"
      },
      "execution_count": 90,
      "outputs": []
    },
    {
      "cell_type": "code",
      "source": [
        "df1"
      ],
      "metadata": {
        "id": "RmflvfaqOWLP",
        "outputId": "151d685f-c2b7-457d-93d9-7e995c73428b",
        "colab": {
          "base_uri": "https://localhost:8080/",
          "height": 268
        }
      },
      "execution_count": 91,
      "outputs": [
        {
          "output_type": "execute_result",
          "data": {
            "text/plain": [
              "  grade   n_obs  props_good\n",
              "0     A   59759    0.961044\n",
              "1     B  109730    0.921015\n",
              "2     C  100245    0.885770\n",
              "3     D   61498    0.846304\n",
              "4     E   28612    0.805257\n",
              "5     F   10530    0.754416\n",
              "6     G    2654    0.727958"
            ],
            "text/html": [
              "\n",
              "  <div id=\"df-5e173b06-3af7-4e59-a3ee-700bc81b879f\">\n",
              "    <div class=\"colab-df-container\">\n",
              "      <div>\n",
              "<style scoped>\n",
              "    .dataframe tbody tr th:only-of-type {\n",
              "        vertical-align: middle;\n",
              "    }\n",
              "\n",
              "    .dataframe tbody tr th {\n",
              "        vertical-align: top;\n",
              "    }\n",
              "\n",
              "    .dataframe thead th {\n",
              "        text-align: right;\n",
              "    }\n",
              "</style>\n",
              "<table border=\"1\" class=\"dataframe\">\n",
              "  <thead>\n",
              "    <tr style=\"text-align: right;\">\n",
              "      <th></th>\n",
              "      <th>grade</th>\n",
              "      <th>n_obs</th>\n",
              "      <th>props_good</th>\n",
              "    </tr>\n",
              "  </thead>\n",
              "  <tbody>\n",
              "    <tr>\n",
              "      <th>0</th>\n",
              "      <td>A</td>\n",
              "      <td>59759</td>\n",
              "      <td>0.961044</td>\n",
              "    </tr>\n",
              "    <tr>\n",
              "      <th>1</th>\n",
              "      <td>B</td>\n",
              "      <td>109730</td>\n",
              "      <td>0.921015</td>\n",
              "    </tr>\n",
              "    <tr>\n",
              "      <th>2</th>\n",
              "      <td>C</td>\n",
              "      <td>100245</td>\n",
              "      <td>0.885770</td>\n",
              "    </tr>\n",
              "    <tr>\n",
              "      <th>3</th>\n",
              "      <td>D</td>\n",
              "      <td>61498</td>\n",
              "      <td>0.846304</td>\n",
              "    </tr>\n",
              "    <tr>\n",
              "      <th>4</th>\n",
              "      <td>E</td>\n",
              "      <td>28612</td>\n",
              "      <td>0.805257</td>\n",
              "    </tr>\n",
              "    <tr>\n",
              "      <th>5</th>\n",
              "      <td>F</td>\n",
              "      <td>10530</td>\n",
              "      <td>0.754416</td>\n",
              "    </tr>\n",
              "    <tr>\n",
              "      <th>6</th>\n",
              "      <td>G</td>\n",
              "      <td>2654</td>\n",
              "      <td>0.727958</td>\n",
              "    </tr>\n",
              "  </tbody>\n",
              "</table>\n",
              "</div>\n",
              "      <button class=\"colab-df-convert\" onclick=\"convertToInteractive('df-5e173b06-3af7-4e59-a3ee-700bc81b879f')\"\n",
              "              title=\"Convert this dataframe to an interactive table.\"\n",
              "              style=\"display:none;\">\n",
              "        \n",
              "  <svg xmlns=\"http://www.w3.org/2000/svg\" height=\"24px\"viewBox=\"0 0 24 24\"\n",
              "       width=\"24px\">\n",
              "    <path d=\"M0 0h24v24H0V0z\" fill=\"none\"/>\n",
              "    <path d=\"M18.56 5.44l.94 2.06.94-2.06 2.06-.94-2.06-.94-.94-2.06-.94 2.06-2.06.94zm-11 1L8.5 8.5l.94-2.06 2.06-.94-2.06-.94L8.5 2.5l-.94 2.06-2.06.94zm10 10l.94 2.06.94-2.06 2.06-.94-2.06-.94-.94-2.06-.94 2.06-2.06.94z\"/><path d=\"M17.41 7.96l-1.37-1.37c-.4-.4-.92-.59-1.43-.59-.52 0-1.04.2-1.43.59L10.3 9.45l-7.72 7.72c-.78.78-.78 2.05 0 2.83L4 21.41c.39.39.9.59 1.41.59.51 0 1.02-.2 1.41-.59l7.78-7.78 2.81-2.81c.8-.78.8-2.07 0-2.86zM5.41 20L4 18.59l7.72-7.72 1.47 1.35L5.41 20z\"/>\n",
              "  </svg>\n",
              "      </button>\n",
              "      \n",
              "  <style>\n",
              "    .colab-df-container {\n",
              "      display:flex;\n",
              "      flex-wrap:wrap;\n",
              "      gap: 12px;\n",
              "    }\n",
              "\n",
              "    .colab-df-convert {\n",
              "      background-color: #E8F0FE;\n",
              "      border: none;\n",
              "      border-radius: 50%;\n",
              "      cursor: pointer;\n",
              "      display: none;\n",
              "      fill: #1967D2;\n",
              "      height: 32px;\n",
              "      padding: 0 0 0 0;\n",
              "      width: 32px;\n",
              "    }\n",
              "\n",
              "    .colab-df-convert:hover {\n",
              "      background-color: #E2EBFA;\n",
              "      box-shadow: 0px 1px 2px rgba(60, 64, 67, 0.3), 0px 1px 3px 1px rgba(60, 64, 67, 0.15);\n",
              "      fill: #174EA6;\n",
              "    }\n",
              "\n",
              "    [theme=dark] .colab-df-convert {\n",
              "      background-color: #3B4455;\n",
              "      fill: #D2E3FC;\n",
              "    }\n",
              "\n",
              "    [theme=dark] .colab-df-convert:hover {\n",
              "      background-color: #434B5C;\n",
              "      box-shadow: 0px 1px 3px 1px rgba(0, 0, 0, 0.15);\n",
              "      filter: drop-shadow(0px 1px 2px rgba(0, 0, 0, 0.3));\n",
              "      fill: #FFFFFF;\n",
              "    }\n",
              "  </style>\n",
              "\n",
              "      <script>\n",
              "        const buttonEl =\n",
              "          document.querySelector('#df-5e173b06-3af7-4e59-a3ee-700bc81b879f button.colab-df-convert');\n",
              "        buttonEl.style.display =\n",
              "          google.colab.kernel.accessAllowed ? 'block' : 'none';\n",
              "\n",
              "        async function convertToInteractive(key) {\n",
              "          const element = document.querySelector('#df-5e173b06-3af7-4e59-a3ee-700bc81b879f');\n",
              "          const dataTable =\n",
              "            await google.colab.kernel.invokeFunction('convertToInteractive',\n",
              "                                                     [key], {});\n",
              "          if (!dataTable) return;\n",
              "\n",
              "          const docLinkHtml = 'Like what you see? Visit the ' +\n",
              "            '<a target=\"_blank\" href=https://colab.research.google.com/notebooks/data_table.ipynb>data table notebook</a>'\n",
              "            + ' to learn more about interactive tables.';\n",
              "          element.innerHTML = '';\n",
              "          dataTable['output_type'] = 'display_data';\n",
              "          await google.colab.output.renderOutput(dataTable, element);\n",
              "          const docLink = document.createElement('div');\n",
              "          docLink.innerHTML = docLinkHtml;\n",
              "          element.appendChild(docLink);\n",
              "        }\n",
              "      </script>\n",
              "    </div>\n",
              "  </div>\n",
              "  "
            ]
          },
          "metadata": {},
          "execution_count": 91
        }
      ]
    },
    {
      "cell_type": "markdown",
      "source": [
        "Automating calculations"
      ],
      "metadata": {
        "id": "szTsLXWpQsGV"
      }
    },
    {
      "cell_type": "code",
      "source": [
        "# WoE function for discrete unordered variables\n",
        "def woe_discrete(df, discrete_variabe_name, good_bad_variable_df):\n",
        "    df = pd.concat([df[discrete_variabe_name], good_bad_variable_df], axis = 1)\n",
        "    df = pd.concat([df.groupby(df.columns.values[0], as_index = False)[df.columns.values[1]].count(),\n",
        "                    df.groupby(df.columns.values[0], as_index = False)[df.columns.values[1]].mean()], axis = 1)\n",
        "    df = df.iloc[:, [0, 1, 3]]\n",
        "    df.columns = [df.columns.values[0], 'n_obs', 'prop_good']\n",
        "    df['prop_n_obs'] = df['n_obs'] / df['n_obs'].sum()\n",
        "    df['n_good'] = df['prop_good'] * df['n_obs']\n",
        "    df['n_bad'] = (1 - df['prop_good']) * df['n_obs']\n",
        "    df['prop_n_good'] = df['n_good'] / df['n_good'].sum()\n",
        "    df['prop_n_bad'] = df['n_bad'] / df['n_bad'].sum()\n",
        "    df['WoE'] = np.log(df['prop_n_good'] / df['prop_n_bad'])\n",
        "    df = df.sort_values(['WoE'])\n",
        "    df = df.reset_index(drop = True)\n",
        "    df['diff_prop_good'] = df['prop_good'].diff().abs()\n",
        "    df['diff_WoE'] = df['WoE'].diff().abs()\n",
        "    df['IV'] = (df['prop_n_good'] - df['prop_n_bad']) * df['WoE']\n",
        "    df['IV'] = df['IV'].sum()\n",
        "    return df\n",
        "# Here we combine all of the operations above in a function.\n",
        "# The function takes 3 arguments: a dataframe, a string, and a dataframe. The function returns a dataframe as a result."
      ],
      "metadata": {
        "id": "aV-lGVNaOW3s"
      },
      "execution_count": 92,
      "outputs": []
    },
    {
      "cell_type": "code",
      "source": [
        "# 'grade'\n",
        "df_temp = woe_discrete(df_inputs_prepr, 'grade', df_targets_prepr)\n",
        "# We execute the function we defined with the necessary arguments: a dataframe, a string, and a dataframe.\n",
        "# We store the result in a dataframe.\n",
        "df_temp"
      ],
      "metadata": {
        "id": "JsQFt9QEQuSt",
        "outputId": "9d3af9c8-7aab-4d71-d305-9b2b9d58fbe2",
        "colab": {
          "base_uri": "https://localhost:8080/",
          "height": 268
        }
      },
      "execution_count": 93,
      "outputs": [
        {
          "output_type": "execute_result",
          "data": {
            "text/plain": [
              "  grade   n_obs  prop_good  prop_n_obs    n_good    n_bad  prop_n_good  \\\n",
              "0     G    2654   0.727958    0.007115    1932.0    722.0     0.005815   \n",
              "1     F   10530   0.754416    0.028228    7944.0   2586.0     0.023910   \n",
              "2     E   28612   0.805257    0.076702   23040.0   5572.0     0.069345   \n",
              "3     D   61498   0.846304    0.164862   52046.0   9452.0     0.156647   \n",
              "4     C  100245   0.885770    0.268733   88794.0  11451.0     0.267251   \n",
              "5     B  109730   0.921015    0.294160  101063.0   8667.0     0.304178   \n",
              "6     A   59759   0.961044    0.160200   57431.0   2328.0     0.172855   \n",
              "\n",
              "   prop_n_bad       WoE  diff_prop_good  diff_WoE        IV  \n",
              "0    0.017706 -1.113459             NaN       NaN  0.288636  \n",
              "1    0.063417 -0.975440        0.026458  0.138019  0.288636  \n",
              "2    0.136642 -0.678267        0.050841  0.297173  0.288636  \n",
              "3    0.231792 -0.391843        0.041047  0.286424  0.288636  \n",
              "4    0.280813 -0.049503        0.039466  0.342340  0.288636  \n",
              "5    0.212541  0.358476        0.035245  0.407979  0.288636  \n",
              "6    0.057090  1.107830        0.040028  0.749353  0.288636  "
            ],
            "text/html": [
              "\n",
              "  <div id=\"df-3311d9c8-81b0-4ebc-b3ca-1351856a866b\">\n",
              "    <div class=\"colab-df-container\">\n",
              "      <div>\n",
              "<style scoped>\n",
              "    .dataframe tbody tr th:only-of-type {\n",
              "        vertical-align: middle;\n",
              "    }\n",
              "\n",
              "    .dataframe tbody tr th {\n",
              "        vertical-align: top;\n",
              "    }\n",
              "\n",
              "    .dataframe thead th {\n",
              "        text-align: right;\n",
              "    }\n",
              "</style>\n",
              "<table border=\"1\" class=\"dataframe\">\n",
              "  <thead>\n",
              "    <tr style=\"text-align: right;\">\n",
              "      <th></th>\n",
              "      <th>grade</th>\n",
              "      <th>n_obs</th>\n",
              "      <th>prop_good</th>\n",
              "      <th>prop_n_obs</th>\n",
              "      <th>n_good</th>\n",
              "      <th>n_bad</th>\n",
              "      <th>prop_n_good</th>\n",
              "      <th>prop_n_bad</th>\n",
              "      <th>WoE</th>\n",
              "      <th>diff_prop_good</th>\n",
              "      <th>diff_WoE</th>\n",
              "      <th>IV</th>\n",
              "    </tr>\n",
              "  </thead>\n",
              "  <tbody>\n",
              "    <tr>\n",
              "      <th>0</th>\n",
              "      <td>G</td>\n",
              "      <td>2654</td>\n",
              "      <td>0.727958</td>\n",
              "      <td>0.007115</td>\n",
              "      <td>1932.0</td>\n",
              "      <td>722.0</td>\n",
              "      <td>0.005815</td>\n",
              "      <td>0.017706</td>\n",
              "      <td>-1.113459</td>\n",
              "      <td>NaN</td>\n",
              "      <td>NaN</td>\n",
              "      <td>0.288636</td>\n",
              "    </tr>\n",
              "    <tr>\n",
              "      <th>1</th>\n",
              "      <td>F</td>\n",
              "      <td>10530</td>\n",
              "      <td>0.754416</td>\n",
              "      <td>0.028228</td>\n",
              "      <td>7944.0</td>\n",
              "      <td>2586.0</td>\n",
              "      <td>0.023910</td>\n",
              "      <td>0.063417</td>\n",
              "      <td>-0.975440</td>\n",
              "      <td>0.026458</td>\n",
              "      <td>0.138019</td>\n",
              "      <td>0.288636</td>\n",
              "    </tr>\n",
              "    <tr>\n",
              "      <th>2</th>\n",
              "      <td>E</td>\n",
              "      <td>28612</td>\n",
              "      <td>0.805257</td>\n",
              "      <td>0.076702</td>\n",
              "      <td>23040.0</td>\n",
              "      <td>5572.0</td>\n",
              "      <td>0.069345</td>\n",
              "      <td>0.136642</td>\n",
              "      <td>-0.678267</td>\n",
              "      <td>0.050841</td>\n",
              "      <td>0.297173</td>\n",
              "      <td>0.288636</td>\n",
              "    </tr>\n",
              "    <tr>\n",
              "      <th>3</th>\n",
              "      <td>D</td>\n",
              "      <td>61498</td>\n",
              "      <td>0.846304</td>\n",
              "      <td>0.164862</td>\n",
              "      <td>52046.0</td>\n",
              "      <td>9452.0</td>\n",
              "      <td>0.156647</td>\n",
              "      <td>0.231792</td>\n",
              "      <td>-0.391843</td>\n",
              "      <td>0.041047</td>\n",
              "      <td>0.286424</td>\n",
              "      <td>0.288636</td>\n",
              "    </tr>\n",
              "    <tr>\n",
              "      <th>4</th>\n",
              "      <td>C</td>\n",
              "      <td>100245</td>\n",
              "      <td>0.885770</td>\n",
              "      <td>0.268733</td>\n",
              "      <td>88794.0</td>\n",
              "      <td>11451.0</td>\n",
              "      <td>0.267251</td>\n",
              "      <td>0.280813</td>\n",
              "      <td>-0.049503</td>\n",
              "      <td>0.039466</td>\n",
              "      <td>0.342340</td>\n",
              "      <td>0.288636</td>\n",
              "    </tr>\n",
              "    <tr>\n",
              "      <th>5</th>\n",
              "      <td>B</td>\n",
              "      <td>109730</td>\n",
              "      <td>0.921015</td>\n",
              "      <td>0.294160</td>\n",
              "      <td>101063.0</td>\n",
              "      <td>8667.0</td>\n",
              "      <td>0.304178</td>\n",
              "      <td>0.212541</td>\n",
              "      <td>0.358476</td>\n",
              "      <td>0.035245</td>\n",
              "      <td>0.407979</td>\n",
              "      <td>0.288636</td>\n",
              "    </tr>\n",
              "    <tr>\n",
              "      <th>6</th>\n",
              "      <td>A</td>\n",
              "      <td>59759</td>\n",
              "      <td>0.961044</td>\n",
              "      <td>0.160200</td>\n",
              "      <td>57431.0</td>\n",
              "      <td>2328.0</td>\n",
              "      <td>0.172855</td>\n",
              "      <td>0.057090</td>\n",
              "      <td>1.107830</td>\n",
              "      <td>0.040028</td>\n",
              "      <td>0.749353</td>\n",
              "      <td>0.288636</td>\n",
              "    </tr>\n",
              "  </tbody>\n",
              "</table>\n",
              "</div>\n",
              "      <button class=\"colab-df-convert\" onclick=\"convertToInteractive('df-3311d9c8-81b0-4ebc-b3ca-1351856a866b')\"\n",
              "              title=\"Convert this dataframe to an interactive table.\"\n",
              "              style=\"display:none;\">\n",
              "        \n",
              "  <svg xmlns=\"http://www.w3.org/2000/svg\" height=\"24px\"viewBox=\"0 0 24 24\"\n",
              "       width=\"24px\">\n",
              "    <path d=\"M0 0h24v24H0V0z\" fill=\"none\"/>\n",
              "    <path d=\"M18.56 5.44l.94 2.06.94-2.06 2.06-.94-2.06-.94-.94-2.06-.94 2.06-2.06.94zm-11 1L8.5 8.5l.94-2.06 2.06-.94-2.06-.94L8.5 2.5l-.94 2.06-2.06.94zm10 10l.94 2.06.94-2.06 2.06-.94-2.06-.94-.94-2.06-.94 2.06-2.06.94z\"/><path d=\"M17.41 7.96l-1.37-1.37c-.4-.4-.92-.59-1.43-.59-.52 0-1.04.2-1.43.59L10.3 9.45l-7.72 7.72c-.78.78-.78 2.05 0 2.83L4 21.41c.39.39.9.59 1.41.59.51 0 1.02-.2 1.41-.59l7.78-7.78 2.81-2.81c.8-.78.8-2.07 0-2.86zM5.41 20L4 18.59l7.72-7.72 1.47 1.35L5.41 20z\"/>\n",
              "  </svg>\n",
              "      </button>\n",
              "      \n",
              "  <style>\n",
              "    .colab-df-container {\n",
              "      display:flex;\n",
              "      flex-wrap:wrap;\n",
              "      gap: 12px;\n",
              "    }\n",
              "\n",
              "    .colab-df-convert {\n",
              "      background-color: #E8F0FE;\n",
              "      border: none;\n",
              "      border-radius: 50%;\n",
              "      cursor: pointer;\n",
              "      display: none;\n",
              "      fill: #1967D2;\n",
              "      height: 32px;\n",
              "      padding: 0 0 0 0;\n",
              "      width: 32px;\n",
              "    }\n",
              "\n",
              "    .colab-df-convert:hover {\n",
              "      background-color: #E2EBFA;\n",
              "      box-shadow: 0px 1px 2px rgba(60, 64, 67, 0.3), 0px 1px 3px 1px rgba(60, 64, 67, 0.15);\n",
              "      fill: #174EA6;\n",
              "    }\n",
              "\n",
              "    [theme=dark] .colab-df-convert {\n",
              "      background-color: #3B4455;\n",
              "      fill: #D2E3FC;\n",
              "    }\n",
              "\n",
              "    [theme=dark] .colab-df-convert:hover {\n",
              "      background-color: #434B5C;\n",
              "      box-shadow: 0px 1px 3px 1px rgba(0, 0, 0, 0.15);\n",
              "      filter: drop-shadow(0px 1px 2px rgba(0, 0, 0, 0.3));\n",
              "      fill: #FFFFFF;\n",
              "    }\n",
              "  </style>\n",
              "\n",
              "      <script>\n",
              "        const buttonEl =\n",
              "          document.querySelector('#df-3311d9c8-81b0-4ebc-b3ca-1351856a866b button.colab-df-convert');\n",
              "        buttonEl.style.display =\n",
              "          google.colab.kernel.accessAllowed ? 'block' : 'none';\n",
              "\n",
              "        async function convertToInteractive(key) {\n",
              "          const element = document.querySelector('#df-3311d9c8-81b0-4ebc-b3ca-1351856a866b');\n",
              "          const dataTable =\n",
              "            await google.colab.kernel.invokeFunction('convertToInteractive',\n",
              "                                                     [key], {});\n",
              "          if (!dataTable) return;\n",
              "\n",
              "          const docLinkHtml = 'Like what you see? Visit the ' +\n",
              "            '<a target=\"_blank\" href=https://colab.research.google.com/notebooks/data_table.ipynb>data table notebook</a>'\n",
              "            + ' to learn more about interactive tables.';\n",
              "          element.innerHTML = '';\n",
              "          dataTable['output_type'] = 'display_data';\n",
              "          await google.colab.output.renderOutput(dataTable, element);\n",
              "          const docLink = document.createElement('div');\n",
              "          docLink.innerHTML = docLinkHtml;\n",
              "          element.appendChild(docLink);\n",
              "        }\n",
              "      </script>\n",
              "    </div>\n",
              "  </div>\n",
              "  "
            ]
          },
          "metadata": {},
          "execution_count": 93
        }
      ]
    },
    {
      "cell_type": "markdown",
      "source": [
        "# Visualization of results"
      ],
      "metadata": {
        "id": "ZgmUQkPORDSO"
      }
    },
    {
      "cell_type": "code",
      "source": [
        "import matplotlib.pyplot as plt\n",
        "import seaborn as sns\n",
        "sns.set()"
      ],
      "metadata": {
        "id": "zDa6G77iQxJQ"
      },
      "execution_count": 94,
      "outputs": []
    },
    {
      "cell_type": "code",
      "source": [
        "df_temp"
      ],
      "metadata": {
        "id": "tR4v-LSQTyBV",
        "outputId": "c380e63d-974e-4075-ef96-42f5da9536c1",
        "colab": {
          "base_uri": "https://localhost:8080/",
          "height": 268
        }
      },
      "execution_count": 98,
      "outputs": [
        {
          "output_type": "execute_result",
          "data": {
            "text/plain": [
              "  grade   n_obs  prop_good  prop_n_obs    n_good    n_bad  prop_n_good  \\\n",
              "0     G    2654   0.727958    0.007115    1932.0    722.0     0.005815   \n",
              "1     F   10530   0.754416    0.028228    7944.0   2586.0     0.023910   \n",
              "2     E   28612   0.805257    0.076702   23040.0   5572.0     0.069345   \n",
              "3     D   61498   0.846304    0.164862   52046.0   9452.0     0.156647   \n",
              "4     C  100245   0.885770    0.268733   88794.0  11451.0     0.267251   \n",
              "5     B  109730   0.921015    0.294160  101063.0   8667.0     0.304178   \n",
              "6     A   59759   0.961044    0.160200   57431.0   2328.0     0.172855   \n",
              "\n",
              "   prop_n_bad       WoE  diff_prop_good  diff_WoE        IV  \n",
              "0    0.017706 -1.113459             NaN       NaN  0.288636  \n",
              "1    0.063417 -0.975440        0.026458  0.138019  0.288636  \n",
              "2    0.136642 -0.678267        0.050841  0.297173  0.288636  \n",
              "3    0.231792 -0.391843        0.041047  0.286424  0.288636  \n",
              "4    0.280813 -0.049503        0.039466  0.342340  0.288636  \n",
              "5    0.212541  0.358476        0.035245  0.407979  0.288636  \n",
              "6    0.057090  1.107830        0.040028  0.749353  0.288636  "
            ],
            "text/html": [
              "\n",
              "  <div id=\"df-82d47591-e178-45b4-acde-25803137d8c8\">\n",
              "    <div class=\"colab-df-container\">\n",
              "      <div>\n",
              "<style scoped>\n",
              "    .dataframe tbody tr th:only-of-type {\n",
              "        vertical-align: middle;\n",
              "    }\n",
              "\n",
              "    .dataframe tbody tr th {\n",
              "        vertical-align: top;\n",
              "    }\n",
              "\n",
              "    .dataframe thead th {\n",
              "        text-align: right;\n",
              "    }\n",
              "</style>\n",
              "<table border=\"1\" class=\"dataframe\">\n",
              "  <thead>\n",
              "    <tr style=\"text-align: right;\">\n",
              "      <th></th>\n",
              "      <th>grade</th>\n",
              "      <th>n_obs</th>\n",
              "      <th>prop_good</th>\n",
              "      <th>prop_n_obs</th>\n",
              "      <th>n_good</th>\n",
              "      <th>n_bad</th>\n",
              "      <th>prop_n_good</th>\n",
              "      <th>prop_n_bad</th>\n",
              "      <th>WoE</th>\n",
              "      <th>diff_prop_good</th>\n",
              "      <th>diff_WoE</th>\n",
              "      <th>IV</th>\n",
              "    </tr>\n",
              "  </thead>\n",
              "  <tbody>\n",
              "    <tr>\n",
              "      <th>0</th>\n",
              "      <td>G</td>\n",
              "      <td>2654</td>\n",
              "      <td>0.727958</td>\n",
              "      <td>0.007115</td>\n",
              "      <td>1932.0</td>\n",
              "      <td>722.0</td>\n",
              "      <td>0.005815</td>\n",
              "      <td>0.017706</td>\n",
              "      <td>-1.113459</td>\n",
              "      <td>NaN</td>\n",
              "      <td>NaN</td>\n",
              "      <td>0.288636</td>\n",
              "    </tr>\n",
              "    <tr>\n",
              "      <th>1</th>\n",
              "      <td>F</td>\n",
              "      <td>10530</td>\n",
              "      <td>0.754416</td>\n",
              "      <td>0.028228</td>\n",
              "      <td>7944.0</td>\n",
              "      <td>2586.0</td>\n",
              "      <td>0.023910</td>\n",
              "      <td>0.063417</td>\n",
              "      <td>-0.975440</td>\n",
              "      <td>0.026458</td>\n",
              "      <td>0.138019</td>\n",
              "      <td>0.288636</td>\n",
              "    </tr>\n",
              "    <tr>\n",
              "      <th>2</th>\n",
              "      <td>E</td>\n",
              "      <td>28612</td>\n",
              "      <td>0.805257</td>\n",
              "      <td>0.076702</td>\n",
              "      <td>23040.0</td>\n",
              "      <td>5572.0</td>\n",
              "      <td>0.069345</td>\n",
              "      <td>0.136642</td>\n",
              "      <td>-0.678267</td>\n",
              "      <td>0.050841</td>\n",
              "      <td>0.297173</td>\n",
              "      <td>0.288636</td>\n",
              "    </tr>\n",
              "    <tr>\n",
              "      <th>3</th>\n",
              "      <td>D</td>\n",
              "      <td>61498</td>\n",
              "      <td>0.846304</td>\n",
              "      <td>0.164862</td>\n",
              "      <td>52046.0</td>\n",
              "      <td>9452.0</td>\n",
              "      <td>0.156647</td>\n",
              "      <td>0.231792</td>\n",
              "      <td>-0.391843</td>\n",
              "      <td>0.041047</td>\n",
              "      <td>0.286424</td>\n",
              "      <td>0.288636</td>\n",
              "    </tr>\n",
              "    <tr>\n",
              "      <th>4</th>\n",
              "      <td>C</td>\n",
              "      <td>100245</td>\n",
              "      <td>0.885770</td>\n",
              "      <td>0.268733</td>\n",
              "      <td>88794.0</td>\n",
              "      <td>11451.0</td>\n",
              "      <td>0.267251</td>\n",
              "      <td>0.280813</td>\n",
              "      <td>-0.049503</td>\n",
              "      <td>0.039466</td>\n",
              "      <td>0.342340</td>\n",
              "      <td>0.288636</td>\n",
              "    </tr>\n",
              "    <tr>\n",
              "      <th>5</th>\n",
              "      <td>B</td>\n",
              "      <td>109730</td>\n",
              "      <td>0.921015</td>\n",
              "      <td>0.294160</td>\n",
              "      <td>101063.0</td>\n",
              "      <td>8667.0</td>\n",
              "      <td>0.304178</td>\n",
              "      <td>0.212541</td>\n",
              "      <td>0.358476</td>\n",
              "      <td>0.035245</td>\n",
              "      <td>0.407979</td>\n",
              "      <td>0.288636</td>\n",
              "    </tr>\n",
              "    <tr>\n",
              "      <th>6</th>\n",
              "      <td>A</td>\n",
              "      <td>59759</td>\n",
              "      <td>0.961044</td>\n",
              "      <td>0.160200</td>\n",
              "      <td>57431.0</td>\n",
              "      <td>2328.0</td>\n",
              "      <td>0.172855</td>\n",
              "      <td>0.057090</td>\n",
              "      <td>1.107830</td>\n",
              "      <td>0.040028</td>\n",
              "      <td>0.749353</td>\n",
              "      <td>0.288636</td>\n",
              "    </tr>\n",
              "  </tbody>\n",
              "</table>\n",
              "</div>\n",
              "      <button class=\"colab-df-convert\" onclick=\"convertToInteractive('df-82d47591-e178-45b4-acde-25803137d8c8')\"\n",
              "              title=\"Convert this dataframe to an interactive table.\"\n",
              "              style=\"display:none;\">\n",
              "        \n",
              "  <svg xmlns=\"http://www.w3.org/2000/svg\" height=\"24px\"viewBox=\"0 0 24 24\"\n",
              "       width=\"24px\">\n",
              "    <path d=\"M0 0h24v24H0V0z\" fill=\"none\"/>\n",
              "    <path d=\"M18.56 5.44l.94 2.06.94-2.06 2.06-.94-2.06-.94-.94-2.06-.94 2.06-2.06.94zm-11 1L8.5 8.5l.94-2.06 2.06-.94-2.06-.94L8.5 2.5l-.94 2.06-2.06.94zm10 10l.94 2.06.94-2.06 2.06-.94-2.06-.94-.94-2.06-.94 2.06-2.06.94z\"/><path d=\"M17.41 7.96l-1.37-1.37c-.4-.4-.92-.59-1.43-.59-.52 0-1.04.2-1.43.59L10.3 9.45l-7.72 7.72c-.78.78-.78 2.05 0 2.83L4 21.41c.39.39.9.59 1.41.59.51 0 1.02-.2 1.41-.59l7.78-7.78 2.81-2.81c.8-.78.8-2.07 0-2.86zM5.41 20L4 18.59l7.72-7.72 1.47 1.35L5.41 20z\"/>\n",
              "  </svg>\n",
              "      </button>\n",
              "      \n",
              "  <style>\n",
              "    .colab-df-container {\n",
              "      display:flex;\n",
              "      flex-wrap:wrap;\n",
              "      gap: 12px;\n",
              "    }\n",
              "\n",
              "    .colab-df-convert {\n",
              "      background-color: #E8F0FE;\n",
              "      border: none;\n",
              "      border-radius: 50%;\n",
              "      cursor: pointer;\n",
              "      display: none;\n",
              "      fill: #1967D2;\n",
              "      height: 32px;\n",
              "      padding: 0 0 0 0;\n",
              "      width: 32px;\n",
              "    }\n",
              "\n",
              "    .colab-df-convert:hover {\n",
              "      background-color: #E2EBFA;\n",
              "      box-shadow: 0px 1px 2px rgba(60, 64, 67, 0.3), 0px 1px 3px 1px rgba(60, 64, 67, 0.15);\n",
              "      fill: #174EA6;\n",
              "    }\n",
              "\n",
              "    [theme=dark] .colab-df-convert {\n",
              "      background-color: #3B4455;\n",
              "      fill: #D2E3FC;\n",
              "    }\n",
              "\n",
              "    [theme=dark] .colab-df-convert:hover {\n",
              "      background-color: #434B5C;\n",
              "      box-shadow: 0px 1px 3px 1px rgba(0, 0, 0, 0.15);\n",
              "      filter: drop-shadow(0px 1px 2px rgba(0, 0, 0, 0.3));\n",
              "      fill: #FFFFFF;\n",
              "    }\n",
              "  </style>\n",
              "\n",
              "      <script>\n",
              "        const buttonEl =\n",
              "          document.querySelector('#df-82d47591-e178-45b4-acde-25803137d8c8 button.colab-df-convert');\n",
              "        buttonEl.style.display =\n",
              "          google.colab.kernel.accessAllowed ? 'block' : 'none';\n",
              "\n",
              "        async function convertToInteractive(key) {\n",
              "          const element = document.querySelector('#df-82d47591-e178-45b4-acde-25803137d8c8');\n",
              "          const dataTable =\n",
              "            await google.colab.kernel.invokeFunction('convertToInteractive',\n",
              "                                                     [key], {});\n",
              "          if (!dataTable) return;\n",
              "\n",
              "          const docLinkHtml = 'Like what you see? Visit the ' +\n",
              "            '<a target=\"_blank\" href=https://colab.research.google.com/notebooks/data_table.ipynb>data table notebook</a>'\n",
              "            + ' to learn more about interactive tables.';\n",
              "          element.innerHTML = '';\n",
              "          dataTable['output_type'] = 'display_data';\n",
              "          await google.colab.output.renderOutput(dataTable, element);\n",
              "          const docLink = document.createElement('div');\n",
              "          docLink.innerHTML = docLinkHtml;\n",
              "          element.appendChild(docLink);\n",
              "        }\n",
              "      </script>\n",
              "    </div>\n",
              "  </div>\n",
              "  "
            ]
          },
          "metadata": {},
          "execution_count": 98
        }
      ]
    },
    {
      "cell_type": "code",
      "source": [
        "def plot_by_woe(df_WoE, rotation_of_x_axis_labels = 0):\n",
        "  xp = np.array(df_WoE.iloc[:,0].apply(str))\n",
        "  yp = df_WoE['WoE']\n",
        "  plt.figure(figsize = (18,6))\n",
        "  plt.plot(xp,yp, marker = 'o', linestyle = '--', color = 'k')\n",
        "  plt.xlabel('df_WoE.columns[0]')\n",
        "  plt.ylabel('Weight of Evidence')\n",
        "  plt.title(str(\"Weight of Evidence by \" + df_WoE.columns[0]))\n",
        "  plt.xticks(rotation = rotation_of_x_axis_labels)"
      ],
      "metadata": {
        "id": "iQ30WtkIRAkh"
      },
      "execution_count": 99,
      "outputs": []
    },
    {
      "cell_type": "code",
      "source": [
        "plot_by_woe(df_temp)"
      ],
      "metadata": {
        "id": "A6i6d6nSTH7o",
        "outputId": "224202ab-4b5a-4945-92fe-3b85d62ee9be",
        "colab": {
          "base_uri": "https://localhost:8080/",
          "height": 503
        }
      },
      "execution_count": 100,
      "outputs": [
        {
          "output_type": "display_data",
          "data": {
            "text/plain": [
              "<Figure size 1800x600 with 1 Axes>"
            ],
            "image/png": "[encoded data removed]"
          },
          "metadata": {}
        }
      ]
    },
    {
      "cell_type": "code",
      "source": [],
      "metadata": {
        "id": "vCNzNyGKTRQZ"
      },
      "execution_count": null,
      "outputs": []
    }
  ]
}