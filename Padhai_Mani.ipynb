{
  "nbformat": 4,
  "nbformat_minor": 0,
  "metadata": {
    "colab": {
      "provenance": [],
      "authorship_tag": "ABX9TyOF3R6lXfXfuDhe6d//PRsl",
      "include_colab_link": true
    },
    "kernelspec": {
      "name": "python3",
      "display_name": "Python 3"
    },
    "language_info": {
      "name": "python"
    }
  },
  "cells": [
    {
      "cell_type": "markdown",
      "metadata": {
        "id": "view-in-github",
        "colab_type": "text"
      },
      "source": [
        "<a href=\"https://colab.research.google.com/github/manikandanhereby/Credit_Risk_Modelling/blob/main/Padhai_Mani.ipynb\" target=\"_parent\"><img src=\"https://colab.research.google.com/assets/colab-badge.svg\" alt=\"Open In Colab\"/></a>"
      ]
    },
    {
      "cell_type": "markdown",
      "source": [
        "## Lists\n",
        "1. Mutable\n",
        "2. Appending possible\n"
      ],
      "metadata": {
        "id": "B-q_lYY6DSs7"
      }
    },
    {
      "cell_type": "code",
      "source": [
        "course_name = \"Foundations of Data Science\""
      ],
      "metadata": {
        "id": "980a2RkhBvz4"
      },
      "execution_count": 13,
      "outputs": []
    },
    {
      "cell_type": "code",
      "source": [
        "words = course_name.split()"
      ],
      "metadata": {
        "id": "ocLFy8lfDci-"
      },
      "execution_count": 14,
      "outputs": []
    },
    {
      "cell_type": "code",
      "source": [
        "print(words)"
      ],
      "metadata": {
        "id": "FIWgjhNYDgz4",
        "outputId": "33f4ba3b-c038-4140-d2c4-52ea6c43adae",
        "colab": {
          "base_uri": "https://localhost:8080/"
        }
      },
      "execution_count": 15,
      "outputs": [
        {
          "output_type": "stream",
          "name": "stdout",
          "text": [
            "['Foundations', 'of', 'Data', 'Science']\n"
          ]
        }
      ]
    },
    {
      "cell_type": "code",
      "source": [
        "str.split?"
      ],
      "metadata": {
        "id": "j69JwxBuDiOq"
      },
      "execution_count": 16,
      "outputs": []
    },
    {
      "cell_type": "code",
      "source": [
        "print(words[-2].lower())"
      ],
      "metadata": {
        "id": "Xbj0SVmnDmBf",
        "outputId": "7d5017a6-7ec8-4b22-91c7-18ae9a0852f5",
        "colab": {
          "base_uri": "https://localhost:8080/"
        }
      },
      "execution_count": 19,
      "outputs": [
        {
          "output_type": "stream",
          "name": "stdout",
          "text": [
            "data\n"
          ]
        }
      ]
    },
    {
      "cell_type": "code",
      "source": [
        "fib = [1,2,3,4,5,6,7,8,9]"
      ],
      "metadata": {
        "id": "qncZ0LpVEJ7N"
      },
      "execution_count": 20,
      "outputs": []
    },
    {
      "cell_type": "code",
      "source": [
        "for num in fib:\n",
        "  print(num, round(num/0.55))"
      ],
      "metadata": {
        "id": "al-CNgmrFLox",
        "outputId": "911934b2-5955-4890-8544-78123346e9d4",
        "colab": {
          "base_uri": "https://localhost:8080/"
        }
      },
      "execution_count": 25,
      "outputs": [
        {
          "output_type": "stream",
          "name": "stdout",
          "text": [
            "1 2\n",
            "2 4\n",
            "3 5\n",
            "4 7\n",
            "5 9\n",
            "6 11\n",
            "7 13\n",
            "8 15\n",
            "9 16\n"
          ]
        }
      ]
    },
    {
      "cell_type": "code",
      "source": [
        "A = [[1,0,0], [0,1,0], [0,0,1]]"
      ],
      "metadata": {
        "id": "vv7L8Y6SC81u"
      },
      "execution_count": 1,
      "outputs": []
    },
    {
      "cell_type": "code",
      "source": [
        "print(A)"
      ],
      "metadata": {
        "id": "t-NfFt8uDCAN",
        "outputId": "798809c5-5ff8-4564-b3fd-3c23bb6dc6c2",
        "colab": {
          "base_uri": "https://localhost:8080/"
        }
      },
      "execution_count": 3,
      "outputs": [
        {
          "output_type": "stream",
          "name": "stdout",
          "text": [
            "[[1, 0, 0], [0, 1, 0], [0, 0, 1]]\n"
          ]
        }
      ]
    },
    {
      "cell_type": "code",
      "source": [
        "n=0\n",
        "def sqm(A, n):\n",
        "  return A**n"
      ],
      "metadata": {
        "id": "xaSylDcsFNnv"
      },
      "execution_count": 6,
      "outputs": []
    },
    {
      "cell_type": "code",
      "source": [
        "import numpy as np"
      ],
      "metadata": {
        "id": "nFqCwmlFDHki"
      },
      "execution_count": 8,
      "outputs": []
    },
    {
      "cell_type": "code",
      "source": [
        "arr = np.random.rand(1000,)"
      ],
      "metadata": {
        "id": "AhuzEft0DKWu"
      },
      "execution_count": 9,
      "outputs": []
    },
    {
      "cell_type": "code",
      "source": [
        "mean = np.mean(arr)"
      ],
      "metadata": {
        "id": "2-RISbRhJWmO"
      },
      "execution_count": 10,
      "outputs": []
    },
    {
      "cell_type": "code",
      "source": [
        "arr1 = arr-mean"
      ],
      "metadata": {
        "id": "GU-DehXrJZGN"
      },
      "execution_count": 11,
      "outputs": []
    },
    {
      "cell_type": "code",
      "source": [
        "round(np.mean(arr1))"
      ],
      "metadata": {
        "id": "35DL6A6rJbuR",
        "outputId": "0186febc-2525-4aec-ec62-febf247da45d",
        "colab": {
          "base_uri": "https://localhost:8080/"
        }
      },
      "execution_count": 13,
      "outputs": [
        {
          "output_type": "execute_result",
          "data": {
            "text/plain": [
              "0"
            ]
          },
          "metadata": {},
          "execution_count": 13
        }
      ]
    },
    {
      "cell_type": "code",
      "source": [
        "arr = np.random.rand(1000)"
      ],
      "metadata": {
        "id": "tbJ1TilRJezx"
      },
      "execution_count": 14,
      "outputs": []
    },
    {
      "cell_type": "code",
      "source": [
        "means = np.cumsum(arr)/ np.arange(1,len(arr1)+1)"
      ],
      "metadata": {
        "id": "yhMRYC35LAYM"
      },
      "execution_count": 18,
      "outputs": []
    },
    {
      "cell_type": "code",
      "source": [
        "val = np.round(means*100)"
      ],
      "metadata": {
        "id": "o2V0IYCMLEdv"
      },
      "execution_count": 26,
      "outputs": []
    },
    {
      "cell_type": "code",
      "source": [
        "import matplotlib.pyplot as plt"
      ],
      "metadata": {
        "id": "oe9UlG33LRN6"
      },
      "execution_count": 25,
      "outputs": []
    },
    {
      "cell_type": "code",
      "source": [
        "plt.bar(val, np.arange(1,1001))"
      ],
      "metadata": {
        "id": "YlSdbBtHLnwU",
        "outputId": "43bb718d-91ac-4cf3-93bb-9d72dff6f3ea",
        "colab": {
          "base_uri": "https://localhost:8080/",
          "height": 448
        }
      },
      "execution_count": 30,
      "outputs": [
        {
          "output_type": "execute_result",
          "data": {
            "text/plain": [
              "<BarContainer object of 1000 artists>"
            ]
          },
          "metadata": {},
          "execution_count": 30
        },
        {
          "output_type": "display_data",
          "data": {
            "text/plain": [
              "<Figure size 640x480 with 1 Axes>"
            ],
            "image/png": "[encoded data removed]"
          },
          "metadata": {}
        }
      ]
    },
    {
      "cell_type": "code",
      "source": [
        "sum(val==49)"
      ],
      "metadata": {
        "id": "2fu_sdJdLy52",
        "outputId": "8b316a89-75f9-45d6-b97e-1267f871b884",
        "colab": {
          "base_uri": "https://localhost:8080/"
        }
      },
      "execution_count": 34,
      "outputs": [
        {
          "output_type": "execute_result",
          "data": {
            "text/plain": [
              "374"
            ]
          },
          "metadata": {},
          "execution_count": 34
        }
      ]
    },
    {
      "cell_type": "code",
      "source": [
        "!head /content/cric_data-200320-181217.tsv"
      ],
      "metadata": {
        "id": "N-p_OYpUMSCR",
        "outputId": "0a43bdcb-a6b8-4316-d892-6486fc9a9111",
        "colab": {
          "base_uri": "https://localhost:8080/"
        }
      },
      "execution_count": 35,
      "outputs": [
        {
          "output_type": "stream",
          "name": "stdout",
          "text": [
            "\tSachin Tendulkar\tRahul Dravid\tIndia\n",
            "0\t100\t78\t342\n",
            "1\t11\t62\t191\n",
            "2\t8\t85\t252\n",
            "3\t71\t24\t307\n",
            "4\t104\t17\t229\n",
            "5\t18\t104\t246\n",
            "6\t8\t76\t226\n",
            "7\t86\t74\t288\n",
            "8\t12\t60\t216\n"
          ]
        }
      ]
    },
    {
      "cell_type": "code",
      "source": [
        "cricdata = np.loadtxt(\"/content/cric_data-200320-181217.tsv\", skiprows=1)"
      ],
      "metadata": {
        "id": "meW2D3s1PsQ3"
      },
      "execution_count": 38,
      "outputs": []
    },
    {
      "cell_type": "code",
      "source": [
        "cricdata.shape"
      ],
      "metadata": {
        "id": "ZafStSs5QqwH",
        "outputId": "37bd45dd-bc5b-4973-e155-6f23fb503a45",
        "colab": {
          "base_uri": "https://localhost:8080/"
        }
      },
      "execution_count": 42,
      "outputs": [
        {
          "output_type": "execute_result",
          "data": {
            "text/plain": [
              "(225, 4)"
            ]
          },
          "metadata": {},
          "execution_count": 42
        }
      ]
    },
    {
      "cell_type": "code",
      "source": [
        "cricdata = cricdata[:,[1,2,3]]"
      ],
      "metadata": {
        "id": "5tAArd2bQ2lQ"
      },
      "execution_count": 43,
      "outputs": []
    },
    {
      "cell_type": "code",
      "source": [
        "sachin = cricdata[:,0]\n",
        "dravid = cricdata[:,1]\n",
        "india = cricdata[:,2]"
      ],
      "metadata": {
        "id": "uzkTGws6RB4x"
      },
      "execution_count": 45,
      "outputs": []
    },
    {
      "cell_type": "code",
      "source": [
        "def stats(col):\n",
        "  print('Mean', np.mean(col))\n",
        "  print('Median', np.median(col))\n",
        "  print(\"IQR\", np.percentile(col, 75)- np.percentile(col,25))"
      ],
      "metadata": {
        "id": "Ho2EcueaREOd"
      },
      "execution_count": 46,
      "outputs": []
    },
    {
      "cell_type": "code",
      "source": [
        "stats(sachin)"
      ],
      "metadata": {
        "id": "lvaId-HmRzev",
        "outputId": "185d4f37-e920-4d1d-df36-b6bc429ad3fd",
        "colab": {
          "base_uri": "https://localhost:8080/"
        }
      },
      "execution_count": 47,
      "outputs": [
        {
          "output_type": "stream",
          "name": "stdout",
          "text": [
            "Mean 39.87555555555556\n",
            "Median 27.0\n",
            "IQR 57.0\n"
          ]
        }
      ]
    },
    {
      "cell_type": "code",
      "source": [
        "stats(dravid)"
      ],
      "metadata": {
        "id": "EK0s96SkR16e",
        "outputId": "522aaa6e-1c93-4857-c315-9c74c13cf9c1",
        "colab": {
          "base_uri": "https://localhost:8080/"
        }
      },
      "execution_count": 48,
      "outputs": [
        {
          "output_type": "stream",
          "name": "stdout",
          "text": [
            "Mean 32.062222222222225\n",
            "Median 22.0\n",
            "IQR 46.0\n"
          ]
        }
      ]
    },
    {
      "cell_type": "code",
      "source": [
        "stats(india)"
      ],
      "metadata": {
        "id": "55DnmrDKR5MC",
        "outputId": "25f58e4f-acfa-43e5-a236-ad49d260ee7f",
        "colab": {
          "base_uri": "https://localhost:8080/"
        }
      },
      "execution_count": 49,
      "outputs": [
        {
          "output_type": "stream",
          "name": "stdout",
          "text": [
            "Mean 220.79555555555555\n",
            "Median 216.0\n",
            "IQR 98.0\n"
          ]
        }
      ]
    },
    {
      "cell_type": "code",
      "source": [
        "np.histogram(sachin)"
      ],
      "metadata": {
        "id": "oMKp6rxHR6Sf",
        "outputId": "ae7353f9-0a51-4ecc-f7e2-c90e16abe64c",
        "colab": {
          "base_uri": "https://localhost:8080/"
        }
      },
      "execution_count": 50,
      "outputs": [
        {
          "output_type": "execute_result",
          "data": {
            "text/plain": [
              "(array([99, 36, 28, 16, 11, 17,  8,  8,  1,  1]),\n",
              " array([  0. ,  18.6,  37.2,  55.8,  74.4,  93. , 111.6, 130.2, 148.8,\n",
              "        167.4, 186. ]))"
            ]
          },
          "metadata": {},
          "execution_count": 50
        }
      ]
    },
    {
      "cell_type": "code",
      "source": [
        "sachin.shape"
      ],
      "metadata": {
        "id": "JjuFGXWbStgm",
        "outputId": "70dda212-0751-478f-9c9d-5e22415abdef",
        "colab": {
          "base_uri": "https://localhost:8080/"
        }
      },
      "execution_count": 51,
      "outputs": [
        {
          "output_type": "execute_result",
          "data": {
            "text/plain": [
              "(225,)"
            ]
          },
          "metadata": {},
          "execution_count": 51
        }
      ]
    },
    {
      "cell_type": "code",
      "source": [
        "sachin_arr = sachin.reshape(9,25)"
      ],
      "metadata": {
        "id": "G4BXir_4TQ-Y"
      },
      "execution_count": 53,
      "outputs": []
    },
    {
      "cell_type": "code",
      "source": [
        "np.mean(sachin_arr,axis=1)"
      ],
      "metadata": {
        "id": "YG2h_UsATTOe",
        "outputId": "4e84bfaa-45aa-4d3d-e999-39c6a62e8cda",
        "colab": {
          "base_uri": "https://localhost:8080/"
        }
      },
      "execution_count": 58,
      "outputs": [
        {
          "output_type": "execute_result",
          "data": {
            "text/plain": [
              "array([33.96, 49.4 , 38.48, 40.16, 39.36, 38.2 , 44.6 , 39.52, 35.2 ])"
            ]
          },
          "metadata": {},
          "execution_count": 58
        }
      ]
    },
    {
      "cell_type": "code",
      "source": [
        "np.mean(sachin[sachin>=100])"
      ],
      "metadata": {
        "id": "AfsqCkpGTw0D",
        "outputId": "5094deb6-f7de-4611-bf26-c2f715bf34a5",
        "colab": {
          "base_uri": "https://localhost:8080/"
        }
      },
      "execution_count": 64,
      "outputs": [
        {
          "output_type": "execute_result",
          "data": {
            "text/plain": [
              "125.0"
            ]
          },
          "metadata": {},
          "execution_count": 64
        }
      ]
    },
    {
      "cell_type": "code",
      "source": [
        "qrs_ind = np.percentile(india, [25,50,75,100])"
      ],
      "metadata": {
        "id": "V0HaTAfRUswj"
      },
      "execution_count": 75,
      "outputs": []
    },
    {
      "cell_type": "code",
      "source": [
        "qrs_ind"
      ],
      "metadata": {
        "id": "oZ6LPeN-VPhe",
        "outputId": "87c49987-93db-43d6-d1cc-4ba7acc493a1",
        "colab": {
          "base_uri": "https://localhost:8080/"
        }
      },
      "execution_count": 76,
      "outputs": [
        {
          "output_type": "execute_result",
          "data": {
            "text/plain": [
              "array([175., 216., 273., 499.])"
            ]
          },
          "metadata": {},
          "execution_count": 76
        }
      ]
    },
    {
      "cell_type": "code",
      "source": [
        "india <= qrs_ind[0]"
      ],
      "metadata": {
        "id": "Dp642Hy6YMi4",
        "outputId": "8ddbb6c9-a305-417d-ef8b-d0565fced125",
        "colab": {
          "base_uri": "https://localhost:8080/"
        }
      },
      "execution_count": 77,
      "outputs": [
        {
          "output_type": "execute_result",
          "data": {
            "text/plain": [
              "array([False, False, False, False, False, False, False, False, False,\n",
              "       False,  True, False, False, False,  True, False, False,  True,\n",
              "       False, False,  True, False, False, False, False,  True,  True,\n",
              "        True,  True,  True, False, False, False, False, False, False,\n",
              "        True, False,  True, False, False, False, False, False, False,\n",
              "       False, False, False, False,  True,  True, False, False, False,\n",
              "        True, False, False, False, False,  True, False, False, False,\n",
              "       False, False,  True, False, False, False,  True, False, False,\n",
              "       False, False, False, False, False, False,  True, False,  True,\n",
              "        True, False, False, False, False, False,  True, False, False,\n",
              "       False, False,  True, False, False, False, False, False, False,\n",
              "       False,  True,  True,  True, False, False, False, False, False,\n",
              "       False, False,  True,  True, False, False, False, False, False,\n",
              "       False, False,  True, False, False,  True, False, False,  True,\n",
              "        True, False, False, False,  True,  True, False, False, False,\n",
              "       False,  True,  True, False,  True, False, False, False, False,\n",
              "        True, False, False, False, False, False, False, False, False,\n",
              "       False, False, False,  True, False, False, False, False,  True,\n",
              "       False, False, False,  True, False, False, False, False,  True,\n",
              "       False,  True,  True, False, False, False, False, False, False,\n",
              "        True, False, False,  True, False,  True,  True,  True,  True,\n",
              "       False,  True, False, False, False, False, False, False, False,\n",
              "       False,  True, False, False,  True, False, False, False, False,\n",
              "       False, False,  True, False, False, False, False,  True, False,\n",
              "        True, False, False, False,  True, False,  True, False, False])"
            ]
          },
          "metadata": {},
          "execution_count": 77
        }
      ]
    },
    {
      "cell_type": "code",
      "source": [
        "india.shape"
      ],
      "metadata": {
        "id": "KrKwDG8fYWw5",
        "outputId": "7974e3c8-fdfc-44f4-ed6d-fe8f5384ab03",
        "colab": {
          "base_uri": "https://localhost:8080/"
        }
      },
      "execution_count": 78,
      "outputs": [
        {
          "output_type": "execute_result",
          "data": {
            "text/plain": [
              "(225,)"
            ]
          },
          "metadata": {},
          "execution_count": 78
        }
      ]
    },
    {
      "cell_type": "code",
      "source": [
        "qrs_ind.shape"
      ],
      "metadata": {
        "id": "U3bu8oBWYZHX",
        "outputId": "f094b54b-f13e-4e4d-e69a-8f2080629211",
        "colab": {
          "base_uri": "https://localhost:8080/"
        }
      },
      "execution_count": 79,
      "outputs": [
        {
          "output_type": "execute_result",
          "data": {
            "text/plain": [
              "(4,)"
            ]
          },
          "metadata": {},
          "execution_count": 79
        }
      ]
    },
    {
      "cell_type": "code",
      "source": [
        "qrs = qrs_ind.reshape(4,1)"
      ],
      "metadata": {
        "id": "vC0G2eNjYacf"
      },
      "execution_count": 84,
      "outputs": []
    },
    {
      "cell_type": "code",
      "source": [
        "indices = india < qrs"
      ],
      "metadata": {
        "id": "oYExcG6oYdo9"
      },
      "execution_count": 86,
      "outputs": []
    },
    {
      "cell_type": "code",
      "source": [
        "indices.shape"
      ],
      "metadata": {
        "id": "bgrqlSpoYmHq",
        "outputId": "47a54b87-1c0b-4a1d-a7ae-c3c90e9e39cf",
        "colab": {
          "base_uri": "https://localhost:8080/"
        }
      },
      "execution_count": 87,
      "outputs": [
        {
          "output_type": "execute_result",
          "data": {
            "text/plain": [
              "(4, 225)"
            ]
          },
          "metadata": {},
          "execution_count": 87
        }
      ]
    },
    {
      "cell_type": "code",
      "source": [
        "sachin[indices[1,:]]"
      ],
      "metadata": {
        "id": "beA9nBqNZAHY",
        "outputId": "621b4347-b0de-49bf-d9df-2a2f017feb77",
        "colab": {
          "base_uri": "https://localhost:8080/"
        }
      },
      "execution_count": 89,
      "outputs": [
        {
          "output_type": "execute_result",
          "data": {
            "text/plain": [
              "array([ 11.,  18.,  14.,   4.,   0.,  21.,  62.,   2.,  46.,  65.,   0.,\n",
              "        39.,  48.,   3.,  11.,   5.,  65.,  27.,   7.,   2.,  28.,   6.,\n",
              "         7.,   3.,   2.,   4., 100.,  15.,  32.,  40.,   0.,   5.,   8.,\n",
              "         5.,   0.,  30.,  37.,  89.,   0.,  52.,  93.,  45.,   0.,   1.,\n",
              "         0.,   3.,   0.,  81.,  78.,   6.,  28.,  13.,  93.,   2.,  36.,\n",
              "         2.,  12.,  19.,  34.,   2.,  82.,   0.,   6.,   8.,  23.,  35.,\n",
              "        74., 117.,  49.,  64.,   5.,  17.,   0.,  44.,  68.,   3.,  47.,\n",
              "        17.,  35.,  88., 127.,   0.,  45.,  33., 110.,   7.,  25.,   9.,\n",
              "         2.,  11.,  17.,   1.,  45.,   9.,  67.,  10.,  55.,   0.,   1.,\n",
              "       101.,  23.,   1.,  41.,   1.,  28.,   2.,  22.,  25.,   0.,  27.,\n",
              "        40.])"
            ]
          },
          "metadata": {},
          "execution_count": 89
        }
      ]
    },
    {
      "cell_type": "code",
      "source": [
        "for i in range(4):\n",
        "  print(i, np.mean(sachin[indices[i,:]]))"
      ],
      "metadata": {
        "id": "8afhN542ZH21",
        "outputId": "70f1e00e-6ff6-46a8-c424-bcdfb0ff22f8",
        "colab": {
          "base_uri": "https://localhost:8080/"
        }
      },
      "execution_count": 90,
      "outputs": [
        {
          "output_type": "stream",
          "name": "stdout",
          "text": [
            "0 19.672727272727272\n",
            "1 28.18018018018018\n",
            "2 31.688622754491018\n",
            "3 39.799107142857146\n"
          ]
        }
      ]
    },
    {
      "cell_type": "code",
      "source": [
        "snr = cricdata[:, 0:2]"
      ],
      "metadata": {
        "id": "Tku2fNJdZTvK"
      },
      "execution_count": 91,
      "outputs": []
    },
    {
      "cell_type": "code",
      "source": [
        "len(cricdata)"
      ],
      "metadata": {
        "id": "p5Ds4Gt7aLQR",
        "outputId": "1fcfe9af-0c2a-497f-932f-56ad554010a0",
        "colab": {
          "base_uri": "https://localhost:8080/"
        }
      },
      "execution_count": 93,
      "outputs": [
        {
          "output_type": "execute_result",
          "data": {
            "text/plain": [
              "225"
            ]
          },
          "metadata": {},
          "execution_count": 93
        }
      ]
    },
    {
      "cell_type": "code",
      "source": [
        "np.argmax([1,3,5,2])"
      ],
      "metadata": {
        "id": "kMLrlPzSZ1dq",
        "outputId": "9050bab6-0163-4682-82d9-b17b7c7e19ed",
        "colab": {
          "base_uri": "https://localhost:8080/"
        }
      },
      "execution_count": 92,
      "outputs": [
        {
          "output_type": "execute_result",
          "data": {
            "text/plain": [
              "2"
            ]
          },
          "metadata": {},
          "execution_count": 92
        }
      ]
    },
    {
      "cell_type": "code",
      "source": [
        "is_rahul_higher = np.argmax(snr, axis=1)"
      ],
      "metadata": {
        "id": "zt3nDVqvZ5ac"
      },
      "execution_count": 96,
      "outputs": []
    },
    {
      "cell_type": "code",
      "source": [
        "np.sum(is_rahul_higher)/225"
      ],
      "metadata": {
        "id": "sq2bV-5PaVkQ",
        "outputId": "58cb2221-f26e-4bb8-c839-007b075fbb49",
        "colab": {
          "base_uri": "https://localhost:8080/"
        }
      },
      "execution_count": 98,
      "outputs": [
        {
          "output_type": "execute_result",
          "data": {
            "text/plain": [
              "0.4711111111111111"
            ]
          },
          "metadata": {},
          "execution_count": 98
        }
      ]
    },
    {
      "cell_type": "code",
      "source": [
        "np.where(is_rahul_higher==0, 'sachin', 'dravid')"
      ],
      "metadata": {
        "id": "3ReQs-GDbGS8",
        "outputId": "1cd01be4-3ad8-4bdc-a2f3-e446d628a3e5",
        "colab": {
          "base_uri": "https://localhost:8080/"
        }
      },
      "execution_count": 100,
      "outputs": [
        {
          "output_type": "execute_result",
          "data": {
            "text/plain": [
              "array(['sachin', 'dravid', 'dravid', 'sachin', 'sachin', 'dravid',\n",
              "       'dravid', 'sachin', 'dravid', 'sachin', 'dravid', 'dravid',\n",
              "       'dravid', 'sachin', 'sachin', 'dravid', 'dravid', 'sachin',\n",
              "       'dravid', 'dravid', 'sachin', 'dravid', 'sachin', 'sachin',\n",
              "       'dravid', 'sachin', 'sachin', 'sachin', 'sachin', 'sachin',\n",
              "       'sachin', 'sachin', 'dravid', 'dravid', 'sachin', 'dravid',\n",
              "       'dravid', 'sachin', 'dravid', 'sachin', 'sachin', 'sachin',\n",
              "       'sachin', 'dravid', 'sachin', 'dravid', 'dravid', 'sachin',\n",
              "       'dravid', 'sachin', 'dravid', 'dravid', 'dravid', 'dravid',\n",
              "       'sachin', 'dravid', 'sachin', 'sachin', 'dravid', 'dravid',\n",
              "       'dravid', 'sachin', 'dravid', 'sachin', 'sachin', 'sachin',\n",
              "       'sachin', 'dravid', 'sachin', 'dravid', 'dravid', 'sachin',\n",
              "       'sachin', 'dravid', 'dravid', 'sachin', 'dravid', 'dravid',\n",
              "       'sachin', 'dravid', 'dravid', 'dravid', 'dravid', 'dravid',\n",
              "       'dravid', 'sachin', 'sachin', 'sachin', 'dravid', 'sachin',\n",
              "       'sachin', 'sachin', 'sachin', 'sachin', 'sachin', 'dravid',\n",
              "       'dravid', 'sachin', 'dravid', 'sachin', 'sachin', 'dravid',\n",
              "       'dravid', 'dravid', 'dravid', 'sachin', 'dravid', 'dravid',\n",
              "       'sachin', 'sachin', 'sachin', 'sachin', 'dravid', 'sachin',\n",
              "       'dravid', 'sachin', 'sachin', 'sachin', 'dravid', 'sachin',\n",
              "       'dravid', 'sachin', 'sachin', 'sachin', 'sachin', 'dravid',\n",
              "       'sachin', 'dravid', 'dravid', 'sachin', 'sachin', 'dravid',\n",
              "       'sachin', 'dravid', 'sachin', 'sachin', 'sachin', 'sachin',\n",
              "       'sachin', 'sachin', 'dravid', 'dravid', 'dravid', 'sachin',\n",
              "       'sachin', 'sachin', 'sachin', 'dravid', 'sachin', 'dravid',\n",
              "       'sachin', 'sachin', 'sachin', 'sachin', 'dravid', 'dravid',\n",
              "       'dravid', 'sachin', 'dravid', 'sachin', 'dravid', 'sachin',\n",
              "       'dravid', 'sachin', 'sachin', 'dravid', 'sachin', 'dravid',\n",
              "       'dravid', 'sachin', 'sachin', 'dravid', 'sachin', 'sachin',\n",
              "       'sachin', 'sachin', 'dravid', 'sachin', 'dravid', 'dravid',\n",
              "       'sachin', 'sachin', 'sachin', 'sachin', 'dravid', 'dravid',\n",
              "       'dravid', 'sachin', 'dravid', 'dravid', 'dravid', 'dravid',\n",
              "       'sachin', 'dravid', 'dravid', 'sachin', 'dravid', 'dravid',\n",
              "       'sachin', 'dravid', 'sachin', 'sachin', 'sachin', 'dravid',\n",
              "       'sachin', 'dravid', 'dravid', 'dravid', 'sachin', 'sachin',\n",
              "       'sachin', 'dravid', 'dravid', 'sachin', 'dravid', 'sachin',\n",
              "       'dravid', 'dravid', 'dravid', 'dravid', 'sachin', 'sachin',\n",
              "       'dravid', 'sachin', 'sachin'], dtype='<U6')"
            ]
          },
          "metadata": {},
          "execution_count": 100
        }
      ]
    },
    {
      "cell_type": "code",
      "source": [],
      "metadata": {
        "id": "6h-x1Z84bafl"
      },
      "execution_count": null,
      "outputs": []
    }
  ]
}